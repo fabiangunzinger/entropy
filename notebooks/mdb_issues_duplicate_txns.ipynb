{
 "cells": [
  {
   "cell_type": "code",
   "execution_count": 65,
   "id": "13bef683-64f8-4c36-bec3-05ecb69b15c5",
   "metadata": {
    "tags": []
   },
   "outputs": [
    {
     "name": "stdout",
     "output_type": "stream",
     "text": [
      "The autoreload extension is already loaded. To reload it, use:\n",
      "  %reload_ext autoreload\n"
     ]
    }
   ],
   "source": [
    "import os\n",
    "import sys\n",
    "\n",
    "import numpy as np\n",
    "import pandas as pd\n",
    "import seaborn as sns\n",
    "\n",
    "sys.path.append('/Users/fgu/dev/projects/entropy')\n",
    "import entropy.helpers.aws as aws\n",
    "import entropy.data.cleaners as cl\n",
    "import entropy.data.helpers as dh\n",
    "\n",
    "sns.set_style('whitegrid')\n",
    "pd.set_option('display.max_rows', 100)\n",
    "pd.set_option('display.max_columns', 120)\n",
    "pd.set_option('max_colwidth', None)\n",
    "%config InlineBackend.figure_format = 'retina'\n",
    "%load_ext autoreload\n",
    "%autoreload 2"
   ]
  },
  {
   "cell_type": "markdown",
   "id": "585fbeec-b261-40d2-bd56-cb42d828b773",
   "metadata": {},
   "source": [
    "Notebook purpose\n",
    "\n",
    "- Understand nature of duplicate transactions and explore solutions\n",
    "\n",
    "Duplicate types:\n",
    "\n",
    "1. `['user_id', 'date', 'amount', 'account_id', 'desc']` are identical.\n",
    "    - Reasons for false positives (FP): user makes two identical transactions on the same day (or on subsequent days for txns that appear with a delay).\n",
    "    - FP examples: TFL, coffee shops, betting shops.\n",
    "\n",
    "\n",
    "2. `['user_id', 'date', 'amount', 'account_id']` are identical, `desc` is different, but one `desc` is a truncated version of the other.\n",
    "    - FB reasons: same as above possible, but less likely. Seems more likely that they are actual duplicates created by an updating process (e.g. newer version of a txn with less redacted `desc` gets added without old version being removed, and `updated_flag` is incorrect.\n",
    "\n",
    "\n",
    "3. `['user_id', 'date', 'amount', 'account_id']` are identical, `desc` is different.\n",
    "    - FP reasons: above and user makes otherwise identical txns with different merchants.\n",
    "\n",
    "\n",
    "4. All of the above iterations but without imposing identical account id. This is relevant if there are (many) duplicated accounts, in which case a different account number is no guarantee for a different account."
   ]
  },
  {
   "cell_type": "code",
   "execution_count": 2,
   "id": "5a51ea29-7a1b-4323-8e7c-1f70205c504d",
   "metadata": {},
   "outputs": [
    {
     "data": {
      "text/plain": [
       "['3di-project-entropy/entropy_000.parquet',\n",
       " '3di-project-entropy/entropy_777.parquet',\n",
       " '3di-project-entropy/entropy_X77.parquet']"
      ]
     },
     "metadata": {},
     "output_type": "display_data"
    }
   ],
   "source": [
    "m = aws.S3BucketManager('3di-project-entropy')\n",
    "m.list()"
   ]
  },
  {
   "cell_type": "code",
   "execution_count": 3,
   "id": "4723d277-c03a-4a35-ace2-a496272b2a64",
   "metadata": {},
   "outputs": [],
   "source": [
    "df = aws.s3read_parquet('s3://3di-project-entropy/entropy_X77.parquet')"
   ]
  },
  {
   "cell_type": "code",
   "execution_count": 53,
   "id": "970e759c-85a3-406f-a3b4-a831312b437e",
   "metadata": {},
   "outputs": [],
   "source": [
    "def dup_txn_sample(df, col_subset, n=100):\n",
    "    \"\"\"Draws sample of size n of duplicate txns as defined by col_subset.\"\"\"\n",
    "    dups = df[df.duplicated(subset=col_subset, keep=False)].copy()\n",
    "    dups['group'] = dups.groupby(col_subset).ngroup()\n",
    "    unique_groups = np.unique(dups.group)\n",
    "    rng = np.random.default_rng()\n",
    "    sample = rng.choice(unique_groups, size=n)\n",
    "    return dups[dups.group.isin(sample)]"
   ]
  },
  {
   "cell_type": "markdown",
   "id": "026f9ba0-f595-4913-b4dc-6a944f024e67",
   "metadata": {},
   "source": [
    "## Processing"
   ]
  },
  {
   "cell_type": "markdown",
   "id": "084ccb6a-1ea9-48f8-860a-02adf5916a23",
   "metadata": {},
   "source": [
    "Delete type 1 duplicates"
   ]
  },
  {
   "cell_type": "code",
   "execution_count": 50,
   "id": "2c4983a9-216f-4472-bd5e-3bbc0b6ca485",
   "metadata": {},
   "outputs": [],
   "source": [
    "dup1_subset = ['user_id', 'date', 'amount', 'account_id', 'desc']\n",
    "df = df.drop_duplicates(subset=dup1_subset)"
   ]
  },
  {
   "cell_type": "markdown",
   "id": "981b12fc-ed8f-42f3-859e-3eb1051e545e",
   "metadata": {},
   "source": [
    "Delete perfect substrings"
   ]
  },
  {
   "cell_type": "code",
   "execution_count": 223,
   "id": "04d63f69-5299-4976-8e29-aaf02faae5dc",
   "metadata": {},
   "outputs": [
    {
     "data": {
      "text/html": [
       "<div>\n",
       "<style scoped>\n",
       "    .dataframe tbody tr th:only-of-type {\n",
       "        vertical-align: middle;\n",
       "    }\n",
       "\n",
       "    .dataframe tbody tr th {\n",
       "        vertical-align: top;\n",
       "    }\n",
       "\n",
       "    .dataframe thead th {\n",
       "        text-align: right;\n",
       "    }\n",
       "</style>\n",
       "<table border=\"1\" class=\"dataframe\">\n",
       "  <thead>\n",
       "    <tr style=\"text-align: right;\">\n",
       "      <th></th>\n",
       "      <th>score_difflib</th>\n",
       "      <th>score_fuzz</th>\n",
       "      <th>id</th>\n",
       "      <th>date</th>\n",
       "      <th>user_id</th>\n",
       "      <th>amount</th>\n",
       "      <th>desc</th>\n",
       "      <th>merchant</th>\n",
       "      <th>tag_group</th>\n",
       "      <th>tag</th>\n",
       "      <th>user_female</th>\n",
       "      <th>user_postcode</th>\n",
       "      <th>user_registration_date</th>\n",
       "      <th>user_salary_range</th>\n",
       "      <th>user_yob</th>\n",
       "      <th>account_created</th>\n",
       "      <th>account_id</th>\n",
       "      <th>account_last_refreshed</th>\n",
       "      <th>account_provider</th>\n",
       "      <th>account_type</th>\n",
       "      <th>data_warehouse_date_created</th>\n",
       "      <th>data_warehouse_date_last_updated</th>\n",
       "      <th>debit</th>\n",
       "      <th>latest_balance</th>\n",
       "      <th>merchant_business_line</th>\n",
       "      <th>tag_auto</th>\n",
       "      <th>tag_manual</th>\n",
       "      <th>tag_up</th>\n",
       "      <th>updated_flag</th>\n",
       "      <th>ym</th>\n",
       "      <th>balance</th>\n",
       "      <th>income</th>\n",
       "      <th>dup2</th>\n",
       "      <th>group</th>\n",
       "    </tr>\n",
       "  </thead>\n",
       "  <tbody>\n",
       "    <tr>\n",
       "      <th>535728</th>\n",
       "      <td>NaN</td>\n",
       "      <td>NaN</td>\n",
       "      <td>421314426</td>\n",
       "      <td>2018-06-29</td>\n",
       "      <td>361277</td>\n",
       "      <td>20.0</td>\n",
       "      <td>cash natwest jun29 - watford junc@xx:xx - atm</td>\n",
       "      <td>NaN</td>\n",
       "      <td>spend</td>\n",
       "      <td>other_spend</td>\n",
       "      <td>False</td>\n",
       "      <td>e11 3</td>\n",
       "      <td>2016-10-23</td>\n",
       "      <td>20k to 30k</td>\n",
       "      <td>1984.0</td>\n",
       "      <td>2017-03-15</td>\n",
       "      <td>685641</td>\n",
       "      <td>2020-07-01 12:00:00</td>\n",
       "      <td>hsbc</td>\n",
       "      <td>current</td>\n",
       "      <td>2018-07-01</td>\n",
       "      <td>2019-05-06</td>\n",
       "      <td>True</td>\n",
       "      <td>108.830002</td>\n",
       "      <td>personal</td>\n",
       "      <td>cash</td>\n",
       "      <td>NaN</td>\n",
       "      <td>cash</td>\n",
       "      <td>u</td>\n",
       "      <td>201806</td>\n",
       "      <td>5904.541016</td>\n",
       "      <td>28308.679688</td>\n",
       "      <td>False</td>\n",
       "      <td>10208</td>\n",
       "    </tr>\n",
       "    <tr>\n",
       "      <th>535732</th>\n",
       "      <td>0.888889</td>\n",
       "      <td>92.0</td>\n",
       "      <td>646246462</td>\n",
       "      <td>2018-06-29</td>\n",
       "      <td>361277</td>\n",
       "      <td>20.0</td>\n",
       "      <td>cash natwest jun29watford junc@xx:xx</td>\n",
       "      <td>NaN</td>\n",
       "      <td>spend</td>\n",
       "      <td>other_spend</td>\n",
       "      <td>False</td>\n",
       "      <td>e11 3</td>\n",
       "      <td>2016-10-23</td>\n",
       "      <td>20k to 30k</td>\n",
       "      <td>1984.0</td>\n",
       "      <td>2017-03-15</td>\n",
       "      <td>685641</td>\n",
       "      <td>2020-07-01 12:00:00</td>\n",
       "      <td>hsbc</td>\n",
       "      <td>current</td>\n",
       "      <td>2019-11-18</td>\n",
       "      <td>2019-12-18</td>\n",
       "      <td>True</td>\n",
       "      <td>108.830002</td>\n",
       "      <td>personal</td>\n",
       "      <td>cash</td>\n",
       "      <td>NaN</td>\n",
       "      <td>cash</td>\n",
       "      <td>u</td>\n",
       "      <td>201806</td>\n",
       "      <td>5904.541016</td>\n",
       "      <td>28308.679688</td>\n",
       "      <td>True</td>\n",
       "      <td>10208</td>\n",
       "    </tr>\n",
       "  </tbody>\n",
       "</table>\n",
       "</div>"
      ],
      "text/plain": [
       "        score_difflib  score_fuzz         id       date  user_id  amount  \\\n",
       "535728            NaN         NaN  421314426 2018-06-29   361277    20.0   \n",
       "535732       0.888889        92.0  646246462 2018-06-29   361277    20.0   \n",
       "\n",
       "                                                 desc merchant tag_group  \\\n",
       "535728  cash natwest jun29 - watford junc@xx:xx - atm      NaN     spend   \n",
       "535732           cash natwest jun29watford junc@xx:xx      NaN     spend   \n",
       "\n",
       "                tag user_female user_postcode user_registration_date  \\\n",
       "535728  other_spend       False         e11 3             2016-10-23   \n",
       "535732  other_spend       False         e11 3             2016-10-23   \n",
       "\n",
       "       user_salary_range  user_yob account_created  account_id  \\\n",
       "535728        20k to 30k    1984.0      2017-03-15      685641   \n",
       "535732        20k to 30k    1984.0      2017-03-15      685641   \n",
       "\n",
       "       account_last_refreshed account_provider account_type  \\\n",
       "535728    2020-07-01 12:00:00             hsbc      current   \n",
       "535732    2020-07-01 12:00:00             hsbc      current   \n",
       "\n",
       "       data_warehouse_date_created data_warehouse_date_last_updated  debit  \\\n",
       "535728                  2018-07-01                       2019-05-06   True   \n",
       "535732                  2019-11-18                       2019-12-18   True   \n",
       "\n",
       "        latest_balance merchant_business_line tag_auto tag_manual tag_up  \\\n",
       "535728      108.830002               personal     cash        NaN   cash   \n",
       "535732      108.830002               personal     cash        NaN   cash   \n",
       "\n",
       "       updated_flag      ym      balance        income   dup2  group  \n",
       "535728            u  201806  5904.541016  28308.679688  False  10208  \n",
       "535732            u  201806  5904.541016  28308.679688   True  10208  "
      ]
     },
     "execution_count": 223,
     "metadata": {},
     "output_type": "execute_result"
    }
   ],
   "source": [
    "dd"
   ]
  },
  {
   "cell_type": "code",
   "execution_count": 208,
   "id": "baa07fe7-81e2-4f27-89d8-54ace9c98447",
   "metadata": {},
   "outputs": [],
   "source": [
    "import difflib\n",
    "import functools\n",
    "import collections\n",
    "\n",
    "from fuzzywuzzy import fuzz\n",
    "\n",
    "DescAndId = collections.namedtuple('DescAndID', ['desc', 'id'])\n",
    "longest_first = functools.partial(sorted, key=lambda x: len(x.desc), reverse=True)\n",
    "\n",
    "def similarity_score(group):\n",
    "    \"\"\"Return similarity score between longest string in group and all others.\"\"\"\n",
    "    cols = list(group.columns)\n",
    "    group['score_difflib'] = np.nan\n",
    "    group['score_fuzz'] = np.nan\n",
    "    items = [DescAndId(*item) for item in zip(group.desc, group.id)]\n",
    "    longest, *others = longest_first(items)\n",
    "    for o in others:\n",
    "        group.loc[group.id == o.id, 'score_difflib'] = difflib.SequenceMatcher(None, longest.desc, o.desc).ratio()\n",
    "        group.loc[group.id == o.id, 'score_fuzz'] = fuzz.partial_ratio(longest.desc, o.desc)\n",
    "    return group[['score_difflib', 'score_fuzz'] + cols]"
   ]
  },
  {
   "cell_type": "code",
   "execution_count": 302,
   "id": "94c3cad8-89be-47c4-8d00-43f814d157d1",
   "metadata": {},
   "outputs": [
    {
     "data": {
      "text/html": [
       "<div>\n",
       "<style scoped>\n",
       "    .dataframe tbody tr th:only-of-type {\n",
       "        vertical-align: middle;\n",
       "    }\n",
       "\n",
       "    .dataframe tbody tr th {\n",
       "        vertical-align: top;\n",
       "    }\n",
       "\n",
       "    .dataframe thead th {\n",
       "        text-align: right;\n",
       "    }\n",
       "</style>\n",
       "<table border=\"1\" class=\"dataframe\">\n",
       "  <thead>\n",
       "    <tr style=\"text-align: right;\">\n",
       "      <th></th>\n",
       "      <th>score_difflib</th>\n",
       "      <th>score_fuzz</th>\n",
       "      <th>id</th>\n",
       "      <th>date</th>\n",
       "      <th>user_id</th>\n",
       "      <th>amount</th>\n",
       "      <th>desc</th>\n",
       "      <th>merchant</th>\n",
       "      <th>tag_group</th>\n",
       "      <th>tag</th>\n",
       "      <th>user_female</th>\n",
       "      <th>user_postcode</th>\n",
       "      <th>user_registration_date</th>\n",
       "      <th>user_salary_range</th>\n",
       "      <th>user_yob</th>\n",
       "      <th>account_created</th>\n",
       "      <th>account_id</th>\n",
       "      <th>account_last_refreshed</th>\n",
       "      <th>account_provider</th>\n",
       "      <th>account_type</th>\n",
       "      <th>data_warehouse_date_created</th>\n",
       "      <th>data_warehouse_date_last_updated</th>\n",
       "      <th>debit</th>\n",
       "      <th>latest_balance</th>\n",
       "      <th>merchant_business_line</th>\n",
       "      <th>tag_auto</th>\n",
       "      <th>tag_manual</th>\n",
       "      <th>tag_up</th>\n",
       "      <th>updated_flag</th>\n",
       "      <th>ym</th>\n",
       "      <th>balance</th>\n",
       "      <th>income</th>\n",
       "      <th>dup2</th>\n",
       "      <th>group</th>\n",
       "    </tr>\n",
       "  </thead>\n",
       "  <tbody>\n",
       "    <tr>\n",
       "      <th>71778</th>\n",
       "      <td>0.590909</td>\n",
       "      <td>45.0</td>\n",
       "      <td>295333039</td>\n",
       "      <td>2017-12-18</td>\n",
       "      <td>35177</td>\n",
       "      <td>20.0</td>\n",
       "      <td>cargo - london - )))</td>\n",
       "      <td>cargo home shop</td>\n",
       "      <td>spend</td>\n",
       "      <td>household</td>\n",
       "      <td>False</td>\n",
       "      <td>xxxx 0</td>\n",
       "      <td>2014-02-14</td>\n",
       "      <td>20k to 30k</td>\n",
       "      <td>1990.0</td>\n",
       "      <td>2017-05-25</td>\n",
       "      <td>724235</td>\n",
       "      <td>2020-08-14 20:59:00</td>\n",
       "      <td>hsbc</td>\n",
       "      <td>current</td>\n",
       "      <td>2017-12-25</td>\n",
       "      <td>2019-09-02</td>\n",
       "      <td>True</td>\n",
       "      <td>844.299988</td>\n",
       "      <td>cargo home shop</td>\n",
       "      <td>home</td>\n",
       "      <td>dining and drinking</td>\n",
       "      <td>dining and drinking</td>\n",
       "      <td>u</td>\n",
       "      <td>201712</td>\n",
       "      <td>396.441101</td>\n",
       "      <td>19975.649414</td>\n",
       "      <td>False</td>\n",
       "      <td>1015</td>\n",
       "    </tr>\n",
       "    <tr>\n",
       "      <th>71800</th>\n",
       "      <td>NaN</td>\n",
       "      <td>NaN</td>\n",
       "      <td>806079270</td>\n",
       "      <td>2017-12-18</td>\n",
       "      <td>35177</td>\n",
       "      <td>20.0</td>\n",
       "      <td>cargo             london</td>\n",
       "      <td>cargo home shop</td>\n",
       "      <td>spend</td>\n",
       "      <td>household</td>\n",
       "      <td>False</td>\n",
       "      <td>xxxx 0</td>\n",
       "      <td>2014-02-14</td>\n",
       "      <td>20k to 30k</td>\n",
       "      <td>1990.0</td>\n",
       "      <td>2017-05-25</td>\n",
       "      <td>724235</td>\n",
       "      <td>2020-08-14 20:59:00</td>\n",
       "      <td>hsbc</td>\n",
       "      <td>current</td>\n",
       "      <td>2020-08-12</td>\n",
       "      <td>1900-01-01</td>\n",
       "      <td>True</td>\n",
       "      <td>844.299988</td>\n",
       "      <td>cargo home shop</td>\n",
       "      <td>home</td>\n",
       "      <td>dining and drinking</td>\n",
       "      <td>dining and drinking</td>\n",
       "      <td>c</td>\n",
       "      <td>201712</td>\n",
       "      <td>396.441101</td>\n",
       "      <td>19975.649414</td>\n",
       "      <td>True</td>\n",
       "      <td>1015</td>\n",
       "    </tr>\n",
       "  </tbody>\n",
       "</table>\n",
       "</div>"
      ],
      "text/plain": [
       "       score_difflib  score_fuzz         id       date  user_id  amount  \\\n",
       "71778       0.590909        45.0  295333039 2017-12-18    35177    20.0   \n",
       "71800            NaN         NaN  806079270 2017-12-18    35177    20.0   \n",
       "\n",
       "                           desc         merchant tag_group        tag  \\\n",
       "71778      cargo - london - )))  cargo home shop     spend  household   \n",
       "71800  cargo             london  cargo home shop     spend  household   \n",
       "\n",
       "      user_female user_postcode user_registration_date user_salary_range  \\\n",
       "71778       False        xxxx 0             2014-02-14        20k to 30k   \n",
       "71800       False        xxxx 0             2014-02-14        20k to 30k   \n",
       "\n",
       "       user_yob account_created  account_id account_last_refreshed  \\\n",
       "71778    1990.0      2017-05-25      724235    2020-08-14 20:59:00   \n",
       "71800    1990.0      2017-05-25      724235    2020-08-14 20:59:00   \n",
       "\n",
       "      account_provider account_type data_warehouse_date_created  \\\n",
       "71778             hsbc      current                  2017-12-25   \n",
       "71800             hsbc      current                  2020-08-12   \n",
       "\n",
       "      data_warehouse_date_last_updated  debit  latest_balance  \\\n",
       "71778                       2019-09-02   True      844.299988   \n",
       "71800                       1900-01-01   True      844.299988   \n",
       "\n",
       "      merchant_business_line tag_auto           tag_manual  \\\n",
       "71778        cargo home shop     home  dining and drinking   \n",
       "71800        cargo home shop     home  dining and drinking   \n",
       "\n",
       "                    tag_up updated_flag      ym     balance        income  \\\n",
       "71778  dining and drinking            u  201712  396.441101  19975.649414   \n",
       "71800  dining and drinking            c  201712  396.441101  19975.649414   \n",
       "\n",
       "        dup2  group  \n",
       "71778  False   1015  \n",
       "71800   True   1015  "
      ]
     },
     "execution_count": 302,
     "metadata": {},
     "output_type": "execute_result"
    }
   ],
   "source": [
    "dd = dup_txn_sample(df, dup_subset, n=1).groupby('group').apply(similarity_score)\n",
    "dd"
   ]
  },
  {
   "cell_type": "markdown",
   "id": "7922b37b-0c87-47d3-97bd-42aff26a3f4b",
   "metadata": {},
   "source": [
    "- lowest same: .82 most, 72\n",
    "- highest different: .71\n",
    "\n",
    "Cases for decision:\n",
    "- One mdbremoved, the other unremoved has very low score -> treat as dup or not? (could use 100 fuzz score to exclude)\n",
    "- daily od fee _date_ only differs in date and has very high score but is different - exclude manually or handle automatically. some other descs that contain differing dates. could match dates and ensure they differ\n",
    "- remove `-`, `)` and `(`"
   ]
  },
  {
   "cell_type": "code",
   "execution_count": 305,
   "id": "f21a9e5e-63e0-4452-a740-5ea364a556c0",
   "metadata": {},
   "outputs": [
    {
     "data": {
      "text/plain": [
       "<bound method StringMethods.normalize of <pandas.core.strings.accessor.StringMethods object at 0x17c3c1490>>"
      ]
     },
     "execution_count": 305,
     "metadata": {},
     "output_type": "execute_result"
    }
   ],
   "source": [
    "dd.desc.str.strip"
   ]
  },
  {
   "cell_type": "markdown",
   "id": "de3d9a00-1b50-496c-94b9-6a467945d83d",
   "metadata": {},
   "source": [
    "## Type 3 dups"
   ]
  },
  {
   "cell_type": "code",
   "execution_count": 51,
   "id": "eba16ec5-bf0d-4742-926b-fe635ee844e6",
   "metadata": {},
   "outputs": [],
   "source": [
    "dup_subset = ['user_id', 'date', 'amount', 'account_id']\n",
    "dup_var = 'dup2'\n",
    "df[dup_var] = df.duplicated(subset=dup_subset)"
   ]
  },
  {
   "cell_type": "code",
   "execution_count": 101,
   "id": "ecf876dc-c92c-4634-8180-cc2976e4e075",
   "metadata": {},
   "outputs": [
    {
     "name": "stdout",
     "output_type": "stream",
     "text": [
      "lnk sk store, 44/4 cd 8050 12jul15\n",
      "   sby tamworth cd 8050 13jul15\n",
      "   68\n",
      "\n",
      "lnk sk store, 44/4 cd 8050 13dec15\n",
      "   lnk star news coto cd 9447 12dec15\n",
      "   59\n",
      "\n",
      "the boathouse bras cd 4720 deb\n",
      "   tesco stores 6711 cd 4720 deb\n",
      "   62\n",
      "\n",
      "<mdbremoved>\n",
      "   <mdbremoved>\n",
      "   100\n",
      "\n",
      "   <mdbremoved>\n",
      "   100\n",
      "\n",
      "<mdbremoved> xxxxxx xxxx5560\n",
      "   <mdbremoved>\n",
      "   100\n",
      "\n",
      "bank credit <mdbremoved>\n",
      "   bank credit <mdbremoved>\n",
      "   100\n",
      "\n",
      "xxxxxx xxxx0290 internet transfer\n",
      "   xxxxxx xxxx8658 internet transfer\n",
      "   88\n",
      "\n",
      "32 red cd 7512 deb\n",
      "   32 red cd 7512 deb\n",
      "   100\n",
      "\n",
      "non-stg purch fee cd 6710 deb\n",
      "   non-stg purch fee cd 6710 deb\n",
      "   100\n",
      "\n",
      "   non-stg purch fee cd 6710 deb\n",
      "   100\n",
      "\n",
      "   non-stg purch fee cd 6710 deb\n",
      "   100\n",
      "\n",
      "card payment to iz *canopy market,2.00 gbp, rate 1.00/gbp on 10-07-2020\n",
      "   card payment to iz *crosstown,2.00 gbp, rate 1.00/gbp on 10-07-2020\n",
      "   85\n",
      "\n"
     ]
    }
   ],
   "source": [
    "from fuzzywuzzy import fuzz\n",
    "from functools import partial\n",
    "\n",
    "longest_first = partial(sorted, key=lambda x: len(x), reverse=True)\n",
    "\n",
    "for idx, data in dd.groupby('group'):\n",
    "    longest, *others = longest_first(data.desc.values)\n",
    "    print(longest)\n",
    "    for other in others:\n",
    "        print('   {}'.format(other))\n",
    "        print('   {}'.format(fuzz.partial_ratio(longest, other)), end='\\n\\n')\n"
   ]
  },
  {
   "cell_type": "markdown",
   "id": "2a18c705-cc67-4229-b3ce-79780ff0d9ed",
   "metadata": {},
   "source": [
    "## Type 1 dups"
   ]
  },
  {
   "cell_type": "code",
   "execution_count": 29,
   "id": "19018e7a-1db8-407b-bf69-49aaf8d96fbd",
   "metadata": {},
   "outputs": [],
   "source": [
    "dup_subset = ['user_id', 'date', 'amount', 'account_id', 'desc']\n",
    "dup_var = 'dup1'\n",
    "\n",
    "df[dup_var] = df.duplicated(subset=dup_subset)"
   ]
  },
  {
   "cell_type": "markdown",
   "id": "1705d1a1-dcc2-4965-878a-6884c072e657",
   "metadata": {},
   "source": [
    "### Prevalence and value"
   ]
  },
  {
   "cell_type": "markdown",
   "id": "4362605c-c7e2-4d16-857d-394ddafd7c46",
   "metadata": {},
   "source": [
    "How prevalent are duplicates?"
   ]
  },
  {
   "cell_type": "code",
   "execution_count": 19,
   "id": "e536aa11-0bbf-4cc4-82ce-e869a384e0fe",
   "metadata": {},
   "outputs": [
    {
     "name": "stdout",
     "output_type": "stream",
     "text": [
      "About 1.7% of transactions across 97% of users are potential dups.\n"
     ]
    }
   ],
   "source": [
    "n_df = len(df)\n",
    "n_dups = len(df[df[dup_var]])\n",
    "n_users_dups = df[df[dup_var]].user_id.nunique()\n",
    "n_users_df = df.user_id.nunique()\n",
    "txt = 'About {:.1%} of transactions across {:.0%} of users are potential dups.'\n",
    "print(txt.format(n_dups / n_df, n_users_dups / n_users_df))"
   ]
  },
  {
   "cell_type": "markdown",
   "id": "e2720313-bd38-4ec8-b6ca-a33c4d6f1c6f",
   "metadata": {},
   "source": [
    "Gross value of duplicated txns"
   ]
  },
  {
   "cell_type": "code",
   "execution_count": 39,
   "id": "f62c6a44-7a4f-48be-8555-d9051265b517",
   "metadata": {},
   "outputs": [
    {
     "data": {
      "text/plain": [
       "count       415.00\n",
       "mean       4459.53\n",
       "std       14957.93\n",
       "min           1.00\n",
       "1%            4.54\n",
       "5%           20.46\n",
       "10%          61.97\n",
       "25%         237.31\n",
       "50%         830.10\n",
       "75%        2647.96\n",
       "90%        8980.22\n",
       "95%       16434.12\n",
       "99%       59013.14\n",
       "max      183754.34\n",
       "Name: amount, dtype: float64"
      ]
     },
     "execution_count": 39,
     "metadata": {},
     "output_type": "execute_result"
    }
   ],
   "source": [
    "def distr(x):\n",
    "    pcts = [.01, .05, .1, .25, .50, .75, .90, .95, .99]\n",
    "    return x.describe(percentiles=pcts).round(2)\n",
    "\n",
    "gross_value = df[df[dup_var]].set_index('user_id').amount.abs().groupby('user_id').sum()\n",
    "distr(gross_value)"
   ]
  },
  {
   "cell_type": "markdown",
   "id": "fd31eb24-ba24-4b9d-a649-2435c963eb9f",
   "metadata": {},
   "source": [
    "Most frequent txns description"
   ]
  },
  {
   "cell_type": "code",
   "execution_count": 41,
   "id": "2750a738-1ad0-434c-995c-c754aece390c",
   "metadata": {},
   "outputs": [
    {
     "data": {
      "text/plain": [
       "<mdbremoved>                       1962\n",
       "<mdbremoved>                        516\n",
       "<mdbremoved> ft                     359\n",
       "b365 moto                           263\n",
       "paypal payment                      195\n",
       "tfl travel charge tfl.gov.uk/cp     167\n",
       "www.skybet.com cd 9317              165\n",
       "<mdbremoved> so                     157\n",
       "betfair.-purchase                   146\n",
       "<mdbremoved> - s/o                  143\n",
       "Name: desc, dtype: int64"
      ]
     },
     "execution_count": 41,
     "metadata": {},
     "output_type": "execute_result"
    }
   ],
   "source": [
    "df[df[dup_var]].desc.value_counts(dropna=False)[:10]"
   ]
  },
  {
   "cell_type": "code",
   "execution_count": 43,
   "id": "640d2122-86d1-4c79-b267-58115fc7dae8",
   "metadata": {},
   "outputs": [
    {
     "data": {
      "text/plain": [
       "NaN                         6104\n",
       "transfers                   3260\n",
       "gambling                    2273\n",
       "enjoyment                   1617\n",
       "public transport            1132\n",
       "lunch or snacks             1019\n",
       "bank charges                 862\n",
       "entertainment, tv, media     556\n",
       "cash                         520\n",
       "dining or going out          507\n",
       "Name: tag_auto, dtype: int64"
      ]
     },
     "execution_count": 43,
     "metadata": {},
     "output_type": "execute_result"
    }
   ],
   "source": [
    "df[df[dup_var]].tag_auto.value_counts(dropna=False)[:10]"
   ]
  },
  {
   "cell_type": "code",
   "execution_count": 26,
   "id": "2d7e18da-b4f6-45f6-bfce-0e0cbcb7795a",
   "metadata": {},
   "outputs": [
    {
     "data": {
      "text/plain": [
       "investment - other               0.227723\n",
       "gambling                         0.162822\n",
       "mobile app                       0.147576\n",
       "isa                              0.090024\n",
       "tradesmen fees                   0.062500\n",
       "flights                          0.050548\n",
       "parking                          0.046441\n",
       "payment protection insurance     0.044776\n",
       "paypal account                   0.044444\n",
       "bills                            0.044291\n",
       "home appliance insurance         0.039422\n",
       "games and gaming                 0.037543\n",
       "pension or investments           0.035945\n",
       "supermarket                      0.035669\n",
       "road charges                     0.030667\n",
       "pet insurance                    0.029184\n",
       "bank charges                     0.028319\n",
       "public transport                 0.027676\n",
       "refunded purchase                0.025626\n",
       "child - everyday or childcare    0.024873\n",
       "Name: tag_auto, dtype: float64"
      ]
     },
     "execution_count": 26,
     "metadata": {},
     "output_type": "execute_result"
    }
   ],
   "source": [
    "(df[df[dup_var]].tag_auto.value_counts(dropna=False) / df.tag_auto.value_counts(dropna=False)).sort_values(ascending=False)[:20]"
   ]
  },
  {
   "cell_type": "markdown",
   "id": "f706bae3-e855-4884-9a64-ea0d74dec799",
   "metadata": {},
   "source": [
    "### Inspect dups"
   ]
  },
  {
   "cell_type": "code",
   "execution_count": 27,
   "id": "0ad40f06-39f0-4951-ad26-308cf318f325",
   "metadata": {},
   "outputs": [
    {
     "data": {
      "text/html": [
       "<div>\n",
       "<style scoped>\n",
       "    .dataframe tbody tr th:only-of-type {\n",
       "        vertical-align: middle;\n",
       "    }\n",
       "\n",
       "    .dataframe tbody tr th {\n",
       "        vertical-align: top;\n",
       "    }\n",
       "\n",
       "    .dataframe thead th {\n",
       "        text-align: right;\n",
       "    }\n",
       "</style>\n",
       "<table border=\"1\" class=\"dataframe\">\n",
       "  <thead>\n",
       "    <tr style=\"text-align: right;\">\n",
       "      <th></th>\n",
       "      <th>id</th>\n",
       "      <th>date</th>\n",
       "      <th>user_id</th>\n",
       "      <th>amount</th>\n",
       "      <th>desc</th>\n",
       "      <th>merchant</th>\n",
       "      <th>tag_group</th>\n",
       "      <th>tag</th>\n",
       "      <th>user_female</th>\n",
       "      <th>user_postcode</th>\n",
       "      <th>user_registration_date</th>\n",
       "      <th>user_salary_range</th>\n",
       "      <th>user_yob</th>\n",
       "      <th>account_created</th>\n",
       "      <th>account_id</th>\n",
       "      <th>account_last_refreshed</th>\n",
       "      <th>account_provider</th>\n",
       "      <th>account_type</th>\n",
       "      <th>data_warehouse_date_created</th>\n",
       "      <th>data_warehouse_date_last_updated</th>\n",
       "      <th>debit</th>\n",
       "      <th>latest_balance</th>\n",
       "      <th>merchant_business_line</th>\n",
       "      <th>tag_auto</th>\n",
       "      <th>tag_manual</th>\n",
       "      <th>tag_up</th>\n",
       "      <th>updated_flag</th>\n",
       "      <th>ym</th>\n",
       "      <th>balance</th>\n",
       "      <th>income</th>\n",
       "      <th>dup1</th>\n",
       "      <th>group</th>\n",
       "    </tr>\n",
       "  </thead>\n",
       "  <tbody>\n",
       "    <tr>\n",
       "      <th>35915</th>\n",
       "      <td>141212619</td>\n",
       "      <td>2016-06-01</td>\n",
       "      <td>18377</td>\n",
       "      <td>1.5</td>\n",
       "      <td>waitrose cd 8050</td>\n",
       "      <td>waitrose</td>\n",
       "      <td>spend</td>\n",
       "      <td>household</td>\n",
       "      <td>False</td>\n",
       "      <td>b79 7</td>\n",
       "      <td>2013-03-03</td>\n",
       "      <td>NaN</td>\n",
       "      <td>1977.0</td>\n",
       "      <td>2013-03-03</td>\n",
       "      <td>258653</td>\n",
       "      <td>2017-01-19 06:13:00</td>\n",
       "      <td>lloyds bank</td>\n",
       "      <td>current</td>\n",
       "      <td>2016-06-03</td>\n",
       "      <td>2017-08-11</td>\n",
       "      <td>True</td>\n",
       "      <td>NaN</td>\n",
       "      <td>waitrose</td>\n",
       "      <td>food, groceries, household</td>\n",
       "      <td>NaN</td>\n",
       "      <td>groceries</td>\n",
       "      <td>u</td>\n",
       "      <td>201606</td>\n",
       "      <td>NaN</td>\n",
       "      <td>3301.319824</td>\n",
       "      <td>False</td>\n",
       "      <td>208</td>\n",
       "    </tr>\n",
       "  </tbody>\n",
       "</table>\n",
       "<p>224 rows × 32 columns</p>\n",
       "</div>"
      ],
      "text/plain": [
       "              id       date  user_id  amount              desc  merchant  \\\n",
       "35915  141212619 2016-06-01    18377     1.5  waitrose cd 8050  waitrose   \n",
       "...          ...        ...      ...     ...               ...       ...   \n",
       "\n",
       "      tag_group        tag user_female user_postcode user_registration_date  \\\n",
       "35915     spend  household       False         b79 7             2013-03-03   \n",
       "...         ...        ...         ...           ...                    ...   \n",
       "\n",
       "      user_salary_range  user_yob account_created  account_id  \\\n",
       "35915               NaN    1977.0      2013-03-03      258653   \n",
       "...                 ...       ...             ...         ...   \n",
       "\n",
       "      account_last_refreshed account_provider account_type  \\\n",
       "35915    2017-01-19 06:13:00      lloyds bank      current   \n",
       "...                      ...              ...          ...   \n",
       "\n",
       "      data_warehouse_date_created data_warehouse_date_last_updated  debit  \\\n",
       "35915                  2016-06-03                       2017-08-11   True   \n",
       "...                           ...                              ...    ...   \n",
       "\n",
       "       latest_balance merchant_business_line                    tag_auto  \\\n",
       "35915             NaN               waitrose  food, groceries, household   \n",
       "...               ...                    ...                         ...   \n",
       "\n",
       "      tag_manual     tag_up updated_flag      ym  balance       income   dup1  \\\n",
       "35915        NaN  groceries            u  201606      NaN  3301.319824  False   \n",
       "...          ...        ...          ...     ...      ...          ...    ...   \n",
       "\n",
       "       group  \n",
       "35915    208  \n",
       "...      ...  \n",
       "\n",
       "[224 rows x 32 columns]"
      ]
     },
     "metadata": {},
     "output_type": "display_data"
    }
   ],
   "source": [
    "with pd.option_context('display.max_rows', 1):\n",
    "    display(dup_txn_sample(df, dup_subset))"
   ]
  },
  {
   "cell_type": "markdown",
   "id": "c4e85cff-7708-4e0f-8be2-9ea8e7da588a",
   "metadata": {},
   "source": [
    "## Case studies"
   ]
  },
  {
   "cell_type": "code",
   "execution_count": null,
   "id": "7c789dfc-1995-478a-9084-a2c3e1bacddf",
   "metadata": {},
   "outputs": [],
   "source": [
    "dh.user_date_data(df, 35177, '1 Jan 2020')"
   ]
  },
  {
   "cell_type": "code",
   "execution_count": null,
   "id": "3f0c1263-fed1-4c65-a662-89fdd71a2d29",
   "metadata": {},
   "outputs": [],
   "source": [
    "dh.user_date_data(df, 362977, '1 Jan 2020')"
   ]
  },
  {
   "cell_type": "code",
   "execution_count": null,
   "id": "9de16e0d-e287-4363-899f-e4aea5211fee",
   "metadata": {},
   "outputs": [],
   "source": [
    "dh.user_date_data(df, 467877, '1 Jan 2020')"
   ]
  },
  {
   "cell_type": "code",
   "execution_count": null,
   "id": "8e13f683-408a-47a2-92cb-8857b97c8f90",
   "metadata": {},
   "outputs": [],
   "source": []
  }
 ],
 "metadata": {
  "kernelspec": {
   "display_name": "entropy",
   "language": "python",
   "name": "entropy"
  },
  "language_info": {
   "codemirror_mode": {
    "name": "ipython",
    "version": 3
   },
   "file_extension": ".py",
   "mimetype": "text/x-python",
   "name": "python",
   "nbconvert_exporter": "python",
   "pygments_lexer": "ipython3",
   "version": "3.9.6"
  },
  "toc-autonumbering": false,
  "toc-showcode": false,
  "toc-showmarkdowntxt": false
 },
 "nbformat": 4,
 "nbformat_minor": 5
}
