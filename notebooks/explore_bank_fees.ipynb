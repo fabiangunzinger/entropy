{
 "cells": [
  {
   "cell_type": "markdown",
   "id": "4aaee853-154b-4abe-afaa-a31096174bdf",
   "metadata": {},
   "source": [
    "Notebook purpose:\n",
    "\n",
    "- Explore types of bank fees we can identify"
   ]
  },
  {
   "cell_type": "code",
   "execution_count": 1,
   "id": "556990c0-ee66-4f55-a49f-69e1345b873e",
   "metadata": {},
   "outputs": [
    {
     "data": {
      "application/javascript": [
       "\n",
       "            setTimeout(function() {\n",
       "                var nbb_cell_id = 1;\n",
       "                var nbb_unformatted_code = \"import sys\\n\\nimport matplotlib.pyplot as plt\\nimport numpy as np\\nimport pandas as pd\\nimport s3fs\\nimport seaborn as sns\\n\\nsys.path.append(\\\"/Users/fgu/dev/projects/entropy\\\")\\nimport entropy.data.aggregators as ag\\nimport entropy.data.cleaners as cl\\nimport entropy.data.make_data as md\\nimport entropy.data.selectors as sl\\nimport entropy.data.validators as vl\\nimport entropy.helpers.aws as ha\\nimport entropy.helpers.data as hd\\nimport entropy.helpers.helpers as hh\\n\\npd.set_option(\\\"display.max_rows\\\", 120)\\npd.set_option(\\\"display.max_columns\\\", 120)\\npd.set_option(\\\"max_colwidth\\\", None)\\n%load_ext autoreload\\n%load_ext nb_black\\n%autoreload 2\\n\\nfs = s3fs.S3FileSystem(profile=\\\"3di\\\")\";\n",
       "                var nbb_formatted_code = \"import sys\\n\\nimport matplotlib.pyplot as plt\\nimport numpy as np\\nimport pandas as pd\\nimport s3fs\\nimport seaborn as sns\\n\\nsys.path.append(\\\"/Users/fgu/dev/projects/entropy\\\")\\nimport entropy.data.aggregators as ag\\nimport entropy.data.cleaners as cl\\nimport entropy.data.make_data as md\\nimport entropy.data.selectors as sl\\nimport entropy.data.validators as vl\\nimport entropy.helpers.aws as ha\\nimport entropy.helpers.data as hd\\nimport entropy.helpers.helpers as hh\\n\\npd.set_option(\\\"display.max_rows\\\", 120)\\npd.set_option(\\\"display.max_columns\\\", 120)\\npd.set_option(\\\"max_colwidth\\\", None)\\n%load_ext autoreload\\n%load_ext nb_black\\n%autoreload 2\\n\\nfs = s3fs.S3FileSystem(profile=\\\"3di\\\")\";\n",
       "                var nbb_cells = Jupyter.notebook.get_cells();\n",
       "                for (var i = 0; i < nbb_cells.length; ++i) {\n",
       "                    if (nbb_cells[i].input_prompt_number == nbb_cell_id) {\n",
       "                        if (nbb_cells[i].get_text() == nbb_unformatted_code) {\n",
       "                             nbb_cells[i].set_text(nbb_formatted_code);\n",
       "                        }\n",
       "                        break;\n",
       "                    }\n",
       "                }\n",
       "            }, 500);\n",
       "            "
      ],
      "text/plain": [
       "<IPython.core.display.Javascript object>"
      ]
     },
     "metadata": {},
     "output_type": "display_data"
    }
   ],
   "source": [
    "import sys\n",
    "\n",
    "import matplotlib.pyplot as plt\n",
    "import numpy as np\n",
    "import pandas as pd\n",
    "import s3fs\n",
    "import seaborn as sns\n",
    "\n",
    "sys.path.append(\"/Users/fgu/dev/projects/entropy\")\n",
    "import entropy.data.aggregators as ag\n",
    "import entropy.data.cleaners as cl\n",
    "import entropy.data.make_data as md\n",
    "import entropy.data.selectors as sl\n",
    "import entropy.data.validators as vl\n",
    "import entropy.helpers.aws as ha\n",
    "import entropy.helpers.data as hd\n",
    "import entropy.helpers.helpers as hh\n",
    "\n",
    "pd.set_option(\"display.max_rows\", 120)\n",
    "pd.set_option(\"display.max_columns\", 120)\n",
    "pd.set_option(\"max_colwidth\", None)\n",
    "%load_ext autoreload\n",
    "%load_ext nb_black\n",
    "%autoreload 2\n",
    "\n",
    "fs = s3fs.S3FileSystem(profile=\"3di\")"
   ]
  },
  {
   "cell_type": "code",
   "execution_count": 10,
   "id": "cce5bd7e-1920-451c-bf8f-cde51b4acf29",
   "metadata": {},
   "outputs": [
    {
     "name": "stdout",
     "output_type": "stream",
     "text": [
      "Time for read_txn_data                 : 2.72 seconds\n",
      "shape: (651,789, 35), users: 279\n"
     ]
    },
    {
     "data": {
      "text/html": [
       "<div>\n",
       "<style scoped>\n",
       "    .dataframe tbody tr th:only-of-type {\n",
       "        vertical-align: middle;\n",
       "    }\n",
       "\n",
       "    .dataframe tbody tr th {\n",
       "        vertical-align: top;\n",
       "    }\n",
       "\n",
       "    .dataframe thead th {\n",
       "        text-align: right;\n",
       "    }\n",
       "</style>\n",
       "<table border=\"1\" class=\"dataframe\">\n",
       "  <thead>\n",
       "    <tr style=\"text-align: right;\">\n",
       "      <th></th>\n",
       "      <th>date</th>\n",
       "      <th>user_id</th>\n",
       "      <th>amount</th>\n",
       "      <th>desc</th>\n",
       "      <th>merchant</th>\n",
       "      <th>tag_group</th>\n",
       "      <th>tag</th>\n",
       "      <th>user_registration_date</th>\n",
       "      <th>account_created</th>\n",
       "      <th>account_id</th>\n",
       "      <th>account_last_refreshed</th>\n",
       "      <th>account_provider</th>\n",
       "      <th>account_type</th>\n",
       "      <th>birth_year</th>\n",
       "      <th>data_warehouse_date_created</th>\n",
       "      <th>data_warehouse_date_last_updated</th>\n",
       "      <th>id</th>\n",
       "      <th>is_debit</th>\n",
       "      <th>is_female</th>\n",
       "      <th>is_sa_flow</th>\n",
       "      <th>is_salary_pmt</th>\n",
       "      <th>is_urban</th>\n",
       "      <th>latest_balance</th>\n",
       "      <th>lsoa</th>\n",
       "      <th>merchant_business_line</th>\n",
       "      <th>msoa</th>\n",
       "      <th>postcode</th>\n",
       "      <th>region_name</th>\n",
       "      <th>salary_range</th>\n",
       "      <th>tag_auto</th>\n",
       "      <th>tag_manual</th>\n",
       "      <th>tag_spend</th>\n",
       "      <th>tag_up</th>\n",
       "      <th>updated_flag</th>\n",
       "      <th>ym</th>\n",
       "    </tr>\n",
       "  </thead>\n",
       "  <tbody>\n",
       "    <tr>\n",
       "      <th>0</th>\n",
       "      <td>2012-02-01</td>\n",
       "      <td>777</td>\n",
       "      <td>400.00</td>\n",
       "      <td>&lt;mdbremoved&gt; - s/o</td>\n",
       "      <td>NaN</td>\n",
       "      <td>transfers</td>\n",
       "      <td>other_transfers</td>\n",
       "      <td>2011-07-20</td>\n",
       "      <td>2011-07-20</td>\n",
       "      <td>262916</td>\n",
       "      <td>2020-07-21 20:32:00</td>\n",
       "      <td>natwest bank</td>\n",
       "      <td>current</td>\n",
       "      <td>1969.0</td>\n",
       "      <td>2014-07-18</td>\n",
       "      <td>2017-11-13</td>\n",
       "      <td>688300</td>\n",
       "      <td>True</td>\n",
       "      <td>0.0</td>\n",
       "      <td>False</td>\n",
       "      <td>False</td>\n",
       "      <td>1.0</td>\n",
       "      <td>364.220001</td>\n",
       "      <td>e01012553</td>\n",
       "      <td>non merchant mbl</td>\n",
       "      <td>e02002603</td>\n",
       "      <td>wa1 4</td>\n",
       "      <td>north west</td>\n",
       "      <td>20k to 30k</td>\n",
       "      <td>transfers</td>\n",
       "      <td>other account</td>\n",
       "      <td>NaN</td>\n",
       "      <td>other account</td>\n",
       "      <td>u</td>\n",
       "      <td>2012-02</td>\n",
       "    </tr>\n",
       "    <tr>\n",
       "      <th>1</th>\n",
       "      <td>2012-02-01</td>\n",
       "      <td>777</td>\n",
       "      <td>3.03</td>\n",
       "      <td>aviva pa - d/d</td>\n",
       "      <td>aviva</td>\n",
       "      <td>spend</td>\n",
       "      <td>finance</td>\n",
       "      <td>2011-07-20</td>\n",
       "      <td>2011-07-20</td>\n",
       "      <td>262916</td>\n",
       "      <td>2020-07-21 20:32:00</td>\n",
       "      <td>natwest bank</td>\n",
       "      <td>current</td>\n",
       "      <td>1969.0</td>\n",
       "      <td>2014-07-18</td>\n",
       "      <td>2017-08-15</td>\n",
       "      <td>688299</td>\n",
       "      <td>True</td>\n",
       "      <td>0.0</td>\n",
       "      <td>False</td>\n",
       "      <td>False</td>\n",
       "      <td>1.0</td>\n",
       "      <td>364.220001</td>\n",
       "      <td>e01012553</td>\n",
       "      <td>aviva</td>\n",
       "      <td>e02002603</td>\n",
       "      <td>wa1 4</td>\n",
       "      <td>north west</td>\n",
       "      <td>20k to 30k</td>\n",
       "      <td>health insurance</td>\n",
       "      <td>life insurance</td>\n",
       "      <td>insurance</td>\n",
       "      <td>life insurance</td>\n",
       "      <td>u</td>\n",
       "      <td>2012-02</td>\n",
       "    </tr>\n",
       "  </tbody>\n",
       "</table>\n",
       "</div>"
      ],
      "text/plain": [
       "        date  user_id  amount                desc merchant  tag_group  \\\n",
       "0 2012-02-01      777  400.00  <mdbremoved> - s/o      NaN  transfers   \n",
       "1 2012-02-01      777    3.03      aviva pa - d/d    aviva      spend   \n",
       "\n",
       "               tag user_registration_date account_created  account_id  \\\n",
       "0  other_transfers             2011-07-20      2011-07-20      262916   \n",
       "1          finance             2011-07-20      2011-07-20      262916   \n",
       "\n",
       "  account_last_refreshed account_provider account_type  birth_year  \\\n",
       "0    2020-07-21 20:32:00     natwest bank      current      1969.0   \n",
       "1    2020-07-21 20:32:00     natwest bank      current      1969.0   \n",
       "\n",
       "  data_warehouse_date_created data_warehouse_date_last_updated      id  \\\n",
       "0                  2014-07-18                       2017-11-13  688300   \n",
       "1                  2014-07-18                       2017-08-15  688299   \n",
       "\n",
       "   is_debit  is_female  is_sa_flow  is_salary_pmt  is_urban  latest_balance  \\\n",
       "0      True        0.0       False          False       1.0      364.220001   \n",
       "1      True        0.0       False          False       1.0      364.220001   \n",
       "\n",
       "        lsoa merchant_business_line       msoa postcode region_name  \\\n",
       "0  e01012553       non merchant mbl  e02002603    wa1 4  north west   \n",
       "1  e01012553                  aviva  e02002603    wa1 4  north west   \n",
       "\n",
       "  salary_range          tag_auto      tag_manual  tag_spend          tag_up  \\\n",
       "0   20k to 30k         transfers   other account        NaN   other account   \n",
       "1   20k to 30k  health insurance  life insurance  insurance  life insurance   \n",
       "\n",
       "  updated_flag       ym  \n",
       "0            u  2012-02  \n",
       "1            u  2012-02  "
      ]
     },
     "metadata": {},
     "output_type": "display_data"
    },
    {
     "data": {
      "application/javascript": [
       "\n",
       "            setTimeout(function() {\n",
       "                var nbb_cell_id = 10;\n",
       "                var nbb_unformatted_code = \"df = hd.read_txn_data(\\\"777\\\")\\nhd.inspect(df)\";\n",
       "                var nbb_formatted_code = \"df = hd.read_txn_data(\\\"777\\\")\\nhd.inspect(df)\";\n",
       "                var nbb_cells = Jupyter.notebook.get_cells();\n",
       "                for (var i = 0; i < nbb_cells.length; ++i) {\n",
       "                    if (nbb_cells[i].input_prompt_number == nbb_cell_id) {\n",
       "                        if (nbb_cells[i].get_text() == nbb_unformatted_code) {\n",
       "                             nbb_cells[i].set_text(nbb_formatted_code);\n",
       "                        }\n",
       "                        break;\n",
       "                    }\n",
       "                }\n",
       "            }, 500);\n",
       "            "
      ],
      "text/plain": [
       "<IPython.core.display.Javascript object>"
      ]
     },
     "metadata": {},
     "output_type": "display_data"
    }
   ],
   "source": [
    "df = hd.read_txn_data(\"777\")\n",
    "hd.inspect(df)"
   ]
  },
  {
   "cell_type": "code",
   "execution_count": 18,
   "id": "bcff46a6-8839-4976-8854-7a899b786cc0",
   "metadata": {},
   "outputs": [
    {
     "data": {
      "text/plain": [
       "bank charges                   13608\n",
       "insurance                       4814\n",
       "interest charges                3962\n",
       "personal loan                   2828\n",
       "life insurance                  1382\n",
       "banking charges                 1283\n",
       "vehicle insurance                867\n",
       "pet insurance                    848\n",
       "health insurance                 750\n",
       "payday loan                      604\n",
       "home appliance insurance         489\n",
       "contents or other insurance      408\n",
       "breakdown cover                  354\n",
       "home insurance                   344\n",
       "dental insurance                 306\n",
       "financial - other                294\n",
       "web hosting                      251\n",
       "student loan repayment           200\n",
       "repayments                       141\n",
       "mobile phone insurance            73\n",
       "Name: tag_auto, dtype: int64"
      ]
     },
     "execution_count": 18,
     "metadata": {},
     "output_type": "execute_result"
    },
    {
     "data": {
      "application/javascript": [
       "\n",
       "            setTimeout(function() {\n",
       "                var nbb_cell_id = 18;\n",
       "                var nbb_unformatted_code = \"hd.pat_in_col(df, \\\"finance\\\", \\\"tag\\\").tag_auto.value_counts()[:20]\";\n",
       "                var nbb_formatted_code = \"hd.pat_in_col(df, \\\"finance\\\", \\\"tag\\\").tag_auto.value_counts()[:20]\";\n",
       "                var nbb_cells = Jupyter.notebook.get_cells();\n",
       "                for (var i = 0; i < nbb_cells.length; ++i) {\n",
       "                    if (nbb_cells[i].input_prompt_number == nbb_cell_id) {\n",
       "                        if (nbb_cells[i].get_text() == nbb_unformatted_code) {\n",
       "                             nbb_cells[i].set_text(nbb_formatted_code);\n",
       "                        }\n",
       "                        break;\n",
       "                    }\n",
       "                }\n",
       "            }, 500);\n",
       "            "
      ],
      "text/plain": [
       "<IPython.core.display.Javascript object>"
      ]
     },
     "metadata": {},
     "output_type": "display_data"
    }
   ],
   "source": [
    "hd.pat_in_col(df, \"finance\", \"tag\").tag_auto.value_counts()[:20]"
   ]
  },
  {
   "cell_type": "code",
   "execution_count": 27,
   "id": "8ec5def1-b433-43db-9835-d47de66e7f3c",
   "metadata": {},
   "outputs": [
    {
     "data": {
      "text/plain": [
       "0.0931899641577061"
      ]
     },
     "execution_count": 27,
     "metadata": {},
     "output_type": "execute_result"
    },
    {
     "data": {
      "application/javascript": [
       "\n",
       "            setTimeout(function() {\n",
       "                var nbb_cell_id = 27;\n",
       "                var nbb_unformatted_code = \"hd.pat_in_col(df, \\\"payday\\\", \\\"tag_auto\\\").user_id.nunique() / df.user_id.nunique()\";\n",
       "                var nbb_formatted_code = \"hd.pat_in_col(df, \\\"payday\\\", \\\"tag_auto\\\").user_id.nunique() / df.user_id.nunique()\";\n",
       "                var nbb_cells = Jupyter.notebook.get_cells();\n",
       "                for (var i = 0; i < nbb_cells.length; ++i) {\n",
       "                    if (nbb_cells[i].input_prompt_number == nbb_cell_id) {\n",
       "                        if (nbb_cells[i].get_text() == nbb_unformatted_code) {\n",
       "                             nbb_cells[i].set_text(nbb_formatted_code);\n",
       "                        }\n",
       "                        break;\n",
       "                    }\n",
       "                }\n",
       "            }, 500);\n",
       "            "
      ],
      "text/plain": [
       "<IPython.core.display.Javascript object>"
      ]
     },
     "metadata": {},
     "output_type": "display_data"
    }
   ],
   "source": [
    "hd.pat_in_col(df, \"payday\", \"tag_auto\").user_id.nunique() / df.user_id.nunique()"
   ]
  }
 ],
 "metadata": {
  "kernelspec": {
   "display_name": "entropy",
   "language": "python",
   "name": "entropy"
  },
  "language_info": {
   "codemirror_mode": {
    "name": "ipython",
    "version": 3
   },
   "file_extension": ".py",
   "mimetype": "text/x-python",
   "name": "python",
   "nbconvert_exporter": "python",
   "pygments_lexer": "ipython3",
   "version": "3.9.7"
  }
 },
 "nbformat": 4,
 "nbformat_minor": 5
}
