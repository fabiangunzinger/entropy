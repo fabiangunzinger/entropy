{
 "cells": [
  {
   "cell_type": "markdown",
   "id": "585fbeec-b261-40d2-bd56-cb42d828b773",
   "metadata": {},
   "source": [
    "Notebook purpose\n",
    "\n",
    "- Explore whether users groceryshop more frequently spend more on groceries to see whether there might be a way to link this to narrow bracketing.\n",
    "\n",
    "Finding and decision:\n",
    "\n",
    "- There is a strong correlation between number of grocery shops and spending on groceries both at the weekly and monthly level.\n",
    "\n",
    "- Given the data, we cannot differentiate between cases where a higher need for groceries (e.g. having guests over, having children) led to more shopping trips from those cases where more grocery trips let to higher spend (because one higher exposure to tempting stuff one doesn't actually need). We'd need to control for 'need', which we have no way of knowing.\n",
    "\n",
    "- Won't pursue this any further."
   ]
  },
  {
   "cell_type": "code",
   "execution_count": 43,
   "id": "13bef683-64f8-4c36-bec3-05ecb69b15c5",
   "metadata": {
    "tags": []
   },
   "outputs": [
    {
     "name": "stdout",
     "output_type": "stream",
     "text": [
      "The autoreload extension is already loaded. To reload it, use:\n",
      "  %reload_ext autoreload\n"
     ]
    }
   ],
   "source": [
    "import os\n",
    "import sys\n",
    "\n",
    "import linearmodels as lm\n",
    "import matplotlib.pyplot as plt\n",
    "import numpy as np\n",
    "import pandas as pd\n",
    "import s3fs\n",
    "import seaborn as sns\n",
    "\n",
    "sys.path.append(\"/Users/fgu/dev/projects/entropy\")\n",
    "import entropy.data.cleaners as cl\n",
    "import entropy.data.creators as cr\n",
    "import entropy.data.txn_classifications as tc\n",
    "import entropy.figures as figs\n",
    "import entropy.helpers.aws as ha\n",
    "import entropy.helpers.data as hd\n",
    "import entropy.helpers.helpers as hh\n",
    "from entropy import config\n",
    "\n",
    "sns.set_style(\"whitegrid\")\n",
    "pd.set_option(\"display.max_rows\", 120)\n",
    "pd.set_option(\"display.max_columns\", 120)\n",
    "pd.set_option(\"max_colwidth\", None)\n",
    "%config InlineBackend.figure_format = 'retina'\n",
    "%load_ext autoreload\n",
    "%autoreload 2\n",
    "\n",
    "fs = s3fs.S3FileSystem(profile=\"3di\")"
   ]
  },
  {
   "cell_type": "markdown",
   "id": "a6ff9359-4f7a-4848-be15-a84b66e21c30",
   "metadata": {},
   "source": [
    "## Load data"
   ]
  },
  {
   "cell_type": "code",
   "execution_count": 3,
   "id": "f18b0a60-e3de-45c8-8d3e-8a63a58697ef",
   "metadata": {},
   "outputs": [
    {
     "name": "stdout",
     "output_type": "stream",
     "text": [
      "(16,074,957, 31)\n"
     ]
    },
    {
     "data": {
      "text/html": [
       "<div>\n",
       "<style scoped>\n",
       "    .dataframe tbody tr th:only-of-type {\n",
       "        vertical-align: middle;\n",
       "    }\n",
       "\n",
       "    .dataframe tbody tr th {\n",
       "        vertical-align: top;\n",
       "    }\n",
       "\n",
       "    .dataframe thead th {\n",
       "        text-align: right;\n",
       "    }\n",
       "</style>\n",
       "<table border=\"1\" class=\"dataframe\">\n",
       "  <thead>\n",
       "    <tr style=\"text-align: right;\">\n",
       "      <th></th>\n",
       "      <th>id</th>\n",
       "      <th>date</th>\n",
       "      <th>user_id</th>\n",
       "      <th>amount</th>\n",
       "      <th>desc</th>\n",
       "      <th>merchant</th>\n",
       "      <th>tag_group</th>\n",
       "      <th>tag</th>\n",
       "      <th>user_female</th>\n",
       "      <th>user_postcode</th>\n",
       "      <th>user_registration_date</th>\n",
       "      <th>user_salary_range</th>\n",
       "      <th>user_yob</th>\n",
       "      <th>account_created</th>\n",
       "      <th>account_id</th>\n",
       "      <th>account_last_refreshed</th>\n",
       "      <th>account_provider</th>\n",
       "      <th>account_type</th>\n",
       "      <th>data_warehouse_date_created</th>\n",
       "      <th>data_warehouse_date_last_updated</th>\n",
       "      <th>debit</th>\n",
       "      <th>latest_balance</th>\n",
       "      <th>merchant_business_line</th>\n",
       "      <th>tag_auto</th>\n",
       "      <th>tag_manual</th>\n",
       "      <th>tag_up</th>\n",
       "      <th>updated_flag</th>\n",
       "      <th>ym</th>\n",
       "      <th>balance</th>\n",
       "      <th>income</th>\n",
       "      <th>entropy_sptac</th>\n",
       "    </tr>\n",
       "  </thead>\n",
       "  <tbody>\n",
       "    <tr>\n",
       "      <th>0</th>\n",
       "      <td>1088993</td>\n",
       "      <td>2012-04-02</td>\n",
       "      <td>57</td>\n",
       "      <td>23.74</td>\n",
       "      <td>1982 01apr 12 the broadway fruiterer london gb</td>\n",
       "      <td>NaN</td>\n",
       "      <td>NaN</td>\n",
       "      <td>NaN</td>\n",
       "      <td>0.0</td>\n",
       "      <td>n8 9</td>\n",
       "      <td>2010-05-13</td>\n",
       "      <td>10k to 20k</td>\n",
       "      <td>1987.0</td>\n",
       "      <td>2016-10-30</td>\n",
       "      <td>273998</td>\n",
       "      <td>2015-08-15 21:37:00</td>\n",
       "      <td>natwest bank</td>\n",
       "      <td>current</td>\n",
       "      <td>2014-07-18</td>\n",
       "      <td>2017-10-23</td>\n",
       "      <td>True</td>\n",
       "      <td>NaN</td>\n",
       "      <td>NaN</td>\n",
       "      <td>NaN</td>\n",
       "      <td>NaN</td>\n",
       "      <td>NaN</td>\n",
       "      <td>u</td>\n",
       "      <td>201204</td>\n",
       "      <td>NaN</td>\n",
       "      <td>22542.600586</td>\n",
       "      <td>2.425209</td>\n",
       "    </tr>\n",
       "    <tr>\n",
       "      <th>1</th>\n",
       "      <td>1088994</td>\n",
       "      <td>2012-04-02</td>\n",
       "      <td>57</td>\n",
       "      <td>25.68</td>\n",
       "      <td>1982 01apr 12 waitrose 835 crouch end gb</td>\n",
       "      <td>waitrose</td>\n",
       "      <td>spend</td>\n",
       "      <td>household</td>\n",
       "      <td>0.0</td>\n",
       "      <td>n8 9</td>\n",
       "      <td>2010-05-13</td>\n",
       "      <td>10k to 20k</td>\n",
       "      <td>1987.0</td>\n",
       "      <td>2016-10-30</td>\n",
       "      <td>273998</td>\n",
       "      <td>2015-08-15 21:37:00</td>\n",
       "      <td>natwest bank</td>\n",
       "      <td>current</td>\n",
       "      <td>2014-07-18</td>\n",
       "      <td>2017-08-15</td>\n",
       "      <td>True</td>\n",
       "      <td>NaN</td>\n",
       "      <td>waitrose</td>\n",
       "      <td>food, groceries, household</td>\n",
       "      <td>NaN</td>\n",
       "      <td>supermarket</td>\n",
       "      <td>u</td>\n",
       "      <td>201204</td>\n",
       "      <td>NaN</td>\n",
       "      <td>22542.600586</td>\n",
       "      <td>2.425209</td>\n",
       "    </tr>\n",
       "  </tbody>\n",
       "</table>\n",
       "</div>"
      ],
      "text/plain": [
       "        id       date  user_id  amount  \\\n",
       "0  1088993 2012-04-02       57   23.74   \n",
       "1  1088994 2012-04-02       57   25.68   \n",
       "\n",
       "                                             desc  merchant tag_group  \\\n",
       "0  1982 01apr 12 the broadway fruiterer london gb       NaN       NaN   \n",
       "1        1982 01apr 12 waitrose 835 crouch end gb  waitrose     spend   \n",
       "\n",
       "         tag  user_female user_postcode user_registration_date  \\\n",
       "0        NaN          0.0          n8 9             2010-05-13   \n",
       "1  household          0.0          n8 9             2010-05-13   \n",
       "\n",
       "  user_salary_range  user_yob account_created  account_id  \\\n",
       "0        10k to 20k    1987.0      2016-10-30      273998   \n",
       "1        10k to 20k    1987.0      2016-10-30      273998   \n",
       "\n",
       "  account_last_refreshed account_provider account_type  \\\n",
       "0    2015-08-15 21:37:00     natwest bank      current   \n",
       "1    2015-08-15 21:37:00     natwest bank      current   \n",
       "\n",
       "  data_warehouse_date_created data_warehouse_date_last_updated  debit  \\\n",
       "0                  2014-07-18                       2017-10-23   True   \n",
       "1                  2014-07-18                       2017-08-15   True   \n",
       "\n",
       "   latest_balance merchant_business_line                    tag_auto  \\\n",
       "0             NaN                    NaN                         NaN   \n",
       "1             NaN               waitrose  food, groceries, household   \n",
       "\n",
       "  tag_manual       tag_up updated_flag      ym  balance        income  \\\n",
       "0        NaN          NaN            u  201204      NaN  22542.600586   \n",
       "1        NaN  supermarket            u  201204      NaN  22542.600586   \n",
       "\n",
       "   entropy_sptac  \n",
       "0       2.425209  \n",
       "1       2.425209  "
      ]
     },
     "metadata": {},
     "output_type": "display_data"
    }
   ],
   "source": [
    "dfs, dfl = hd.read_samples([\"777\", \"XX7\"])\n",
    "hd.inspect(dfl)"
   ]
  },
  {
   "cell_type": "markdown",
   "id": "8bb68781-861f-46bc-a5af-059f64df548a",
   "metadata": {},
   "source": [
    "## Grocery shopping"
   ]
  },
  {
   "cell_type": "markdown",
   "id": "618e00b6-4310-473a-b8a3-313a4d2b624a",
   "metadata": {},
   "source": [
    "### Monthly"
   ]
  },
  {
   "cell_type": "code",
   "execution_count": 79,
   "id": "d46f69e2-a754-407b-a266-ddc10b2d0b7c",
   "metadata": {},
   "outputs": [],
   "source": [
    "def grocery_spend(df, freq=\"m\"):\n",
    "    df = df.set_index([\"user_id\", \"date\"]).copy()\n",
    "    freq = pd.Grouper(level=\"date\", freq=freq)\n",
    "    mask = df.tag_auto.str.contains(\"groceries\", na=False)\n",
    "    groceries_spend = df.amount.where(mask, np.nan)\n",
    "    return groceries_spend.groupby([\"user_id\", freq]).agg(\n",
    "        [(\"spend\", \"sum\"), (\"txns\", \"count\")]\n",
    "    )\n",
    "\n",
    "\n",
    "def trim_outliers(df):\n",
    "    df[\"spend\"] = hd.trim(df.spend, pct=1, how=\"both\")\n",
    "    df[\"txns\"] = hd.trim(df.txns, pct=1, how=\"upper\")\n",
    "    return df.dropna()"
   ]
  },
  {
   "cell_type": "code",
   "execution_count": 80,
   "id": "0f777e2f-657f-4837-871d-bf8f45d1bb5e",
   "metadata": {},
   "outputs": [
    {
     "name": "stdout",
     "output_type": "stream",
     "text": [
      "(160,722, 2)\n"
     ]
    },
    {
     "data": {
      "text/html": [
       "<div>\n",
       "<style scoped>\n",
       "    .dataframe tbody tr th:only-of-type {\n",
       "        vertical-align: middle;\n",
       "    }\n",
       "\n",
       "    .dataframe tbody tr th {\n",
       "        vertical-align: top;\n",
       "    }\n",
       "\n",
       "    .dataframe thead th {\n",
       "        text-align: right;\n",
       "    }\n",
       "</style>\n",
       "<table border=\"1\" class=\"dataframe\">\n",
       "  <thead>\n",
       "    <tr style=\"text-align: right;\">\n",
       "      <th></th>\n",
       "      <th></th>\n",
       "      <th>spend</th>\n",
       "      <th>txns</th>\n",
       "    </tr>\n",
       "    <tr>\n",
       "      <th>user_id</th>\n",
       "      <th>date</th>\n",
       "      <th></th>\n",
       "      <th></th>\n",
       "    </tr>\n",
       "  </thead>\n",
       "  <tbody>\n",
       "    <tr>\n",
       "      <th rowspan=\"2\" valign=\"top\">57</th>\n",
       "      <th>2012-04-30</th>\n",
       "      <td>132.630005</td>\n",
       "      <td>19.0</td>\n",
       "    </tr>\n",
       "    <tr>\n",
       "      <th>2012-05-31</th>\n",
       "      <td>155.150009</td>\n",
       "      <td>18.0</td>\n",
       "    </tr>\n",
       "  </tbody>\n",
       "</table>\n",
       "</div>"
      ],
      "text/plain": [
       "                         spend  txns\n",
       "user_id date                        \n",
       "57      2012-04-30  132.630005  19.0\n",
       "        2012-05-31  155.150009  18.0"
      ]
     },
     "metadata": {},
     "output_type": "display_data"
    }
   ],
   "source": [
    "df = grocery_spend(dfl, freq=\"m\").pipe(trim_outliers)\n",
    "hd.inspect(df)"
   ]
  },
  {
   "cell_type": "code",
   "execution_count": 76,
   "id": "ce30b6aa-ea2d-408f-b346-09554723a7fb",
   "metadata": {},
   "outputs": [
    {
     "data": {
      "text/html": [
       "<div>\n",
       "<style scoped>\n",
       "    .dataframe tbody tr th:only-of-type {\n",
       "        vertical-align: middle;\n",
       "    }\n",
       "\n",
       "    .dataframe tbody tr th {\n",
       "        vertical-align: top;\n",
       "    }\n",
       "\n",
       "    .dataframe thead th {\n",
       "        text-align: right;\n",
       "    }\n",
       "</style>\n",
       "<table border=\"1\" class=\"dataframe\">\n",
       "  <thead>\n",
       "    <tr style=\"text-align: right;\">\n",
       "      <th></th>\n",
       "      <th>spend</th>\n",
       "      <th>txns</th>\n",
       "    </tr>\n",
       "  </thead>\n",
       "  <tbody>\n",
       "    <tr>\n",
       "      <th>count</th>\n",
       "      <td>160722.000000</td>\n",
       "      <td>160722.000000</td>\n",
       "    </tr>\n",
       "    <tr>\n",
       "      <th>mean</th>\n",
       "      <td>248.651810</td>\n",
       "      <td>13.729894</td>\n",
       "    </tr>\n",
       "    <tr>\n",
       "      <th>std</th>\n",
       "      <td>229.679611</td>\n",
       "      <td>10.401931</td>\n",
       "    </tr>\n",
       "    <tr>\n",
       "      <th>min</th>\n",
       "      <td>0.000000</td>\n",
       "      <td>0.000000</td>\n",
       "    </tr>\n",
       "    <tr>\n",
       "      <th>25%</th>\n",
       "      <td>76.812498</td>\n",
       "      <td>6.000000</td>\n",
       "    </tr>\n",
       "    <tr>\n",
       "      <th>50%</th>\n",
       "      <td>182.710007</td>\n",
       "      <td>12.000000</td>\n",
       "    </tr>\n",
       "    <tr>\n",
       "      <th>75%</th>\n",
       "      <td>354.200005</td>\n",
       "      <td>20.000000</td>\n",
       "    </tr>\n",
       "    <tr>\n",
       "      <th>max</th>\n",
       "      <td>1206.339966</td>\n",
       "      <td>53.000000</td>\n",
       "    </tr>\n",
       "  </tbody>\n",
       "</table>\n",
       "</div>"
      ],
      "text/plain": [
       "               spend           txns\n",
       "count  160722.000000  160722.000000\n",
       "mean      248.651810      13.729894\n",
       "std       229.679611      10.401931\n",
       "min         0.000000       0.000000\n",
       "25%        76.812498       6.000000\n",
       "50%       182.710007      12.000000\n",
       "75%       354.200005      20.000000\n",
       "max      1206.339966      53.000000"
      ]
     },
     "execution_count": 76,
     "metadata": {},
     "output_type": "execute_result"
    }
   ],
   "source": [
    "df.describe()"
   ]
  },
  {
   "cell_type": "code",
   "execution_count": 40,
   "id": "63aca7b9-24c7-499c-b021-75484dbeeb4c",
   "metadata": {},
   "outputs": [
    {
     "data": {
      "text/plain": [
       "<seaborn.axisgrid.FacetGrid at 0x18ab9ec70>"
      ]
     },
     "execution_count": 40,
     "metadata": {},
     "output_type": "execute_result"
    },
    {
     "data": {
      "image/png": "[encoded data removed]",
      "text/plain": [
       "<Figure size 360x360 with 1 Axes>"
      ]
     },
     "metadata": {
      "image/png": {
       "height": 353,
       "width": 353
      }
     },
     "output_type": "display_data"
    }
   ],
   "source": [
    "sns.lmplot(data=df, x=\"txns\", y=\"spend\", x_bins=50, order=3)"
   ]
  },
  {
   "cell_type": "code",
   "execution_count": 64,
   "id": "57c2d79c-5396-4a9c-8fd6-a9f3d38cb0f9",
   "metadata": {},
   "outputs": [],
   "source": [
    "a = lm.PanelOLS.from_formula(\"spend ~ 1 + txns\", data=df).fit()\n",
    "b = lm.PanelOLS.from_formula(\"spend ~ 1 + txns + EntityEffects\", data=df).fit()\n",
    "c = lm.PanelOLS.from_formula(\"spend ~ 1 + txns + TimeEffects\", data=df).fit()\n",
    "d = lm.PanelOLS.from_formula(\n",
    "    \"spend ~ 1 + txns + EntityEffects + TimeEffects\", data=df\n",
    ").fit()\n",
    "e = lm.PanelOLS.from_formula(\n",
    "    \"spend ~ 1 + txns + EntityEffects + TimeEffects\", data=df\n",
    ").fit(cov_type=\"clustered\", cluster_entity=True)"
   ]
  },
  {
   "cell_type": "code",
   "execution_count": 65,
   "id": "c79a931d-cbd3-4a3c-aa24-777b967ebdbd",
   "metadata": {},
   "outputs": [
    {
     "name": "stderr",
     "output_type": "stream",
     "text": [
      "/Users/fgu/miniconda3/envs/entropy/lib/python3.9/site-packages/linearmodels/panel/results.py:1010: FutureWarning: In a future version of pandas all arguments of concat except for the argument 'objs' will be keyword-only\n",
      "  vals = concat(\n"
     ]
    },
    {
     "data": {
      "text/html": [
       "<table class=\"simpletable\">\n",
       "<caption>Model Comparison</caption>\n",
       "<tr>\n",
       "             <td></td>                 <th>Model 0</th>        <th>Model 1</th>        <th>Model 2</th>        <th>Model 3</th>       <th>Model 4</th>   \n",
       "</tr>\n",
       "<tr>\n",
       "  <th>Dep. Variable</th>                <td>spend</td>          <td>spend</td>          <td>spend</td>          <td>spend</td>         <td>spend</td>    \n",
       "</tr>\n",
       "<tr>\n",
       "  <th>Estimator</th>                  <td>PanelOLS</td>       <td>PanelOLS</td>       <td>PanelOLS</td>       <td>PanelOLS</td>      <td>PanelOLS</td>   \n",
       "</tr>\n",
       "<tr>\n",
       "  <th>No. Observations</th>            <td>160722</td>         <td>160722</td>         <td>160722</td>         <td>160722</td>        <td>160722</td>    \n",
       "</tr>\n",
       "<tr>\n",
       "  <th>Cov. Est.</th>                 <td>Unadjusted</td>     <td>Unadjusted</td>     <td>Unadjusted</td>     <td>Unadjusted</td>     <td>Clustered</td>  \n",
       "</tr>\n",
       "<tr>\n",
       "  <th>R-squared</th>                   <td>0.4296</td>         <td>0.4384</td>         <td>0.4356</td>         <td>0.4469</td>        <td>0.4469</td>    \n",
       "</tr>\n",
       "<tr>\n",
       "  <th>R-Squared (Within)</th>          <td>0.4360</td>         <td>0.4384</td>         <td>0.4353</td>         <td>0.4383</td>        <td>0.4383</td>    \n",
       "</tr>\n",
       "<tr>\n",
       "  <th>R-Squared (Between)</th>         <td>0.4367</td>         <td>0.4329</td>         <td>0.4370</td>         <td>0.4338</td>        <td>0.4338</td>    \n",
       "</tr>\n",
       "<tr>\n",
       "  <th>R-Squared (Overall)</th>         <td>0.4296</td>         <td>0.4276</td>         <td>0.4295</td>         <td>0.4282</td>        <td>0.4282</td>    \n",
       "</tr>\n",
       "<tr>\n",
       "  <th>F-statistic</th>                <td>1.21e+05</td>       <td>1.21e+05</td>       <td>1.239e+05</td>      <td>1.252e+05</td>     <td>1.252e+05</td>  \n",
       "</tr>\n",
       "<tr>\n",
       "  <th>P-value (F-stat)</th>            <td>0.0000</td>         <td>0.0000</td>         <td>0.0000</td>         <td>0.0000</td>        <td>0.0000</td>    \n",
       "</tr>\n",
       "<tr>\n",
       "  <th>=====================</th>    <td>============</td>   <td>============</td>   <td>============</td>   <td>============</td>   <td>===========</td> \n",
       "</tr>\n",
       "<tr>\n",
       "  <th>Intercept</th>                  <td>49.955***</td>      <td>63.553***</td>      <td>48.127***</td>      <td>61.209***</td>     <td>61.209***</td>  \n",
       "</tr>\n",
       "<tr>\n",
       "  <th> </th>                          <td>(69.716)</td>       <td>(107.23)</td>       <td>(67.529)</td>       <td>(104.08)</td>      <td>(27.508)</td>   \n",
       "</tr>\n",
       "<tr>\n",
       "  <th>txns</th>                       <td>14.472***</td>      <td>13.481***</td>      <td>14.605***</td>      <td>13.652***</td>     <td>13.652***</td>  \n",
       "</tr>\n",
       "<tr>\n",
       "  <th> </th>                          <td>(347.90)</td>       <td>(347.87)</td>       <td>(352.05)</td>       <td>(353.83)</td>      <td>(84.239)</td>   \n",
       "</tr>\n",
       "<tr>\n",
       "  <th>=======================</th> <td>==============</td> <td>==============</td> <td>==============</td> <td>==============</td> <td>=============</td>\n",
       "</tr>\n",
       "<tr>\n",
       "  <th>Effects</th>                        <td></td>            <td>Entity</td>          <td>Time</td>          <td>Entity</td>        <td>Entity</td>    \n",
       "</tr>\n",
       "<tr>\n",
       "  <th></th>                               <td></td>               <td></td>               <td></td>             <td>Time</td>          <td>Time</td>     \n",
       "</tr>\n",
       "</table><br/><br/>T-stats reported in parentheses<br/>id: 0x190965a90"
      ],
      "text/plain": [
       "                                         Model Comparison                                        \n",
       "=================================================================================================\n",
       "                               Model 0        Model 1        Model 2        Model 3       Model 4\n",
       "-------------------------------------------------------------------------------------------------\n",
       "Dep. Variable                    spend          spend          spend          spend         spend\n",
       "Estimator                     PanelOLS       PanelOLS       PanelOLS       PanelOLS      PanelOLS\n",
       "No. Observations                160722         160722         160722         160722        160722\n",
       "Cov. Est.                   Unadjusted     Unadjusted     Unadjusted     Unadjusted     Clustered\n",
       "R-squared                       0.4296         0.4384         0.4356         0.4469        0.4469\n",
       "R-Squared (Within)              0.4360         0.4384         0.4353         0.4383        0.4383\n",
       "R-Squared (Between)             0.4367         0.4329         0.4370         0.4338        0.4338\n",
       "R-Squared (Overall)             0.4296         0.4276         0.4295         0.4282        0.4282\n",
       "F-statistic                   1.21e+05       1.21e+05      1.239e+05      1.252e+05     1.252e+05\n",
       "P-value (F-stat)                0.0000         0.0000         0.0000         0.0000        0.0000\n",
       "=====================     ============   ============   ============   ============   ===========\n",
       "Intercept                    49.955***      63.553***      48.127***      61.209***     61.209***\n",
       "                              (69.716)       (107.23)       (67.529)       (104.08)      (27.508)\n",
       "txns                         14.472***      13.481***      14.605***      13.652***     13.652***\n",
       "                              (347.90)       (347.87)       (352.05)       (353.83)      (84.239)\n",
       "======================= ============== ============== ============== ============== =============\n",
       "Effects                                        Entity           Time         Entity        Entity\n",
       "                                                                               Time          Time\n",
       "-------------------------------------------------------------------------------------------------\n",
       "\n",
       "T-stats reported in parentheses\n",
       "PanelModelComparison, id: 0x190965a90"
      ]
     },
     "execution_count": 65,
     "metadata": {},
     "output_type": "execute_result"
    }
   ],
   "source": [
    "lm.panel.compare([a, b, c, d, e], stars=True)"
   ]
  },
  {
   "cell_type": "markdown",
   "id": "80edb680-914e-46d7-b7dc-a8399282b2f5",
   "metadata": {},
   "source": [
    "### Weekly"
   ]
  },
  {
   "cell_type": "code",
   "execution_count": 81,
   "id": "60467b31-017b-4a9e-a544-4109a2c7f116",
   "metadata": {},
   "outputs": [
    {
     "name": "stdout",
     "output_type": "stream",
     "text": [
      "(698,583, 2)\n"
     ]
    },
    {
     "data": {
      "text/html": [
       "<div>\n",
       "<style scoped>\n",
       "    .dataframe tbody tr th:only-of-type {\n",
       "        vertical-align: middle;\n",
       "    }\n",
       "\n",
       "    .dataframe tbody tr th {\n",
       "        vertical-align: top;\n",
       "    }\n",
       "\n",
       "    .dataframe thead th {\n",
       "        text-align: right;\n",
       "    }\n",
       "</style>\n",
       "<table border=\"1\" class=\"dataframe\">\n",
       "  <thead>\n",
       "    <tr style=\"text-align: right;\">\n",
       "      <th></th>\n",
       "      <th></th>\n",
       "      <th>spend</th>\n",
       "      <th>txns</th>\n",
       "    </tr>\n",
       "    <tr>\n",
       "      <th>user_id</th>\n",
       "      <th>date</th>\n",
       "      <th></th>\n",
       "      <th></th>\n",
       "    </tr>\n",
       "  </thead>\n",
       "  <tbody>\n",
       "    <tr>\n",
       "      <th rowspan=\"2\" valign=\"top\">57</th>\n",
       "      <th>2012-04-08</th>\n",
       "      <td>45.709999</td>\n",
       "      <td>4.0</td>\n",
       "    </tr>\n",
       "    <tr>\n",
       "      <th>2012-04-15</th>\n",
       "      <td>30.120001</td>\n",
       "      <td>6.0</td>\n",
       "    </tr>\n",
       "  </tbody>\n",
       "</table>\n",
       "</div>"
      ],
      "text/plain": [
       "                        spend  txns\n",
       "user_id date                       \n",
       "57      2012-04-08  45.709999   4.0\n",
       "        2012-04-15  30.120001   6.0"
      ]
     },
     "metadata": {},
     "output_type": "display_data"
    }
   ],
   "source": [
    "df = grocery_spend(dfl, freq=\"w\").pipe(trim_outliers)\n",
    "hd.inspect(df)"
   ]
  },
  {
   "cell_type": "code",
   "execution_count": 82,
   "id": "9430032b-ee04-48c3-9746-775bce5a51a6",
   "metadata": {},
   "outputs": [
    {
     "data": {
      "text/html": [
       "<div>\n",
       "<style scoped>\n",
       "    .dataframe tbody tr th:only-of-type {\n",
       "        vertical-align: middle;\n",
       "    }\n",
       "\n",
       "    .dataframe tbody tr th {\n",
       "        vertical-align: top;\n",
       "    }\n",
       "\n",
       "    .dataframe thead th {\n",
       "        text-align: right;\n",
       "    }\n",
       "</style>\n",
       "<table border=\"1\" class=\"dataframe\">\n",
       "  <thead>\n",
       "    <tr style=\"text-align: right;\">\n",
       "      <th></th>\n",
       "      <th>spend</th>\n",
       "      <th>txns</th>\n",
       "    </tr>\n",
       "  </thead>\n",
       "  <tbody>\n",
       "    <tr>\n",
       "      <th>count</th>\n",
       "      <td>698583.000000</td>\n",
       "      <td>698583.000000</td>\n",
       "    </tr>\n",
       "    <tr>\n",
       "      <th>mean</th>\n",
       "      <td>55.635056</td>\n",
       "      <td>3.112894</td>\n",
       "    </tr>\n",
       "    <tr>\n",
       "      <th>std</th>\n",
       "      <td>62.868896</td>\n",
       "      <td>2.808717</td>\n",
       "    </tr>\n",
       "    <tr>\n",
       "      <th>min</th>\n",
       "      <td>0.000000</td>\n",
       "      <td>0.000000</td>\n",
       "    </tr>\n",
       "    <tr>\n",
       "      <th>25%</th>\n",
       "      <td>5.830000</td>\n",
       "      <td>1.000000</td>\n",
       "    </tr>\n",
       "    <tr>\n",
       "      <th>50%</th>\n",
       "      <td>34.810001</td>\n",
       "      <td>3.000000</td>\n",
       "    </tr>\n",
       "    <tr>\n",
       "      <th>75%</th>\n",
       "      <td>83.250000</td>\n",
       "      <td>5.000000</td>\n",
       "    </tr>\n",
       "    <tr>\n",
       "      <th>max</th>\n",
       "      <td>335.640015</td>\n",
       "      <td>13.000000</td>\n",
       "    </tr>\n",
       "  </tbody>\n",
       "</table>\n",
       "</div>"
      ],
      "text/plain": [
       "               spend           txns\n",
       "count  698583.000000  698583.000000\n",
       "mean       55.635056       3.112894\n",
       "std        62.868896       2.808717\n",
       "min         0.000000       0.000000\n",
       "25%         5.830000       1.000000\n",
       "50%        34.810001       3.000000\n",
       "75%        83.250000       5.000000\n",
       "max       335.640015      13.000000"
      ]
     },
     "execution_count": 82,
     "metadata": {},
     "output_type": "execute_result"
    }
   ],
   "source": [
    "df.describe()"
   ]
  },
  {
   "cell_type": "code",
   "execution_count": 94,
   "id": "17d946ac-b3fe-4c5d-bb2c-146b7d2ff41f",
   "metadata": {},
   "outputs": [
    {
     "data": {
      "text/plain": [
       "<seaborn.axisgrid.FacetGrid at 0x19100ef40>"
      ]
     },
     "execution_count": 94,
     "metadata": {},
     "output_type": "execute_result"
    },
    {
     "data": {
      "image/png": "[encoded data removed]",
      "text/plain": [
       "<Figure size 360x360 with 1 Axes>"
      ]
     },
     "metadata": {
      "image/png": {
       "height": 353,
       "width": 353
      }
     },
     "output_type": "display_data"
    }
   ],
   "source": [
    "sample = df.sample(frac=0.1)\n",
    "bins = range(int(max(sample.txns) + 1))\n",
    "sns.lmplot(data=sample, x=\"txns\", y=\"spend\", x_bins=bins, order=3)"
   ]
  },
  {
   "cell_type": "code",
   "execution_count": 95,
   "id": "d778a852-dcaa-4104-b34b-b881fd4ba98a",
   "metadata": {},
   "outputs": [
    {
     "name": "stderr",
     "output_type": "stream",
     "text": [
      "/Users/fgu/miniconda3/envs/entropy/lib/python3.9/site-packages/linearmodels/panel/model.py:1491: MemoryWarning: Using low-memory algorithm to estimate two-way model. Explicitly set low_memory=True to silence this message.  Set low_memory=False to use the standard algorithm that creates dummy variables for the smaller of the number of entities or number of time periods.\n",
      "  warnings.warn(\n"
     ]
    }
   ],
   "source": [
    "a = lm.PanelOLS.from_formula(\"spend ~ 1 + txns\", data=df).fit()\n",
    "b = lm.PanelOLS.from_formula(\"spend ~ 1 + txns + EntityEffects\", data=df).fit()\n",
    "c = lm.PanelOLS.from_formula(\"spend ~ 1 + txns + TimeEffects\", data=df).fit()\n",
    "d = lm.PanelOLS.from_formula(\n",
    "    \"spend ~ 1 + txns + EntityEffects + TimeEffects\", data=df\n",
    ").fit()\n",
    "e = lm.PanelOLS.from_formula(\n",
    "    \"spend ~ 1 + txns + EntityEffects + TimeEffects\", data=df\n",
    ").fit(cov_type=\"clustered\", cluster_entity=True)"
   ]
  },
  {
   "cell_type": "code",
   "execution_count": 96,
   "id": "59f1167e-fbe4-4a43-a02b-bf6d81892ee3",
   "metadata": {},
   "outputs": [
    {
     "name": "stderr",
     "output_type": "stream",
     "text": [
      "/Users/fgu/miniconda3/envs/entropy/lib/python3.9/site-packages/linearmodels/panel/results.py:1010: FutureWarning: In a future version of pandas all arguments of concat except for the argument 'objs' will be keyword-only\n",
      "  vals = concat(\n"
     ]
    },
    {
     "data": {
      "text/html": [
       "<table class=\"simpletable\">\n",
       "<caption>Model Comparison</caption>\n",
       "<tr>\n",
       "             <td></td>                 <th>Model 0</th>        <th>Model 1</th>        <th>Model 2</th>        <th>Model 3</th>       <th>Model 4</th>   \n",
       "</tr>\n",
       "<tr>\n",
       "  <th>Dep. Variable</th>                <td>spend</td>          <td>spend</td>          <td>spend</td>          <td>spend</td>         <td>spend</td>    \n",
       "</tr>\n",
       "<tr>\n",
       "  <th>Estimator</th>                  <td>PanelOLS</td>       <td>PanelOLS</td>       <td>PanelOLS</td>       <td>PanelOLS</td>      <td>PanelOLS</td>   \n",
       "</tr>\n",
       "<tr>\n",
       "  <th>No. Observations</th>            <td>698583</td>         <td>698583</td>         <td>698583</td>         <td>698583</td>        <td>698583</td>    \n",
       "</tr>\n",
       "<tr>\n",
       "  <th>Cov. Est.</th>                 <td>Unadjusted</td>     <td>Unadjusted</td>     <td>Unadjusted</td>     <td>Unadjusted</td>     <td>Clustered</td>  \n",
       "</tr>\n",
       "<tr>\n",
       "  <th>R-squared</th>                   <td>0.4036</td>         <td>0.3789</td>         <td>0.4085</td>         <td>0.3835</td>        <td>0.3835</td>    \n",
       "</tr>\n",
       "<tr>\n",
       "  <th>R-Squared (Within)</th>          <td>0.3778</td>         <td>0.3789</td>         <td>0.3774</td>         <td>0.3788</td>        <td>0.3788</td>    \n",
       "</tr>\n",
       "<tr>\n",
       "  <th>R-Squared (Between)</th>         <td>0.4481</td>         <td>0.4448</td>         <td>0.4484</td>         <td>0.4456</td>        <td>0.4456</td>    \n",
       "</tr>\n",
       "<tr>\n",
       "  <th>R-Squared (Overall)</th>         <td>0.4036</td>         <td>0.4026</td>         <td>0.4036</td>         <td>0.4030</td>        <td>0.4030</td>    \n",
       "</tr>\n",
       "<tr>\n",
       "  <th>F-statistic</th>                <td>4.728e+05</td>      <td>4.226e+05</td>      <td>4.822e+05</td>      <td>4.307e+05</td>     <td>4.307e+05</td>  \n",
       "</tr>\n",
       "<tr>\n",
       "  <th>P-value (F-stat)</th>            <td>0.0000</td>         <td>0.0000</td>         <td>0.0000</td>         <td>0.0000</td>        <td>0.0000</td>    \n",
       "</tr>\n",
       "<tr>\n",
       "  <th>=====================</th>    <td>============</td>   <td>============</td>   <td>============</td>   <td>============</td>   <td>===========</td> \n",
       "</tr>\n",
       "<tr>\n",
       "  <th>Intercept</th>                  <td>11.369***</td>      <td>13.568***</td>      <td>10.991***</td>      <td>13.139***</td>     <td>13.139***</td>  \n",
       "</tr>\n",
       "<tr>\n",
       "  <th> </th>                          <td>(131.11)</td>       <td>(171.71)</td>       <td>(127.24)</td>       <td>(166.69)</td>      <td>(38.259)</td>   \n",
       "</tr>\n",
       "<tr>\n",
       "  <th>txns</th>                       <td>14.220***</td>      <td>13.514***</td>      <td>14.342***</td>      <td>13.651***</td>     <td>13.651***</td>  \n",
       "</tr>\n",
       "<tr>\n",
       "  <th> </th>                          <td>(687.58)</td>       <td>(650.09)</td>       <td>(694.38)</td>       <td>(656.31)</td>      <td>(123.74)</td>   \n",
       "</tr>\n",
       "<tr>\n",
       "  <th>=======================</th> <td>==============</td> <td>==============</td> <td>==============</td> <td>==============</td> <td>=============</td>\n",
       "</tr>\n",
       "<tr>\n",
       "  <th>Effects</th>                        <td></td>            <td>Entity</td>          <td>Time</td>          <td>Entity</td>        <td>Entity</td>    \n",
       "</tr>\n",
       "<tr>\n",
       "  <th></th>                               <td></td>               <td></td>               <td></td>             <td>Time</td>          <td>Time</td>     \n",
       "</tr>\n",
       "</table><br/><br/>T-stats reported in parentheses<br/>id: 0x191097af0"
      ],
      "text/plain": [
       "                                         Model Comparison                                        \n",
       "=================================================================================================\n",
       "                               Model 0        Model 1        Model 2        Model 3       Model 4\n",
       "-------------------------------------------------------------------------------------------------\n",
       "Dep. Variable                    spend          spend          spend          spend         spend\n",
       "Estimator                     PanelOLS       PanelOLS       PanelOLS       PanelOLS      PanelOLS\n",
       "No. Observations                698583         698583         698583         698583        698583\n",
       "Cov. Est.                   Unadjusted     Unadjusted     Unadjusted     Unadjusted     Clustered\n",
       "R-squared                       0.4036         0.3789         0.4085         0.3835        0.3835\n",
       "R-Squared (Within)              0.3778         0.3789         0.3774         0.3788        0.3788\n",
       "R-Squared (Between)             0.4481         0.4448         0.4484         0.4456        0.4456\n",
       "R-Squared (Overall)             0.4036         0.4026         0.4036         0.4030        0.4030\n",
       "F-statistic                  4.728e+05      4.226e+05      4.822e+05      4.307e+05     4.307e+05\n",
       "P-value (F-stat)                0.0000         0.0000         0.0000         0.0000        0.0000\n",
       "=====================     ============   ============   ============   ============   ===========\n",
       "Intercept                    11.369***      13.568***      10.991***      13.139***     13.139***\n",
       "                              (131.11)       (171.71)       (127.24)       (166.69)      (38.259)\n",
       "txns                         14.220***      13.514***      14.342***      13.651***     13.651***\n",
       "                              (687.58)       (650.09)       (694.38)       (656.31)      (123.74)\n",
       "======================= ============== ============== ============== ============== =============\n",
       "Effects                                        Entity           Time         Entity        Entity\n",
       "                                                                               Time          Time\n",
       "-------------------------------------------------------------------------------------------------\n",
       "\n",
       "T-stats reported in parentheses\n",
       "PanelModelComparison, id: 0x191097af0"
      ]
     },
     "execution_count": 96,
     "metadata": {},
     "output_type": "execute_result"
    }
   ],
   "source": [
    "lm.panel.compare([a, b, c, d, e], stars=True)"
   ]
  }
 ],
 "metadata": {
  "kernelspec": {
   "display_name": "entropy",
   "language": "python",
   "name": "entropy"
  },
  "language_info": {
   "codemirror_mode": {
    "name": "ipython",
    "version": 3
   },
   "file_extension": ".py",
   "mimetype": "text/x-python",
   "name": "python",
   "nbconvert_exporter": "python",
   "pygments_lexer": "ipython3",
   "version": "3.9.7"
  },
  "toc-autonumbering": false,
  "toc-showcode": false,
  "toc-showmarkdowntxt": false
 },
 "nbformat": 4,
 "nbformat_minor": 5
}
