{
 "cells": [
  {
   "cell_type": "markdown",
   "id": "585fbeec-b261-40d2-bd56-cb42d828b773",
   "metadata": {},
   "source": [
    "Notebook purpose\n",
    "\n",
    "- Explore entropy scores"
   ]
  },
  {
   "cell_type": "code",
   "execution_count": 4,
   "id": "13bef683-64f8-4c36-bec3-05ecb69b15c5",
   "metadata": {
    "tags": []
   },
   "outputs": [
    {
     "name": "stdout",
     "output_type": "stream",
     "text": [
      "The autoreload extension is already loaded. To reload it, use:\n",
      "  %reload_ext autoreload\n"
     ]
    }
   ],
   "source": [
    "import os\n",
    "import sys\n",
    "\n",
    "import matplotlib.pyplot as plt\n",
    "import numpy as np\n",
    "import pandas as pd\n",
    "import seaborn as sns\n",
    "\n",
    "sys.path.append('/Users/fgu/dev/projects/entropy')\n",
    "from entropy import config\n",
    "import entropy.helpers.aws as aws\n",
    "import entropy.data.cleaners as cl\n",
    "import entropy.data.creators as cr\n",
    "import entropy.figures.figures as figs\n",
    "\n",
    "sns.set_style('whitegrid')\n",
    "pd.set_option('display.max_rows', 120)\n",
    "pd.set_option('display.max_columns', 120)\n",
    "pd.set_option('max_colwidth', None)\n",
    "%config InlineBackend.figure_format = 'retina'\n",
    "%load_ext autoreload\n",
    "%autoreload 2"
   ]
  },
  {
   "cell_type": "code",
   "execution_count": 18,
   "id": "f56ca4fb-7702-4f27-8d47-a0ba1d14d897",
   "metadata": {},
   "outputs": [
    {
     "data": {
      "text/html": [
       "<div>\n",
       "<style scoped>\n",
       "    .dataframe tbody tr th:only-of-type {\n",
       "        vertical-align: middle;\n",
       "    }\n",
       "\n",
       "    .dataframe tbody tr th {\n",
       "        vertical-align: top;\n",
       "    }\n",
       "\n",
       "    .dataframe thead th {\n",
       "        text-align: right;\n",
       "    }\n",
       "</style>\n",
       "<table border=\"1\" class=\"dataframe\">\n",
       "  <thead>\n",
       "    <tr style=\"text-align: right;\">\n",
       "      <th></th>\n",
       "      <th>id</th>\n",
       "      <th>date</th>\n",
       "      <th>user_id</th>\n",
       "      <th>amount</th>\n",
       "      <th>desc</th>\n",
       "      <th>merchant</th>\n",
       "      <th>tag_group</th>\n",
       "      <th>tag</th>\n",
       "      <th>user_female</th>\n",
       "      <th>user_postcode</th>\n",
       "      <th>user_registration_date</th>\n",
       "      <th>user_salary_range</th>\n",
       "      <th>user_yob</th>\n",
       "      <th>account_created</th>\n",
       "      <th>account_id</th>\n",
       "      <th>account_last_refreshed</th>\n",
       "      <th>account_provider</th>\n",
       "      <th>account_type</th>\n",
       "      <th>data_warehouse_date_created</th>\n",
       "      <th>data_warehouse_date_last_updated</th>\n",
       "      <th>debit</th>\n",
       "      <th>latest_balance</th>\n",
       "      <th>merchant_business_line</th>\n",
       "      <th>savings</th>\n",
       "      <th>tag_auto</th>\n",
       "      <th>tag_manual</th>\n",
       "      <th>tag_up</th>\n",
       "      <th>updated_flag</th>\n",
       "      <th>ym</th>\n",
       "      <th>balance</th>\n",
       "      <th>income</th>\n",
       "      <th>entropy_tag_auto</th>\n",
       "      <th>entropy_tag</th>\n",
       "    </tr>\n",
       "  </thead>\n",
       "  <tbody>\n",
       "    <tr>\n",
       "      <th>0</th>\n",
       "      <td>688261</td>\n",
       "      <td>2012-01-03</td>\n",
       "      <td>777</td>\n",
       "      <td>400.00</td>\n",
       "      <td>mdbremoved</td>\n",
       "      <td>NaN</td>\n",
       "      <td>transfers</td>\n",
       "      <td>transfers</td>\n",
       "      <td>False</td>\n",
       "      <td>wa1 4</td>\n",
       "      <td>2011-07-20</td>\n",
       "      <td>20k to 30k</td>\n",
       "      <td>1969.0</td>\n",
       "      <td>2011-07-20</td>\n",
       "      <td>262916</td>\n",
       "      <td>2020-07-21 20:32:00</td>\n",
       "      <td>natwest bank</td>\n",
       "      <td>current</td>\n",
       "      <td>2014-07-18</td>\n",
       "      <td>2017-11-13</td>\n",
       "      <td>True</td>\n",
       "      <td>364.220001</td>\n",
       "      <td>non merchant mbl</td>\n",
       "      <td>False</td>\n",
       "      <td>transfers</td>\n",
       "      <td>other account</td>\n",
       "      <td>other account</td>\n",
       "      <td>u</td>\n",
       "      <td>201201</td>\n",
       "      <td>-1542.99646</td>\n",
       "      <td>24319.220881</td>\n",
       "      <td>7.380999</td>\n",
       "      <td>2.84752</td>\n",
       "    </tr>\n",
       "    <tr>\n",
       "      <th>1</th>\n",
       "      <td>688264</td>\n",
       "      <td>2012-01-03</td>\n",
       "      <td>777</td>\n",
       "      <td>10.27</td>\n",
       "      <td>9572 30dec 11 mcdonalds restaurant winwick road gb</td>\n",
       "      <td>mcdonalds</td>\n",
       "      <td>spend</td>\n",
       "      <td>services</td>\n",
       "      <td>False</td>\n",
       "      <td>wa1 4</td>\n",
       "      <td>2011-07-20</td>\n",
       "      <td>20k to 30k</td>\n",
       "      <td>1969.0</td>\n",
       "      <td>2011-07-20</td>\n",
       "      <td>262916</td>\n",
       "      <td>2020-07-21 20:32:00</td>\n",
       "      <td>natwest bank</td>\n",
       "      <td>current</td>\n",
       "      <td>2014-07-18</td>\n",
       "      <td>2015-03-19</td>\n",
       "      <td>True</td>\n",
       "      <td>364.220001</td>\n",
       "      <td>mcdonalds</td>\n",
       "      <td>False</td>\n",
       "      <td>dining and drinking</td>\n",
       "      <td>NaN</td>\n",
       "      <td>dining and drinking</td>\n",
       "      <td>u</td>\n",
       "      <td>201201</td>\n",
       "      <td>-1542.99646</td>\n",
       "      <td>24319.220881</td>\n",
       "      <td>7.380999</td>\n",
       "      <td>2.84752</td>\n",
       "    </tr>\n",
       "  </tbody>\n",
       "</table>\n",
       "</div>"
      ],
      "text/plain": [
       "       id       date  user_id  amount  \\\n",
       "0  688261 2012-01-03      777  400.00   \n",
       "1  688264 2012-01-03      777   10.27   \n",
       "\n",
       "                                                 desc   merchant  tag_group  \\\n",
       "0                                          mdbremoved        NaN  transfers   \n",
       "1  9572 30dec 11 mcdonalds restaurant winwick road gb  mcdonalds      spend   \n",
       "\n",
       "         tag user_female user_postcode user_registration_date  \\\n",
       "0  transfers       False         wa1 4             2011-07-20   \n",
       "1   services       False         wa1 4             2011-07-20   \n",
       "\n",
       "  user_salary_range  user_yob account_created  account_id  \\\n",
       "0        20k to 30k    1969.0      2011-07-20      262916   \n",
       "1        20k to 30k    1969.0      2011-07-20      262916   \n",
       "\n",
       "  account_last_refreshed account_provider account_type  \\\n",
       "0    2020-07-21 20:32:00     natwest bank      current   \n",
       "1    2020-07-21 20:32:00     natwest bank      current   \n",
       "\n",
       "  data_warehouse_date_created data_warehouse_date_last_updated  debit  \\\n",
       "0                  2014-07-18                       2017-11-13   True   \n",
       "1                  2014-07-18                       2015-03-19   True   \n",
       "\n",
       "   latest_balance merchant_business_line  savings             tag_auto  \\\n",
       "0      364.220001       non merchant mbl    False            transfers   \n",
       "1      364.220001              mcdonalds    False  dining and drinking   \n",
       "\n",
       "      tag_manual               tag_up updated_flag      ym     balance  \\\n",
       "0  other account        other account            u  201201 -1542.99646   \n",
       "1            NaN  dining and drinking            u  201201 -1542.99646   \n",
       "\n",
       "         income  entropy_tag_auto  entropy_tag  \n",
       "0  24319.220881          7.380999      2.84752  \n",
       "1  24319.220881          7.380999      2.84752  "
      ]
     },
     "execution_count": 18,
     "metadata": {},
     "output_type": "execute_result"
    }
   ],
   "source": [
    "SAMPLE = '777'\n",
    "fp = f'~/tmp/entropy_{SAMPLE}.parquet'\n",
    "\n",
    "df = aws.read_parquet(fp)\n",
    "df.head(2)"
   ]
  },
  {
   "cell_type": "code",
   "execution_count": 32,
   "id": "b5cc4c03-c194-42cf-a51b-8585094cf2cf",
   "metadata": {},
   "outputs": [
    {
     "data": {
      "image/png": "[encoded data removed]",
      "text/plain": [
       "<Figure size 432x288 with 1 Axes>"
      ]
     },
     "metadata": {
      "image/png": {
       "height": 248,
       "width": 384
      }
     },
     "output_type": "display_data"
    }
   ],
   "source": [
    "df.entropy_tag.hist(bins=30);"
   ]
  },
  {
   "cell_type": "code",
   "execution_count": null,
   "id": "92e46a12-f143-4c5f-9673-cd87a42ee7f4",
   "metadata": {},
   "outputs": [],
   "source": [
    "def entropy(df):\n",
    "    \"\"\"Return Shannon Entropy for user and column name.\"\"\"\n",
    "    from scipy.stats import entropy\n",
    "\n",
    "    def calc_entropy(user, num_cats):\n",
    "        total_txns = len(user)\n",
    "        txns_by_cat = user.groupby(column).size()\n",
    "        prop_by_cat = (txns_by_cat + 1) / (total_txns + num_cats)\n",
    "        return entropy(prop_by_cat, base=2)\n",
    "\n",
    "    g = df[df.debit].groupby('user_id')\n",
    "    \n",
    "    for column in ['tag_auto', 'tag']:\n",
    "        col_name = '_'.join(['entropy', column])\n",
    "        num_cats = df[column].nunique()\n",
    "        \n",
    "        scores = (g.apply(calc_entropy, num_cats)\n",
    "                  .rename(col_name)\n",
    "                  .reset_index())\n",
    "        df = df.merge(scores, validate='m:1') \n",
    "\n",
    "    return df\n",
    "\n",
    "\n",
    "\n",
    "\n",
    "\n"
   ]
  },
  {
   "cell_type": "code",
   "execution_count": 3,
   "id": "3c5efe06-41cb-4cfb-a9b4-ee563b19ae1a",
   "metadata": {},
   "outputs": [
    {
     "data": {
      "text/plain": [
       "15"
      ]
     },
     "execution_count": 3,
     "metadata": {},
     "output_type": "execute_result"
    }
   ],
   "source": [
    "df.tag.nunique()"
   ]
  },
  {
   "cell_type": "markdown",
   "id": "a57275fa-e911-4a29-8c38-db65819a2014",
   "metadata": {},
   "source": [
    "## User-level entropy"
   ]
  },
  {
   "cell_type": "code",
   "execution_count": 176,
   "id": "c7deeacd-efb3-4e75-8e98-6c68a743b655",
   "metadata": {},
   "outputs": [
    {
     "data": {
      "image/png": "[encoded data removed]",
      "text/plain": [
       "<Figure size 576x180 with 3 Axes>"
      ]
     },
     "metadata": {
      "image/png": {
       "height": 173,
       "width": 569
      }
     },
     "output_type": "display_data"
    }
   ],
   "source": [
    "figs.txns_distrs(df, write=False)"
   ]
  }
 ],
 "metadata": {
  "kernelspec": {
   "display_name": "entropy",
   "language": "python",
   "name": "entropy"
  },
  "language_info": {
   "codemirror_mode": {
    "name": "ipython",
    "version": 3
   },
   "file_extension": ".py",
   "mimetype": "text/x-python",
   "name": "python",
   "nbconvert_exporter": "python",
   "pygments_lexer": "ipython3",
   "version": "3.9.6"
  }
 },
 "nbformat": 4,
 "nbformat_minor": 5
}
