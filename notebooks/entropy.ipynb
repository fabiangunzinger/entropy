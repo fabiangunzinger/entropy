{
 "cells": [
  {
   "cell_type": "markdown",
   "id": "585fbeec-b261-40d2-bd56-cb42d828b773",
   "metadata": {},
   "source": [
    "Notebook purpose\n",
    "\n",
    "- Explore entropy scores"
   ]
  },
  {
   "cell_type": "code",
   "execution_count": 151,
   "id": "13bef683-64f8-4c36-bec3-05ecb69b15c5",
   "metadata": {
    "tags": []
   },
   "outputs": [
    {
     "name": "stdout",
     "output_type": "stream",
     "text": [
      "The autoreload extension is already loaded. To reload it, use:\n",
      "  %reload_ext autoreload\n"
     ]
    }
   ],
   "source": [
    "import os\n",
    "import sys\n",
    "\n",
    "import matplotlib.pyplot as plt\n",
    "import numpy as np\n",
    "import pandas as pd\n",
    "import seaborn as sns\n",
    "\n",
    "sys.path.append('/Users/fgu/dev/projects/entropy')\n",
    "from entropy import config\n",
    "import entropy.helpers.aws as aws\n",
    "import entropy.data.cleaners as cl\n",
    "import entropy.data.creators as cr\n",
    "import entropy.figures.figures as figs\n",
    "\n",
    "sns.set_style('whitegrid')\n",
    "pd.set_option('display.max_rows', 120)\n",
    "pd.set_option('display.max_columns', 120)\n",
    "pd.set_option('max_colwidth', None)\n",
    "%config InlineBackend.figure_format = 'retina'\n",
    "%load_ext autoreload\n",
    "%autoreload 2"
   ]
  },
  {
   "cell_type": "code",
   "execution_count": 111,
   "id": "f56ca4fb-7702-4f27-8d47-a0ba1d14d897",
   "metadata": {},
   "outputs": [
    {
     "data": {
      "text/html": [
       "<div>\n",
       "<style scoped>\n",
       "    .dataframe tbody tr th:only-of-type {\n",
       "        vertical-align: middle;\n",
       "    }\n",
       "\n",
       "    .dataframe tbody tr th {\n",
       "        vertical-align: top;\n",
       "    }\n",
       "\n",
       "    .dataframe thead th {\n",
       "        text-align: right;\n",
       "    }\n",
       "</style>\n",
       "<table border=\"1\" class=\"dataframe\">\n",
       "  <thead>\n",
       "    <tr style=\"text-align: right;\">\n",
       "      <th></th>\n",
       "      <th>id</th>\n",
       "      <th>date</th>\n",
       "      <th>user_id</th>\n",
       "      <th>amount</th>\n",
       "      <th>desc</th>\n",
       "      <th>merchant</th>\n",
       "      <th>tag_group</th>\n",
       "      <th>tag</th>\n",
       "      <th>user_female</th>\n",
       "      <th>user_postcode</th>\n",
       "      <th>user_registration_date</th>\n",
       "      <th>user_salary_range</th>\n",
       "      <th>user_yob</th>\n",
       "      <th>account_created</th>\n",
       "      <th>account_id</th>\n",
       "      <th>account_last_refreshed</th>\n",
       "      <th>account_provider</th>\n",
       "      <th>account_type</th>\n",
       "      <th>data_warehouse_date_created</th>\n",
       "      <th>data_warehouse_date_last_updated</th>\n",
       "      <th>debit</th>\n",
       "      <th>latest_balance</th>\n",
       "      <th>merchant_business_line</th>\n",
       "      <th>savings</th>\n",
       "      <th>tag_auto</th>\n",
       "      <th>tag_manual</th>\n",
       "      <th>tag_up</th>\n",
       "      <th>updated_flag</th>\n",
       "      <th>ym</th>\n",
       "      <th>balance</th>\n",
       "      <th>income</th>\n",
       "      <th>entropy_tag_auto</th>\n",
       "      <th>entropy_tag</th>\n",
       "    </tr>\n",
       "  </thead>\n",
       "  <tbody>\n",
       "    <tr>\n",
       "      <th>0</th>\n",
       "      <td>688261</td>\n",
       "      <td>2012-01-03</td>\n",
       "      <td>777</td>\n",
       "      <td>400.00</td>\n",
       "      <td>mdbremoved</td>\n",
       "      <td>NaN</td>\n",
       "      <td>transfers</td>\n",
       "      <td>transfers</td>\n",
       "      <td>False</td>\n",
       "      <td>wa1 4</td>\n",
       "      <td>2011-07-20</td>\n",
       "      <td>20k to 30k</td>\n",
       "      <td>1969.0</td>\n",
       "      <td>2011-07-20</td>\n",
       "      <td>262916</td>\n",
       "      <td>2020-07-21 20:32:00</td>\n",
       "      <td>natwest bank</td>\n",
       "      <td>current</td>\n",
       "      <td>2014-07-18</td>\n",
       "      <td>2017-11-13</td>\n",
       "      <td>True</td>\n",
       "      <td>364.220001</td>\n",
       "      <td>non merchant mbl</td>\n",
       "      <td>False</td>\n",
       "      <td>transfers</td>\n",
       "      <td>other account</td>\n",
       "      <td>other account</td>\n",
       "      <td>u</td>\n",
       "      <td>201201</td>\n",
       "      <td>-1542.99646</td>\n",
       "      <td>24319.220881</td>\n",
       "      <td>4.83494</td>\n",
       "      <td>2.880975</td>\n",
       "    </tr>\n",
       "    <tr>\n",
       "      <th>1</th>\n",
       "      <td>688264</td>\n",
       "      <td>2012-01-03</td>\n",
       "      <td>777</td>\n",
       "      <td>10.27</td>\n",
       "      <td>9572 30dec 11 mcdonalds restaurant winwick road gb</td>\n",
       "      <td>mcdonalds</td>\n",
       "      <td>spend</td>\n",
       "      <td>services</td>\n",
       "      <td>False</td>\n",
       "      <td>wa1 4</td>\n",
       "      <td>2011-07-20</td>\n",
       "      <td>20k to 30k</td>\n",
       "      <td>1969.0</td>\n",
       "      <td>2011-07-20</td>\n",
       "      <td>262916</td>\n",
       "      <td>2020-07-21 20:32:00</td>\n",
       "      <td>natwest bank</td>\n",
       "      <td>current</td>\n",
       "      <td>2014-07-18</td>\n",
       "      <td>2015-03-19</td>\n",
       "      <td>True</td>\n",
       "      <td>364.220001</td>\n",
       "      <td>mcdonalds</td>\n",
       "      <td>False</td>\n",
       "      <td>dining and drinking</td>\n",
       "      <td>NaN</td>\n",
       "      <td>dining and drinking</td>\n",
       "      <td>u</td>\n",
       "      <td>201201</td>\n",
       "      <td>-1542.99646</td>\n",
       "      <td>24319.220881</td>\n",
       "      <td>4.83494</td>\n",
       "      <td>2.880975</td>\n",
       "    </tr>\n",
       "  </tbody>\n",
       "</table>\n",
       "</div>"
      ],
      "text/plain": [
       "       id       date  user_id  amount  \\\n",
       "0  688261 2012-01-03      777  400.00   \n",
       "1  688264 2012-01-03      777   10.27   \n",
       "\n",
       "                                                 desc   merchant  tag_group  \\\n",
       "0                                          mdbremoved        NaN  transfers   \n",
       "1  9572 30dec 11 mcdonalds restaurant winwick road gb  mcdonalds      spend   \n",
       "\n",
       "         tag user_female user_postcode user_registration_date  \\\n",
       "0  transfers       False         wa1 4             2011-07-20   \n",
       "1   services       False         wa1 4             2011-07-20   \n",
       "\n",
       "  user_salary_range  user_yob account_created  account_id  \\\n",
       "0        20k to 30k    1969.0      2011-07-20      262916   \n",
       "1        20k to 30k    1969.0      2011-07-20      262916   \n",
       "\n",
       "  account_last_refreshed account_provider account_type  \\\n",
       "0    2020-07-21 20:32:00     natwest bank      current   \n",
       "1    2020-07-21 20:32:00     natwest bank      current   \n",
       "\n",
       "  data_warehouse_date_created data_warehouse_date_last_updated  debit  \\\n",
       "0                  2014-07-18                       2017-11-13   True   \n",
       "1                  2014-07-18                       2015-03-19   True   \n",
       "\n",
       "   latest_balance merchant_business_line  savings             tag_auto  \\\n",
       "0      364.220001       non merchant mbl    False            transfers   \n",
       "1      364.220001              mcdonalds    False  dining and drinking   \n",
       "\n",
       "      tag_manual               tag_up updated_flag      ym     balance  \\\n",
       "0  other account        other account            u  201201 -1542.99646   \n",
       "1            NaN  dining and drinking            u  201201 -1542.99646   \n",
       "\n",
       "         income  entropy_tag_auto  entropy_tag  \n",
       "0  24319.220881           4.83494     2.880975  \n",
       "1  24319.220881           4.83494     2.880975  "
      ]
     },
     "execution_count": 111,
     "metadata": {},
     "output_type": "execute_result"
    }
   ],
   "source": [
    "SAMPLE = 'X77'\n",
    "fp = f'~/tmp/entropy_{SAMPLE}.parquet'\n",
    "\n",
    "df = aws.read_parquet(fp)\n",
    "df.head(2)"
   ]
  },
  {
   "cell_type": "markdown",
   "id": "a57275fa-e911-4a29-8c38-db65819a2014",
   "metadata": {},
   "source": [
    "## User-level entropy"
   ]
  },
  {
   "cell_type": "code",
   "execution_count": 172,
   "id": "c7deeacd-efb3-4e75-8e98-6c68a743b655",
   "metadata": {},
   "outputs": [
    {
     "data": {
      "image/png": "[encoded data removed]",
      "text/plain": [
       "<Figure size 864x216 with 3 Axes>"
      ]
     },
     "metadata": {
      "image/png": {
       "height": 207,
       "width": 715
      }
     },
     "output_type": "display_data"
    }
   ],
   "source": [
    "import functools\n",
    "\n",
    "def txns_mc_entropy_distributions(df):\n",
    "    \"\"\"Plots distributions of user-month txns and merchant categories, and entropy.\"\"\"\n",
    "\n",
    "    hist = functools.partial(sns.histplot, stat='percent')\n",
    "    g = df.set_index('date').groupby('user_id')    \n",
    "    fig, ax = plt.subplots(1, 3, figsize=(12, 3))\n",
    "\n",
    "    data = g.resample('M').id.count()\n",
    "    hist(data=data, bins=20, ax=ax[0])\n",
    "    ax[0].set(xlabel='Transactions', ylabel='User-months (%)')    \n",
    "\n",
    "    data = g.resample('M').tag.nunique()\n",
    "    bins = np.arange(df.tag.nunique() + 1) - 0.5\n",
    "    hist(data=data, bins=bins, ax=ax[1])\n",
    "    ax[1].set(xlabel='Merchant categories', ylabel='User-months (%)')\n",
    "    \n",
    "    data = g.entropy_tag.first()\n",
    "    hist(data=data, bins=15)\n",
    "    ax[2].set(xlabel='Entropy', ylabel='Users (%)')\n",
    "\n",
    "txns_distributions(df)"
   ]
  },
  {
   "cell_type": "markdown",
   "id": "fa2865a4-0ff1-40de-b580-960cfbeb683b",
   "metadata": {},
   "source": [
    "## User-time level entropy"
   ]
  },
  {
   "cell_type": "code",
   "execution_count": null,
   "id": "540dda69-5cd7-457e-9a4a-7f7971a93bb4",
   "metadata": {},
   "outputs": [],
   "source": []
  }
 ],
 "metadata": {
  "kernelspec": {
   "display_name": "entropy",
   "language": "python",
   "name": "entropy"
  },
  "language_info": {
   "codemirror_mode": {
    "name": "ipython",
    "version": 3
   },
   "file_extension": ".py",
   "mimetype": "text/x-python",
   "name": "python",
   "nbconvert_exporter": "python",
   "pygments_lexer": "ipython3",
   "version": "3.9.6"
  }
 },
 "nbformat": 4,
 "nbformat_minor": 5
}
