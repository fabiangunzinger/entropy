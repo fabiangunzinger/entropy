{
 "cells": [
  {
   "cell_type": "code",
   "execution_count": 4,
   "id": "602f8929-cb96-4abf-99fb-50f3e9d4cf5f",
   "metadata": {
    "tags": []
   },
   "outputs": [
    {
     "name": "stdout",
     "output_type": "stream",
     "text": [
      "The autoreload extension is already loaded. To reload it, use:\n",
      "  %reload_ext autoreload\n"
     ]
    }
   ],
   "source": [
    "import sys\n",
    "\n",
    "import matplotlib.pyplot as plt\n",
    "import numpy as np\n",
    "import pandas as pd\n",
    "import s3fs\n",
    "import seaborn as sns\n",
    "\n",
    "# new code\n",
    "sys.path.append(\"/Users/fgu/dev/projects/src\")\n",
    "import src.config as cf\n",
    "import src.data.aggregators as ag\n",
    "import src.data.validators as vl\n",
    "import src.helpers.data as hd\n",
    "\n",
    "pd.set_option(\"display.max_rows\", 200)\n",
    "pd.set_option(\"display.max_columns\", 120)\n",
    "pd.set_option(\"max_colwidth\", None)\n",
    "%load_ext autoreload\n",
    "%autoreload 2\n",
    "\n",
    "fs = s3fs.S3FileSystem(profile=\"3di\")"
   ]
  },
  {
   "cell_type": "code",
   "execution_count": 2,
   "id": "72d0e466-1315-42dd-a125-d898ae8d198a",
   "metadata": {},
   "outputs": [
    {
     "data": {
      "text/plain": [
       "['3di-project-entropy/analysis_777.csv',\n",
       " '3di-project-entropy/analysis_777.parquet',\n",
       " '3di-project-entropy/analysis_X77.csv',\n",
       " '3di-project-entropy/analysis_X77.parquet',\n",
       " '3di-project-entropy/analysis_XX7.csv',\n",
       " '3di-project-entropy/analysis_XX7.parquet',\n",
       " '3di-project-entropy/analysis_XX7new.parquet',\n",
       " '3di-project-entropy/analysis_XX7old.parquet',\n",
       " '3di-project-entropy/debug.parquet',\n",
       " '3di-project-entropy/entropy_XX0.parquet']"
      ]
     },
     "execution_count": 2,
     "metadata": {},
     "output_type": "execute_result"
    }
   ],
   "source": [
    "fs.ls(\"3di-project-entropy\")"
   ]
  },
  {
   "cell_type": "code",
   "execution_count": 3,
   "id": "ce54f30c-2ccc-4ec6-8de1-6a3394fc1ed0",
   "metadata": {},
   "outputs": [
    {
     "name": "stdout",
     "output_type": "stream",
     "text": [
      "Time for read_txn_data                 : 3.23 minutes\n",
      "shape: (6,653,551, 35), users: 2734\n"
     ]
    },
    {
     "data": {
      "text/html": [
       "<div>\n",
       "<style scoped>\n",
       "    .dataframe tbody tr th:only-of-type {\n",
       "        vertical-align: middle;\n",
       "    }\n",
       "\n",
       "    .dataframe tbody tr th {\n",
       "        vertical-align: top;\n",
       "    }\n",
       "\n",
       "    .dataframe thead th {\n",
       "        text-align: right;\n",
       "    }\n",
       "</style>\n",
       "<table border=\"1\" class=\"dataframe\">\n",
       "  <thead>\n",
       "    <tr style=\"text-align: right;\">\n",
       "      <th></th>\n",
       "      <th>date</th>\n",
       "      <th>user_id</th>\n",
       "      <th>amount</th>\n",
       "      <th>desc</th>\n",
       "      <th>merchant</th>\n",
       "      <th>tag_group</th>\n",
       "      <th>tag_spend</th>\n",
       "      <th>user_registration_date</th>\n",
       "      <th>account_created</th>\n",
       "      <th>account_id</th>\n",
       "      <th>account_last_refreshed</th>\n",
       "      <th>account_provider</th>\n",
       "      <th>account_type</th>\n",
       "      <th>birth_year</th>\n",
       "      <th>data_warehouse_date_created</th>\n",
       "      <th>data_warehouse_date_last_updated</th>\n",
       "      <th>id</th>\n",
       "      <th>is_debit</th>\n",
       "      <th>is_female</th>\n",
       "      <th>is_sa_flow</th>\n",
       "      <th>is_salary_pmt</th>\n",
       "      <th>is_urban</th>\n",
       "      <th>latest_balance</th>\n",
       "      <th>lsoa</th>\n",
       "      <th>merchant_business_line</th>\n",
       "      <th>msoa</th>\n",
       "      <th>postcode</th>\n",
       "      <th>region_name</th>\n",
       "      <th>salary_range</th>\n",
       "      <th>tag</th>\n",
       "      <th>tag_auto</th>\n",
       "      <th>tag_manual</th>\n",
       "      <th>tag_up</th>\n",
       "      <th>updated_flag</th>\n",
       "      <th>ym</th>\n",
       "    </tr>\n",
       "  </thead>\n",
       "  <tbody>\n",
       "    <tr>\n",
       "      <th>0</th>\n",
       "      <td>2012-01-03</td>\n",
       "      <td>11</td>\n",
       "      <td>69.750000</td>\n",
       "      <td>david lloyd &lt;mdbremoved&gt;</td>\n",
       "      <td>david lloyd</td>\n",
       "      <td>spend</td>\n",
       "      <td>sports</td>\n",
       "      <td>2010-06-30</td>\n",
       "      <td>1900-01-01</td>\n",
       "      <td>303733</td>\n",
       "      <td>2014-07-24 11:05:00</td>\n",
       "      <td>lloyds</td>\n",
       "      <td>current</td>\n",
       "      <td>1954.0</td>\n",
       "      <td>2014-07-18</td>\n",
       "      <td>2017-08-15</td>\n",
       "      <td>80656</td>\n",
       "      <td>True</td>\n",
       "      <td>0.0</td>\n",
       "      <td>False</td>\n",
       "      <td>False</td>\n",
       "      <td>1.0</td>\n",
       "      <td>150.029999</td>\n",
       "      <td>e01015428</td>\n",
       "      <td>david lloyd</td>\n",
       "      <td>e02003207</td>\n",
       "      <td>bh15 4</td>\n",
       "      <td>south west</td>\n",
       "      <td>10k to 20k</td>\n",
       "      <td>hobbies</td>\n",
       "      <td>gym membership</td>\n",
       "      <td>no tag</td>\n",
       "      <td>gym membership</td>\n",
       "      <td>u</td>\n",
       "      <td>2012-01</td>\n",
       "    </tr>\n",
       "    <tr>\n",
       "      <th>1</th>\n",
       "      <td>2012-01-03</td>\n",
       "      <td>11</td>\n",
       "      <td>96.400002</td>\n",
       "      <td>sky digital xxxxxxxxxx9317</td>\n",
       "      <td>sky</td>\n",
       "      <td>spend</td>\n",
       "      <td>entertainment, tv, media</td>\n",
       "      <td>2010-06-30</td>\n",
       "      <td>1900-01-01</td>\n",
       "      <td>303733</td>\n",
       "      <td>2014-07-24 11:05:00</td>\n",
       "      <td>lloyds</td>\n",
       "      <td>current</td>\n",
       "      <td>1954.0</td>\n",
       "      <td>2014-07-18</td>\n",
       "      <td>2017-08-15</td>\n",
       "      <td>80654</td>\n",
       "      <td>True</td>\n",
       "      <td>0.0</td>\n",
       "      <td>False</td>\n",
       "      <td>False</td>\n",
       "      <td>1.0</td>\n",
       "      <td>150.029999</td>\n",
       "      <td>e01015428</td>\n",
       "      <td>sky</td>\n",
       "      <td>e02003207</td>\n",
       "      <td>bh15 4</td>\n",
       "      <td>south west</td>\n",
       "      <td>10k to 20k</td>\n",
       "      <td>services</td>\n",
       "      <td>entertainment, tv, media</td>\n",
       "      <td>no tag</td>\n",
       "      <td>media bundle</td>\n",
       "      <td>u</td>\n",
       "      <td>2012-01</td>\n",
       "    </tr>\n",
       "  </tbody>\n",
       "</table>\n",
       "</div>"
      ],
      "text/plain": [
       "        date  user_id     amount                        desc     merchant  \\\n",
       "0 2012-01-03       11  69.750000    david lloyd <mdbremoved>  david lloyd   \n",
       "1 2012-01-03       11  96.400002  sky digital xxxxxxxxxx9317          sky   \n",
       "\n",
       "  tag_group                 tag_spend user_registration_date account_created  \\\n",
       "0     spend                    sports             2010-06-30      1900-01-01   \n",
       "1     spend  entertainment, tv, media             2010-06-30      1900-01-01   \n",
       "\n",
       "   account_id account_last_refreshed account_provider account_type  \\\n",
       "0      303733    2014-07-24 11:05:00           lloyds      current   \n",
       "1      303733    2014-07-24 11:05:00           lloyds      current   \n",
       "\n",
       "   birth_year data_warehouse_date_created data_warehouse_date_last_updated  \\\n",
       "0      1954.0                  2014-07-18                       2017-08-15   \n",
       "1      1954.0                  2014-07-18                       2017-08-15   \n",
       "\n",
       "      id  is_debit  is_female  is_sa_flow  is_salary_pmt  is_urban  \\\n",
       "0  80656      True        0.0       False          False       1.0   \n",
       "1  80654      True        0.0       False          False       1.0   \n",
       "\n",
       "   latest_balance       lsoa merchant_business_line       msoa postcode  \\\n",
       "0      150.029999  e01015428            david lloyd  e02003207   bh15 4   \n",
       "1      150.029999  e01015428                    sky  e02003207   bh15 4   \n",
       "\n",
       "  region_name salary_range       tag                  tag_auto tag_manual  \\\n",
       "0  south west   10k to 20k   hobbies            gym membership     no tag   \n",
       "1  south west   10k to 20k  services  entertainment, tv, media     no tag   \n",
       "\n",
       "           tag_up updated_flag       ym  \n",
       "0  gym membership            u  2012-01  \n",
       "1    media bundle            u  2012-01  "
      ]
     },
     "metadata": {},
     "output_type": "display_data"
    }
   ],
   "source": [
    "dft = hd.read_txn_data(\"X11\")\n",
    "hd.inspect(dft)"
   ]
  },
  {
   "cell_type": "code",
   "execution_count": 6,
   "id": "146c7ded-6c63-448e-ad5c-6cded3d7d9d2",
   "metadata": {},
   "outputs": [
    {
     "data": {
      "text/plain": [
       "pension or investments         799\n",
       "NaN                             11\n",
       "vehicle insurance                3\n",
       "dining or going out              2\n",
       "pet - toys, training, other      0\n",
       "                              ... \n",
       "gas                              0\n",
       "gas and electricity              0\n",
       "general savings                  0\n",
       "gifts - other                    0\n",
       "investments or shares            0\n",
       "Name: tag_auto, Length: 213, dtype: int64"
      ]
     },
     "execution_count": 6,
     "metadata": {},
     "output_type": "execute_result"
    }
   ],
   "source": [
    "dft[dft.desc.str.contains(\"vangua\")].tag_auto.value_counts(dropna=False)"
   ]
  },
  {
   "cell_type": "code",
   "execution_count": 34,
   "id": "cfa7ed51-7ab8-415e-91cb-6997490b743c",
   "metadata": {},
   "outputs": [],
   "source": [
    "d = dft[dft.tag_auto.eq(\"pension or investments\")]"
   ]
  },
  {
   "cell_type": "code",
   "execution_count": 37,
   "id": "af76f7d2-c922-47b2-a8a4-3456719b0441",
   "metadata": {},
   "outputs": [
    {
     "data": {
      "text/plain": [
       "transfers    9337\n",
       "income          0\n",
       "spend           0\n",
       "Name: tag_group, dtype: int64"
      ]
     },
     "execution_count": 37,
     "metadata": {},
     "output_type": "execute_result"
    }
   ],
   "source": [
    "d.tag_group.value_counts()"
   ]
  },
  {
   "cell_type": "code",
   "execution_count": null,
   "id": "c10c4924-20f9-4008-9e28-ac2049a36eaa",
   "metadata": {},
   "outputs": [],
   "source": []
  }
 ],
 "metadata": {
  "kernelspec": {
   "display_name": "entropy",
   "language": "python",
   "name": "entropy"
  },
  "language_info": {
   "codemirror_mode": {
    "name": "ipython",
    "version": 3
   },
   "file_extension": ".py",
   "mimetype": "text/x-python",
   "name": "python",
   "nbconvert_exporter": "python",
   "pygments_lexer": "ipython3",
   "version": "3.9.7"
  }
 },
 "nbformat": 4,
 "nbformat_minor": 5
}
