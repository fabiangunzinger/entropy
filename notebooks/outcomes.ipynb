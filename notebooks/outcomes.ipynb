{
 "cells": [
  {
   "cell_type": "markdown",
   "id": "02407334-5a15-4f03-987d-075dc0796276",
   "metadata": {},
   "source": [
    "Notebook purpose\n",
    "\n",
    "- Explore additional outcome measures"
   ]
  },
  {
   "cell_type": "code",
   "execution_count": 1,
   "id": "602f8929-cb96-4abf-99fb-50f3e9d4cf5f",
   "metadata": {},
   "outputs": [],
   "source": [
    "import sys\n",
    "\n",
    "import numpy as np\n",
    "import pandas as pd\n",
    "import s3fs\n",
    "import seaborn as sns\n",
    "\n",
    "sys.path.append(\"/Users/fgu/dev/projects/entropy\")\n",
    "import entropy.data.aggregators as agg\n",
    "import entropy.data.cleaners as cl\n",
    "import entropy.data.make_data as md\n",
    "import entropy.data.selectors as sl\n",
    "import entropy.data.validators as vl\n",
    "import entropy.helpers.aws as ha\n",
    "import entropy.helpers.data as hd\n",
    "import entropy.helpers.helpers as hh\n",
    "\n",
    "pd.set_option(\"display.max_rows\", 120)\n",
    "pd.set_option(\"display.max_columns\", 120)\n",
    "pd.set_option(\"max_colwidth\", None)\n",
    "%load_ext autoreload\n",
    "%autoreload 2\n",
    "\n",
    "fs = s3fs.S3FileSystem(profile=\"3di\")"
   ]
  },
  {
   "cell_type": "code",
   "execution_count": 2,
   "id": "5ccef5a4-21ff-4bae-90fa-146db529571a",
   "metadata": {},
   "outputs": [
    {
     "name": "stdout",
     "output_type": "stream",
     "text": [
      "Time for read_txn_data                 : 3.13 seconds\n",
      "(651,789, 18)\n"
     ]
    },
    {
     "data": {
      "text/html": [
       "<div>\n",
       "<style scoped>\n",
       "    .dataframe tbody tr th:only-of-type {\n",
       "        vertical-align: middle;\n",
       "    }\n",
       "\n",
       "    .dataframe tbody tr th {\n",
       "        vertical-align: top;\n",
       "    }\n",
       "\n",
       "    .dataframe thead th {\n",
       "        text-align: right;\n",
       "    }\n",
       "</style>\n",
       "<table border=\"1\" class=\"dataframe\">\n",
       "  <thead>\n",
       "    <tr style=\"text-align: right;\">\n",
       "      <th></th>\n",
       "      <th>date</th>\n",
       "      <th>user_id</th>\n",
       "      <th>amount</th>\n",
       "      <th>desc</th>\n",
       "      <th>merchant</th>\n",
       "      <th>tag_group</th>\n",
       "      <th>tag</th>\n",
       "      <th>account_id</th>\n",
       "      <th>account_last_refreshed</th>\n",
       "      <th>account_provider</th>\n",
       "      <th>account_type</th>\n",
       "      <th>debit</th>\n",
       "      <th>female</th>\n",
       "      <th>id</th>\n",
       "      <th>latest_balance</th>\n",
       "      <th>postcode</th>\n",
       "      <th>tag_auto</th>\n",
       "      <th>yob</th>\n",
       "    </tr>\n",
       "  </thead>\n",
       "  <tbody>\n",
       "    <tr>\n",
       "      <th>0</th>\n",
       "      <td>2012-02-01</td>\n",
       "      <td>777</td>\n",
       "      <td>400.00</td>\n",
       "      <td>&lt;mdbremoved&gt; - s/o</td>\n",
       "      <td>NaN</td>\n",
       "      <td>transfers</td>\n",
       "      <td>other_transfers</td>\n",
       "      <td>262916</td>\n",
       "      <td>2020-07-21 20:32:00</td>\n",
       "      <td>natwest bank</td>\n",
       "      <td>current</td>\n",
       "      <td>True</td>\n",
       "      <td>0.0</td>\n",
       "      <td>688300</td>\n",
       "      <td>364.220001</td>\n",
       "      <td>wa1 4</td>\n",
       "      <td>transfers</td>\n",
       "      <td>1969.0</td>\n",
       "    </tr>\n",
       "    <tr>\n",
       "      <th>1</th>\n",
       "      <td>2012-02-01</td>\n",
       "      <td>777</td>\n",
       "      <td>3.03</td>\n",
       "      <td>aviva pa - d/d</td>\n",
       "      <td>aviva</td>\n",
       "      <td>spend</td>\n",
       "      <td>finance</td>\n",
       "      <td>262916</td>\n",
       "      <td>2020-07-21 20:32:00</td>\n",
       "      <td>natwest bank</td>\n",
       "      <td>current</td>\n",
       "      <td>True</td>\n",
       "      <td>0.0</td>\n",
       "      <td>688299</td>\n",
       "      <td>364.220001</td>\n",
       "      <td>wa1 4</td>\n",
       "      <td>health insurance</td>\n",
       "      <td>1969.0</td>\n",
       "    </tr>\n",
       "  </tbody>\n",
       "</table>\n",
       "</div>"
      ],
      "text/plain": [
       "        date  user_id  amount                desc merchant  tag_group  \\\n",
       "0 2012-02-01      777  400.00  <mdbremoved> - s/o      NaN  transfers   \n",
       "1 2012-02-01      777    3.03      aviva pa - d/d    aviva      spend   \n",
       "\n",
       "               tag  account_id account_last_refreshed account_provider  \\\n",
       "0  other_transfers      262916    2020-07-21 20:32:00     natwest bank   \n",
       "1          finance      262916    2020-07-21 20:32:00     natwest bank   \n",
       "\n",
       "  account_type  debit  female      id  latest_balance postcode  \\\n",
       "0      current   True     0.0  688300      364.220001    wa1 4   \n",
       "1      current   True     0.0  688299      364.220001    wa1 4   \n",
       "\n",
       "           tag_auto     yob  \n",
       "0         transfers  1969.0  \n",
       "1  health insurance  1969.0  "
      ]
     },
     "metadata": {},
     "output_type": "display_data"
    }
   ],
   "source": [
    "df = hd.read_txn_data(\"777\")\n",
    "hd.inspect(df)"
   ]
  },
  {
   "cell_type": "code",
   "execution_count": 8,
   "id": "415b102e-630b-4915-a662-2a9b97f36e64",
   "metadata": {},
   "outputs": [
    {
     "data": {
      "text/plain": [
       "116722                                ss massage therapy cd 7345 deb\n",
       "116762                                ss massage therapy cd 7345 deb\n",
       "144330    0891 11jun14 , uk physiotherapy , servi , devizes gb - pos\n",
       "144351    0891 16jun14 , uk physiotherapy , servi , devizes gb - pos\n",
       "145961    1633 08jun17 , uk physiotherapy , servi , devizes gb - pos\n",
       "145989    1633 15jun17 , uk physiotherapy , servi , devizes gb - pos\n",
       "146006                             uk physiotherapy servidevizes gbr\n",
       "146028                             uk physiotherapy servidevizes gbr\n",
       "146108    1633 12jul17 , uk physiotherapy , servi , devizes gb - pos\n",
       "146176    1633 24jul17 , uk physiotherapy , servi , devizes gb - pos\n",
       "146241                             uk physiotherapy servidevizes gbr\n",
       "146360    5500 04sep17 , uk physiotherapy , servi , devizes gb - pos\n",
       "146426    5500 21sep17 , uk physiotherapy , servi , devizes gb - pos\n",
       "560456                             www.therapy-direct  on 29 aug bcc\n",
       "560516                             www.therapy-direct  on 29 sep bcc\n",
       "560564                             www.therapy-direct  on 29 oct bcc\n",
       "560626                             www.therapy-direct  on 29 nov bcc\n",
       "560677                             www.therapy-direct  on 29 dec bcc\n",
       "647902                             chinese therapy he  on 11 jul bcc\n",
       "647954                             chinese therapy he  on 18 jul bcc\n",
       "647977                             chinese therapy he  on 21 jul bcc\n",
       "Name: desc, dtype: category\n",
       "Categories (241924, object): [' <mdbremoved>  & gilmour, - edinburgh - vis', ' <mdbremoved>  & thorn ltd soho', ' <mdbremoved>  - brighton - )))', ' <mdbremoved>  - brighton - vis', ..., 'zxefpsz', 'zürich flughafen sbb zürich flughafe', 'zürich hb sbb zürich hb', 'zürich tourismus, touri zürich']"
      ]
     },
     "execution_count": 8,
     "metadata": {},
     "output_type": "execute_result"
    }
   ],
   "source": [
    "df[df.desc.str.contains(\"therapy\")].desc"
   ]
  },
  {
   "cell_type": "code",
   "execution_count": null,
   "id": "bbef2bf9-0865-4d51-a8ff-0bb4ee05d289",
   "metadata": {},
   "outputs": [],
   "source": []
  }
 ],
 "metadata": {
  "kernelspec": {
   "display_name": "entropy",
   "language": "python",
   "name": "entropy"
  },
  "language_info": {
   "codemirror_mode": {
    "name": "ipython",
    "version": 3
   },
   "file_extension": ".py",
   "mimetype": "text/x-python",
   "name": "python",
   "nbconvert_exporter": "python",
   "pygments_lexer": "ipython3",
   "version": "3.9.7"
  }
 },
 "nbformat": 4,
 "nbformat_minor": 5
}
