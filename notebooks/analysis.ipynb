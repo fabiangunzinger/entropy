{
 "cells": [
  {
   "cell_type": "markdown",
   "id": "585fbeec-b261-40d2-bd56-cb42d828b773",
   "metadata": {},
   "source": [
    "Notebook purpose\n",
    "\n",
    "- Develop analysis code"
   ]
  },
  {
   "cell_type": "code",
   "execution_count": 1,
   "id": "13bef683-64f8-4c36-bec3-05ecb69b15c5",
   "metadata": {
    "tags": []
   },
   "outputs": [],
   "source": [
    "import contextlib\n",
    "import math\n",
    "import os\n",
    "import re\n",
    "import sys\n",
    "\n",
    "import linearmodels as lm\n",
    "import matplotlib as mpl\n",
    "import matplotlib.pyplot as plt\n",
    "import numpy as np\n",
    "import pandas as pd\n",
    "import s3fs\n",
    "import seaborn as sns\n",
    "import statsmodels.api as sm\n",
    "import statsmodels.formula.api as smf\n",
    "import tabulate\n",
    "\n",
    "sys.path.append(\"/Users/fgu/dev/projects/entropy\")\n",
    "import entropy.analysis.helpers as ah\n",
    "import entropy.analysis.sumstats_table as ss\n",
    "import entropy.data.aggregators as ag\n",
    "import entropy.data.cleaners as cl\n",
    "import entropy.data.selectors as sl\n",
    "import entropy.figures.figures as ff\n",
    "import entropy.figures.helpers as fh\n",
    "import entropy.helpers.aws as ha\n",
    "import entropy.helpers.data as hd\n",
    "import entropy.helpers.helpers as hh\n",
    "from entropy import config\n",
    "\n",
    "sns.set_style(\"whitegrid\")\n",
    "pd.set_option(\"display.max_rows\", 120)\n",
    "pd.set_option(\"display.max_columns\", 120)\n",
    "pd.set_option(\"max_colwidth\", None)\n",
    "%config InlineBackend.figure_format = 'retina'\n",
    "%load_ext autoreload\n",
    "%autoreload 2\n",
    "\n",
    "fs = s3fs.S3FileSystem(profile=\"3di\")\n",
    "\n",
    "SAMPLE = \"XX7\""
   ]
  },
  {
   "cell_type": "code",
   "execution_count": 2,
   "id": "e164edbf-3b78-4e76-9d99-14a8127d0874",
   "metadata": {},
   "outputs": [],
   "source": [
    "import warnings\n",
    "\n",
    "warnings.filterwarnings(\"once\")"
   ]
  },
  {
   "cell_type": "markdown",
   "id": "25d8dfd9-735f-49d1-b079-9b4fc6fdf86f",
   "metadata": {},
   "source": [
    "## Data description"
   ]
  },
  {
   "cell_type": "code",
   "execution_count": 3,
   "id": "4f9ed4b4-8a62-44c0-907b-86704579166d",
   "metadata": {},
   "outputs": [
    {
     "name": "stdout",
     "output_type": "stream",
     "text": [
      "Time for read_analysis_data            : 2.26 seconds\n",
      "(85,364, 26)\n"
     ]
    },
    {
     "data": {
      "text/html": [
       "<div>\n",
       "<style scoped>\n",
       "    .dataframe tbody tr th:only-of-type {\n",
       "        vertical-align: middle;\n",
       "    }\n",
       "\n",
       "    .dataframe tbody tr th {\n",
       "        vertical-align: top;\n",
       "    }\n",
       "\n",
       "    .dataframe thead th {\n",
       "        text-align: right;\n",
       "    }\n",
       "</style>\n",
       "<table border=\"1\" class=\"dataframe\">\n",
       "  <thead>\n",
       "    <tr style=\"text-align: right;\">\n",
       "      <th></th>\n",
       "      <th>user_id</th>\n",
       "      <th>month</th>\n",
       "      <th>date</th>\n",
       "      <th>active_accounts</th>\n",
       "      <th>age</th>\n",
       "      <th>annual_income</th>\n",
       "      <th>entropy</th>\n",
       "      <th>entropyz</th>\n",
       "      <th>female</th>\n",
       "      <th>has_sa_inflows</th>\n",
       "      <th>month_income</th>\n",
       "      <th>month_spend</th>\n",
       "      <th>sa_inflows</th>\n",
       "      <th>spend_communication</th>\n",
       "      <th>spend_finance</th>\n",
       "      <th>spend_hobbies</th>\n",
       "      <th>spend_household</th>\n",
       "      <th>spend_motor</th>\n",
       "      <th>spend_other_spend</th>\n",
       "      <th>spend_retail</th>\n",
       "      <th>spend_services</th>\n",
       "      <th>spend_travel</th>\n",
       "      <th>txn_count_ca</th>\n",
       "      <th>txn_count_sa</th>\n",
       "      <th>txns_count</th>\n",
       "      <th>txns_value</th>\n",
       "    </tr>\n",
       "  </thead>\n",
       "  <tbody>\n",
       "    <tr>\n",
       "      <th>124</th>\n",
       "      <td>37</td>\n",
       "      <td>2</td>\n",
       "      <td>2012-02-29</td>\n",
       "      <td>[287407, 287405, 287406, 287404]</td>\n",
       "      <td>27.0</td>\n",
       "      <td>18768.632812</td>\n",
       "      <td>2.899397</td>\n",
       "      <td>1.137196</td>\n",
       "      <td>0.0</td>\n",
       "      <td>1</td>\n",
       "      <td>1687.530029</td>\n",
       "      <td>528.239990</td>\n",
       "      <td>3340.0</td>\n",
       "      <td>50.0</td>\n",
       "      <td>0.0</td>\n",
       "      <td>0.0</td>\n",
       "      <td>312.640015</td>\n",
       "      <td>0.0</td>\n",
       "      <td>46.799999</td>\n",
       "      <td>0.0</td>\n",
       "      <td>118.800003</td>\n",
       "      <td>0.0</td>\n",
       "      <td>8.0</td>\n",
       "      <td>3.0</td>\n",
       "      <td>22</td>\n",
       "      <td>9495.810547</td>\n",
       "    </tr>\n",
       "    <tr>\n",
       "      <th>125</th>\n",
       "      <td>37</td>\n",
       "      <td>3</td>\n",
       "      <td>2012-03-31</td>\n",
       "      <td>[287405, 287407, 287406, 287404]</td>\n",
       "      <td>27.0</td>\n",
       "      <td>18768.632812</td>\n",
       "      <td>3.039149</td>\n",
       "      <td>1.661248</td>\n",
       "      <td>0.0</td>\n",
       "      <td>0</td>\n",
       "      <td>1085.790039</td>\n",
       "      <td>429.880005</td>\n",
       "      <td>0.0</td>\n",
       "      <td>50.0</td>\n",
       "      <td>0.0</td>\n",
       "      <td>0.0</td>\n",
       "      <td>327.500000</td>\n",
       "      <td>0.0</td>\n",
       "      <td>40.000000</td>\n",
       "      <td>0.0</td>\n",
       "      <td>12.380000</td>\n",
       "      <td>0.0</td>\n",
       "      <td>9.0</td>\n",
       "      <td>2.0</td>\n",
       "      <td>16</td>\n",
       "      <td>2147.699951</td>\n",
       "    </tr>\n",
       "  </tbody>\n",
       "</table>\n",
       "</div>"
      ],
      "text/plain": [
       "     user_id  month       date                   active_accounts   age  \\\n",
       "124       37      2 2012-02-29  [287407, 287405, 287406, 287404]  27.0   \n",
       "125       37      3 2012-03-31  [287405, 287407, 287406, 287404]  27.0   \n",
       "\n",
       "     annual_income   entropy  entropyz  female  has_sa_inflows  month_income  \\\n",
       "124   18768.632812  2.899397  1.137196     0.0               1   1687.530029   \n",
       "125   18768.632812  3.039149  1.661248     0.0               0   1085.790039   \n",
       "\n",
       "     month_spend  sa_inflows  spend_communication  spend_finance  \\\n",
       "124   528.239990      3340.0                 50.0            0.0   \n",
       "125   429.880005         0.0                 50.0            0.0   \n",
       "\n",
       "     spend_hobbies  spend_household  spend_motor  spend_other_spend  \\\n",
       "124            0.0       312.640015          0.0          46.799999   \n",
       "125            0.0       327.500000          0.0          40.000000   \n",
       "\n",
       "     spend_retail  spend_services  spend_travel  txn_count_ca  txn_count_sa  \\\n",
       "124           0.0      118.800003           0.0           8.0           3.0   \n",
       "125           0.0       12.380000           0.0           9.0           2.0   \n",
       "\n",
       "     txns_count   txns_value  \n",
       "124          22  9495.810547  \n",
       "125          16  2147.699951  "
      ]
     },
     "metadata": {},
     "output_type": "display_data"
    },
    {
     "name": "stderr",
     "output_type": "stream",
     "text": [
      "/Users/fgu/miniconda3/envs/entropy/lib/python3.9/asyncio/sslproto.py:320: ResourceWarning: unclosed transport <asyncio.sslproto._SSLProtocolTransport object at 0x167de4520>\n",
      "  _warn(f\"unclosed transport {self!r}\", ResourceWarning, source=self)\n",
      "ResourceWarning: Enable tracemalloc to get the object allocation traceback\n"
     ]
    }
   ],
   "source": [
    "df = hd.read_analysis_data('')\n",
    "hd.inspect(df)"
   ]
  },
  {
   "cell_type": "markdown",
   "id": "a0aeeb1b-6540-4e1d-9936-0e28f589ac47",
   "metadata": {},
   "source": [
    "**Sample selection - see paper**"
   ]
  },
  {
   "cell_type": "markdown",
   "id": "06b0991c-51f6-42ec-9445-a2243b2a0744",
   "metadata": {},
   "source": [
    "**Number of unique users**"
   ]
  },
  {
   "cell_type": "code",
   "execution_count": 116,
   "id": "459252be-24f7-4453-8437-c9bf3a2c2dff",
   "metadata": {},
   "outputs": [
    {
     "data": {
      "text/plain": [
       "2819"
      ]
     },
     "execution_count": 116,
     "metadata": {},
     "output_type": "execute_result"
    }
   ],
   "source": [
    "df.user_id.nunique()"
   ]
  },
  {
   "cell_type": "markdown",
   "id": "43641738-565f-4479-9551-b6ccd2b3cf45",
   "metadata": {},
   "source": [
    "**Number of months we observe users for**"
   ]
  },
  {
   "cell_type": "code",
   "execution_count": 117,
   "id": "4e890a4e-c7d8-4a84-89c0-bc061a80cb43",
   "metadata": {},
   "outputs": [
    {
     "name": "stdout",
     "output_type": "stream",
     "text": [
      "count    2819.000000\n",
      "mean       30.281660\n",
      "std        17.510864\n",
      "min         6.000000\n",
      "25%        16.000000\n",
      "50%        26.000000\n",
      "75%        41.000000\n",
      "max       102.000000\n",
      "dtype: float64\n"
     ]
    },
    {
     "data": {
      "image/png": "[encoded data removed]",
      "text/plain": [
       "<Figure size 432x288 with 1 Axes>"
      ]
     },
     "metadata": {
      "image/png": {
       "height": 248,
       "width": 372
      }
     },
     "output_type": "display_data"
    }
   ],
   "source": [
    "user_months = df.groupby(\"user_id\").size()\n",
    "print(user_months.describe())\n",
    "user_months.hist(bins=25);"
   ]
  },
  {
   "cell_type": "markdown",
   "id": "711f5340-79b0-4a3a-b108-3de5282ff631",
   "metadata": {},
   "source": [
    "**User characteristics**"
   ]
  },
  {
   "cell_type": "code",
   "execution_count": 9,
   "id": "c3662850-87bc-4217-8dfb-a06c0eae5902",
   "metadata": {},
   "outputs": [
    {
     "name": "stderr",
     "output_type": "stream",
     "text": [
      "/Users/fgu/miniconda3/envs/entropy/lib/python3.9/asyncio/sslproto.py:320: ResourceWarning: unclosed transport <asyncio.sslproto._SSLProtocolTransport object at 0x164bf46a0>\n",
      "  _warn(f\"unclosed transport {self!r}\", ResourceWarning, source=self)\n",
      "ResourceWarning: Enable tracemalloc to get the object allocation traceback\n"
     ]
    },
    {
     "data": {
      "image/png": "[encoded data removed]",
      "text/plain": [
       "<Figure size 720x432 with 4 Axes>"
      ]
     },
     "metadata": {
      "image/png": {
       "height": 425,
       "width": 713
      }
     },
     "output_type": "display_data"
    }
   ],
   "source": [
    "ff.user_chars(df, write=False)"
   ]
  },
  {
   "cell_type": "markdown",
   "id": "f8e91f0e-607d-46cb-b351-23a09ecb8f25",
   "metadata": {
    "tags": []
   },
   "source": [
    "**Summary statistics**"
   ]
  },
  {
   "cell_type": "code",
   "execution_count": 132,
   "id": "cdd1b904-7344-4417-8af9-fc0118805b16",
   "metadata": {},
   "outputs": [
    {
     "data": {
      "text/html": [
       "<div>\n",
       "<style scoped>\n",
       "    .dataframe tbody tr th:only-of-type {\n",
       "        vertical-align: middle;\n",
       "    }\n",
       "\n",
       "    .dataframe tbody tr th {\n",
       "        vertical-align: top;\n",
       "    }\n",
       "\n",
       "    .dataframe thead th {\n",
       "        text-align: right;\n",
       "    }\n",
       "</style>\n",
       "<table border=\"1\" class=\"dataframe\">\n",
       "  <thead>\n",
       "    <tr style=\"text-align: right;\">\n",
       "      <th></th>\n",
       "      <th>count</th>\n",
       "      <th>mean</th>\n",
       "      <th>std</th>\n",
       "      <th>min</th>\n",
       "      <th>max</th>\n",
       "      <th>25%</th>\n",
       "      <th>50%</th>\n",
       "      <th>75%</th>\n",
       "    </tr>\n",
       "  </thead>\n",
       "  <tbody>\n",
       "    <tr>\n",
       "      <th>user_id</th>\n",
       "      <td>729.0</td>\n",
       "      <td>354516.368999</td>\n",
       "      <td>147382.596599</td>\n",
       "      <td>13777.000000</td>\n",
       "      <td>5.537770e+05</td>\n",
       "      <td>316777.000000</td>\n",
       "      <td>393777.000000</td>\n",
       "      <td>430777.000000</td>\n",
       "    </tr>\n",
       "    <tr>\n",
       "      <th>month</th>\n",
       "      <td>729.0</td>\n",
       "      <td>6.427984</td>\n",
       "      <td>3.450687</td>\n",
       "      <td>1.000000</td>\n",
       "      <td>1.200000e+01</td>\n",
       "      <td>3.000000</td>\n",
       "      <td>6.000000</td>\n",
       "      <td>9.000000</td>\n",
       "    </tr>\n",
       "    <tr>\n",
       "      <th>age</th>\n",
       "      <td>729.0</td>\n",
       "      <td>38.458162</td>\n",
       "      <td>12.944459</td>\n",
       "      <td>19.000000</td>\n",
       "      <td>7.100000e+01</td>\n",
       "      <td>28.000000</td>\n",
       "      <td>37.000000</td>\n",
       "      <td>44.000000</td>\n",
       "    </tr>\n",
       "    <tr>\n",
       "      <th>annual_income</th>\n",
       "      <td>729.0</td>\n",
       "      <td>27682.949957</td>\n",
       "      <td>17111.518305</td>\n",
       "      <td>10535.050781</td>\n",
       "      <td>9.688784e+04</td>\n",
       "      <td>18128.519531</td>\n",
       "      <td>22883.554688</td>\n",
       "      <td>30535.039062</td>\n",
       "    </tr>\n",
       "    <tr>\n",
       "      <th>entropy</th>\n",
       "      <td>729.0</td>\n",
       "      <td>2.577758</td>\n",
       "      <td>0.243376</td>\n",
       "      <td>1.395843</td>\n",
       "      <td>3.095795e+00</td>\n",
       "      <td>2.441449</td>\n",
       "      <td>2.599220</td>\n",
       "      <td>2.738609</td>\n",
       "    </tr>\n",
       "    <tr>\n",
       "      <th>entropyz</th>\n",
       "      <td>729.0</td>\n",
       "      <td>-0.087953</td>\n",
       "      <td>0.907710</td>\n",
       "      <td>-4.496099</td>\n",
       "      <td>1.844151e+00</td>\n",
       "      <td>-0.596338</td>\n",
       "      <td>-0.007907</td>\n",
       "      <td>0.511965</td>\n",
       "    </tr>\n",
       "    <tr>\n",
       "      <th>female</th>\n",
       "      <td>729.0</td>\n",
       "      <td>0.441701</td>\n",
       "      <td>0.496931</td>\n",
       "      <td>0.000000</td>\n",
       "      <td>1.000000e+00</td>\n",
       "      <td>0.000000</td>\n",
       "      <td>0.000000</td>\n",
       "      <td>1.000000</td>\n",
       "    </tr>\n",
       "    <tr>\n",
       "      <th>has_sa_inflows</th>\n",
       "      <td>729.0</td>\n",
       "      <td>0.536351</td>\n",
       "      <td>0.499019</td>\n",
       "      <td>0.000000</td>\n",
       "      <td>1.000000e+00</td>\n",
       "      <td>0.000000</td>\n",
       "      <td>1.000000</td>\n",
       "      <td>1.000000</td>\n",
       "    </tr>\n",
       "    <tr>\n",
       "      <th>month_income</th>\n",
       "      <td>729.0</td>\n",
       "      <td>2261.288330</td>\n",
       "      <td>1426.108032</td>\n",
       "      <td>-0.000000</td>\n",
       "      <td>9.285477e+03</td>\n",
       "      <td>1453.540039</td>\n",
       "      <td>1918.660034</td>\n",
       "      <td>2771.600098</td>\n",
       "    </tr>\n",
       "    <tr>\n",
       "      <th>sa_inflows</th>\n",
       "      <td>729.0</td>\n",
       "      <td>1322.963989</td>\n",
       "      <td>15559.435547</td>\n",
       "      <td>0.000000</td>\n",
       "      <td>4.152500e+05</td>\n",
       "      <td>0.000000</td>\n",
       "      <td>55.599998</td>\n",
       "      <td>649.539978</td>\n",
       "    </tr>\n",
       "    <tr>\n",
       "      <th>spend_communication</th>\n",
       "      <td>729.0</td>\n",
       "      <td>62.744598</td>\n",
       "      <td>57.454678</td>\n",
       "      <td>0.000000</td>\n",
       "      <td>2.865746e+02</td>\n",
       "      <td>25.990000</td>\n",
       "      <td>47.520000</td>\n",
       "      <td>78.809998</td>\n",
       "    </tr>\n",
       "    <tr>\n",
       "      <th>spend_finance</th>\n",
       "      <td>729.0</td>\n",
       "      <td>347.735565</td>\n",
       "      <td>722.992493</td>\n",
       "      <td>0.000000</td>\n",
       "      <td>5.116341e+03</td>\n",
       "      <td>31.290001</td>\n",
       "      <td>97.230003</td>\n",
       "      <td>277.250000</td>\n",
       "    </tr>\n",
       "    <tr>\n",
       "      <th>spend_hobbies</th>\n",
       "      <td>729.0</td>\n",
       "      <td>17.724157</td>\n",
       "      <td>47.736172</td>\n",
       "      <td>0.000000</td>\n",
       "      <td>3.641526e+02</td>\n",
       "      <td>0.000000</td>\n",
       "      <td>0.000000</td>\n",
       "      <td>19.990000</td>\n",
       "    </tr>\n",
       "    <tr>\n",
       "      <th>spend_household</th>\n",
       "      <td>729.0</td>\n",
       "      <td>748.132019</td>\n",
       "      <td>1119.100098</td>\n",
       "      <td>0.000000</td>\n",
       "      <td>6.983816e+03</td>\n",
       "      <td>182.979996</td>\n",
       "      <td>523.000000</td>\n",
       "      <td>878.380005</td>\n",
       "    </tr>\n",
       "    <tr>\n",
       "      <th>spend_month</th>\n",
       "      <td>729.0</td>\n",
       "      <td>2269.852295</td>\n",
       "      <td>2073.419434</td>\n",
       "      <td>208.640015</td>\n",
       "      <td>1.760786e+04</td>\n",
       "      <td>1123.580078</td>\n",
       "      <td>1740.650024</td>\n",
       "      <td>2568.259766</td>\n",
       "    </tr>\n",
       "    <tr>\n",
       "      <th>spend_motor</th>\n",
       "      <td>729.0</td>\n",
       "      <td>62.799191</td>\n",
       "      <td>87.064140</td>\n",
       "      <td>0.000000</td>\n",
       "      <td>3.943158e+02</td>\n",
       "      <td>0.000000</td>\n",
       "      <td>25.129999</td>\n",
       "      <td>90.520004</td>\n",
       "    </tr>\n",
       "    <tr>\n",
       "      <th>spend_other_spend</th>\n",
       "      <td>729.0</td>\n",
       "      <td>352.300934</td>\n",
       "      <td>431.932098</td>\n",
       "      <td>0.000000</td>\n",
       "      <td>2.359818e+03</td>\n",
       "      <td>80.000000</td>\n",
       "      <td>181.199997</td>\n",
       "      <td>492.979980</td>\n",
       "    </tr>\n",
       "    <tr>\n",
       "      <th>spend_retail</th>\n",
       "      <td>729.0</td>\n",
       "      <td>121.871719</td>\n",
       "      <td>165.474747</td>\n",
       "      <td>0.000000</td>\n",
       "      <td>9.240068e+02</td>\n",
       "      <td>7.990000</td>\n",
       "      <td>59.400002</td>\n",
       "      <td>165.000000</td>\n",
       "    </tr>\n",
       "    <tr>\n",
       "      <th>spend_services</th>\n",
       "      <td>729.0</td>\n",
       "      <td>348.728912</td>\n",
       "      <td>293.793335</td>\n",
       "      <td>0.000000</td>\n",
       "      <td>2.455326e+03</td>\n",
       "      <td>154.770004</td>\n",
       "      <td>255.110001</td>\n",
       "      <td>449.649994</td>\n",
       "    </tr>\n",
       "    <tr>\n",
       "      <th>spend_travel</th>\n",
       "      <td>729.0</td>\n",
       "      <td>117.617500</td>\n",
       "      <td>331.609436</td>\n",
       "      <td>0.000000</td>\n",
       "      <td>2.879878e+03</td>\n",
       "      <td>0.000000</td>\n",
       "      <td>21.830000</td>\n",
       "      <td>96.000000</td>\n",
       "    </tr>\n",
       "    <tr>\n",
       "      <th>txn_count_ca</th>\n",
       "      <td>729.0</td>\n",
       "      <td>81.589849</td>\n",
       "      <td>36.601702</td>\n",
       "      <td>7.000000</td>\n",
       "      <td>2.500000e+02</td>\n",
       "      <td>53.000000</td>\n",
       "      <td>78.000000</td>\n",
       "      <td>103.000000</td>\n",
       "    </tr>\n",
       "    <tr>\n",
       "      <th>txn_count_sa</th>\n",
       "      <td>729.0</td>\n",
       "      <td>4.207133</td>\n",
       "      <td>5.461117</td>\n",
       "      <td>0.000000</td>\n",
       "      <td>3.600000e+01</td>\n",
       "      <td>0.000000</td>\n",
       "      <td>2.000000</td>\n",
       "      <td>6.000000</td>\n",
       "    </tr>\n",
       "    <tr>\n",
       "      <th>txns_count</th>\n",
       "      <td>729.0</td>\n",
       "      <td>94.112483</td>\n",
       "      <td>41.546723</td>\n",
       "      <td>8.000000</td>\n",
       "      <td>2.670000e+02</td>\n",
       "      <td>64.000000</td>\n",
       "      <td>88.000000</td>\n",
       "      <td>120.000000</td>\n",
       "    </tr>\n",
       "    <tr>\n",
       "      <th>txns_value</th>\n",
       "      <td>729.0</td>\n",
       "      <td>17387.837891</td>\n",
       "      <td>63089.250000</td>\n",
       "      <td>1804.689941</td>\n",
       "      <td>1.320082e+06</td>\n",
       "      <td>5272.459961</td>\n",
       "      <td>8626.480469</td>\n",
       "      <td>14780.309570</td>\n",
       "    </tr>\n",
       "  </tbody>\n",
       "</table>\n",
       "</div>"
      ],
      "text/plain": [
       "                     count           mean            std           min  \\\n",
       "user_id              729.0  354516.368999  147382.596599  13777.000000   \n",
       "month                729.0       6.427984       3.450687      1.000000   \n",
       "age                  729.0      38.458162      12.944459     19.000000   \n",
       "annual_income        729.0   27682.949957   17111.518305  10535.050781   \n",
       "entropy              729.0       2.577758       0.243376      1.395843   \n",
       "entropyz             729.0      -0.087953       0.907710     -4.496099   \n",
       "female               729.0       0.441701       0.496931      0.000000   \n",
       "has_sa_inflows       729.0       0.536351       0.499019      0.000000   \n",
       "month_income         729.0    2261.288330    1426.108032     -0.000000   \n",
       "sa_inflows           729.0    1322.963989   15559.435547      0.000000   \n",
       "spend_communication  729.0      62.744598      57.454678      0.000000   \n",
       "spend_finance        729.0     347.735565     722.992493      0.000000   \n",
       "spend_hobbies        729.0      17.724157      47.736172      0.000000   \n",
       "spend_household      729.0     748.132019    1119.100098      0.000000   \n",
       "spend_month          729.0    2269.852295    2073.419434    208.640015   \n",
       "spend_motor          729.0      62.799191      87.064140      0.000000   \n",
       "spend_other_spend    729.0     352.300934     431.932098      0.000000   \n",
       "spend_retail         729.0     121.871719     165.474747      0.000000   \n",
       "spend_services       729.0     348.728912     293.793335      0.000000   \n",
       "spend_travel         729.0     117.617500     331.609436      0.000000   \n",
       "txn_count_ca         729.0      81.589849      36.601702      7.000000   \n",
       "txn_count_sa         729.0       4.207133       5.461117      0.000000   \n",
       "txns_count           729.0      94.112483      41.546723      8.000000   \n",
       "txns_value           729.0   17387.837891   63089.250000   1804.689941   \n",
       "\n",
       "                              max            25%            50%            75%  \n",
       "user_id              5.537770e+05  316777.000000  393777.000000  430777.000000  \n",
       "month                1.200000e+01       3.000000       6.000000       9.000000  \n",
       "age                  7.100000e+01      28.000000      37.000000      44.000000  \n",
       "annual_income        9.688784e+04   18128.519531   22883.554688   30535.039062  \n",
       "entropy              3.095795e+00       2.441449       2.599220       2.738609  \n",
       "entropyz             1.844151e+00      -0.596338      -0.007907       0.511965  \n",
       "female               1.000000e+00       0.000000       0.000000       1.000000  \n",
       "has_sa_inflows       1.000000e+00       0.000000       1.000000       1.000000  \n",
       "month_income         9.285477e+03    1453.540039    1918.660034    2771.600098  \n",
       "sa_inflows           4.152500e+05       0.000000      55.599998     649.539978  \n",
       "spend_communication  2.865746e+02      25.990000      47.520000      78.809998  \n",
       "spend_finance        5.116341e+03      31.290001      97.230003     277.250000  \n",
       "spend_hobbies        3.641526e+02       0.000000       0.000000      19.990000  \n",
       "spend_household      6.983816e+03     182.979996     523.000000     878.380005  \n",
       "spend_month          1.760786e+04    1123.580078    1740.650024    2568.259766  \n",
       "spend_motor          3.943158e+02       0.000000      25.129999      90.520004  \n",
       "spend_other_spend    2.359818e+03      80.000000     181.199997     492.979980  \n",
       "spend_retail         9.240068e+02       7.990000      59.400002     165.000000  \n",
       "spend_services       2.455326e+03     154.770004     255.110001     449.649994  \n",
       "spend_travel         2.879878e+03       0.000000      21.830000      96.000000  \n",
       "txn_count_ca         2.500000e+02      53.000000      78.000000     103.000000  \n",
       "txn_count_sa         3.600000e+01       0.000000       2.000000       6.000000  \n",
       "txns_count           2.670000e+02      64.000000      88.000000     120.000000  \n",
       "txns_value           1.320082e+06    5272.459961    8626.480469   14780.309570  "
      ]
     },
     "execution_count": 132,
     "metadata": {},
     "output_type": "execute_result"
    },
    {
     "name": "stderr",
     "output_type": "stream",
     "text": [
      "/Users/fgu/miniconda3/envs/entropy/lib/python3.9/asyncio/sslproto.py:320: ResourceWarning: unclosed transport <asyncio.sslproto._SSLProtocolTransport object at 0x16999f460>\n",
      "  _warn(f\"unclosed transport {self!r}\", ResourceWarning, source=self)\n",
      "ResourceWarning: Enable tracemalloc to get the object allocation traceback\n"
     ]
    }
   ],
   "source": [
    "ss.main(df, write=False)"
   ]
  },
  {
   "cell_type": "markdown",
   "id": "8e4256a6-5eb0-4dda-84b9-deede7052f95",
   "metadata": {},
   "source": [
    "## Independent variable - entropy"
   ]
  },
  {
   "cell_type": "code",
   "execution_count": 119,
   "id": "48b7e2ea-4b49-4516-ac83-a58f85cb27cb",
   "metadata": {},
   "outputs": [
    {
     "data": {
      "image/png": "[encoded data removed]",
      "text/plain": [
       "<Figure size 432x288 with 1 Axes>"
      ]
     },
     "metadata": {
      "image/png": {
       "height": 248,
       "width": 378
      }
     },
     "output_type": "display_data"
    }
   ],
   "source": [
    "df.entropy_sptac.hist(bins=40);"
   ]
  },
  {
   "cell_type": "markdown",
   "id": "ea966deb-78bf-4a56-abc8-ac5b346ed7d5",
   "metadata": {},
   "source": [
    "## Main results"
   ]
  },
  {
   "cell_type": "code",
   "execution_count": 124,
   "id": "bba0dab1-9074-4b9f-acb1-d56e556a821d",
   "metadata": {},
   "outputs": [],
   "source": [
    "df = df.set_index([\"user_id\", \"date\"])"
   ]
  },
  {
   "cell_type": "code",
   "execution_count": 125,
   "id": "dc1dbc12-6aa1-4101-82fa-f26730b47506",
   "metadata": {},
   "outputs": [
    {
     "name": "stdout",
     "output_type": "stream",
     "text": [
      "                                                   Model Comparison                                                   \n",
      "======================================================================================================================\n",
      "                                   Model 0            Model 1            Model 2            Model 3            Model 4\n",
      "----------------------------------------------------------------------------------------------------------------------\n",
      "Dep. Variable               has_sa_inflows     has_sa_inflows     has_sa_inflows     has_sa_inflows     has_sa_inflows\n",
      "Estimator                         PanelOLS           PanelOLS           PanelOLS           PanelOLS           PanelOLS\n",
      "No. Observations                     85364              85364              85364              85364              85364\n",
      "Cov. Est.                        Clustered          Clustered          Clustered          Clustered          Clustered\n",
      "R-squared                           0.0009             0.0035             0.0070             0.0049             0.0079\n",
      "R-Squared (Within)                  0.0014             0.0060             0.0109             0.0088             0.0128\n",
      "R-Squared (Between)                 0.0045             0.0790             0.1901             0.1424             0.2278\n",
      "R-Squared (Overall)                 0.0040             0.0639             0.1503             0.1131             0.1793\n",
      "F-statistic                         71.291             145.50             194.44             40.825             59.904\n",
      "P-value (F-stat)                    0.0000             0.0000             0.0000             0.0000             0.0000\n",
      "=====================     ================   ================   ================   ================   ================\n",
      "entropy_sptac_std               -0.0179***         -0.0150***         -0.0146***         -0.0152***         -0.0150***\n",
      "                                 (-4.6265)          (-3.8734)          (-3.7691)          (-3.8070)          (-3.7499)\n",
      "spend_month                                      1.167e-05***       9.803e-06***                                      \n",
      "                                                     (9.1130)           (7.9321)                                      \n",
      "month_income                                                        1.958e-05***                          1.829e-05***\n",
      "                                                                        (8.3581)                              (7.8987)\n",
      "spend_communication                                                                        0.0001**          8.463e-05\n",
      "                                                                                           (2.3265)           (1.6127)\n",
      "spend_finance                                                                           1.677e-05**        1.442e-05**\n",
      "                                                                                           (2.4022)           (2.0801)\n",
      "spend_hobbies                                                                              0.0001**        9.127e-05**\n",
      "                                                                                           (2.4907)           (2.2125)\n",
      "spend_household                                                                        1.344e-05***       1.063e-05***\n",
      "                                                                                           (3.7322)           (3.0189)\n",
      "spend_motor                                                                               4.654e-05          4.044e-05\n",
      "                                                                                           (1.3513)           (1.1807)\n",
      "spend_other_spend                                                                      2.259e-05***       1.862e-05***\n",
      "                                                                                           (3.3771)           (2.7835)\n",
      "spend_retail                                                                           5.319e-05***       4.728e-05***\n",
      "                                                                                           (4.4845)           (3.9888)\n",
      "spend_services                                                                         1.818e-05***        1.484e-05**\n",
      "                                                                                           (2.8605)           (2.3137)\n",
      "spend_travel                                                                           1.993e-05***       1.822e-05***\n",
      "                                                                                           (3.3765)           (3.0970)\n",
      "======================= ================== ================== ================== ================== ==================\n",
      "Effects                             Entity             Entity             Entity             Entity             Entity\n",
      "                                      Time               Time               Time               Time               Time\n",
      "----------------------------------------------------------------------------------------------------------------------\n",
      "\n",
      "T-stats reported in parentheses\n"
     ]
    },
    {
     "name": "stderr",
     "output_type": "stream",
     "text": [
      "/Users/fgu/miniconda3/envs/entropy/lib/python3.9/site-packages/linearmodels/panel/results.py:1010: FutureWarning: In a future version of pandas all arguments of concat except for the argument 'objs' will be keyword-only\n",
      "  vals = concat(\n"
     ]
    }
   ],
   "source": [
    "data = df\n",
    "\n",
    "y = data[\"has_sa_inflows\"]\n",
    "\n",
    "var_of_interest = [\"entropy_sptac_std\"]\n",
    "tag_spends = list(data.filter(regex=\"^spend_(?!month)\").columns)\n",
    "controls = [\"month_income\"]\n",
    "exog = data[var_of_interest + controls + tag_spends]\n",
    "\n",
    "results = lm.panel.compare(\n",
    "    [\n",
    "        ah.fe_reg(\n",
    "            y,\n",
    "            data[var_of_interest],\n",
    "            entity_effects=True,\n",
    "            time_effects=True,\n",
    "        ),\n",
    "        ah.fe_reg(\n",
    "            y,\n",
    "            data[var_of_interest + [\"spend_month\"]],\n",
    "            entity_effects=True,\n",
    "            time_effects=True,\n",
    "        ),\n",
    "        ah.fe_reg(\n",
    "            y,\n",
    "            data[var_of_interest + [\"spend_month\", \"month_income\"]],\n",
    "            entity_effects=True,\n",
    "            time_effects=True,\n",
    "        ),\n",
    "        ah.fe_reg(\n",
    "            y,\n",
    "            data[var_of_interest + tag_spends],\n",
    "            entity_effects=True,\n",
    "            time_effects=True,\n",
    "        ),\n",
    "        ah.fe_reg(y, exog, entity_effects=True, time_effects=True),\n",
    "    ],\n",
    "    stars=True,\n",
    ")\n",
    "print(results)"
   ]
  },
  {
   "cell_type": "markdown",
   "id": "3e2008b7-219d-451c-8a7e-b7edbf7a8402",
   "metadata": {},
   "source": [
    "### Fixed effects"
   ]
  },
  {
   "cell_type": "markdown",
   "id": "1b25f712-188f-4c2b-81cf-9d99136f041f",
   "metadata": {},
   "source": [
    "Comparese effect of including individual and month fixed effects."
   ]
  },
  {
   "cell_type": "code",
   "execution_count": 126,
   "id": "313dc08a-bf45-4fd2-87d8-d71807f0b1a6",
   "metadata": {},
   "outputs": [
    {
     "name": "stdout",
     "output_type": "stream",
     "text": [
      "                                          Model Comparison                                         \n",
      "===================================================================================================\n",
      "                                   Model 0            Model 1            Model 2            Model 3\n",
      "---------------------------------------------------------------------------------------------------\n",
      "Dep. Variable               has_sa_inflows     has_sa_inflows     has_sa_inflows     has_sa_inflows\n",
      "Estimator                         PanelOLS           PanelOLS           PanelOLS           PanelOLS\n",
      "No. Observations                     85364              85364              85364              85364\n",
      "Cov. Est.                        Clustered          Clustered          Clustered          Clustered\n",
      "R-squared                           0.0079             0.0137             0.0023             0.4006\n",
      "R-Squared (Within)                  0.0128             0.0137             0.0022            -0.0466\n",
      "R-Squared (Between)                 0.2278             0.2800             0.0546             0.5696\n",
      "R-Squared (Overall)                 0.1793             0.2193             0.0424             0.4006\n",
      "F-statistic                         59.904             104.26             17.491             5186.5\n",
      "P-value (F-stat)                    0.0000             0.0000             0.0000             0.0000\n",
      "=====================     ================   ================   ================   ================\n",
      "entropy_sptac_std               -0.0150***         -0.0177***            -0.0058         -0.0281***\n",
      "                                 (-3.7499)          (-4.5701)          (-0.9137)          (-3.6810)\n",
      "month_income                  1.829e-05***       2.137e-05***        8.309e-06**       7.053e-05***\n",
      "                                  (7.8987)           (8.9860)           (2.5431)           (19.025)\n",
      "spend_communication              8.463e-05            0.0001*         -4.227e-05          0.0014***\n",
      "                                  (1.6127)           (1.9593)          (-0.4636)           (13.594)\n",
      "spend_finance                  1.442e-05**       2.247e-05***          -6.19e-06           1.16e-05\n",
      "                                  (2.0801)           (3.1806)          (-0.5962)           (0.9137)\n",
      "spend_hobbies                  9.127e-05**          0.0002***           -0.0001*          3.152e-06\n",
      "                                  (2.2125)           (3.9320)          (-1.6734)           (0.0222)\n",
      "spend_household               1.063e-05***       1.258e-05***         -9.337e-07          1.289e-06\n",
      "                                  (3.0189)           (3.6746)          (-0.1606)           (0.1839)\n",
      "spend_motor                      4.044e-05          0.0001***          2.683e-05          0.0004***\n",
      "                                  (1.1807)           (3.2777)           (0.4613)           (6.1578)\n",
      "spend_other_spend             1.862e-05***        1.632e-05**          2.323e-05         9.4e-05***\n",
      "                                  (2.7835)           (2.3509)           (1.6195)           (4.9303)\n",
      "spend_retail                  4.728e-05***       5.791e-05***         5.35e-05**          0.0001***\n",
      "                                  (3.9888)           (4.9798)           (2.4097)           (4.8856)\n",
      "spend_services                 1.484e-05**       2.221e-05***       -2.719e-05**          1.681e-05\n",
      "                                  (2.3137)           (3.3816)          (-2.3160)           (1.1712)\n",
      "spend_travel                  1.822e-05***       3.042e-05***          1.519e-05          1.795e-05\n",
      "                                  (3.0970)           (5.2074)           (1.3050)           (1.2117)\n",
      "======================= ================== ================== ================== ==================\n",
      "Effects                             Entity             Entity               Time                   \n",
      "                                      Time                                                         \n",
      "---------------------------------------------------------------------------------------------------\n",
      "\n",
      "T-stats reported in parentheses\n"
     ]
    },
    {
     "name": "stderr",
     "output_type": "stream",
     "text": [
      "/Users/fgu/miniconda3/envs/entropy/lib/python3.9/site-packages/linearmodels/panel/results.py:1010: FutureWarning: In a future version of pandas all arguments of concat except for the argument 'objs' will be keyword-only\n",
      "  vals = concat(\n"
     ]
    }
   ],
   "source": [
    "data = df\n",
    "\n",
    "y = data[\"has_sa_inflows\"]\n",
    "\n",
    "var_of_interest = [\"entropy_sptac_std\"]\n",
    "tag_spends = list(data.filter(regex=\"^spend_(?!month)\").columns)\n",
    "controls = [\"month_income\"]\n",
    "exog = data[var_of_interest + controls + tag_spends]\n",
    "\n",
    "results = lm.panel.compare(\n",
    "    [\n",
    "        ah.fe_reg(y, exog, entity_effects=True, time_effects=True),\n",
    "        ah.fe_reg(y, exog, entity_effects=True, time_effects=False),\n",
    "        ah.fe_reg(y, exog, entity_effects=False, time_effects=True),\n",
    "        ah.fe_reg(y, exog, entity_effects=False, time_effects=False),\n",
    "    ],\n",
    "    stars=True,\n",
    ")\n",
    "print(results)"
   ]
  },
  {
   "cell_type": "markdown",
   "id": "2a3181ab-91fb-4afd-999c-366f46b64355",
   "metadata": {},
   "source": [
    "### Clustering specification"
   ]
  },
  {
   "cell_type": "markdown",
   "id": "9e1409f8-f4f8-4f36-991a-32412d9756f7",
   "metadata": {},
   "source": [
    "Clustering by entity effects reduces t-stats significantly, indicating that there is important correlation among residuals within an individual. Clustering also by time effects doesn't change t-stats much, indicating that there is not a lot of cross-sectional dependence across months of the year in the data. As a result, we just clusert by entity effects in the main results above."
   ]
  },
  {
   "cell_type": "code",
   "execution_count": 128,
   "id": "ebbc280f-3102-403f-b63b-a48ad2e64610",
   "metadata": {},
   "outputs": [
    {
     "name": "stderr",
     "output_type": "stream",
     "text": [
      "/Users/fgu/miniconda3/envs/entropy/lib/python3.9/site-packages/linearmodels/panel/results.py:1010: FutureWarning: In a future version of pandas all arguments of concat except for the argument 'objs' will be keyword-only\n",
      "  vals = concat(\n"
     ]
    },
    {
     "name": "stdout",
     "output_type": "stream",
     "text": [
      "                                Model Comparison                                \n",
      "================================================================================\n",
      "                                   Model 0            Model 1            Model 2\n",
      "--------------------------------------------------------------------------------\n",
      "Dep. Variable               has_sa_inflows     has_sa_inflows     has_sa_inflows\n",
      "Estimator                         PanelOLS           PanelOLS           PanelOLS\n",
      "No. Observations                     85364              85364              85364\n",
      "Cov. Est.                       Unadjusted          Clustered          Clustered\n",
      "R-squared                           0.0079             0.0079             0.0079\n",
      "R-Squared (Within)                  0.0128             0.0128             0.0128\n",
      "R-Squared (Between)                 0.2278             0.2278             0.2278\n",
      "R-Squared (Overall)                 0.1793             0.1793             0.1793\n",
      "F-statistic                         59.904             59.904             59.904\n",
      "P-value (F-stat)                    0.0000             0.0000             0.0000\n",
      "=====================     ================   ================   ================\n",
      "entropy_sptac_std               -0.0150***         -0.0150***         -0.0150***\n",
      "                                 (-6.7574)          (-3.7499)          (-3.7961)\n",
      "month_income                  1.829e-05***       1.829e-05***       1.829e-05***\n",
      "                                  (15.794)           (7.8987)           (7.8944)\n",
      "spend_communication           8.463e-05***          8.463e-05          8.463e-05\n",
      "                                  (2.6090)           (1.6127)           (1.6046)\n",
      "spend_finance                 1.442e-05***        1.442e-05**        1.442e-05**\n",
      "                                  (4.1207)           (2.0801)           (2.0891)\n",
      "spend_hobbies                 9.127e-05***        9.127e-05**        9.127e-05**\n",
      "                                  (2.9832)           (2.2125)           (2.3168)\n",
      "spend_household               1.063e-05***       1.063e-05***       1.063e-05***\n",
      "                                  (5.1090)           (3.0189)           (2.9434)\n",
      "spend_motor                    4.044e-05**          4.044e-05          4.044e-05\n",
      "                                  (2.0655)           (1.1807)           (1.1572)\n",
      "spend_other_spend             1.862e-05***       1.862e-05***       1.862e-05***\n",
      "                                  (4.1035)           (2.7835)           (2.8020)\n",
      "spend_retail                  4.728e-05***       4.728e-05***       4.728e-05***\n",
      "                                  (5.9424)           (3.9888)           (3.8069)\n",
      "spend_services                1.484e-05***        1.484e-05**        1.484e-05**\n",
      "                                  (3.6560)           (2.3137)           (2.4601)\n",
      "spend_travel                  1.822e-05***       1.822e-05***       1.822e-05***\n",
      "                                  (3.7230)           (3.0970)           (3.1326)\n",
      "======================= ================== ================== ==================\n",
      "Effects                             Entity             Entity             Entity\n",
      "                                      Time               Time               Time\n",
      "--------------------------------------------------------------------------------\n",
      "\n",
      "T-stats reported in parentheses\n"
     ]
    }
   ],
   "source": [
    "data = df\n",
    "\n",
    "y = data[\"has_sa_inflows\"]\n",
    "\n",
    "var_of_interest = [\"entropy_sptac_std\"]\n",
    "tag_spends = list(data.filter(regex=\"^spend_(?!month)\").columns)\n",
    "controls = [\"month_income\"]\n",
    "exog = data[var_of_interest + controls + tag_spends]\n",
    "\n",
    "results = lm.panel.compare(\n",
    "    [\n",
    "        lm.PanelOLS(y, exog, entity_effects=True, time_effects=True).fit(),\n",
    "        lm.PanelOLS(y, exog, entity_effects=True, time_effects=True).fit(\n",
    "            cov_type=\"clustered\", cluster_entity=True, cluster_time=False\n",
    "        ),\n",
    "        lm.PanelOLS(y, exog, entity_effects=True, time_effects=True).fit(\n",
    "            cov_type=\"clustered\", cluster_entity=True, cluster_time=True\n",
    "        ),\n",
    "    ],\n",
    "    stars=True,\n",
    ")\n",
    "print(results)"
   ]
  },
  {
   "cell_type": "markdown",
   "id": "2ef989b9-3528-45e6-8729-de7ea5480142",
   "metadata": {},
   "source": [
    "## Effect sizes"
   ]
  },
  {
   "cell_type": "markdown",
   "id": "bb7796ea-16a8-4cfe-aee5-766d7705c48d",
   "metadata": {},
   "source": [
    "Approach:\n",
    "\n",
    "- Predict baseline probablity of making savings account transfer using means of all dependent variables, with entropy mean set to zero. (How to handle fixed effects? lm seems to provide estimates for them, but not clear where they come from. Use for now.)\n",
    "\n",
    "- Predict probability if entropy mean is one.\n",
    "\n",
    "- Calculate percentage change."
   ]
  },
  {
   "cell_type": "markdown",
   "id": "8d73e2a6-c052-4dd5-be11-166a82b65af0",
   "metadata": {},
   "source": [
    "# m = ah.fe_reg(y, exog, entity_effects=True, time_effects=True)"
   ]
  },
  {
   "cell_type": "markdown",
   "id": "59097ad8-d848-443e-9184-6fd61a611753",
   "metadata": {},
   "source": [
    "Fitted values seem to be calculated ignoring estimated fixed effects."
   ]
  },
  {
   "cell_type": "code",
   "execution_count": 241,
   "id": "27d65b61-525a-4414-b2d5-c77a1cd71f70",
   "metadata": {},
   "outputs": [],
   "source": [
    "fitted_manual = (exog * m.params).sum(1).rename(\"fitted_values\")\n",
    "pd.testing.assert_series_equal(fitted_manual, m.fitted_values.fitted_values)"
   ]
  },
  {
   "cell_type": "markdown",
   "id": "aa257369-b386-4e20-a368-42611519e0b5",
   "metadata": {},
   "source": [
    "Also, they seem too high, given how rare savings account inflows actually are in the data."
   ]
  },
  {
   "cell_type": "code",
   "execution_count": 242,
   "id": "dc6db81b-b0b5-4052-963c-29be5889df7d",
   "metadata": {},
   "outputs": [
    {
     "data": {
      "text/plain": [
       "count    84096.000000\n",
       "mean         0.864129\n",
       "std          0.254827\n",
       "min          0.383120\n",
       "25%          0.667794\n",
       "50%          0.818483\n",
       "75%          1.022256\n",
       "max          1.877679\n",
       "Name: fitted_values, dtype: float64"
      ]
     },
     "execution_count": 242,
     "metadata": {},
     "output_type": "execute_result"
    }
   ],
   "source": [
    "fitted_manual.describe()"
   ]
  },
  {
   "cell_type": "code",
   "execution_count": 243,
   "id": "910d1684-3498-44c3-b376-79c7df0ec20c",
   "metadata": {},
   "outputs": [
    {
     "data": {
      "text/plain": [
       "count    84096.000000\n",
       "mean         0.520417\n",
       "std          0.499586\n",
       "min          0.000000\n",
       "25%          0.000000\n",
       "50%          1.000000\n",
       "75%          1.000000\n",
       "max          1.000000\n",
       "Name: has_sa_inflows, dtype: float64"
      ]
     },
     "execution_count": 243,
     "metadata": {},
     "output_type": "execute_result"
    }
   ],
   "source": [
    "y.describe()"
   ]
  },
  {
   "cell_type": "markdown",
   "id": "2592b345-3301-4ecb-a905-7505e153e9b0",
   "metadata": {},
   "source": [
    "Adding estimated effects, we get the exact mean of the data, and also much fewer predictions above 1."
   ]
  },
  {
   "cell_type": "code",
   "execution_count": 244,
   "id": "5291edc3-4648-4294-aeab-d7b75f8c17f4",
   "metadata": {},
   "outputs": [
    {
     "data": {
      "text/plain": [
       "count    84096.000000\n",
       "mean         0.520417\n",
       "std          0.336518\n",
       "min         -0.335529\n",
       "5%           0.020124\n",
       "25%          0.222271\n",
       "50%          0.504137\n",
       "75%          0.841471\n",
       "90%          0.985436\n",
       "95%          1.010316\n",
       "max          1.345141\n",
       "dtype: float64"
      ]
     },
     "execution_count": 244,
     "metadata": {},
     "output_type": "execute_result"
    }
   ],
   "source": [
    "(m.fitted_values.fitted_values + m.estimated_effects.estimated_effects).describe(\n",
    "    percentiles=[0.05, 0.25, 0.5, 0.75, 0.9, 0.95]\n",
    ")"
   ]
  },
  {
   "cell_type": "markdown",
   "id": "d05804c1-98a6-44a8-9491-0b59ed7b109a",
   "metadata": {},
   "source": [
    "Probability at entropy = 0"
   ]
  },
  {
   "cell_type": "code",
   "execution_count": 274,
   "id": "023cb382-cf41-4acf-a4cc-0ccd8451e2ee",
   "metadata": {},
   "outputs": [
    {
     "data": {
      "text/plain": [
       "0.5204171442396448"
      ]
     },
     "execution_count": 274,
     "metadata": {},
     "output_type": "execute_result"
    }
   ],
   "source": [
    "exog_bl = exog.copy()\n",
    "exog_bl[\"entropy_sptac_std\"] = 0\n",
    "prob_bl = (\n",
    "    exog_bl.mean() * m.params\n",
    ").sum() + r.estimated_effects.estimated_effects.mean()\n",
    "prob_bl"
   ]
  },
  {
   "cell_type": "markdown",
   "id": "f20edb5f-c53e-4ec3-b91f-b7d18d7c77bf",
   "metadata": {},
   "source": [
    "Probability at entropy = 1"
   ]
  },
  {
   "cell_type": "code",
   "execution_count": 256,
   "id": "0a0958a5-5941-410a-bbfc-24b49056d7a1",
   "metadata": {},
   "outputs": [
    {
     "data": {
      "text/plain": [
       "0.5103373852693549"
      ]
     },
     "execution_count": 256,
     "metadata": {},
     "output_type": "execute_result"
    }
   ],
   "source": [
    "exog_inc = exog_bl.copy()\n",
    "exog_inc[\"entropy_sptac_std\"] = 1\n",
    "prob_inc = (\n",
    "    exog_inc.mean() * m.params\n",
    ").sum() + r.estimated_effects.estimated_effects.mean()\n",
    "prob_inc"
   ]
  },
  {
   "cell_type": "markdown",
   "id": "5494c290-ebbb-46fd-a838-ed46f977bc3f",
   "metadata": {},
   "source": [
    "Percentage change for 1 std increase"
   ]
  },
  {
   "cell_type": "code",
   "execution_count": 258,
   "id": "14987ec5-3b00-4514-a06a-ca75c265252a",
   "metadata": {},
   "outputs": [
    {
     "data": {
      "text/plain": [
       "-1.9368614354580735"
      ]
     },
     "execution_count": 258,
     "metadata": {},
     "output_type": "execute_result"
    }
   ],
   "source": [
    "dprob = ((prob_inc - prob_bl) / prob_bl) * 100\n",
    "dprob"
   ]
  },
  {
   "cell_type": "markdown",
   "id": "3e834c2d-3497-4530-8d49-176682705e2c",
   "metadata": {},
   "source": [
    "Moving from 25th to 75th percentile"
   ]
  },
  {
   "cell_type": "code",
   "execution_count": 273,
   "id": "1d429302-6644-473b-a598-2dee3786ba95",
   "metadata": {},
   "outputs": [
    {
     "data": {
      "text/plain": [
       "-2.545343299010333"
      ]
     },
     "execution_count": 273,
     "metadata": {},
     "output_type": "execute_result"
    }
   ],
   "source": [
    "stats = df.entropy_sptac.describe()\n",
    "stds = (stats.loc[\"75%\"] - stats.loc[\"25%\"]) / stats.loc[\"std\"]\n",
    "stds * dprob"
   ]
  }
 ],
 "metadata": {
  "kernelspec": {
   "display_name": "entropy",
   "language": "python",
   "name": "entropy"
  },
  "language_info": {
   "codemirror_mode": {
    "name": "ipython",
    "version": 3
   },
   "file_extension": ".py",
   "mimetype": "text/x-python",
   "name": "python",
   "nbconvert_exporter": "python",
   "pygments_lexer": "ipython3",
   "version": "3.9.7"
  }
 },
 "nbformat": 4,
 "nbformat_minor": 5
}
