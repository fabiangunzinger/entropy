{
 "cells": [
  {
   "cell_type": "markdown",
   "id": "585fbeec-b261-40d2-bd56-cb42d828b773",
   "metadata": {},
   "source": [
    "Notebook purpose\n",
    "\n",
    "- Determine appropriate model specifications"
   ]
  },
  {
   "cell_type": "code",
   "execution_count": 1,
   "id": "13bef683-64f8-4c36-bec3-05ecb69b15c5",
   "metadata": {
    "tags": []
   },
   "outputs": [],
   "source": [
    "import os\n",
    "import sys\n",
    "\n",
    "import linearmodels as lm\n",
    "import matplotlib.pyplot as plt\n",
    "import numpy as np\n",
    "import pandas as pd\n",
    "import s3fs\n",
    "import seaborn as sns\n",
    "import statsmodels.api as sm\n",
    "import statsmodels.formula.api as smf\n",
    "\n",
    "sys.path.append(\"/Users/fgu/dev/projects/entropy\")\n",
    "import entropy.data.cleaners as cl\n",
    "import entropy.data.creators as cr\n",
    "import entropy.figures.figures as figs\n",
    "import entropy.helpers.aws as ha\n",
    "import entropy.helpers.data as hd\n",
    "import entropy.helpers.helpers as hh\n",
    "from entropy import config\n",
    "\n",
    "sns.set_style(\"whitegrid\")\n",
    "pd.set_option(\"display.max_rows\", 120)\n",
    "pd.set_option(\"display.max_columns\", 120)\n",
    "pd.set_option(\"max_colwidth\", None)\n",
    "%config InlineBackend.figure_format = 'retina'\n",
    "%load_ext autoreload\n",
    "%autoreload 2\n",
    "\n",
    "fs = s3fs.S3FileSystem(profile=\"3di\")"
   ]
  },
  {
   "cell_type": "code",
   "execution_count": null,
   "id": "f56ca4fb-7702-4f27-8d47-a0ba1d14d897",
   "metadata": {},
   "outputs": [
    {
     "name": "stdout",
     "output_type": "stream",
     "text": [
      "Time for read_sample    : 2.13 seconds\n"
     ]
    }
   ],
   "source": [
    "dfs, df = hd.read_samples([\"777\", \"XX7\"])\n",
    "hd.inspect(df)"
   ]
  },
  {
   "cell_type": "markdown",
   "id": "1e85f3bb-29b5-4c55-8875-b6ad5eacdc3d",
   "metadata": {},
   "source": [
    "## Entropy - within vs between variation"
   ]
  },
  {
   "cell_type": "code",
   "execution_count": 201,
   "id": "732524ff-eb8e-4bbc-bba5-9bef2407eb13",
   "metadata": {},
   "outputs": [
    {
     "data": {
      "text/html": [
       "<div>\n",
       "<style scoped>\n",
       "    .dataframe tbody tr th:only-of-type {\n",
       "        vertical-align: middle;\n",
       "    }\n",
       "\n",
       "    .dataframe tbody tr th {\n",
       "        vertical-align: top;\n",
       "    }\n",
       "\n",
       "    .dataframe thead th {\n",
       "        text-align: right;\n",
       "    }\n",
       "</style>\n",
       "<table border=\"1\" class=\"dataframe\">\n",
       "  <thead>\n",
       "    <tr style=\"text-align: right;\">\n",
       "      <th></th>\n",
       "      <th></th>\n",
       "      <th>user_id</th>\n",
       "      <th>date</th>\n",
       "      <th>entropy_sptac</th>\n",
       "    </tr>\n",
       "    <tr>\n",
       "      <th>user_id</th>\n",
       "      <th>date</th>\n",
       "      <th></th>\n",
       "      <th></th>\n",
       "      <th></th>\n",
       "    </tr>\n",
       "  </thead>\n",
       "  <tbody>\n",
       "    <tr>\n",
       "      <th rowspan=\"2\" valign=\"top\">777</th>\n",
       "      <th>2012-01-31</th>\n",
       "      <td>777</td>\n",
       "      <td>2012-01-31</td>\n",
       "      <td>2.871019</td>\n",
       "    </tr>\n",
       "    <tr>\n",
       "      <th>2012-02-29</th>\n",
       "      <td>777</td>\n",
       "      <td>2012-02-29</td>\n",
       "      <td>2.838295</td>\n",
       "    </tr>\n",
       "  </tbody>\n",
       "</table>\n",
       "</div>"
      ],
      "text/plain": [
       "                    user_id       date  entropy_sptac\n",
       "user_id date                                         \n",
       "777     2012-01-31      777 2012-01-31       2.871019\n",
       "        2012-02-29      777 2012-02-29       2.838295"
      ]
     },
     "execution_count": 201,
     "metadata": {},
     "output_type": "execute_result"
    }
   ],
   "source": [
    "def user_month_data(df):\n",
    "    columns = [\"user_id\", \"date\", \"entropy_sptac\"]\n",
    "    month = pd.Grouper(key=\"date\", freq=\"M\")\n",
    "    return (\n",
    "        df[columns]\n",
    "        .groupby([\"user_id\", month])\n",
    "        .first()\n",
    "        .reset_index()\n",
    "        .set_index([\"user_id\", \"date\"], drop=False)\n",
    "    )\n",
    "\n",
    "data = user_month_data(dfs)\n",
    "data.head(2)"
   ]
  },
  {
   "cell_type": "markdown",
   "id": "a89791f6-8a02-4462-ba5a-d330379ed51f",
   "metadata": {},
   "source": [
    "Variation in entropy between users accounts for about 54 percent of total variation."
   ]
  },
  {
   "cell_type": "code",
   "execution_count": 200,
   "id": "c99e574f-2c10-4ada-94cd-18f448e84ddf",
   "metadata": {},
   "outputs": [
    {
     "name": "stdout",
     "output_type": "stream",
     "text": [
      "                   Model Comparison                  \n",
      "=====================================================\n",
      "                              Model 0         Model 1\n",
      "-----------------------------------------------------\n",
      "Dep. Variable           entropy_sptac   entropy_sptac\n",
      "Estimator                   PooledOLS        PanelOLS\n",
      "No. Observations                  788             788\n",
      "Cov. Est.                  Unadjusted      Unadjusted\n",
      "R-squared                      0.5425          0.5425\n",
      "R-Squared (Within)             0.0000          0.0000\n",
      "R-Squared (Between)            1.0000          1.0000\n",
      "R-Squared (Overall)            0.5425          0.5425\n",
      "F-statistic                    36.139          36.139\n",
      "P-value (F-stat)               0.0000          0.0000\n",
      "===================== =============== ===============\n",
      "C(user_id)[777]             2.7645***       2.7645***\n",
      "                             (165.49)        (165.49)\n",
      "C(user_id)[58777]           2.7704***       2.7704***\n",
      "                             (69.666)        (69.666)\n",
      "C(user_id)[76777]           2.6736***       2.6736***\n",
      "                             (44.822)        (44.822)\n",
      "C(user_id)[179777]          2.6076***       2.6076***\n",
      "                             (43.714)        (43.714)\n",
      "C(user_id)[199777]          2.6232***       2.6232***\n",
      "                             (128.21)        (128.21)\n",
      "C(user_id)[316777]          2.6985***       2.6985***\n",
      "                             (78.356)        (78.356)\n",
      "C(user_id)[349777]          2.6055***       2.6055***\n",
      "                             (108.10)        (108.10)\n",
      "C(user_id)[437777]          2.5010***       2.5010***\n",
      "                             (44.471)        (44.471)\n",
      "C(user_id)[445777]          2.7656***       2.7656***\n",
      "                             (94.164)        (94.164)\n",
      "C(user_id)[448777]          2.5004***       2.5004***\n",
      "                             (39.210)        (39.210)\n",
      "C(user_id)[476777]          2.2789***       2.2789***\n",
      "                             (61.897)        (61.897)\n",
      "C(user_id)[482777]          2.7246***       2.7246***\n",
      "                             (70.390)        (70.390)\n",
      "C(user_id)[487777]          2.5457***       2.5457***\n",
      "                             (54.403)        (54.403)\n",
      "C(user_id)[489777]          2.6894***       2.6894***\n",
      "                             (67.629)        (67.629)\n",
      "C(user_id)[501777]          1.8141***       1.8141***\n",
      "                             (45.619)        (45.619)\n",
      "C(user_id)[513777]          2.4939***       2.4939***\n",
      "                             (94.649)        (94.649)\n",
      "C(user_id)[523777]          2.6346***       2.6346***\n",
      "                             (54.094)        (54.094)\n",
      "C(user_id)[536777]          2.4376***       2.4376***\n",
      "                             (99.049)        (99.049)\n",
      "C(user_id)[538777]          2.4882***       2.4882***\n",
      "                             (96.707)        (96.707)\n",
      "C(user_id)[542777]          2.8328***       2.8328***\n",
      "                             (41.128)        (41.128)\n",
      "C(user_id)[551777]          2.7409***       2.7409***\n",
      "                             (76.198)        (76.198)\n",
      "C(user_id)[554777]          2.5320***       2.5320***\n",
      "                             (94.915)        (94.915)\n",
      "C(user_id)[560777]          2.4048***       2.4048***\n",
      "                             (90.148)        (90.148)\n",
      "C(user_id)[562777]          2.7811***       2.7811***\n",
      "                             (104.25)        (104.25)\n",
      "C(user_id)[567777]          2.4215***       2.4215***\n",
      "                             (91.899)        (91.899)\n",
      "C(user_id)[578777]          2.6428***       2.6428***\n",
      "                             (100.30)        (100.30)\n",
      "-----------------------------------------------------\n",
      "\n",
      "T-stats reported in parentheses\n"
     ]
    }
   ],
   "source": [
    "resPanelOLS = lm.PanelOLS.from_formula(\"entropy_sptac ~ C(user_id)\", data=idata).fit()\n",
    "print(lm.panel.compare([resPanelOLS], stars=True))"
   ]
  },
  {
   "cell_type": "code",
   "execution_count": null,
   "id": "9d49fb25-416b-48c5-81b0-77f6510d6147",
   "metadata": {},
   "outputs": [],
   "source": []
  }
 ],
 "metadata": {
  "kernelspec": {
   "display_name": "entropy",
   "language": "python",
   "name": "entropy"
  },
  "language_info": {
   "codemirror_mode": {
    "name": "ipython",
    "version": 3
   },
   "file_extension": ".py",
   "mimetype": "text/x-python",
   "name": "python",
   "nbconvert_exporter": "python",
   "pygments_lexer": "ipython3",
   "version": "3.9.7"
  }
 },
 "nbformat": 4,
 "nbformat_minor": 5
}
