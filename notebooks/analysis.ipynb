{
 "cells": [
  {
   "cell_type": "markdown",
   "id": "585fbeec-b261-40d2-bd56-cb42d828b773",
   "metadata": {},
   "source": [
    "Notebook purpose\n",
    "\n",
    "- Determine appropriate model specifications"
   ]
  },
  {
   "cell_type": "code",
   "execution_count": 1,
   "id": "13bef683-64f8-4c36-bec3-05ecb69b15c5",
   "metadata": {
    "tags": []
   },
   "outputs": [],
   "source": [
    "import os\n",
    "import sys\n",
    "\n",
    "import linearmodels as lm\n",
    "import matplotlib.pyplot as plt\n",
    "import numpy as np\n",
    "import pandas as pd\n",
    "import s3fs\n",
    "import seaborn as sns\n",
    "\n",
    "sys.path.append(\"/Users/fgu/dev/projects/entropy\")\n",
    "import entropy.data.cleaners as cl\n",
    "import entropy.data.creators as cr\n",
    "import entropy.figures.figures as figs\n",
    "import entropy.helpers.aws as ha\n",
    "import entropy.helpers.data as hd\n",
    "import entropy.helpers.helpers as hh\n",
    "from entropy import config\n",
    "\n",
    "sns.set_style(\"whitegrid\")\n",
    "pd.set_option(\"display.max_rows\", 120)\n",
    "pd.set_option(\"display.max_columns\", 120)\n",
    "pd.set_option(\"max_colwidth\", None)\n",
    "%config InlineBackend.figure_format = 'retina'\n",
    "%load_ext autoreload\n",
    "%autoreload 2\n",
    "\n",
    "fs = s3fs.S3FileSystem(profile=\"3di\")"
   ]
  },
  {
   "cell_type": "code",
   "execution_count": null,
   "id": "f56ca4fb-7702-4f27-8d47-a0ba1d14d897",
   "metadata": {},
   "outputs": [
    {
     "name": "stdout",
     "output_type": "stream",
     "text": [
      "Time for read_sample    : 4.48 seconds\n"
     ]
    }
   ],
   "source": [
    "dfs, df = hd.read_samples([\"777\", \"XX7\"])\n",
    "hd.inspect(df)"
   ]
  },
  {
   "cell_type": "markdown",
   "id": "90aabe40-6011-4278-9085-99273d4b0cb8",
   "metadata": {},
   "source": [
    "## Make analysis data"
   ]
  },
  {
   "cell_type": "code",
   "execution_count": 22,
   "id": "90b0d037-dd8f-4237-b73f-af5bc51eeec4",
   "metadata": {},
   "outputs": [
    {
     "data": {
      "text/plain": [
       "tag\n",
       "benefits              0.000000\n",
       "communication     97419.421875\n",
       "earnings              0.000000\n",
       "finance          466803.312500\n",
       "hobbies           49798.539062\n",
       "household        972438.000000\n",
       "motor             93256.523438\n",
       "other_income          0.000000\n",
       "other_spend      383822.281250\n",
       "pensions              0.000000\n",
       "retail           130843.078125\n",
       "savings               0.000000\n",
       "services         584479.625000\n",
       "transfers             0.000000\n",
       "travel           194286.828125\n",
       "Name: amount, dtype: float32"
      ]
     },
     "execution_count": 22,
     "metadata": {},
     "output_type": "execute_result"
    }
   ],
   "source": [
    "dfs[dfs.tag_group.eq(\"spend\")].groupby(\"tag\").amount.sum()"
   ]
  },
  {
   "cell_type": "code",
   "execution_count": 5,
   "id": "ec5468fd-0055-4ee1-92a6-c7fbbcefe56f",
   "metadata": {},
   "outputs": [
    {
     "name": "stdout",
     "output_type": "stream",
     "text": [
      "(486, 14)\n"
     ]
    },
    {
     "data": {
      "text/html": [
       "<div>\n",
       "<style scoped>\n",
       "    .dataframe tbody tr th:only-of-type {\n",
       "        vertical-align: middle;\n",
       "    }\n",
       "\n",
       "    .dataframe tbody tr th {\n",
       "        vertical-align: top;\n",
       "    }\n",
       "\n",
       "    .dataframe thead th {\n",
       "        text-align: right;\n",
       "    }\n",
       "</style>\n",
       "<table border=\"1\" class=\"dataframe\">\n",
       "  <thead>\n",
       "    <tr style=\"text-align: right;\">\n",
       "      <th></th>\n",
       "      <th></th>\n",
       "      <th>sa_inflows</th>\n",
       "      <th>sa_inflows_net</th>\n",
       "      <th>entropy_sptac</th>\n",
       "      <th>income</th>\n",
       "      <th>total_monthly_spend</th>\n",
       "      <th>tag_spend_other_spend</th>\n",
       "      <th>tag_spend_services</th>\n",
       "      <th>tag_spend_finance</th>\n",
       "      <th>tag_spend_communication</th>\n",
       "      <th>tag_spend_motor</th>\n",
       "      <th>tag_spend_household</th>\n",
       "      <th>tag_spend_retail</th>\n",
       "      <th>tag_spend_travel</th>\n",
       "      <th>tag_spend_hobbies</th>\n",
       "    </tr>\n",
       "    <tr>\n",
       "      <th>user_id</th>\n",
       "      <th>ym</th>\n",
       "      <th></th>\n",
       "      <th></th>\n",
       "      <th></th>\n",
       "      <th></th>\n",
       "      <th></th>\n",
       "      <th></th>\n",
       "      <th></th>\n",
       "      <th></th>\n",
       "      <th></th>\n",
       "      <th></th>\n",
       "      <th></th>\n",
       "      <th></th>\n",
       "      <th></th>\n",
       "      <th></th>\n",
       "    </tr>\n",
       "  </thead>\n",
       "  <tbody>\n",
       "    <tr>\n",
       "      <th rowspan=\"2\" valign=\"top\">14777</th>\n",
       "      <th>201212</th>\n",
       "      <td>NaN</td>\n",
       "      <td>NaN</td>\n",
       "      <td>2.648409</td>\n",
       "      <td>14587.120117</td>\n",
       "      <td>1072.329956</td>\n",
       "      <td>240.0</td>\n",
       "      <td>19.299999</td>\n",
       "      <td>41.18</td>\n",
       "      <td>117.930000</td>\n",
       "      <td>NaN</td>\n",
       "      <td>376.450012</td>\n",
       "      <td>237.470001</td>\n",
       "      <td>40.000000</td>\n",
       "      <td>NaN</td>\n",
       "    </tr>\n",
       "    <tr>\n",
       "      <th>201301</th>\n",
       "      <td>7.157727</td>\n",
       "      <td>-10.73659</td>\n",
       "      <td>2.539835</td>\n",
       "      <td>16765.099609</td>\n",
       "      <td>986.669983</td>\n",
       "      <td>80.0</td>\n",
       "      <td>90.169998</td>\n",
       "      <td>52.77</td>\n",
       "      <td>86.580002</td>\n",
       "      <td>NaN</td>\n",
       "      <td>353.250000</td>\n",
       "      <td>-26.000000</td>\n",
       "      <td>349.899994</td>\n",
       "      <td>NaN</td>\n",
       "    </tr>\n",
       "  </tbody>\n",
       "</table>\n",
       "</div>"
      ],
      "text/plain": [
       "                sa_inflows  sa_inflows_net  entropy_sptac        income  \\\n",
       "user_id ym                                                                \n",
       "14777   201212         NaN             NaN       2.648409  14587.120117   \n",
       "        201301    7.157727       -10.73659       2.539835  16765.099609   \n",
       "\n",
       "                total_monthly_spend  tag_spend_other_spend  \\\n",
       "user_id ym                                                   \n",
       "14777   201212          1072.329956                  240.0   \n",
       "        201301           986.669983                   80.0   \n",
       "\n",
       "                tag_spend_services  tag_spend_finance  \\\n",
       "user_id ym                                              \n",
       "14777   201212           19.299999              41.18   \n",
       "        201301           90.169998              52.77   \n",
       "\n",
       "                tag_spend_communication  tag_spend_motor  tag_spend_household  \\\n",
       "user_id ym                                                                      \n",
       "14777   201212               117.930000              NaN           376.450012   \n",
       "        201301                86.580002              NaN           353.250000   \n",
       "\n",
       "                tag_spend_retail  tag_spend_travel  tag_spend_hobbies  \n",
       "user_id ym                                                             \n",
       "14777   201212        237.470001         40.000000                NaN  \n",
       "        201301        -26.000000        349.899994                NaN  "
      ]
     },
     "metadata": {},
     "output_type": "display_data"
    }
   ],
   "source": [
    "def total_monthly_spend(df):\n",
    "    group_vars = [\"user_id\", \"ym\"]\n",
    "    mask = df.tag_group.eq(\"spend\")\n",
    "    s = df[mask].groupby(group_vars).amount.sum().rename(\"total_monthly_spend\")\n",
    "    return df.merge(s, on=group_vars)\n",
    "\n",
    "\n",
    "def tag_monthly_spend(df):\n",
    "    df = df.copy()\n",
    "    group_vars = [\"user_id\", \"ym\", \"tag\"]\n",
    "    mask = df.tag_group.eq(\"spend\")\n",
    "    df[\"tag\"] = df.tag.cat.rename_categories(lambda x: \"tag_spend_\" + x)\n",
    "    s = (\n",
    "        df[mask]\n",
    "        .groupby(group_vars, observed=True)\n",
    "        .amount.sum()\n",
    "        .rename(\"tag_monthly_spend\")\n",
    "        .unstack()\n",
    "    )\n",
    "    return df.merge(s, on=[\"user_id\", \"ym\"])\n",
    "\n",
    "\n",
    "def monthly_savings(df, trim_pct=5):\n",
    "    \"\"\"Aggregates df into inflows, outflows, and net, by user month, trims at\n",
    "    specified percentile, and scales flows by user's monthly income.\n",
    "    \"\"\"\n",
    "\n",
    "    def trim_column_values(df, **kwargs):\n",
    "        return df.apply(hd.trim, **kwargs)\n",
    "\n",
    "    mask = df.account_type.eq(\"savings\") & ~df.tag_auto.str.contains(\n",
    "        \"interest\", na=False\n",
    "    )\n",
    "    df[\"debit\"] = df.debit.replace({True: \"debit\", False: \"credit\"})\n",
    "    s = (\n",
    "        df[mask]\n",
    "        .groupby([\"user_id\", \"ym\", \"income\", \"debit\"])\n",
    "        .amount.sum()\n",
    "        .abs()\n",
    "        .unstack()\n",
    "        .reset_index(\"income\")\n",
    "        .assign(\n",
    "            sa_inflows=lambda df: df.credit / (df.income / 12) * 100,\n",
    "            sa_outflows=lambda df: df.debit / (df.income / 12) * 100,\n",
    "        )\n",
    "        .fillna(0)\n",
    "        .assign(sa_inflows_net=lambda df: df.sa_inflows - df.sa_outflows)\n",
    "        .drop(columns=[\"income\", \"debit\", \"credit\"])\n",
    "        .pipe(trim_column_values, pct=trim_pct)\n",
    "    )\n",
    "    return df.merge(s, how=\"inner\", on=[\"user_id\", \"ym\"])\n",
    "\n",
    "\n",
    "def make_analysis_data(df):\n",
    "    df = df.copy()\n",
    "    # add variables - temp\n",
    "    df = df.pipe(total_monthly_spend).pipe(tag_monthly_spend).pipe(monthly_savings)\n",
    "\n",
    "    tag_spend = df.columns[df.columns.str.startswith(\"tag_spend\")]\n",
    "\n",
    "    # collapse to user-ym\n",
    "    cols = [\n",
    "        \"sa_inflows\",\n",
    "        \"sa_inflows_net\",\n",
    "        \"entropy_sptac\",\n",
    "        \"income\",\n",
    "        \"total_monthly_spend\",\n",
    "    ] + list(tag_spend)\n",
    "    return df.groupby([\"user_id\", \"ym\"]).first()[cols]\n",
    "\n",
    "\n",
    "analysis_data = make_analysis_data(dfs)\n",
    "hd.inspect(analysis_data)"
   ]
  },
  {
   "cell_type": "markdown",
   "id": "43ba497b-6b7e-440f-8c94-ae238d6eb1ab",
   "metadata": {},
   "source": [
    "## Main results"
   ]
  },
  {
   "cell_type": "markdown",
   "id": "3c74e874-1424-4e3f-9b76-7947b5d781ab",
   "metadata": {},
   "source": [
    "Full FE equation as baseline"
   ]
  },
  {
   "cell_type": "markdown",
   "id": "d84abd24-9f94-4659-bb3e-e0ed622461ab",
   "metadata": {},
   "source": []
  },
  {
   "cell_type": "code",
   "execution_count": null,
   "id": "fb508fbb-68b3-43ca-b884-1704eb472bb0",
   "metadata": {},
   "outputs": [],
   "source": []
  },
  {
   "cell_type": "markdown",
   "id": "9378859e-fae3-4dc1-99e6-6f24a07711ad",
   "metadata": {},
   "source": [
    "## Lagged-dependent variable"
   ]
  },
  {
   "cell_type": "code",
   "execution_count": null,
   "id": "65dec75a-43f3-4750-97a0-6f0ddf69c8cf",
   "metadata": {},
   "outputs": [],
   "source": []
  }
 ],
 "metadata": {
  "kernelspec": {
   "display_name": "entropy",
   "language": "python",
   "name": "entropy"
  },
  "language_info": {
   "codemirror_mode": {
    "name": "ipython",
    "version": 3
   },
   "file_extension": ".py",
   "mimetype": "text/x-python",
   "name": "python",
   "nbconvert_exporter": "python",
   "pygments_lexer": "ipython3",
   "version": "3.9.7"
  }
 },
 "nbformat": 4,
 "nbformat_minor": 5
}
