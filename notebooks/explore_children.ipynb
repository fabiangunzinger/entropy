{
 "cells": [
  {
   "cell_type": "markdown",
   "id": "96c3348c-b673-4bd9-ab6e-f8c427f36e82",
   "metadata": {},
   "source": [
    "Notebook purpose:\n",
    "\n",
    "- Explore feasibility of identifying number of children\n",
    "\n",
    "Historical child benefit rates:\n",
    "\n",
    "- https://revenuebenefits.org.uk/child-benefit/guidance/how-much-can-your-client-get/rates-and-tables/"
   ]
  },
  {
   "cell_type": "code",
   "execution_count": 5,
   "id": "602f8929-cb96-4abf-99fb-50f3e9d4cf5f",
   "metadata": {},
   "outputs": [
    {
     "name": "stdout",
     "output_type": "stream",
     "text": [
      "The autoreload extension is already loaded. To reload it, use:\n",
      "  %reload_ext autoreload\n"
     ]
    }
   ],
   "source": [
    "import sys\n",
    "\n",
    "import pandas as pd\n",
    "import s3fs\n",
    "\n",
    "sys.path.append(\"/Users/fgu/dev/projects/entropy\")\n",
    "import entropy.data.cleaners as cl\n",
    "import entropy.data.creators as cr\n",
    "import entropy.data.make_data as md\n",
    "import entropy.data.selectors as sl\n",
    "import entropy.helpers.aws as ha\n",
    "import entropy.helpers.data as hd\n",
    "import entropy.helpers.helpers as hh\n",
    "\n",
    "pd.set_option(\"display.max_rows\", 120)\n",
    "pd.set_option(\"display.max_columns\", 120)\n",
    "pd.set_option(\"max_colwidth\", None)\n",
    "%load_ext autoreload\n",
    "%autoreload 2\n",
    "\n",
    "fs = s3fs.S3FileSystem(profile=\"3di\")"
   ]
  },
  {
   "cell_type": "code",
   "execution_count": 41,
   "id": "72fad89f-3e2b-4ae6-819b-cfc8759682a0",
   "metadata": {},
   "outputs": [
    {
     "name": "stdout",
     "output_type": "stream",
     "text": [
      "Time for read_sample                   : 3.78 minutes\n"
     ]
    }
   ],
   "source": [
    "df = hd.read_sample(\"XX7\")"
   ]
  },
  {
   "cell_type": "code",
   "execution_count": 50,
   "id": "a7378789-25b9-4543-a852-5f234d8856a9",
   "metadata": {},
   "outputs": [
    {
     "data": {
      "text/plain": [
       "[WeeklyBenefitsRates(first=21.05, subsequent=13.95),\n",
       " WeeklyBenefitsRates(first=20.7, subsequent=13.7)]"
      ]
     },
     "execution_count": 50,
     "metadata": {},
     "output_type": "execute_result"
    }
   ],
   "source": [
    "import collections\n",
    "\n",
    "WeeklyBenefitsRates = collections.namedtuple(\n",
    "    \"WeeklyBenefitsRates\", (\"first\", \"subsequent\")\n",
    ")\n",
    "\n",
    "rates = [\n",
    "    WeeklyBenefitsRates(21.05, 13.95),\n",
    "    WeeklyBenefitsRates(20.70, 13.70),\n",
    "]\n",
    "\n",
    "rates"
   ]
  },
  {
   "cell_type": "markdown",
   "id": "a48bd854-4898-4f00-bcc3-d55daa10207e",
   "metadata": {
    "jp-MarkdownHeadingCollapsed": true,
    "tags": []
   },
   "source": [
    "Approach 1\n",
    "- Enumerate all possible amounts for up to 5 children\n",
    "\n",
    "\n"
   ]
  },
  {
   "cell_type": "code",
   "execution_count": 47,
   "id": "4172b1b7-d821-4e16-9bca-545fbb7ff072",
   "metadata": {},
   "outputs": [
    {
     "data": {
      "text/plain": [
       "user_id\n",
       "37        28\n",
       "4257      37\n",
       "5967      11\n",
       "11687      6\n",
       "17717     12\n",
       "          ..\n",
       "581147    17\n",
       "583677    37\n",
       "583957    37\n",
       "584537    10\n",
       "588317    14\n",
       "Length: 348, dtype: int64"
      ]
     },
     "execution_count": 47,
     "metadata": {},
     "output_type": "execute_result"
    }
   ],
   "source": [
    "def child_benefits(df):\n",
    "\n",
    "    return (\n",
    "        df.loc[df.tag.eq(\"benefits\") & df.desc.str.contains(\"chb\")]\n",
    "        .set_index(\"date\")\n",
    "        .loc[\"Apr 2019\":\"March 2020\"]\n",
    "        .sort_values([\"user_id\", \"date\"])\n",
    "    )\n",
    "\n",
    "\n",
    "def child_benefits(df):\n",
    "    return df[df.amount.eq(-137.6)].groupby(\"user_id\").size()\n",
    "\n",
    "\n",
    "child_benefits(df)"
   ]
  }
 ],
 "metadata": {
  "kernelspec": {
   "display_name": "entropy",
   "language": "python",
   "name": "entropy"
  },
  "language_info": {
   "codemirror_mode": {
    "name": "ipython",
    "version": 3
   },
   "file_extension": ".py",
   "mimetype": "text/x-python",
   "name": "python",
   "nbconvert_exporter": "python",
   "pygments_lexer": "ipython3",
   "version": "3.9.7"
  }
 },
 "nbformat": 4,
 "nbformat_minor": 5
}
