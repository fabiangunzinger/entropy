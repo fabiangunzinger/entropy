{
 "cells": [
  {
   "cell_type": "markdown",
   "id": "96c3348c-b673-4bd9-ab6e-f8c427f36e82",
   "metadata": {},
   "source": [
    "Notebook purpose:\n",
    "\n",
    "- Explore feasibility of identifying number of children\n",
    "\n",
    "Info:\n",
    "\n",
    "- [Historical child benefit rates](https://revenuebenefits.org.uk/child-benefit/guidance/how-much-can-your-client-get/rates-and-tables/)\n",
    "\n",
    "- [UK tax year runs from 6 April to 5 April](https://www.gov.uk/self-assessment-tax-returns/deadlines)\n",
    "\n"
   ]
  },
  {
   "cell_type": "code",
   "execution_count": 6,
   "id": "602f8929-cb96-4abf-99fb-50f3e9d4cf5f",
   "metadata": {},
   "outputs": [
    {
     "name": "stdout",
     "output_type": "stream",
     "text": [
      "The autoreload extension is already loaded. To reload it, use:\n",
      "  %reload_ext autoreload\n"
     ]
    }
   ],
   "source": [
    "import sys\n",
    "\n",
    "import numpy as np\n",
    "import pandas as pd\n",
    "import s3fs\n",
    "import scipy\n",
    "import seaborn as sns\n",
    "\n",
    "sys.path.append(\"/Users/fgu/dev/projects/entropy\")\n",
    "import entropy.data.aggregators as ag\n",
    "import entropy.data.cleaners as cl\n",
    "import entropy.data.make_data as md\n",
    "import entropy.data.selectors as sl\n",
    "import entropy.data.validators as vl\n",
    "import entropy.helpers.aws as ha\n",
    "import entropy.helpers.data as hd\n",
    "import entropy.helpers.helpers as hh\n",
    "\n",
    "pd.set_option(\"display.max_rows\", 120)\n",
    "pd.set_option(\"display.max_columns\", 120)\n",
    "pd.set_option(\"max_colwidth\", None)\n",
    "%load_ext autoreload\n",
    "%autoreload 2\n",
    "\n",
    "fs = s3fs.S3FileSystem(profile=\"3di\")"
   ]
  },
  {
   "cell_type": "code",
   "execution_count": 7,
   "id": "72fad89f-3e2b-4ae6-819b-cfc8759682a0",
   "metadata": {},
   "outputs": [
    {
     "name": "stdout",
     "output_type": "stream",
     "text": [
      "Time for read_txn_data                 : 2.41 seconds\n"
     ]
    }
   ],
   "source": [
    "df = hd.read_txn_data(\"777\")"
   ]
  },
  {
   "cell_type": "markdown",
   "id": "872bb390-1d59-4ad2-bceb-7ecd54dd5dcf",
   "metadata": {},
   "source": [
    "## Identifying child benefit payments in the data"
   ]
  },
  {
   "cell_type": "code",
   "execution_count": 9,
   "id": "4172b1b7-d821-4e16-9bca-545fbb7ff072",
   "metadata": {},
   "outputs": [
    {
     "data": {
      "text/html": [
       "<div>\n",
       "<style scoped>\n",
       "    .dataframe tbody tr th:only-of-type {\n",
       "        vertical-align: middle;\n",
       "    }\n",
       "\n",
       "    .dataframe tbody tr th {\n",
       "        vertical-align: top;\n",
       "    }\n",
       "\n",
       "    .dataframe thead th {\n",
       "        text-align: right;\n",
       "    }\n",
       "</style>\n",
       "<table border=\"1\" class=\"dataframe\">\n",
       "  <thead>\n",
       "    <tr style=\"text-align: right;\">\n",
       "      <th></th>\n",
       "      <th>user_id</th>\n",
       "      <th>amount</th>\n",
       "      <th>desc</th>\n",
       "      <th>merchant</th>\n",
       "      <th>tag_group</th>\n",
       "      <th>tag</th>\n",
       "      <th>account_id</th>\n",
       "      <th>account_last_refreshed</th>\n",
       "      <th>account_provider</th>\n",
       "      <th>account_type</th>\n",
       "      <th>debit</th>\n",
       "      <th>female</th>\n",
       "      <th>id</th>\n",
       "      <th>is_urban</th>\n",
       "      <th>latest_balance</th>\n",
       "      <th>logins</th>\n",
       "      <th>postcode</th>\n",
       "      <th>region_name</th>\n",
       "      <th>tag_auto</th>\n",
       "      <th>yob</th>\n",
       "    </tr>\n",
       "    <tr>\n",
       "      <th>date</th>\n",
       "      <th></th>\n",
       "      <th></th>\n",
       "      <th></th>\n",
       "      <th></th>\n",
       "      <th></th>\n",
       "      <th></th>\n",
       "      <th></th>\n",
       "      <th></th>\n",
       "      <th></th>\n",
       "      <th></th>\n",
       "      <th></th>\n",
       "      <th></th>\n",
       "      <th></th>\n",
       "      <th></th>\n",
       "      <th></th>\n",
       "      <th></th>\n",
       "      <th></th>\n",
       "      <th></th>\n",
       "      <th></th>\n",
       "      <th></th>\n",
       "    </tr>\n",
       "  </thead>\n",
       "  <tbody>\n",
       "    <tr>\n",
       "      <th>2019-04-09</th>\n",
       "      <td>777</td>\n",
       "      <td>-137.600006</td>\n",
       "      <td>bank credit &lt;mdbremoved&gt; -chb xxxxxx xxxx1802</td>\n",
       "      <td>NaN</td>\n",
       "      <td>income</td>\n",
       "      <td>benefits</td>\n",
       "      <td>1419376</td>\n",
       "      <td>2019-09-08 07:52:00</td>\n",
       "      <td>nationwide</td>\n",
       "      <td>current</td>\n",
       "      <td>False</td>\n",
       "      <td>0.0</td>\n",
       "      <td>606532064</td>\n",
       "      <td>1.0</td>\n",
       "      <td>1729.390015</td>\n",
       "      <td>0.0</td>\n",
       "      <td>wa1 4</td>\n",
       "      <td>north west</td>\n",
       "      <td>family benefits</td>\n",
       "      <td>1969.0</td>\n",
       "    </tr>\n",
       "    <tr>\n",
       "      <th>2019-05-07</th>\n",
       "      <td>777</td>\n",
       "      <td>-137.600006</td>\n",
       "      <td>bank credit &lt;mdbremoved&gt; -chb xxxxxx xxxx1802</td>\n",
       "      <td>NaN</td>\n",
       "      <td>income</td>\n",
       "      <td>benefits</td>\n",
       "      <td>1419376</td>\n",
       "      <td>2019-09-08 07:52:00</td>\n",
       "      <td>nationwide</td>\n",
       "      <td>current</td>\n",
       "      <td>False</td>\n",
       "      <td>0.0</td>\n",
       "      <td>606532073</td>\n",
       "      <td>1.0</td>\n",
       "      <td>1729.390015</td>\n",
       "      <td>0.0</td>\n",
       "      <td>wa1 4</td>\n",
       "      <td>north west</td>\n",
       "      <td>family benefits</td>\n",
       "      <td>1969.0</td>\n",
       "    </tr>\n",
       "    <tr>\n",
       "      <th>2019-06-04</th>\n",
       "      <td>777</td>\n",
       "      <td>-137.600006</td>\n",
       "      <td>bank credit &lt;mdbremoved&gt; -chb xxxxxx xxxx1802</td>\n",
       "      <td>NaN</td>\n",
       "      <td>income</td>\n",
       "      <td>benefits</td>\n",
       "      <td>1419376</td>\n",
       "      <td>2019-09-08 07:52:00</td>\n",
       "      <td>nationwide</td>\n",
       "      <td>current</td>\n",
       "      <td>False</td>\n",
       "      <td>0.0</td>\n",
       "      <td>606532085</td>\n",
       "      <td>1.0</td>\n",
       "      <td>1729.390015</td>\n",
       "      <td>0.0</td>\n",
       "      <td>wa1 4</td>\n",
       "      <td>north west</td>\n",
       "      <td>family benefits</td>\n",
       "      <td>1969.0</td>\n",
       "    </tr>\n",
       "  </tbody>\n",
       "</table>\n",
       "</div>"
      ],
      "text/plain": [
       "            user_id      amount  \\\n",
       "date                              \n",
       "2019-04-09      777 -137.600006   \n",
       "2019-05-07      777 -137.600006   \n",
       "2019-06-04      777 -137.600006   \n",
       "\n",
       "                                                     desc merchant tag_group  \\\n",
       "date                                                                           \n",
       "2019-04-09  bank credit <mdbremoved> -chb xxxxxx xxxx1802      NaN    income   \n",
       "2019-05-07  bank credit <mdbremoved> -chb xxxxxx xxxx1802      NaN    income   \n",
       "2019-06-04  bank credit <mdbremoved> -chb xxxxxx xxxx1802      NaN    income   \n",
       "\n",
       "                 tag  account_id account_last_refreshed account_provider  \\\n",
       "date                                                                       \n",
       "2019-04-09  benefits     1419376    2019-09-08 07:52:00       nationwide   \n",
       "2019-05-07  benefits     1419376    2019-09-08 07:52:00       nationwide   \n",
       "2019-06-04  benefits     1419376    2019-09-08 07:52:00       nationwide   \n",
       "\n",
       "           account_type  debit  female         id  is_urban  latest_balance  \\\n",
       "date                                                                          \n",
       "2019-04-09      current  False     0.0  606532064       1.0     1729.390015   \n",
       "2019-05-07      current  False     0.0  606532073       1.0     1729.390015   \n",
       "2019-06-04      current  False     0.0  606532085       1.0     1729.390015   \n",
       "\n",
       "            logins postcode region_name         tag_auto     yob  \n",
       "date                                                              \n",
       "2019-04-09     0.0    wa1 4  north west  family benefits  1969.0  \n",
       "2019-05-07     0.0    wa1 4  north west  family benefits  1969.0  \n",
       "2019-06-04     0.0    wa1 4  north west  family benefits  1969.0  "
      ]
     },
     "execution_count": 9,
     "metadata": {},
     "output_type": "execute_result"
    }
   ],
   "source": [
    "def child_benefits(df):\n",
    "    return (\n",
    "        df.loc[df.tag_auto.eq(\"family benefits\")]\n",
    "        .set_index(\"date\")\n",
    "        .loc[\"Apr 2019\":\"March 2020\"]\n",
    "        .sort_values([\"user_id\", \"date\"])\n",
    "    )\n",
    "\n",
    "\n",
    "cb = child_benefits(df)\n",
    "cb.head(3)"
   ]
  },
  {
   "cell_type": "markdown",
   "id": "d3a366be-cbff-40a3-8666-d03ea57a30f2",
   "metadata": {},
   "source": [
    "In tax year 2019/2020, wkly allowance was £20.7 for first child and £13.7 for each additional child. We'd thus expect to find the following amounts:"
   ]
  },
  {
   "cell_type": "code",
   "execution_count": 12,
   "id": "c1d1b455-70e7-4fb9-a966-f3a0397e2c0d",
   "metadata": {},
   "outputs": [
    {
     "data": {
      "text/plain": [
       "[82.8, 137.6, 192.39999999999998, 247.2, 302.0, 356.8]"
      ]
     },
     "execution_count": 12,
     "metadata": {},
     "output_type": "execute_result"
    }
   ],
   "source": [
    "[(20.7 + (children - 1) * 13.7) * 4 for children in range(1, 6)]"
   ]
  },
  {
   "cell_type": "markdown",
   "id": "5ab7c2ce-489d-4109-8f67-a5e4836882fc",
   "metadata": {},
   "source": [
    "Which is exactly what we tend to find"
   ]
  },
  {
   "cell_type": "code",
   "execution_count": 13,
   "id": "821e1c5c-2db9-4d80-ad5f-025696f2e0b4",
   "metadata": {},
   "outputs": [
    {
     "data": {
      "text/plain": [
       "-82.800003     86\n",
       "-137.600006    65\n",
       "-49.820000     39\n",
       "-299.390015    15\n",
       "-144.630005    13\n",
       "Name: amount, dtype: int64"
      ]
     },
     "execution_count": 13,
     "metadata": {},
     "output_type": "execute_result"
    }
   ],
   "source": [
    "cb.amount.value_counts().head(5)"
   ]
  },
  {
   "cell_type": "markdown",
   "id": "ca407c5c-fc56-47d7-9432-894ffb4a63a9",
   "metadata": {},
   "source": [
    "## Implementation"
   ]
  },
  {
   "cell_type": "code",
   "execution_count": 17,
   "id": "1ce8ed29-8bae-4531-a54f-fa00399d9271",
   "metadata": {},
   "outputs": [],
   "source": [
    "def get_num_children(df):\n",
    "    \"\"\"Returns number of children per user-month for child benefit recipients.\n",
    "\n",
    "    Forward-updates values with max number children identified up to that\n",
    "    point to deal with cases where benefits drop temporarily or for rest of\n",
    "    observation period.\n",
    "    \"\"\"\n",
    "    # 2021 refers to tax year Apr 2021 to Mar 2022\n",
    "    # Values are weekly allowances for first and\n",
    "    # subsequent children, respectively.\n",
    "    # Source: https://revenuebenefits.org.uk/child-benefit/\n",
    "    # guidance/how-much-can-your-client-get/rates-and-tables/\n",
    "    tax_year_rates = {\n",
    "        2021: [21.15, 14.00],\n",
    "        2020: [21.05, 13.95],\n",
    "        2019: [20.70, 13.70],\n",
    "        2018: [20.70, 13.70],\n",
    "        2017: [20.70, 13.70],\n",
    "        2016: [20.70, 13.70],\n",
    "        2015: [20.70, 13.70],\n",
    "        2014: [20.50, 13.55],\n",
    "        2013: [20.30, 13.40],\n",
    "        2012: [20.30, 13.40],\n",
    "        2011: [20.30, 13.40],\n",
    "    }\n",
    "\n",
    "    # Example:\n",
    "    # num_children[(2020, 140)] = 2, as (21.05 + 13.95) * 4 = 140,\n",
    "    # and allowances are paid in 4-week intervals\n",
    "    num_children = {}\n",
    "    for year, (rate_first, rate_additional) in tax_year_rates.items():\n",
    "        for children in range(1, 6):\n",
    "            allowance = int((rate_first + (children - 1) * rate_additional) * 4)\n",
    "            num_children[(year, allowance)] = children\n",
    "\n",
    "    is_chb = df.tag_auto.eq(\"family benefits\") & ~df.is_debit\n",
    "    amount = -df.amount.where(is_chb, 0).astype(int)\n",
    "    tax_year = (df.date.dt.to_period(\"A-Mar\") - 1).dt.year\n",
    "\n",
    "    num_children = (\n",
    "        pd.Series(zip(tax_year, amount))\n",
    "        .map(num_children)\n",
    "        .groupby([df.user_id, df.date.dt.to_period(\"m\")])\n",
    "        .transform(\"max\")\n",
    "        .fillna(0)\n",
    "        .groupby(df.user_id)\n",
    "        .cummax()\n",
    "        .rename(\"num_children\")\n",
    "    )\n",
    "\n",
    "    has_new_child = (\n",
    "        num_children.groupby(df.user_id)\n",
    "        .diff()\n",
    "        .groupby([df.user_id, df.date.dt.to_period(\"m\")])\n",
    "        .transform(\"max\")\n",
    "        .eq(1)\n",
    "        .astype(int)\n",
    "        .rename(\"has_new_child\")\n",
    "    )\n",
    "\n",
    "    return pd.concat([num_children, has_new_child], axis=1)\n",
    "\n",
    "\n",
    "df[[\"num_children\", \"has_new_child\"]] = get_num_children(df)"
   ]
  },
  {
   "cell_type": "markdown",
   "id": "88b1f206-8ae6-48df-88a5-bac605e6544b",
   "metadata": {},
   "source": [
    "## Sense checks"
   ]
  },
  {
   "cell_type": "markdown",
   "id": "2d67a530-215b-426e-8d35-6a1f03cf0435",
   "metadata": {},
   "source": [
    "We observe children for about 15 percent of users"
   ]
  },
  {
   "cell_type": "code",
   "execution_count": 18,
   "id": "10cbbdfd-5f3e-4e64-8a55-8fc29bf32967",
   "metadata": {},
   "outputs": [
    {
     "data": {
      "text/plain": [
       "0.16"
      ]
     },
     "execution_count": 18,
     "metadata": {},
     "output_type": "execute_result"
    }
   ],
   "source": [
    "df.groupby(\"user_id\").num_children.max().gt(0).mean().round(2)"
   ]
  },
  {
   "cell_type": "markdown",
   "id": "7b81c4a8-a93a-41af-8d5a-a7a34fb32283",
   "metadata": {},
   "source": [
    "... and for about the same proportion of transactions."
   ]
  },
  {
   "cell_type": "code",
   "execution_count": 19,
   "id": "45140f3d-7b1c-4c0d-88ef-8abe659de2d6",
   "metadata": {},
   "outputs": [
    {
     "data": {
      "text/plain": [
       "0.2"
      ]
     },
     "execution_count": 19,
     "metadata": {},
     "output_type": "execute_result"
    }
   ],
   "source": [
    "df.num_children.gt(0).mean().round(2)"
   ]
  },
  {
   "cell_type": "markdown",
   "id": "1da66641-4c42-4959-b146-92fb9a2d1704",
   "metadata": {},
   "source": [
    "Observed number of jumps:"
   ]
  },
  {
   "cell_type": "code",
   "execution_count": 20,
   "id": "dd0586d5-ed35-44da-8747-cb0cca8d05f0",
   "metadata": {},
   "outputs": [
    {
     "data": {
      "text/html": [
       "<div>\n",
       "<style scoped>\n",
       "    .dataframe tbody tr th:only-of-type {\n",
       "        vertical-align: middle;\n",
       "    }\n",
       "\n",
       "    .dataframe tbody tr th {\n",
       "        vertical-align: top;\n",
       "    }\n",
       "\n",
       "    .dataframe thead th {\n",
       "        text-align: right;\n",
       "    }\n",
       "</style>\n",
       "<table border=\"1\" class=\"dataframe\">\n",
       "  <thead>\n",
       "    <tr style=\"text-align: right;\">\n",
       "      <th></th>\n",
       "      <th>date</th>\n",
       "      <th>user_id</th>\n",
       "      <th>num_children</th>\n",
       "      <th>amount</th>\n",
       "      <th>desc</th>\n",
       "      <th>merchant</th>\n",
       "      <th>tag_group</th>\n",
       "      <th>tag</th>\n",
       "      <th>female</th>\n",
       "    </tr>\n",
       "  </thead>\n",
       "  <tbody>\n",
       "    <tr>\n",
       "      <th>0</th>\n",
       "      <td>2012-02-01</td>\n",
       "      <td>777</td>\n",
       "      <td>0.0</td>\n",
       "      <td>400.00</td>\n",
       "      <td>&lt;mdbremoved&gt; - s/o</td>\n",
       "      <td>NaN</td>\n",
       "      <td>transfers</td>\n",
       "      <td>other_transfers</td>\n",
       "      <td>0.0</td>\n",
       "    </tr>\n",
       "    <tr>\n",
       "      <th>1</th>\n",
       "      <td>2012-02-01</td>\n",
       "      <td>777</td>\n",
       "      <td>0.0</td>\n",
       "      <td>3.03</td>\n",
       "      <td>aviva pa - d/d</td>\n",
       "      <td>aviva</td>\n",
       "      <td>spend</td>\n",
       "      <td>finance</td>\n",
       "      <td>0.0</td>\n",
       "    </tr>\n",
       "    <tr>\n",
       "      <th>2</th>\n",
       "      <td>2012-02-03</td>\n",
       "      <td>777</td>\n",
       "      <td>0.0</td>\n",
       "      <td>8.75</td>\n",
       "      <td>chart ins log tran - d/d</td>\n",
       "      <td>NaN</td>\n",
       "      <td>NaN</td>\n",
       "      <td>NaN</td>\n",
       "      <td>0.0</td>\n",
       "    </tr>\n",
       "  </tbody>\n",
       "</table>\n",
       "</div>"
      ],
      "text/plain": [
       "        date  user_id  num_children  amount                      desc  \\\n",
       "0 2012-02-01      777           0.0  400.00        <mdbremoved> - s/o   \n",
       "1 2012-02-01      777           0.0    3.03            aviva pa - d/d   \n",
       "2 2012-02-03      777           0.0    8.75  chart ins log tran - d/d   \n",
       "\n",
       "  merchant  tag_group              tag  female  \n",
       "0      NaN  transfers  other_transfers     0.0  \n",
       "1    aviva      spend          finance     0.0  \n",
       "2      NaN        NaN              NaN     0.0  "
      ]
     },
     "execution_count": 20,
     "metadata": {},
     "output_type": "execute_result"
    }
   ],
   "source": [
    "def children_data(df):\n",
    "    cond = df.groupby(\"user_id\").num_children.max().gt(0)\n",
    "    users = cond[cond].index\n",
    "    cols = [\n",
    "        \"date\",\n",
    "        \"user_id\",\n",
    "        \"num_children\",\n",
    "        \"amount\",\n",
    "        \"desc\",\n",
    "        \"merchant\",\n",
    "        \"tag_group\",\n",
    "        \"tag\",\n",
    "        \"is_female\",\n",
    "    ]\n",
    "    return df.loc[df.user_id.isin(users), cols]\n",
    "\n",
    "\n",
    "dfc = children_data(df)\n",
    "dfc.head(3)"
   ]
  },
  {
   "cell_type": "markdown",
   "id": "4d19c3e3-4c9e-4ba2-9a1b-523dca288430",
   "metadata": {},
   "source": [
    "60 percent of recipients are male"
   ]
  },
  {
   "cell_type": "code",
   "execution_count": 21,
   "id": "d6a0501c-e3a7-4fee-8a8c-e6cb5e36354b",
   "metadata": {},
   "outputs": [
    {
     "data": {
      "text/plain": [
       "0.4"
      ]
     },
     "execution_count": 21,
     "metadata": {},
     "output_type": "execute_result"
    }
   ],
   "source": [
    "dfc.groupby(\"user_id\").is_female.first().mean().round(2)"
   ]
  },
  {
   "cell_type": "markdown",
   "id": "f2dd1554-8e20-4902-b304-b43f71e1c666",
   "metadata": {},
   "source": [
    "We observe a fair number of cases for which the number of children increases by more than 1. Given that probability of having twins is 1/250 ([NHS says](https://www.nhs.uk/pregnancy/finding-out/pregnant-with-twins/)), it's much more likely that in these cases we simply don't observe benefit payments. So, we'll only treat increases of 1 as the birth of a new child. "
   ]
  },
  {
   "cell_type": "code",
   "execution_count": 22,
   "id": "6299efc4-9384-4dd4-a276-145cdeefaa23",
   "metadata": {},
   "outputs": [
    {
     "data": {
      "text/plain": [
       "1.0    8\n",
       "2.0    5\n",
       "4.0    1\n",
       "3.0    1\n",
       "Name: num_children, dtype: int64"
      ]
     },
     "execution_count": 22,
     "metadata": {},
     "output_type": "execute_result"
    }
   ],
   "source": [
    "monthly = dfc.groupby([\"user_id\", df.date.dt.to_period(\"m\")]).num_children.first()\n",
    "cond = monthly.groupby(\"user_id\").diff().gt(0)\n",
    "monthly[cond].value_counts()"
   ]
  },
  {
   "cell_type": "code",
   "execution_count": null,
   "id": "caf472a0-5b8b-46f2-843e-8338edc0d879",
   "metadata": {},
   "outputs": [],
   "source": []
  }
 ],
 "metadata": {
  "kernelspec": {
   "display_name": "entropy",
   "language": "python",
   "name": "entropy"
  },
  "language_info": {
   "codemirror_mode": {
    "name": "ipython",
    "version": 3
   },
   "file_extension": ".py",
   "mimetype": "text/x-python",
   "name": "python",
   "nbconvert_exporter": "python",
   "pygments_lexer": "ipython3",
   "version": "3.9.7"
  }
 },
 "nbformat": 4,
 "nbformat_minor": 5
}
