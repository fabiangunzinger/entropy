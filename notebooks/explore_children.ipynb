{
 "cells": [
  {
   "cell_type": "markdown",
   "id": "96c3348c-b673-4bd9-ab6e-f8c427f36e82",
   "metadata": {},
   "source": [
    "Notebook purpose:\n",
    "\n",
    "- Explore feasibility of identifying number of children\n",
    "\n",
    "Info:\n",
    "\n",
    "- [Historical child benefit rates](https://revenuebenefits.org.uk/child-benefit/guidance/how-much-can-your-client-get/rates-and-tables/)\n",
    "\n",
    "- [UK tax year runs from 6 April to 5 April](https://www.gov.uk/self-assessment-tax-returns/deadlines)\n",
    "\n"
   ]
  },
  {
   "cell_type": "code",
   "execution_count": 2,
   "id": "602f8929-cb96-4abf-99fb-50f3e9d4cf5f",
   "metadata": {},
   "outputs": [],
   "source": [
    "import sys\n",
    "\n",
    "import numpy as np\n",
    "import pandas as pd\n",
    "import s3fs\n",
    "import scipy\n",
    "import seaborn as sns\n",
    "\n",
    "sys.path.append(\"/Users/fgu/dev/projects/entropy\")\n",
    "import entropy.data.aggregators as ag\n",
    "import entropy.data.cleaners as cl\n",
    "import entropy.data.make_data as md\n",
    "import entropy.data.selectors as sl\n",
    "import entropy.data.validators as vl\n",
    "import entropy.helpers.aws as ha\n",
    "import entropy.helpers.data as hd\n",
    "import entropy.helpers.helpers as hh\n",
    "\n",
    "pd.set_option(\"display.max_rows\", 120)\n",
    "pd.set_option(\"display.max_columns\", 120)\n",
    "pd.set_option(\"max_colwidth\", None)\n",
    "%load_ext autoreload\n",
    "%autoreload 2\n",
    "\n",
    "fs = s3fs.S3FileSystem(profile=\"3di\")"
   ]
  },
  {
   "cell_type": "code",
   "execution_count": 4,
   "id": "72fad89f-3e2b-4ae6-819b-cfc8759682a0",
   "metadata": {},
   "outputs": [
    {
     "name": "stdout",
     "output_type": "stream",
     "text": [
      "Time for read_txn_data                 : 2.98 seconds\n"
     ]
    }
   ],
   "source": [
    "df = hd.read_txn_data(\"777\")"
   ]
  },
  {
   "cell_type": "markdown",
   "id": "872bb390-1d59-4ad2-bceb-7ecd54dd5dcf",
   "metadata": {},
   "source": [
    "## Identifying child benefit payments in the data"
   ]
  },
  {
   "cell_type": "code",
   "execution_count": 20,
   "id": "4172b1b7-d821-4e16-9bca-545fbb7ff072",
   "metadata": {},
   "outputs": [
    {
     "data": {
      "text/html": [
       "<div>\n",
       "<style scoped>\n",
       "    .dataframe tbody tr th:only-of-type {\n",
       "        vertical-align: middle;\n",
       "    }\n",
       "\n",
       "    .dataframe tbody tr th {\n",
       "        vertical-align: top;\n",
       "    }\n",
       "\n",
       "    .dataframe thead th {\n",
       "        text-align: right;\n",
       "    }\n",
       "</style>\n",
       "<table border=\"1\" class=\"dataframe\">\n",
       "  <thead>\n",
       "    <tr style=\"text-align: right;\">\n",
       "      <th></th>\n",
       "      <th>user_id</th>\n",
       "      <th>amount</th>\n",
       "      <th>desc</th>\n",
       "      <th>merchant</th>\n",
       "      <th>tag_group</th>\n",
       "      <th>tag</th>\n",
       "      <th>account_id</th>\n",
       "      <th>account_last_refreshed</th>\n",
       "      <th>account_provider</th>\n",
       "      <th>account_type</th>\n",
       "      <th>debit</th>\n",
       "      <th>female</th>\n",
       "      <th>id</th>\n",
       "      <th>is_urban</th>\n",
       "      <th>latest_balance</th>\n",
       "      <th>logins</th>\n",
       "      <th>postcode</th>\n",
       "      <th>region_name</th>\n",
       "      <th>tag_auto</th>\n",
       "      <th>yob</th>\n",
       "    </tr>\n",
       "    <tr>\n",
       "      <th>date</th>\n",
       "      <th></th>\n",
       "      <th></th>\n",
       "      <th></th>\n",
       "      <th></th>\n",
       "      <th></th>\n",
       "      <th></th>\n",
       "      <th></th>\n",
       "      <th></th>\n",
       "      <th></th>\n",
       "      <th></th>\n",
       "      <th></th>\n",
       "      <th></th>\n",
       "      <th></th>\n",
       "      <th></th>\n",
       "      <th></th>\n",
       "      <th></th>\n",
       "      <th></th>\n",
       "      <th></th>\n",
       "      <th></th>\n",
       "      <th></th>\n",
       "    </tr>\n",
       "  </thead>\n",
       "  <tbody>\n",
       "    <tr>\n",
       "      <th>2019-04-09</th>\n",
       "      <td>777</td>\n",
       "      <td>-137.600006</td>\n",
       "      <td>bank credit &lt;mdbremoved&gt; -chb xxxxxx xxxx1802</td>\n",
       "      <td>NaN</td>\n",
       "      <td>income</td>\n",
       "      <td>benefits</td>\n",
       "      <td>1419376</td>\n",
       "      <td>2019-09-08 07:52:00</td>\n",
       "      <td>nationwide</td>\n",
       "      <td>current</td>\n",
       "      <td>False</td>\n",
       "      <td>0.0</td>\n",
       "      <td>606532064</td>\n",
       "      <td>1.0</td>\n",
       "      <td>1729.390015</td>\n",
       "      <td>0.0</td>\n",
       "      <td>wa1 4</td>\n",
       "      <td>north west</td>\n",
       "      <td>family benefits</td>\n",
       "      <td>1969.0</td>\n",
       "    </tr>\n",
       "    <tr>\n",
       "      <th>2019-05-07</th>\n",
       "      <td>777</td>\n",
       "      <td>-137.600006</td>\n",
       "      <td>bank credit &lt;mdbremoved&gt; -chb xxxxxx xxxx1802</td>\n",
       "      <td>NaN</td>\n",
       "      <td>income</td>\n",
       "      <td>benefits</td>\n",
       "      <td>1419376</td>\n",
       "      <td>2019-09-08 07:52:00</td>\n",
       "      <td>nationwide</td>\n",
       "      <td>current</td>\n",
       "      <td>False</td>\n",
       "      <td>0.0</td>\n",
       "      <td>606532073</td>\n",
       "      <td>1.0</td>\n",
       "      <td>1729.390015</td>\n",
       "      <td>0.0</td>\n",
       "      <td>wa1 4</td>\n",
       "      <td>north west</td>\n",
       "      <td>family benefits</td>\n",
       "      <td>1969.0</td>\n",
       "    </tr>\n",
       "    <tr>\n",
       "      <th>2019-06-04</th>\n",
       "      <td>777</td>\n",
       "      <td>-137.600006</td>\n",
       "      <td>bank credit &lt;mdbremoved&gt; -chb xxxxxx xxxx1802</td>\n",
       "      <td>NaN</td>\n",
       "      <td>income</td>\n",
       "      <td>benefits</td>\n",
       "      <td>1419376</td>\n",
       "      <td>2019-09-08 07:52:00</td>\n",
       "      <td>nationwide</td>\n",
       "      <td>current</td>\n",
       "      <td>False</td>\n",
       "      <td>0.0</td>\n",
       "      <td>606532085</td>\n",
       "      <td>1.0</td>\n",
       "      <td>1729.390015</td>\n",
       "      <td>0.0</td>\n",
       "      <td>wa1 4</td>\n",
       "      <td>north west</td>\n",
       "      <td>family benefits</td>\n",
       "      <td>1969.0</td>\n",
       "    </tr>\n",
       "    <tr>\n",
       "      <th>2019-07-02</th>\n",
       "      <td>777</td>\n",
       "      <td>-137.600006</td>\n",
       "      <td>bank credit &lt;mdbremoved&gt; -chb xxxxxx xxxx1802</td>\n",
       "      <td>NaN</td>\n",
       "      <td>income</td>\n",
       "      <td>benefits</td>\n",
       "      <td>1419376</td>\n",
       "      <td>2019-09-08 07:52:00</td>\n",
       "      <td>nationwide</td>\n",
       "      <td>current</td>\n",
       "      <td>False</td>\n",
       "      <td>0.0</td>\n",
       "      <td>606532103</td>\n",
       "      <td>1.0</td>\n",
       "      <td>1729.390015</td>\n",
       "      <td>0.0</td>\n",
       "      <td>wa1 4</td>\n",
       "      <td>north west</td>\n",
       "      <td>family benefits</td>\n",
       "      <td>1969.0</td>\n",
       "    </tr>\n",
       "    <tr>\n",
       "      <th>2019-07-30</th>\n",
       "      <td>777</td>\n",
       "      <td>-137.600006</td>\n",
       "      <td>bank credit &lt;mdbremoved&gt; -chb xxxxxx xxxx1802</td>\n",
       "      <td>NaN</td>\n",
       "      <td>income</td>\n",
       "      <td>benefits</td>\n",
       "      <td>1419376</td>\n",
       "      <td>2019-09-08 07:52:00</td>\n",
       "      <td>nationwide</td>\n",
       "      <td>current</td>\n",
       "      <td>False</td>\n",
       "      <td>0.0</td>\n",
       "      <td>606532110</td>\n",
       "      <td>1.0</td>\n",
       "      <td>1729.390015</td>\n",
       "      <td>0.0</td>\n",
       "      <td>wa1 4</td>\n",
       "      <td>north west</td>\n",
       "      <td>family benefits</td>\n",
       "      <td>1969.0</td>\n",
       "    </tr>\n",
       "  </tbody>\n",
       "</table>\n",
       "</div>"
      ],
      "text/plain": [
       "            user_id      amount  \\\n",
       "date                              \n",
       "2019-04-09      777 -137.600006   \n",
       "2019-05-07      777 -137.600006   \n",
       "2019-06-04      777 -137.600006   \n",
       "2019-07-02      777 -137.600006   \n",
       "2019-07-30      777 -137.600006   \n",
       "\n",
       "                                                     desc merchant tag_group  \\\n",
       "date                                                                           \n",
       "2019-04-09  bank credit <mdbremoved> -chb xxxxxx xxxx1802      NaN    income   \n",
       "2019-05-07  bank credit <mdbremoved> -chb xxxxxx xxxx1802      NaN    income   \n",
       "2019-06-04  bank credit <mdbremoved> -chb xxxxxx xxxx1802      NaN    income   \n",
       "2019-07-02  bank credit <mdbremoved> -chb xxxxxx xxxx1802      NaN    income   \n",
       "2019-07-30  bank credit <mdbremoved> -chb xxxxxx xxxx1802      NaN    income   \n",
       "\n",
       "                 tag  account_id account_last_refreshed account_provider  \\\n",
       "date                                                                       \n",
       "2019-04-09  benefits     1419376    2019-09-08 07:52:00       nationwide   \n",
       "2019-05-07  benefits     1419376    2019-09-08 07:52:00       nationwide   \n",
       "2019-06-04  benefits     1419376    2019-09-08 07:52:00       nationwide   \n",
       "2019-07-02  benefits     1419376    2019-09-08 07:52:00       nationwide   \n",
       "2019-07-30  benefits     1419376    2019-09-08 07:52:00       nationwide   \n",
       "\n",
       "           account_type  debit  female         id  is_urban  latest_balance  \\\n",
       "date                                                                          \n",
       "2019-04-09      current  False     0.0  606532064       1.0     1729.390015   \n",
       "2019-05-07      current  False     0.0  606532073       1.0     1729.390015   \n",
       "2019-06-04      current  False     0.0  606532085       1.0     1729.390015   \n",
       "2019-07-02      current  False     0.0  606532103       1.0     1729.390015   \n",
       "2019-07-30      current  False     0.0  606532110       1.0     1729.390015   \n",
       "\n",
       "            logins postcode region_name         tag_auto     yob  \n",
       "date                                                              \n",
       "2019-04-09     0.0    wa1 4  north west  family benefits  1969.0  \n",
       "2019-05-07     0.0    wa1 4  north west  family benefits  1969.0  \n",
       "2019-06-04     0.0    wa1 4  north west  family benefits  1969.0  \n",
       "2019-07-02     0.0    wa1 4  north west  family benefits  1969.0  \n",
       "2019-07-30     0.0    wa1 4  north west  family benefits  1969.0  "
      ]
     },
     "execution_count": 20,
     "metadata": {},
     "output_type": "execute_result"
    }
   ],
   "source": [
    "def child_benefits(df):\n",
    "    return (\n",
    "        df.loc[df.tag.eq(\"benefits\") & df.desc.str.contains(\"chb\")]\n",
    "        .set_index(\"date\")\n",
    "        .loc[\"Apr 2019\":\"March 2020\"]\n",
    "        .sort_values([\"user_id\", \"date\"])\n",
    "    )\n",
    "\n",
    "\n",
    "cb = child_benefits(df)\n",
    "cb.head()"
   ]
  },
  {
   "cell_type": "markdown",
   "id": "d3a366be-cbff-40a3-8666-d03ea57a30f2",
   "metadata": {},
   "source": [
    "In tax year 2019/2020, wkly allowance was £20.7 for first child and £13.7 for each additional child. We'd thus expect to find the following amounts:"
   ]
  },
  {
   "cell_type": "code",
   "execution_count": 34,
   "id": "c1d1b455-70e7-4fb9-a966-f3a0397e2c0d",
   "metadata": {},
   "outputs": [
    {
     "data": {
      "text/plain": [
       "[(1, 82.8), (2, 137.6), (3, 192.39999999999998), (4, 247.2)]"
      ]
     },
     "execution_count": 34,
     "metadata": {},
     "output_type": "execute_result"
    }
   ],
   "source": [
    "[(children, (20.7 + (children - 1) * 13.7) * 4) for children in range(1, 5)]"
   ]
  },
  {
   "cell_type": "markdown",
   "id": "5ab7c2ce-489d-4109-8f67-a5e4836882fc",
   "metadata": {},
   "source": [
    "Which is exactly what we find"
   ]
  },
  {
   "cell_type": "code",
   "execution_count": 22,
   "id": "821e1c5c-2db9-4d80-ad5f-025696f2e0b4",
   "metadata": {},
   "outputs": [
    {
     "data": {
      "text/plain": [
       "-137.600006    64\n",
       "-82.800003     59\n",
       "-192.399994    12\n",
       "-20.700001      1\n",
       "Name: amount, dtype: int64"
      ]
     },
     "execution_count": 22,
     "metadata": {},
     "output_type": "execute_result"
    }
   ],
   "source": [
    "cb.amount.value_counts()"
   ]
  },
  {
   "cell_type": "markdown",
   "id": "ca407c5c-fc56-47d7-9432-894ffb4a63a9",
   "metadata": {},
   "source": [
    "## Implementation"
   ]
  },
  {
   "cell_type": "code",
   "execution_count": 212,
   "id": "1ce8ed29-8bae-4531-a54f-fa00399d9271",
   "metadata": {},
   "outputs": [
    {
     "data": {
      "text/plain": [
       "0        NaN\n",
       "1        NaN\n",
       "2        NaN\n",
       "3        NaN\n",
       "4        NaN\n",
       "          ..\n",
       "651784   NaN\n",
       "651785   NaN\n",
       "651786   NaN\n",
       "651787   NaN\n",
       "651788   NaN\n",
       "Length: 651789, dtype: float64"
      ]
     },
     "execution_count": 212,
     "metadata": {},
     "output_type": "execute_result"
    }
   ],
   "source": [
    "def get_num_children(df):\n",
    "    \"\"\"Returns number of children for child benefit recipients.\"\"\"\n",
    "    # 2021 refers to tax year Apr 2021 to Mar 2022\n",
    "    # values are weekly allowances for first and\n",
    "    # subsequent children, respectively\n",
    "    tax_year_rates = {\n",
    "        2021: [21.15, 14.00],\n",
    "        2020: [21.05, 13.95],\n",
    "        2019: [20.70, 13.70],\n",
    "        2018: [20.70, 13.70],\n",
    "        2017: [20.70, 13.70],\n",
    "        2016: [20.70, 13.70],\n",
    "        2015: [20.70, 13.70],\n",
    "        2014: [20.50, 13.55],\n",
    "        2013: [20.30, 13.40],\n",
    "        2012: [20.30, 13.40],\n",
    "        2011: [20.30, 13.40],\n",
    "    }\n",
    "\n",
    "    # Example:\n",
    "    # num_children[(2020, 140)] = 2,\n",
    "    # since (21.05 + 13.95) * 4 = 140\n",
    "    num_children = {}\n",
    "    for year, (rate_first, rate_additional) in tax_year_rates.items():\n",
    "        for children in range(1, 6):\n",
    "            allowance = int((rate_first + (children - 1) * rate_additional) * 4)\n",
    "            num_children[(year, allowance)] = children\n",
    "\n",
    "    is_chb = df.tag.eq(\"benefits\") & df.desc.str.contains(\"chb\") & ~df.debit\n",
    "    amount = -df.amount.where(is_chb, 0).astype(int)\n",
    "    tax_year = (df.date.dt.to_period(\"A-Mar\") - 1).dt.year\n",
    "    return pd.Series(zip(tax_year, amount)).map(num_children)\n",
    "\n",
    "\n",
    "get_num_children(df)"
   ]
  },
  {
   "cell_type": "markdown",
   "id": "88b1f206-8ae6-48df-88a5-bac605e6544b",
   "metadata": {},
   "source": [
    "## Sense checks"
   ]
  },
  {
   "cell_type": "code",
   "execution_count": null,
   "id": "21dc18a8-7888-47a8-8afe-6284628f95b1",
   "metadata": {},
   "outputs": [],
   "source": []
  }
 ],
 "metadata": {
  "kernelspec": {
   "display_name": "entropy",
   "language": "python",
   "name": "entropy"
  },
  "language_info": {
   "codemirror_mode": {
    "name": "ipython",
    "version": 3
   },
   "file_extension": ".py",
   "mimetype": "text/x-python",
   "name": "python",
   "nbconvert_exporter": "python",
   "pygments_lexer": "ipython3",
   "version": "3.9.7"
  }
 },
 "nbformat": 4,
 "nbformat_minor": 5
}
