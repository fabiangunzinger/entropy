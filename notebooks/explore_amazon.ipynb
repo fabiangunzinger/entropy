{
 "cells": [
  {
   "cell_type": "code",
   "execution_count": 5,
   "id": "602f8929-cb96-4abf-99fb-50f3e9d4cf5f",
   "metadata": {},
   "outputs": [],
   "source": [
    "import sys\n",
    "\n",
    "import numpy as np\n",
    "import pandas as pd\n",
    "import s3fs\n",
    "import seaborn as sns\n",
    "\n",
    "sys.path.append(\"/Users/fgu/dev/projects/entropy\")\n",
    "import entropy.data.aggregators as agg\n",
    "import entropy.data.cleaners as cl\n",
    "import entropy.data.make_data as md\n",
    "import entropy.data.selectors as sl\n",
    "import entropy.data.validators as vl\n",
    "import entropy.helpers.aws as ha\n",
    "import entropy.helpers.data as hd\n",
    "import entropy.helpers.helpers as hh\n",
    "\n",
    "pd.set_option(\"display.max_rows\", 120)\n",
    "pd.set_option(\"display.max_columns\", 120)\n",
    "pd.set_option(\"max_colwidth\", None)\n",
    "%load_ext autoreload\n",
    "%autoreload 2\n",
    "\n",
    "fs = s3fs.S3FileSystem(profile=\"3di\")"
   ]
  },
  {
   "cell_type": "code",
   "execution_count": 7,
   "id": "5ccef5a4-21ff-4bae-90fa-146db529571a",
   "metadata": {},
   "outputs": [
    {
     "name": "stdout",
     "output_type": "stream",
     "text": [
      "Time for read_txn_data                 : 3.63 seconds\n",
      "(649,820, 19)\n"
     ]
    },
    {
     "data": {
      "text/html": [
       "<div>\n",
       "<style scoped>\n",
       "    .dataframe tbody tr th:only-of-type {\n",
       "        vertical-align: middle;\n",
       "    }\n",
       "\n",
       "    .dataframe tbody tr th {\n",
       "        vertical-align: top;\n",
       "    }\n",
       "\n",
       "    .dataframe thead th {\n",
       "        text-align: right;\n",
       "    }\n",
       "</style>\n",
       "<table border=\"1\" class=\"dataframe\">\n",
       "  <thead>\n",
       "    <tr style=\"text-align: right;\">\n",
       "      <th></th>\n",
       "      <th>date</th>\n",
       "      <th>user_id</th>\n",
       "      <th>amount</th>\n",
       "      <th>desc</th>\n",
       "      <th>merchant</th>\n",
       "      <th>tag_group</th>\n",
       "      <th>tag</th>\n",
       "      <th>account_id</th>\n",
       "      <th>account_last_refreshed</th>\n",
       "      <th>account_provider</th>\n",
       "      <th>account_type</th>\n",
       "      <th>debit</th>\n",
       "      <th>desc_orig</th>\n",
       "      <th>female</th>\n",
       "      <th>id</th>\n",
       "      <th>latest_balance</th>\n",
       "      <th>postcode</th>\n",
       "      <th>tag_auto</th>\n",
       "      <th>yob</th>\n",
       "    </tr>\n",
       "  </thead>\n",
       "  <tbody>\n",
       "    <tr>\n",
       "      <th>0</th>\n",
       "      <td>2012-02-01</td>\n",
       "      <td>777</td>\n",
       "      <td>400.00</td>\n",
       "      <td>mdbremoved</td>\n",
       "      <td>NaN</td>\n",
       "      <td>transfers</td>\n",
       "      <td>other_transfers</td>\n",
       "      <td>262916</td>\n",
       "      <td>2020-07-21 20:32:00</td>\n",
       "      <td>natwest bank</td>\n",
       "      <td>current</td>\n",
       "      <td>True</td>\n",
       "      <td>&lt;mdbremoved&gt; - s/o</td>\n",
       "      <td>0.0</td>\n",
       "      <td>688300</td>\n",
       "      <td>364.220001</td>\n",
       "      <td>wa1 4</td>\n",
       "      <td>transfers</td>\n",
       "      <td>1969.0</td>\n",
       "    </tr>\n",
       "    <tr>\n",
       "      <th>1</th>\n",
       "      <td>2012-02-01</td>\n",
       "      <td>777</td>\n",
       "      <td>3.03</td>\n",
       "      <td>aviva pa</td>\n",
       "      <td>aviva</td>\n",
       "      <td>spend</td>\n",
       "      <td>finance</td>\n",
       "      <td>262916</td>\n",
       "      <td>2020-07-21 20:32:00</td>\n",
       "      <td>natwest bank</td>\n",
       "      <td>current</td>\n",
       "      <td>True</td>\n",
       "      <td>aviva pa - d/d</td>\n",
       "      <td>0.0</td>\n",
       "      <td>688299</td>\n",
       "      <td>364.220001</td>\n",
       "      <td>wa1 4</td>\n",
       "      <td>health insurance</td>\n",
       "      <td>1969.0</td>\n",
       "    </tr>\n",
       "  </tbody>\n",
       "</table>\n",
       "</div>"
      ],
      "text/plain": [
       "        date  user_id  amount        desc merchant  tag_group  \\\n",
       "0 2012-02-01      777  400.00  mdbremoved      NaN  transfers   \n",
       "1 2012-02-01      777    3.03    aviva pa    aviva      spend   \n",
       "\n",
       "               tag  account_id account_last_refreshed account_provider  \\\n",
       "0  other_transfers      262916    2020-07-21 20:32:00     natwest bank   \n",
       "1          finance      262916    2020-07-21 20:32:00     natwest bank   \n",
       "\n",
       "  account_type  debit           desc_orig  female      id  latest_balance  \\\n",
       "0      current   True  <mdbremoved> - s/o     0.0  688300      364.220001   \n",
       "1      current   True      aviva pa - d/d     0.0  688299      364.220001   \n",
       "\n",
       "  postcode          tag_auto     yob  \n",
       "0    wa1 4         transfers  1969.0  \n",
       "1    wa1 4  health insurance  1969.0  "
      ]
     },
     "metadata": {},
     "output_type": "display_data"
    }
   ],
   "source": [
    "dft = hd.read_txn_data(\"777\")\n",
    "hd.inspect(dft)"
   ]
  },
  {
   "cell_type": "code",
   "execution_count": 18,
   "id": "40db7b1a-6eb8-430f-935b-4fa4e71f3548",
   "metadata": {},
   "outputs": [
    {
     "data": {
      "text/plain": [
       "<AxesSubplot:xlabel='ym'>"
      ]
     },
     "execution_count": 18,
     "metadata": {},
     "output_type": "execute_result"
    },
    {
     "data": {
      "image/png": "[encoded data removed]",
      "text/plain": [
       "<Figure size 432x288 with 1 Axes>"
      ]
     },
     "metadata": {
      "needs_background": "light"
     },
     "output_type": "display_data"
    }
   ],
   "source": [
    "dft[dft.merchant.eq(\"amazon\")].assign(ym=lambda df: df.date.dt.to_period(\"m\")).groupby('ym').agg(users=('user_id', 'nunique'), txns=('amount', 'count')).assign(txns_per_user=lambda df: df.txns / df.users).txns_per_user.plot()"
   ]
  },
  {
   "cell_type": "code",
   "execution_count": null,
   "id": "5aaef3fb-1a6c-4f19-ae1b-6a819c5f678b",
   "metadata": {},
   "outputs": [],
   "source": []
  }
 ],
 "metadata": {
  "kernelspec": {
   "display_name": "entropy",
   "language": "python",
   "name": "entropy"
  },
  "language_info": {
   "codemirror_mode": {
    "name": "ipython",
    "version": 3
   },
   "file_extension": ".py",
   "mimetype": "text/x-python",
   "name": "python",
   "nbconvert_exporter": "python",
   "pygments_lexer": "ipython3",
   "version": "3.9.7"
  }
 },
 "nbformat": 4,
 "nbformat_minor": 5
}
