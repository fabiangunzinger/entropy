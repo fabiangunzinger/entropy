{
 "cells": [
  {
   "cell_type": "markdown",
   "id": "6a592d13-4722-4522-9995-4fa7bebbeb7b",
   "metadata": {},
   "source": [
    "Notebook purpose:\n",
    "\n",
    "- Check whether we can calculate balances\n",
    "\n",
    "Conclusion:\n",
    "\n",
    "- We cannot reconstruct balances."
   ]
  },
  {
   "cell_type": "code",
   "execution_count": 1,
   "id": "602f8929-cb96-4abf-99fb-50f3e9d4cf5f",
   "metadata": {},
   "outputs": [],
   "source": [
    "import sys\n",
    "\n",
    "import pandas as pd\n",
    "\n",
    "sys.path.append(\"/Users/fgu/dev/projects/entropy\")\n",
    "import entropy.helpers.data as hd"
   ]
  },
  {
   "cell_type": "markdown",
   "id": "9379444e-9eda-4d76-bdbb-8f8944c9f08a",
   "metadata": {},
   "source": [
    "Load small data sample"
   ]
  },
  {
   "cell_type": "code",
   "execution_count": 2,
   "id": "d32e5067-118d-4e91-bd3a-096825d52ece",
   "metadata": {},
   "outputs": [
    {
     "name": "stdout",
     "output_type": "stream",
     "text": [
      "Time for read_raw_sample               : 5.04 seconds\n"
     ]
    },
    {
     "data": {
      "text/plain": [
       "(682656, 27)"
      ]
     },
     "execution_count": 2,
     "metadata": {},
     "output_type": "execute_result"
    }
   ],
   "source": [
    "df = hd.read_raw_sample(\"777\")\n",
    "df.shape"
   ]
  },
  {
   "cell_type": "markdown",
   "id": "b5d1f1d3-493a-4c89-98f0-70548c1ed385",
   "metadata": {},
   "source": [
    "Construct table containing dates of first and last txn for each account as well as the date of the last account refresh."
   ]
  },
  {
   "cell_type": "code",
   "execution_count": 16,
   "id": "49839c49-9bbc-485b-b41a-fb3977ee03dd",
   "metadata": {},
   "outputs": [
    {
     "data": {
      "text/html": [
       "<div>\n",
       "<style scoped>\n",
       "    .dataframe tbody tr th:only-of-type {\n",
       "        vertical-align: middle;\n",
       "    }\n",
       "\n",
       "    .dataframe tbody tr th {\n",
       "        vertical-align: top;\n",
       "    }\n",
       "\n",
       "    .dataframe thead th {\n",
       "        text-align: right;\n",
       "    }\n",
       "</style>\n",
       "<table border=\"1\" class=\"dataframe\">\n",
       "  <thead>\n",
       "    <tr style=\"text-align: right;\">\n",
       "      <th></th>\n",
       "      <th>first_txn</th>\n",
       "      <th>last_txn</th>\n",
       "      <th>last_refresh_date</th>\n",
       "    </tr>\n",
       "    <tr>\n",
       "      <th>Account Reference</th>\n",
       "      <th></th>\n",
       "      <th></th>\n",
       "      <th></th>\n",
       "    </tr>\n",
       "  </thead>\n",
       "  <tbody>\n",
       "    <tr>\n",
       "      <th>671</th>\n",
       "      <td>2014-06-09</td>\n",
       "      <td>2014-08-18</td>\n",
       "      <td>2014-08-22 11:25:00</td>\n",
       "    </tr>\n",
       "    <tr>\n",
       "      <th>672</th>\n",
       "      <td>2014-04-23</td>\n",
       "      <td>2014-07-21</td>\n",
       "      <td>2014-08-21 09:50:00</td>\n",
       "    </tr>\n",
       "    <tr>\n",
       "      <th>674</th>\n",
       "      <td>2014-04-22</td>\n",
       "      <td>2014-08-21</td>\n",
       "      <td>2014-08-22 11:25:00</td>\n",
       "    </tr>\n",
       "    <tr>\n",
       "      <th>4149</th>\n",
       "      <td>2013-02-28</td>\n",
       "      <td>2014-09-17</td>\n",
       "      <td>2015-01-03 06:52:00</td>\n",
       "    </tr>\n",
       "    <tr>\n",
       "      <th>4150</th>\n",
       "      <td>2013-05-19</td>\n",
       "      <td>2014-08-27</td>\n",
       "      <td>2014-09-04 15:46:00</td>\n",
       "    </tr>\n",
       "  </tbody>\n",
       "</table>\n",
       "</div>"
      ],
      "text/plain": [
       "                   first_txn   last_txn   last_refresh_date\n",
       "Account Reference                                          \n",
       "671               2014-06-09 2014-08-18 2014-08-22 11:25:00\n",
       "672               2014-04-23 2014-07-21 2014-08-21 09:50:00\n",
       "674               2014-04-22 2014-08-21 2014-08-22 11:25:00\n",
       "4149              2013-02-28 2014-09-17 2015-01-03 06:52:00\n",
       "4150              2013-05-19 2014-08-27 2014-09-04 15:46:00"
      ]
     },
     "execution_count": 16,
     "metadata": {},
     "output_type": "execute_result"
    }
   ],
   "source": [
    "table = df.groupby(\"Account Reference\").agg(\n",
    "    first_txn=(\"Transaction Date\", \"min\"),\n",
    "    last_txn=(\"Transaction Date\", \"max\"),\n",
    "    last_refresh_date=(\"Account Last Refreshed\", \"first\"),\n",
    ")\n",
    "table.head(5)"
   ]
  },
  {
   "cell_type": "markdown",
   "id": "55b85f63-dbc9-4eb5-9ff8-e5666857c364",
   "metadata": {},
   "source": [
    "For just about all accounts, last refresh date is after the date of the last transaction."
   ]
  },
  {
   "cell_type": "code",
   "execution_count": 5,
   "id": "b6c4a6d9-c162-49fa-8831-82a9054822f0",
   "metadata": {},
   "outputs": [
    {
     "data": {
      "text/plain": [
       "True     1273\n",
       "False       9\n",
       "dtype: int64"
      ]
     },
     "execution_count": 5,
     "metadata": {},
     "output_type": "execute_result"
    }
   ],
   "source": [
    "(table.last_refresh_date > table.last_txn).value_counts()"
   ]
  },
  {
   "cell_type": "markdown",
   "id": "335b8ae0-7770-432d-907f-91f1e8374619",
   "metadata": {},
   "source": [
    "The difference in days is usually substantial."
   ]
  },
  {
   "cell_type": "code",
   "execution_count": 15,
   "id": "30967aaa-4e4a-4a48-a92f-04ba9a213351",
   "metadata": {},
   "outputs": [
    {
     "data": {
      "text/plain": [
       "count    1282.000000\n",
       "mean       80.038222\n",
       "std       203.442030\n",
       "min       -96.000000\n",
       "2.5%        0.000000\n",
       "5%          0.000000\n",
       "10%         1.000000\n",
       "20%         1.000000\n",
       "50%        10.000000\n",
       "max      1944.000000\n",
       "dtype: float64"
      ]
     },
     "execution_count": 15,
     "metadata": {},
     "output_type": "execute_result"
    }
   ],
   "source": [
    "(table.last_refresh_date - table.last_txn).dt.days.describe(\n",
    "    percentiles=[0.025, 0.05, 0.1, 0.2]\n",
    ")"
   ]
  },
  {
   "cell_type": "markdown",
   "id": "6fd14163-5262-4dc7-ae57-b71a704c4a19",
   "metadata": {},
   "source": [
    "Given that, according to the data dictionary, `Latest available balance` refers to the balance at the `Account Last Refreshed` date, this means **we cannot reconstruct balances**.\n",
    "\n",
    "To do this, we would need to be able to cumulatively sum daily transaction totals and adjust that sequence by an offset, which we could calculate as the difference of the cumulative sum and the latest available balance on the account last refreshed date. This doesn't work, however, as the cumulative sum at the date of the last account refresh would be incorrect because we are missing transactions leading up to that date."
   ]
  },
  {
   "cell_type": "markdown",
   "id": "14e973ad-8868-40ea-bf8f-a42067fb2d66",
   "metadata": {},
   "source": [
    "## Checks"
   ]
  },
  {
   "cell_type": "markdown",
   "id": "a2698d68-0f3e-444a-a4c1-4785f90e27ba",
   "metadata": {},
   "source": [
    "During users period of observations, the number of days without any transactions is much shorter than the gaps between last txn data and last updated date above."
   ]
  },
  {
   "cell_type": "code",
   "execution_count": 18,
   "id": "ade5af12-d0f2-410c-a122-4b2b8d3a2e63",
   "metadata": {},
   "outputs": [
    {
     "data": {
      "text/plain": [
       "User Reference  Transaction Date\n",
       "777             2012-01-03            NaT\n",
       "                2012-01-04         1 days\n",
       "                2012-01-06         2 days\n",
       "                2012-01-09         3 days\n",
       "                2012-01-11         2 days\n",
       "Name: Transaction Date, dtype: timedelta64[ns]"
      ]
     },
     "execution_count": 18,
     "metadata": {},
     "output_type": "execute_result"
    }
   ],
   "source": [
    "txn_gaps = (\n",
    "    df.groupby([\"User Reference\", \"Transaction Date\"])[\"Transaction Date\"]\n",
    "    .first()\n",
    "    .groupby(\"User Reference\")\n",
    "    .diff()\n",
    ")\n",
    "txn_gaps.head(5)"
   ]
  },
  {
   "cell_type": "code",
   "execution_count": 19,
   "id": "ab3c96fa-5ee6-477c-8ab0-a3cc50fa74b6",
   "metadata": {},
   "outputs": [
    {
     "data": {
      "text/plain": [
       "count                       148357\n",
       "mean     1 days 16:24:06.241161522\n",
       "std      5 days 22:21:33.744561507\n",
       "min                1 days 00:00:00\n",
       "25%                1 days 00:00:00\n",
       "50%                1 days 00:00:00\n",
       "75%                2 days 00:00:00\n",
       "max              766 days 00:00:00\n",
       "Name: Transaction Date, dtype: object"
      ]
     },
     "execution_count": 19,
     "metadata": {},
     "output_type": "execute_result"
    }
   ],
   "source": [
    "txn_gaps.describe()"
   ]
  }
 ],
 "metadata": {
  "kernelspec": {
   "display_name": "entropy",
   "language": "python",
   "name": "entropy"
  },
  "language_info": {
   "codemirror_mode": {
    "name": "ipython",
    "version": 3
   },
   "file_extension": ".py",
   "mimetype": "text/x-python",
   "name": "python",
   "nbconvert_exporter": "python",
   "pygments_lexer": "ipython3",
   "version": "3.9.7"
  }
 },
 "nbformat": 4,
 "nbformat_minor": 5
}
