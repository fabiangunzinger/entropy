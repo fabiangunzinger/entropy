{
 "cells": [
  {
   "cell_type": "markdown",
   "id": "96c3348c-b673-4bd9-ab6e-f8c427f36e82",
   "metadata": {},
   "source": [
    "Notebook purpose:\n",
    "\n",
    "- Explore whether we can analyse effect of MDB adoption"
   ]
  },
  {
   "cell_type": "code",
   "execution_count": 3,
   "id": "602f8929-cb96-4abf-99fb-50f3e9d4cf5f",
   "metadata": {},
   "outputs": [],
   "source": [
    "import sys\n",
    "\n",
    "import pandas as pd\n",
    "import s3fs\n",
    "\n",
    "sys.path.append(\"/Users/fgu/dev/projects/entropy\")\n",
    "import entropy.data.cleaners as cl\n",
    "import entropy.data.make_data as md\n",
    "import entropy.data.selectors as sl\n",
    "import entropy.helpers.aws as ha\n",
    "import entropy.helpers.data as hd\n",
    "import entropy.helpers.helpers as hh\n",
    "\n",
    "pd.set_option(\"display.max_rows\", 120)\n",
    "pd.set_option(\"display.max_columns\", 120)\n",
    "pd.set_option(\"max_colwidth\", None)\n",
    "%load_ext autoreload\n",
    "%autoreload 2\n",
    "\n",
    "fs = s3fs.S3FileSystem(profile=\"3di\")"
   ]
  },
  {
   "cell_type": "code",
   "execution_count": 9,
   "id": "72fad89f-3e2b-4ae6-819b-cfc8759682a0",
   "metadata": {},
   "outputs": [
    {
     "name": "stdout",
     "output_type": "stream",
     "text": [
      "(1,724,896, 31)\n"
     ]
    },
    {
     "data": {
      "text/html": [
       "<div>\n",
       "<style scoped>\n",
       "    .dataframe tbody tr th:only-of-type {\n",
       "        vertical-align: middle;\n",
       "    }\n",
       "\n",
       "    .dataframe tbody tr th {\n",
       "        vertical-align: top;\n",
       "    }\n",
       "\n",
       "    .dataframe thead th {\n",
       "        text-align: right;\n",
       "    }\n",
       "</style>\n",
       "<table border=\"1\" class=\"dataframe\">\n",
       "  <thead>\n",
       "    <tr style=\"text-align: right;\">\n",
       "      <th></th>\n",
       "      <th>id</th>\n",
       "      <th>date</th>\n",
       "      <th>user_id</th>\n",
       "      <th>amount</th>\n",
       "      <th>desc</th>\n",
       "      <th>merchant</th>\n",
       "      <th>tag_group</th>\n",
       "      <th>tag</th>\n",
       "      <th>user_female</th>\n",
       "      <th>user_postcode</th>\n",
       "      <th>user_registration_date</th>\n",
       "      <th>user_salary_range</th>\n",
       "      <th>user_yob</th>\n",
       "      <th>account_created</th>\n",
       "      <th>account_id</th>\n",
       "      <th>account_last_refreshed</th>\n",
       "      <th>account_provider</th>\n",
       "      <th>account_type</th>\n",
       "      <th>data_warehouse_date_created</th>\n",
       "      <th>data_warehouse_date_last_updated</th>\n",
       "      <th>debit</th>\n",
       "      <th>latest_balance</th>\n",
       "      <th>merchant_business_line</th>\n",
       "      <th>tag_auto</th>\n",
       "      <th>tag_manual</th>\n",
       "      <th>tag_up</th>\n",
       "      <th>updated_flag</th>\n",
       "      <th>ym</th>\n",
       "      <th>balance</th>\n",
       "      <th>income</th>\n",
       "      <th>entropy_sptac</th>\n",
       "    </tr>\n",
       "  </thead>\n",
       "  <tbody>\n",
       "    <tr>\n",
       "      <th>0</th>\n",
       "      <td>51188</td>\n",
       "      <td>2012-02-01</td>\n",
       "      <td>177</td>\n",
       "      <td>4.15</td>\n",
       "      <td>jersey pottery caf sthlr king st</td>\n",
       "      <td>NaN</td>\n",
       "      <td>NaN</td>\n",
       "      <td>NaN</td>\n",
       "      <td>1.0</td>\n",
       "      <td>gu14 9</td>\n",
       "      <td>2010-07-11</td>\n",
       "      <td>NaN</td>\n",
       "      <td>NaN</td>\n",
       "      <td>2011-12-31</td>\n",
       "      <td>178553</td>\n",
       "      <td>2020-06-30 14:04:00</td>\n",
       "      <td>barclaycard</td>\n",
       "      <td>credit card</td>\n",
       "      <td>2014-07-18</td>\n",
       "      <td>2017-10-23</td>\n",
       "      <td>True</td>\n",
       "      <td>-114.349998</td>\n",
       "      <td>NaN</td>\n",
       "      <td>NaN</td>\n",
       "      <td>NaN</td>\n",
       "      <td>dining and drinking</td>\n",
       "      <td>u</td>\n",
       "      <td>201202</td>\n",
       "      <td>3674.744141</td>\n",
       "      <td>38539.005682</td>\n",
       "      <td>2.9614</td>\n",
       "    </tr>\n",
       "    <tr>\n",
       "      <th>1</th>\n",
       "      <td>51187</td>\n",
       "      <td>2012-02-01</td>\n",
       "      <td>177</td>\n",
       "      <td>9.99</td>\n",
       "      <td>spotify m1nkeh london 9 99 pound sterling united kingdom</td>\n",
       "      <td>spotify</td>\n",
       "      <td>spend</td>\n",
       "      <td>hobbies</td>\n",
       "      <td>1.0</td>\n",
       "      <td>gu14 9</td>\n",
       "      <td>2010-07-11</td>\n",
       "      <td>NaN</td>\n",
       "      <td>NaN</td>\n",
       "      <td>2011-12-31</td>\n",
       "      <td>178553</td>\n",
       "      <td>2020-06-30 14:04:00</td>\n",
       "      <td>barclaycard</td>\n",
       "      <td>credit card</td>\n",
       "      <td>2014-07-18</td>\n",
       "      <td>2016-04-03</td>\n",
       "      <td>True</td>\n",
       "      <td>-114.349998</td>\n",
       "      <td>spotify</td>\n",
       "      <td>music</td>\n",
       "      <td>media bundle</td>\n",
       "      <td>media bundle</td>\n",
       "      <td>u</td>\n",
       "      <td>201202</td>\n",
       "      <td>3674.744141</td>\n",
       "      <td>38539.005682</td>\n",
       "      <td>2.9614</td>\n",
       "    </tr>\n",
       "  </tbody>\n",
       "</table>\n",
       "</div>"
      ],
      "text/plain": [
       "      id       date  user_id  amount  \\\n",
       "0  51188 2012-02-01      177    4.15   \n",
       "1  51187 2012-02-01      177    9.99   \n",
       "\n",
       "                                                       desc merchant  \\\n",
       "0                          jersey pottery caf sthlr king st      NaN   \n",
       "1  spotify m1nkeh london 9 99 pound sterling united kingdom  spotify   \n",
       "\n",
       "  tag_group      tag  user_female user_postcode user_registration_date  \\\n",
       "0       NaN      NaN          1.0        gu14 9             2010-07-11   \n",
       "1     spend  hobbies          1.0        gu14 9             2010-07-11   \n",
       "\n",
       "  user_salary_range  user_yob account_created  account_id  \\\n",
       "0               NaN       NaN      2011-12-31      178553   \n",
       "1               NaN       NaN      2011-12-31      178553   \n",
       "\n",
       "  account_last_refreshed account_provider account_type  \\\n",
       "0    2020-06-30 14:04:00      barclaycard  credit card   \n",
       "1    2020-06-30 14:04:00      barclaycard  credit card   \n",
       "\n",
       "  data_warehouse_date_created data_warehouse_date_last_updated  debit  \\\n",
       "0                  2014-07-18                       2017-10-23   True   \n",
       "1                  2014-07-18                       2016-04-03   True   \n",
       "\n",
       "   latest_balance merchant_business_line tag_auto    tag_manual  \\\n",
       "0     -114.349998                    NaN      NaN           NaN   \n",
       "1     -114.349998                spotify    music  media bundle   \n",
       "\n",
       "                tag_up updated_flag      ym      balance        income  \\\n",
       "0  dining and drinking            u  201202  3674.744141  38539.005682   \n",
       "1         media bundle            u  201202  3674.744141  38539.005682   \n",
       "\n",
       "   entropy_sptac  \n",
       "0         2.9614  \n",
       "1         2.9614  "
      ]
     },
     "metadata": {},
     "output_type": "display_data"
    }
   ],
   "source": [
    "fp = \"s3://3di-project-entropy/entropy_X77.parquet\"\n",
    "df = ha.read_parquet(fp)\n",
    "hd.inspect(df)"
   ]
  },
  {
   "cell_type": "markdown",
   "id": "dcde8794-ca85-489f-b1df-3013eaba36b3",
   "metadata": {},
   "source": [
    "## Data availability"
   ]
  },
  {
   "cell_type": "markdown",
   "id": "843515df-f827-43be-9fc7-be534c19903c",
   "metadata": {},
   "source": [
    "Overall proportion of txns taking place before user signup."
   ]
  },
  {
   "cell_type": "code",
   "execution_count": 20,
   "id": "c34a3961-7f9e-476b-99c4-14c9d0d7e3aa",
   "metadata": {},
   "outputs": [
    {
     "name": "stdout",
     "output_type": "stream",
     "text": [
      "41.2% of observations are pre-signup.\n"
     ]
    }
   ],
   "source": [
    "def pre_signup_share(df):\n",
    "    return sum(df.date < df.user_registration_date) / len(df)\n",
    "\n",
    "\n",
    "print(\"{:.1%} of observations are pre-signup.\".format(pre_signup_share(df)))"
   ]
  },
  {
   "cell_type": "markdown",
   "id": "ffdc6c81-e55c-436f-b050-e6ddf5224624",
   "metadata": {},
   "source": [
    "Distribution of pre-signup txns by user."
   ]
  },
  {
   "cell_type": "code",
   "execution_count": 22,
   "id": "20b11686-783b-4bf6-bee6-04056289fdd6",
   "metadata": {},
   "outputs": [
    {
     "data": {
      "text/plain": [
       "count    598.000000\n",
       "mean       0.507136\n",
       "std        0.368577\n",
       "min        0.000000\n",
       "25%        0.086278\n",
       "50%        0.508084\n",
       "75%        0.885884\n",
       "max        1.000000\n",
       "dtype: float64"
      ]
     },
     "execution_count": 22,
     "metadata": {},
     "output_type": "execute_result"
    }
   ],
   "source": [
    "df.groupby(\"user_id\").apply(pre_signup_share).describe()"
   ]
  },
  {
   "cell_type": "markdown",
   "id": "728f50cb-d2e1-4341-bdbe-c599f82c5750",
   "metadata": {},
   "source": [
    "Looks great. Could select users with certain minimal number of overall txns and with pre-signup share of 25-75 percent or something similar (based on power calculation)."
   ]
  },
  {
   "cell_type": "code",
   "execution_count": null,
   "id": "e84b2e27-8c01-49b5-b1c7-3078c4b4f5ef",
   "metadata": {},
   "outputs": [],
   "source": []
  }
 ],
 "metadata": {
  "kernelspec": {
   "display_name": "entropy",
   "language": "python",
   "name": "entropy"
  },
  "language_info": {
   "codemirror_mode": {
    "name": "ipython",
    "version": 3
   },
   "file_extension": ".py",
   "mimetype": "text/x-python",
   "name": "python",
   "nbconvert_exporter": "python",
   "pygments_lexer": "ipython3",
   "version": "3.9.7"
  }
 },
 "nbformat": 4,
 "nbformat_minor": 5
}
