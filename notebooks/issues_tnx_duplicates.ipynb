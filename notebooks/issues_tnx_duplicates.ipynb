{
 "cells": [
  {
   "cell_type": "markdown",
   "id": "19817dbe-cdb0-4ec1-bbc2-9eb82e3ca122",
   "metadata": {
    "jp-MarkdownHeadingCollapsed": true,
    "tags": []
   },
   "source": [
    "Notebook purpose\n",
    "\n",
    "- Understand nature of duplicate transactions, explore solutions, document decisions about what duplicates to drop"
   ]
  },
  {
   "cell_type": "markdown",
   "id": "49f59e33-f7e3-4139-a63f-8376b14a5a7c",
   "metadata": {
    "tags": []
   },
   "source": [
    "Types of duplicates\n",
    "\n",
    "Type 1 duplicates:  `['user_id', 'date', 'amount', 'account_id', 'desc']` are identical\n",
    "\n",
    "Type 2 duplicates: `['user_id', 'date', 'amount', 'account_id']` are identical and one `desc` is \"loose subset\" of the other (i.e. each word in one desc appears somewhere in the other, but can be out of order, though each pattern in other txn ).\n",
    "\n",
    "Approach taken:\n",
    "\n",
    "- Clean description string to remove extraneous characters that obfuscate type 1 duplicates. \n",
    "- Remove type 1 duplicates\n",
    "- Identify and remove type 2 duplicates"
   ]
  },
  {
   "cell_type": "code",
   "execution_count": 1,
   "id": "007cf749-c310-465e-8a3f-f4f1e898b0d0",
   "metadata": {},
   "outputs": [],
   "source": [
    "import os\n",
    "import sys\n",
    "\n",
    "import numpy as np\n",
    "import pandas as pd\n",
    "import seaborn as sns\n",
    "\n",
    "sys.path.append(\"/Users/fgu/dev/projects/entropy\")\n",
    "import entropy.data.cleaners as cl\n",
    "import entropy.helpers.aws as aws\n",
    "\n",
    "sns.set_style(\"whitegrid\")\n",
    "pd.set_option(\"display.max_rows\", 120)\n",
    "pd.set_option(\"display.max_columns\", 120)\n",
    "pd.set_option(\"max_colwidth\", None)\n",
    "%config InlineBackend.figure_format = 'retina'\n",
    "%load_ext autoreload\n",
    "%autoreload 2"
   ]
  },
  {
   "cell_type": "code",
   "execution_count": null,
   "id": "18b5ddfc-4904-41d4-9e88-74b8310adf42",
   "metadata": {},
   "outputs": [],
   "source": [
    "def user_date_data(df, user_id, date):\n",
    "    \"\"\"Returns data for specified user and date sorted by amount.\"\"\"\n",
    "    return (\n",
    "        df.loc[df.user_id == user_id]\n",
    "        .set_index(\"date\")\n",
    "        .loc[date]\n",
    "        .sort_values(\"amount\", ascending=False)\n",
    "    )"
   ]
  },
  {
   "cell_type": "code",
   "execution_count": 7,
   "id": "4723d277-c03a-4a35-ace2-a496272b2a64",
   "metadata": {},
   "outputs": [],
   "source": [
    "df = aws.read_parquet(\"~/tmp/entropy_777.parquet\")"
   ]
  },
  {
   "cell_type": "markdown",
   "id": "c4e85cff-7708-4e0f-8be2-9ea8e7da588a",
   "metadata": {},
   "source": [
    "## Case studies"
   ]
  },
  {
   "cell_type": "markdown",
   "id": "a1b5d08a-03cc-4402-9f5e-357bc168cd6d",
   "metadata": {},
   "source": [
    "Below three case studies of duplicates"
   ]
  },
  {
   "cell_type": "code",
   "execution_count": null,
   "id": "7c789dfc-1995-478a-9084-a2c3e1bacddf",
   "metadata": {},
   "outputs": [],
   "source": [
    "user_date_data(df, 35177, \"1 Jan 2020\")"
   ]
  },
  {
   "cell_type": "code",
   "execution_count": null,
   "id": "3f0c1263-fed1-4c65-a662-89fdd71a2d29",
   "metadata": {},
   "outputs": [],
   "source": [
    "user_date_data(df, 362977, \"1 Jan 2020\")"
   ]
  },
  {
   "cell_type": "code",
   "execution_count": null,
   "id": "9de16e0d-e287-4363-899f-e4aea5211fee",
   "metadata": {},
   "outputs": [],
   "source": [
    "user_date_data(df, 467877, \"1 Jan 2020\")"
   ]
  },
  {
   "cell_type": "markdown",
   "id": "026f9ba0-f595-4913-b4dc-6a944f024e67",
   "metadata": {},
   "source": [
    "## Type 1 duplicates"
   ]
  },
  {
   "cell_type": "code",
   "execution_count": 91,
   "id": "970e759c-85a3-406f-a3b4-a831312b437e",
   "metadata": {},
   "outputs": [],
   "source": [
    "def distr(x):\n",
    "    pcts = [0.01, 0.05, 0.1, 0.25, 0.50, 0.75, 0.90, 0.95, 0.99]\n",
    "    return x.describe(percentiles=pcts).round(2)\n",
    "\n",
    "\n",
    "def duplicates_sample(df, col_subset, n=100, seed=2312):\n",
    "    \"\"\"Draws sample of size n of duplicate txns as defined by col_subset.\"\"\"\n",
    "    dups = df[df.duplicated(subset=col_subset, keep=False)].copy()\n",
    "    dups[\"group\"] = dups.groupby(col_subset).ngroup()\n",
    "    unique_groups = np.unique(dups.group)\n",
    "    rng = np.random.default_rng(seed=seed)\n",
    "    sample = rng.choice(unique_groups, size=n)\n",
    "    return dups[dups.group.isin(sample)]"
   ]
  },
  {
   "cell_type": "markdown",
   "id": "ca8e4739-f864-4fcc-942e-211763e3eb8c",
   "metadata": {},
   "source": [
    "### Definition\n",
    "- `['user_id', 'date', 'amount', 'account_id', 'desc']` are identical.\n",
    " \n",
    "- This includes transactions where desc for both is `<mdbremoved>`, where we assume that they mask the same transaction desctiption.\n",
    "\n",
    "- Reasons for false positives (FP): user makes two identical transactions on the same day (or on subsequent days for txns that appear with a delay). Plausible cases are coffee and betting shop txns. However, inspection suggests that the vast majority of cases are genuine duplicates, as they are txns that are unlikely to result from multiple purchases on the same day."
   ]
  },
  {
   "cell_type": "code",
   "execution_count": 92,
   "id": "19018e7a-1db8-407b-bf69-49aaf8d96fbd",
   "metadata": {},
   "outputs": [],
   "source": [
    "col_subset = [\"user_id\", \"date\", \"amount\", \"account_id\", \"desc\"]\n",
    "dup_var = \"dup1\"\n",
    "\n",
    "df[dup_var] = df.duplicated(subset=col_subset)"
   ]
  },
  {
   "cell_type": "markdown",
   "id": "1705d1a1-dcc2-4965-878a-6884c072e657",
   "metadata": {},
   "source": [
    "### Prevalence and value"
   ]
  },
  {
   "cell_type": "markdown",
   "id": "4362605c-c7e2-4d16-857d-394ddafd7c46",
   "metadata": {},
   "source": [
    "How prevalent are duplicates?"
   ]
  },
  {
   "cell_type": "code",
   "execution_count": 93,
   "id": "e536aa11-0bbf-4cc4-82ce-e869a384e0fe",
   "metadata": {},
   "outputs": [
    {
     "name": "stdout",
     "output_type": "stream",
     "text": [
      "About 1.9% of transactions across 97% of users are potential dups.\n"
     ]
    }
   ],
   "source": [
    "n_df = len(df)\n",
    "n_dups = len(df[df[dup_var]])\n",
    "n_users_dups = df[df[dup_var]].user_id.nunique()\n",
    "n_users_df = df.user_id.nunique()\n",
    "txt = \"About {:.1%} of transactions across {:.0%} of users are potential dups.\"\n",
    "print(txt.format(n_dups / n_df, n_users_dups / n_users_df))"
   ]
  },
  {
   "cell_type": "markdown",
   "id": "e2720313-bd38-4ec8-b6ca-a33c4d6f1c6f",
   "metadata": {},
   "source": [
    "Gross value of duplicated txns"
   ]
  },
  {
   "cell_type": "code",
   "execution_count": 94,
   "id": "f62c6a44-7a4f-48be-8555-d9051265b517",
   "metadata": {},
   "outputs": [
    {
     "data": {
      "text/plain": [
       "count       418.00\n",
       "mean       5042.84\n",
       "std       17571.44\n",
       "min           0.17\n",
       "1%            4.56\n",
       "5%           20.70\n",
       "10%          61.59\n",
       "25%         239.15\n",
       "50%         861.25\n",
       "75%        2763.97\n",
       "90%        9491.04\n",
       "95%       17296.48\n",
       "99%       66390.75\n",
       "max      190906.02\n",
       "Name: amount, dtype: float64"
      ]
     },
     "execution_count": 94,
     "metadata": {},
     "output_type": "execute_result"
    }
   ],
   "source": [
    "gross_value = df[df[dup_var]].set_index(\"user_id\").amount.abs().groupby(\"user_id\").sum()\n",
    "distr(gross_value)"
   ]
  },
  {
   "cell_type": "markdown",
   "id": "fd31eb24-ba24-4b9d-a649-2435c963eb9f",
   "metadata": {},
   "source": [
    "Most frequent txns description"
   ]
  },
  {
   "cell_type": "code",
   "execution_count": 95,
   "id": "2750a738-1ad0-434c-995c-c754aece390c",
   "metadata": {},
   "outputs": [
    {
     "data": {
      "text/plain": [
       "mdbremoved                                3059\n",
       "mdbremoved ft                              357\n",
       "tfl travel ch tfl gov uk cp                298\n",
       "tfl gov uk cp tfl travel ch                290\n",
       "paypal payment                             271\n",
       "b 365 moto                                 263\n",
       "tfl travel charge tfl gov uk cp            202\n",
       "betfair purchase                           196\n",
       "faster payments receipt ref mdbremoved     186\n",
       "www skybet com cd 9317                     165\n",
       "Name: desc, dtype: int64"
      ]
     },
     "execution_count": 95,
     "metadata": {},
     "output_type": "execute_result"
    }
   ],
   "source": [
    "df[df[dup_var]].desc.value_counts(dropna=False)[:10]"
   ]
  },
  {
   "cell_type": "markdown",
   "id": "7c54a20b-3b69-4c10-8889-0b6bf5345a7b",
   "metadata": {},
   "source": [
    "Most frequent auto tag"
   ]
  },
  {
   "cell_type": "code",
   "execution_count": 96,
   "id": "640d2122-86d1-4c79-b267-58115fc7dae8",
   "metadata": {},
   "outputs": [
    {
     "data": {
      "text/plain": [
       "NaN                           7237\n",
       "transfers                     3066\n",
       "gambling                      2205\n",
       "enjoyment                     1609\n",
       "public transport              1557\n",
       "lunch or snacks               1157\n",
       "food, groceries, household     906\n",
       "bank charges                   873\n",
       "dining or going out            688\n",
       "entertainment, tv, media       568\n",
       "Name: tag_auto, dtype: int64"
      ]
     },
     "execution_count": 96,
     "metadata": {},
     "output_type": "execute_result"
    }
   ],
   "source": [
    "df[df[dup_var]].tag_auto.value_counts(dropna=False)[:10]"
   ]
  },
  {
   "cell_type": "markdown",
   "id": "4e7c358b-a46d-490e-8b38-bfc33e5a1398",
   "metadata": {},
   "source": [
    "Proportion of txns per auto tag that are duplicated"
   ]
  },
  {
   "cell_type": "code",
   "execution_count": 97,
   "id": "2d7e18da-b4f6-45f6-bfce-0e0cbcb7795a",
   "metadata": {},
   "outputs": [
    {
     "data": {
      "text/plain": [
       "investment - other               0.214953\n",
       "gambling                         0.160761\n",
       "mobile app                       0.152677\n",
       "isa                              0.088095\n",
       "tradesmen fees                   0.076923\n",
       "vehicle                          0.066667\n",
       "supermarket                      0.064968\n",
       "flights                          0.050346\n",
       "repayments                       0.047753\n",
       "child - everyday or childcare    0.047026\n",
       "Name: tag_auto, dtype: float64"
      ]
     },
     "execution_count": 97,
     "metadata": {},
     "output_type": "execute_result"
    }
   ],
   "source": [
    "txns_per_tag_overall = df.tag_auto.value_counts(dropna=False)\n",
    "txns_per_tag_duplicated = df[df[dup_var]].tag_auto.value_counts(dropna=False)\n",
    "p_dup_per_tag = txns_per_tag_duplicated / txns_per_tag_overall\n",
    "p_dup_per_tag.sort_values(ascending=False)[:10]"
   ]
  },
  {
   "cell_type": "markdown",
   "id": "f706bae3-e855-4884-9a64-ea0d74dec799",
   "metadata": {},
   "source": [
    "### Inspect dups"
   ]
  },
  {
   "cell_type": "code",
   "execution_count": 98,
   "id": "0ad40f06-39f0-4951-ad26-308cf318f325",
   "metadata": {
    "tags": []
   },
   "outputs": [
    {
     "data": {
      "text/plain": [
       "642141     transfer from mdbremoved\n",
       "642142     transfer from mdbremoved\n",
       "1076408                  gocardless\n",
       "1076409                  gocardless\n",
       "Name: desc, dtype: object"
      ]
     },
     "execution_count": 98,
     "metadata": {},
     "output_type": "execute_result"
    }
   ],
   "source": [
    "duplicates_sample(df, col_subset, n=2, seed=None).desc"
   ]
  },
  {
   "cell_type": "markdown",
   "id": "de3d9a00-1b50-496c-94b9-6a467945d83d",
   "metadata": {},
   "source": [
    "## Type 2 dups"
   ]
  },
  {
   "cell_type": "markdown",
   "id": "96068ec6-f1ee-410f-8c0c-9b813b125e01",
   "metadata": {},
   "source": [
    "### Definition\n",
    "\n",
    "- `['user_id', 'date', 'amount', 'account_id']` are identical, one `desc` is subset of the other.\n",
    "\n",
    "Below stats are a large upper-bound on Type 2 duplicate problem, as only a minority of potential type 2 duplicates (those identified as dups with the type 2 col_subset criteria), are actually type 2 dups."
   ]
  },
  {
   "cell_type": "markdown",
   "id": "c9a63ba0-0993-49ae-968a-a86ba38d9df6",
   "metadata": {},
   "source": [
    "Remove type 1 dups"
   ]
  },
  {
   "cell_type": "code",
   "execution_count": 99,
   "id": "a158035a-e989-4cf8-9718-39d127821211",
   "metadata": {
    "tags": []
   },
   "outputs": [],
   "source": [
    "df = df.drop_duplicates(subset=col_subset)"
   ]
  },
  {
   "cell_type": "code",
   "execution_count": 100,
   "id": "a082f669-668f-4dc2-9027-7b931d02f47a",
   "metadata": {},
   "outputs": [],
   "source": [
    "col_subset = [\"user_id\", \"date\", \"amount\", \"account_id\"]\n",
    "dup_var = \"dup2\"\n",
    "\n",
    "df[dup_var] = df.duplicated(subset=col_subset)"
   ]
  },
  {
   "cell_type": "markdown",
   "id": "95a359a0-cb12-4cd4-bff1-eacd1fff72a8",
   "metadata": {},
   "source": [
    "### Prevalence and value"
   ]
  },
  {
   "cell_type": "markdown",
   "id": "bba22152-d307-48fd-a036-1642ab2285bd",
   "metadata": {},
   "source": [
    "How prevalent are duplicates?"
   ]
  },
  {
   "cell_type": "code",
   "execution_count": 101,
   "id": "20b7d643-32bc-478e-a804-efdd59473560",
   "metadata": {},
   "outputs": [
    {
     "name": "stdout",
     "output_type": "stream",
     "text": [
      "About 1.7% of transactions across 99% of users are potential dups.\n"
     ]
    }
   ],
   "source": [
    "n_df = len(df)\n",
    "n_dups = len(df[df[dup_var]])\n",
    "n_users_dups = df[df[dup_var]].user_id.nunique()\n",
    "n_users_df = df.user_id.nunique()\n",
    "txt = \"About {:.1%} of transactions across {:.0%} of users are potential dups.\"\n",
    "print(txt.format(n_dups / n_df, n_users_dups / n_users_df))"
   ]
  },
  {
   "cell_type": "markdown",
   "id": "f11a5a50-197c-4c8a-a372-b41991168e55",
   "metadata": {},
   "source": [
    "Gross value of duplicated txns"
   ]
  },
  {
   "cell_type": "code",
   "execution_count": 32,
   "id": "1115bb34-05f8-4c4d-8843-49d3805b7f60",
   "metadata": {},
   "outputs": [
    {
     "data": {
      "text/plain": [
       "count       424.00\n",
       "mean       2497.45\n",
       "std        8311.57\n",
       "min           3.00\n",
       "1%           11.08\n",
       "5%           48.28\n",
       "10%         104.04\n",
       "25%         298.47\n",
       "50%         880.35\n",
       "75%        2097.92\n",
       "90%        4584.54\n",
       "95%        6842.71\n",
       "99%       25811.31\n",
       "max      106598.39\n",
       "Name: amount, dtype: float64"
      ]
     },
     "execution_count": 32,
     "metadata": {},
     "output_type": "execute_result"
    }
   ],
   "source": [
    "gross_value = df[df[dup_var]].set_index(\"user_id\").amount.abs().groupby(\"user_id\").sum()\n",
    "distr(gross_value)"
   ]
  },
  {
   "cell_type": "markdown",
   "id": "cf238fc0-691c-4f7a-b614-f7ca2fb66434",
   "metadata": {},
   "source": [
    "Most frequent txns description"
   ]
  },
  {
   "cell_type": "code",
   "execution_count": 33,
   "id": "6390e1fc-d595-447c-9d4e-4fd4e912e13a",
   "metadata": {},
   "outputs": [
    {
     "data": {
      "text/plain": [
       "<mdbremoved>    3523\n",
       "daily od fee    1894\n",
       "int'l xxxxxx     941\n",
       "card payment     463\n",
       "tfl travel c     336\n",
       "direct debit     319\n",
       "call ref.no.     308\n",
       "tfl.gov.uk/c     288\n",
       "contactless      281\n",
       "tesco stores     275\n",
       "Name: desc, dtype: int64"
      ]
     },
     "execution_count": 33,
     "metadata": {},
     "output_type": "execute_result"
    }
   ],
   "source": [
    "df[df[dup_var]].desc.str[:12].value_counts(dropna=False)[:10]"
   ]
  },
  {
   "cell_type": "markdown",
   "id": "6de08a58-1f1b-4555-9907-815d3656d69c",
   "metadata": {},
   "source": [
    "Most frequent auto tag"
   ]
  }
 ],
 "metadata": {
  "kernelspec": {
   "display_name": "entropy",
   "language": "python",
   "name": "entropy"
  },
  "language_info": {
   "codemirror_mode": {
    "name": "ipython",
    "version": 3
   },
   "file_extension": ".py",
   "mimetype": "text/x-python",
   "name": "python",
   "nbconvert_exporter": "python",
   "pygments_lexer": "ipython3",
   "version": "3.9.7"
  },
  "toc-autonumbering": false,
  "toc-showcode": false,
  "toc-showmarkdowntxt": false
 },
 "nbformat": 4,
 "nbformat_minor": 5
}
