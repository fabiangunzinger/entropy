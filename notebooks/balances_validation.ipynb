{
 "cells": [
  {
   "cell_type": "markdown",
   "id": "585fbeec-b261-40d2-bd56-cb42d828b773",
   "metadata": {},
   "source": [
    "Notebook purpose:\n",
    "\n",
    "- Validate balances\n",
    "\n",
    "Approach:\n",
    "\n",
    "1. Identify od fee txns\n",
    "2. For each user-month, create dummies indicating whether was in overdraft and paid od fees\n",
    "3. Explore relationship between above dummies"
   ]
  },
  {
   "cell_type": "code",
   "execution_count": 1,
   "id": "13bef683-64f8-4c36-bec3-05ecb69b15c5",
   "metadata": {
    "tags": []
   },
   "outputs": [],
   "source": [
    "import os\n",
    "import sys\n",
    "\n",
    "import matplotlib.pyplot as plt\n",
    "import numpy as np\n",
    "import pandas as pd\n",
    "import seaborn as sns\n",
    "\n",
    "sys.path.append('/Users/fgu/dev/projects/entropy')\n",
    "import entropy.helpers.aws as aws\n",
    "import entropy.data.cleaners as cl\n",
    "import entropy.data.creators as cr\n",
    "\n",
    "sns.set_style('whitegrid')\n",
    "pd.set_option('display.max_rows', 120)\n",
    "pd.set_option('display.max_columns', 120)\n",
    "pd.set_option('max_colwidth', None)\n",
    "%config InlineBackend.figure_format = 'retina'\n",
    "%load_ext autoreload\n",
    "%autoreload 2"
   ]
  },
  {
   "cell_type": "code",
   "execution_count": 2,
   "id": "f56ca4fb-7702-4f27-8d47-a0ba1d14d897",
   "metadata": {},
   "outputs": [
    {
     "name": "stdout",
     "output_type": "stream",
     "text": [
      "Rows: 1,275,582\n",
      "Users: 431\n"
     ]
    },
    {
     "data": {
      "text/html": [
       "<div>\n",
       "<style scoped>\n",
       "    .dataframe tbody tr th:only-of-type {\n",
       "        vertical-align: middle;\n",
       "    }\n",
       "\n",
       "    .dataframe tbody tr th {\n",
       "        vertical-align: top;\n",
       "    }\n",
       "\n",
       "    .dataframe thead th {\n",
       "        text-align: right;\n",
       "    }\n",
       "</style>\n",
       "<table border=\"1\" class=\"dataframe\">\n",
       "  <thead>\n",
       "    <tr style=\"text-align: right;\">\n",
       "      <th></th>\n",
       "      <th>id</th>\n",
       "      <th>date</th>\n",
       "      <th>user_id</th>\n",
       "      <th>amount</th>\n",
       "      <th>desc</th>\n",
       "      <th>merchant</th>\n",
       "      <th>tag_group</th>\n",
       "      <th>tag</th>\n",
       "      <th>user_female</th>\n",
       "      <th>user_postcode</th>\n",
       "      <th>user_registration_date</th>\n",
       "      <th>user_salary_range</th>\n",
       "      <th>user_yob</th>\n",
       "      <th>account_created</th>\n",
       "      <th>account_id</th>\n",
       "      <th>account_last_refreshed</th>\n",
       "      <th>account_provider</th>\n",
       "      <th>account_type</th>\n",
       "      <th>data_warehouse_date_created</th>\n",
       "      <th>data_warehouse_date_last_updated</th>\n",
       "      <th>debit</th>\n",
       "      <th>desc_old</th>\n",
       "      <th>latest_balance</th>\n",
       "      <th>merchant_business_line</th>\n",
       "      <th>tag_auto</th>\n",
       "      <th>tag_manual</th>\n",
       "      <th>tag_up</th>\n",
       "      <th>updated_flag</th>\n",
       "      <th>ym</th>\n",
       "      <th>balance</th>\n",
       "      <th>income</th>\n",
       "      <th>savings</th>\n",
       "    </tr>\n",
       "  </thead>\n",
       "  <tbody>\n",
       "    <tr>\n",
       "      <th>0</th>\n",
       "      <td>688261</td>\n",
       "      <td>2012-01-03</td>\n",
       "      <td>777</td>\n",
       "      <td>400.0</td>\n",
       "      <td>mdbremoved</td>\n",
       "      <td>NaN</td>\n",
       "      <td>transfers</td>\n",
       "      <td>transfers</td>\n",
       "      <td>False</td>\n",
       "      <td>wa1 4</td>\n",
       "      <td>2011-07-20</td>\n",
       "      <td>20k to 30k</td>\n",
       "      <td>1969.0</td>\n",
       "      <td>2011-07-20</td>\n",
       "      <td>262916</td>\n",
       "      <td>2020-07-21 20:32:00</td>\n",
       "      <td>natwest bank</td>\n",
       "      <td>current</td>\n",
       "      <td>2014-07-18</td>\n",
       "      <td>2017-11-13</td>\n",
       "      <td>True</td>\n",
       "      <td>&lt;mdbremoved&gt; - s/o</td>\n",
       "      <td>364.220001</td>\n",
       "      <td>non merchant mbl</td>\n",
       "      <td>transfers</td>\n",
       "      <td>other account</td>\n",
       "      <td>other account</td>\n",
       "      <td>u</td>\n",
       "      <td>201201</td>\n",
       "      <td>-1542.99646</td>\n",
       "      <td>24319.220881</td>\n",
       "      <td>False</td>\n",
       "    </tr>\n",
       "  </tbody>\n",
       "</table>\n",
       "</div>"
      ],
      "text/plain": [
       "       id       date  user_id  amount        desc merchant  tag_group  \\\n",
       "0  688261 2012-01-03      777   400.0  mdbremoved      NaN  transfers   \n",
       "\n",
       "         tag user_female user_postcode user_registration_date  \\\n",
       "0  transfers       False         wa1 4             2011-07-20   \n",
       "\n",
       "  user_salary_range  user_yob account_created  account_id  \\\n",
       "0        20k to 30k    1969.0      2011-07-20      262916   \n",
       "\n",
       "  account_last_refreshed account_provider account_type  \\\n",
       "0    2020-07-21 20:32:00     natwest bank      current   \n",
       "\n",
       "  data_warehouse_date_created data_warehouse_date_last_updated  debit  \\\n",
       "0                  2014-07-18                       2017-11-13   True   \n",
       "\n",
       "             desc_old  latest_balance merchant_business_line   tag_auto  \\\n",
       "0  <mdbremoved> - s/o      364.220001       non merchant mbl  transfers   \n",
       "\n",
       "      tag_manual         tag_up updated_flag      ym     balance  \\\n",
       "0  other account  other account            u  201201 -1542.99646   \n",
       "\n",
       "         income  savings  \n",
       "0  24319.220881    False  "
      ]
     },
     "execution_count": 2,
     "metadata": {},
     "output_type": "execute_result"
    }
   ],
   "source": [
    "SAMPLE = 'X77'\n",
    "fp = f'~/tmp/entropy_{SAMPLE}.parquet'\n",
    "\n",
    "df = aws.read_parquet(fp)\n",
    "print('Rows: {:,.0f}\\nUsers: {}'.format(df.shape[0], df.user_id.nunique()))\n",
    "df.head(1)"
   ]
  },
  {
   "cell_type": "markdown",
   "id": "44f2e795-af1c-4a5e-af31-af98dcb9a250",
   "metadata": {},
   "source": [
    "## Identify overdraft fee txns"
   ]
  },
  {
   "cell_type": "markdown",
   "id": "58efdad0-5fcf-4083-a79e-c3995b8ce21e",
   "metadata": {},
   "source": [
    "Approach: inspect txn descriptions for relevant tags and note down od-related ones, then inspect common tags for these od-descriptions, then check for additional od-related txns in these tags. Based on that, design regex pattern and gauge precision and recall. "
   ]
  },
  {
   "cell_type": "markdown",
   "id": "0afaeac1-a4b8-41a9-b151-0bf207103b54",
   "metadata": {},
   "source": [
    "Hypothesised pattern based on data inspection (omits word boundary for second group as there are txns descriptions where *interest* isn't part of a larger word like *interestto*)."
   ]
  },
  {
   "cell_type": "code",
   "execution_count": 3,
   "id": "b5cbc9ae-2679-402c-8a77-1e701b3f9a4b",
   "metadata": {},
   "outputs": [],
   "source": [
    "pattern = r'\\b(?:od|o d|overdraft|o draft)\\b.*(?:fee|usage|interest)'\n",
    "mask = df.desc.str.contains(pattern) & df.debit"
   ]
  },
  {
   "cell_type": "markdown",
   "id": "a7d4d485-930b-4b07-9fc9-ac7cf0c81e70",
   "metadata": {},
   "source": [
    "Matches only txns with relevant tags"
   ]
  },
  {
   "cell_type": "code",
   "execution_count": 4,
   "id": "2708592c-9023-4541-80d5-97bf951fc486",
   "metadata": {},
   "outputs": [
    {
     "data": {
      "text/plain": [
       "bank charges        16681\n",
       "interest charges      777\n",
       "banking charges       373\n",
       "interest income       173\n",
       "accessories             0\n",
       "Name: tag_auto, dtype: int64"
      ]
     },
     "execution_count": 4,
     "metadata": {},
     "output_type": "execute_result"
    }
   ],
   "source": [
    "od_fees = df[mask]\n",
    "tag_counts = od_fees.tag_auto.value_counts()\n",
    "tag_counts[:5]"
   ]
  },
  {
   "cell_type": "markdown",
   "id": "89933e5b-cff5-4fa5-88af-f1a0b0319c98",
   "metadata": {},
   "source": [
    "Has high precision (i.e. very few -- no? -- false positives)"
   ]
  },
  {
   "cell_type": "code",
   "execution_count": 5,
   "id": "4cc78f68-d31a-4f37-85cd-8382ea4e5df9",
   "metadata": {},
   "outputs": [
    {
     "data": {
      "text/plain": [
       "1157221           overdraft interestto 13jul 2019\n",
       "1268831                              daily od fee\n",
       "1064751                              daily od fee\n",
       "1216424                              daily od fee\n",
       "941464                           daily od fee chg\n",
       "1265819                              daily od fee\n",
       "490809                               daily od fee\n",
       "36483      unarrnged od usage 22oct a c 25 charge\n",
       "1061924                              daily od fee\n",
       "930555                           daily od fee chg\n",
       "Name: desc, dtype: object"
      ]
     },
     "execution_count": 5,
     "metadata": {},
     "output_type": "execute_result"
    }
   ],
   "source": [
    "od_fees.desc.sample(n=10)"
   ]
  },
  {
   "cell_type": "markdown",
   "id": "4379f03e-cd8b-42ed-a5b4-e3a4905c0bba",
   "metadata": {},
   "source": [
    "Seems to have high recall (i.e. finds most od-related txns). Below shows that using a less restrictive pattern has no more true positives but a few false positives (being yet less restrictive and omitting word boundary around first group finds thousandas of irrelevant txns, like `desc`s containing *food*, and finds only a handful of addition bank charges txns)."
   ]
  },
  {
   "cell_type": "code",
   "execution_count": 6,
   "id": "eb7020ca-a957-4284-942c-d6a9d2ee60f1",
   "metadata": {},
   "outputs": [
    {
     "data": {
      "text/plain": [
       "bank charges                16994\n",
       "interest charges              777\n",
       "banking charges               373\n",
       "interest income               173\n",
       "enjoyment                       2\n",
       "cash                            1\n",
       "tv / movies package             1\n",
       "entertainment, tv, media        1\n",
       "paypal account                  0\n",
       "Name: tag_auto, dtype: int64"
      ]
     },
     "execution_count": 6,
     "metadata": {},
     "output_type": "execute_result"
    }
   ],
   "source": [
    "pattern_alt = r'\\b(?:od|o d|overdraft|o draft)\\b'\n",
    "mask_alt = df.desc.str.contains(pattern_alt) & df.debit\n",
    "df[mask_alt].tag_auto.value_counts()[:9]"
   ]
  },
  {
   "cell_type": "code",
   "execution_count": 8,
   "id": "4b028064-d32b-4b83-8bac-8070cb1d228d",
   "metadata": {},
   "outputs": [
    {
     "data": {
      "text/plain": [
       "453077                                                     paypal c o d e x cd 7038 deb\n",
       "995919                        visa cash withdrawal trg od oruzja eur 30 00000 at 1 1274\n",
       "1018334                                    amzn mktp uk od 0us luxembourg on 12 jan bcc\n",
       "1067066    card payment to kindle svcs od 3553gv 5 3 99 gbp rate 1 00 gbp on 20 01 2020\n",
       "1123131                               3395 24jan 20 prime video od 8k67ny 5 353 7661 lu\n",
       "Name: desc, dtype: object"
      ]
     },
     "execution_count": 8,
     "metadata": {},
     "output_type": "execute_result"
    }
   ],
   "source": [
    "mask_alt = df.desc.str.contains(pattern_alt) & df.debit & df.tag_auto.str.contains('enjoyment|cash|tv')\n",
    "df[mask_alt].desc"
   ]
  },
  {
   "cell_type": "markdown",
   "id": "44a076e7-7c82-4caf-b8cc-582036d0fba7",
   "metadata": {
    "tags": []
   },
   "source": [
    "## Create dummies for in overdraft and paid od fee\n",
    "\n",
    "For each user-month, create a dummy indicating whether the user's current account was in overdraft and another dymmy indicating whether they paid overdraft fees."
   ]
  },
  {
   "cell_type": "code",
   "execution_count": 64,
   "id": "a63249c6-b3b9-462d-884c-247dd2184908",
   "metadata": {},
   "outputs": [
    {
     "data": {
      "text/html": [
       "<div>\n",
       "<style scoped>\n",
       "    .dataframe tbody tr th:only-of-type {\n",
       "        vertical-align: middle;\n",
       "    }\n",
       "\n",
       "    .dataframe tbody tr th {\n",
       "        vertical-align: top;\n",
       "    }\n",
       "\n",
       "    .dataframe thead th {\n",
       "        text-align: right;\n",
       "    }\n",
       "</style>\n",
       "<table border=\"1\" class=\"dataframe\">\n",
       "  <thead>\n",
       "    <tr style=\"text-align: right;\">\n",
       "      <th></th>\n",
       "      <th></th>\n",
       "      <th>od_fees_paid</th>\n",
       "      <th>in_od</th>\n",
       "    </tr>\n",
       "    <tr>\n",
       "      <th>user_id</th>\n",
       "      <th>date</th>\n",
       "      <th></th>\n",
       "      <th></th>\n",
       "    </tr>\n",
       "  </thead>\n",
       "  <tbody>\n",
       "    <tr>\n",
       "      <th rowspan=\"5\" valign=\"top\">777</th>\n",
       "      <th>2012-01-31</th>\n",
       "      <td>False</td>\n",
       "      <td>True</td>\n",
       "    </tr>\n",
       "    <tr>\n",
       "      <th>2012-02-29</th>\n",
       "      <td>False</td>\n",
       "      <td>True</td>\n",
       "    </tr>\n",
       "    <tr>\n",
       "      <th>2012-03-31</th>\n",
       "      <td>False</td>\n",
       "      <td>False</td>\n",
       "    </tr>\n",
       "    <tr>\n",
       "      <th>2012-04-30</th>\n",
       "      <td>False</td>\n",
       "      <td>True</td>\n",
       "    </tr>\n",
       "    <tr>\n",
       "      <th>2012-05-31</th>\n",
       "      <td>False</td>\n",
       "      <td>True</td>\n",
       "    </tr>\n",
       "  </tbody>\n",
       "</table>\n",
       "</div>"
      ],
      "text/plain": [
       "                    od_fees_paid  in_od\n",
       "user_id date                           \n",
       "777     2012-01-31         False   True\n",
       "        2012-02-29         False   True\n",
       "        2012-03-31         False  False\n",
       "        2012-04-30         False   True\n",
       "        2012-05-31         False   True"
      ]
     },
     "execution_count": 64,
     "metadata": {},
     "output_type": "execute_result"
    }
   ],
   "source": [
    "def make_overdraft_data(df):    \n",
    "    mask = (df.account_type.eq('current'), ['user_id', 'date', 'balance'])    \n",
    "    \n",
    "    pattern = r'\\b(?:od|o d|overdraft|o draft)\\b.*(?:fee|usage|interest)'\n",
    "    is_od_fee_txn = df.desc.str.contains(pattern) & df.debit    \n",
    "    \n",
    "    month = pd.Grouper(key='date', freq='M')    \n",
    "    fee_paid = lambda s: s.max() == 1\n",
    "    in_od = lambda s: s.min() < 0\n",
    "    \n",
    "    return (df.loc[mask]\n",
    "            .assign(od_fee_txn=is_od_fee_txn)\n",
    "            .groupby(['user_id', month])\n",
    "            .agg(od_fees_paid=('od_fee_txn', fee_paid),\n",
    "                 in_od=('balance', in_od))\n",
    "            .groupby('user_id')\n",
    "            .resample('M', level='date').first()\n",
    "            .fillna(0).astype(bool))\n",
    "      \n",
    "od = make_overdraft_data(df)\n",
    "od.head()"
   ]
  },
  {
   "cell_type": "markdown",
   "id": "a49e6abb-f6e6-4b9c-af53-5bc05cfa1e43",
   "metadata": {},
   "source": [
    "## Explore relationship between being in od and paying od fees"
   ]
  },
  {
   "cell_type": "markdown",
   "id": "b76d74f5-1bb3-42b6-b87a-2e59868468b8",
   "metadata": {},
   "source": [
    "### Relationship between od fees paid this month and in od this month"
   ]
  },
  {
   "cell_type": "code",
   "execution_count": 86,
   "id": "7cb2568a-6353-42b7-823d-0f0556d9ff48",
   "metadata": {},
   "outputs": [
    {
     "name": "stdout",
     "output_type": "stream",
     "text": [
      "Total (and share) correct: 8086 (60.4%)\n"
     ]
    },
    {
     "data": {
      "text/html": [
       "<div>\n",
       "<style scoped>\n",
       "    .dataframe tbody tr th:only-of-type {\n",
       "        vertical-align: middle;\n",
       "    }\n",
       "\n",
       "    .dataframe tbody tr th {\n",
       "        vertical-align: top;\n",
       "    }\n",
       "\n",
       "    .dataframe thead th {\n",
       "        text-align: right;\n",
       "    }\n",
       "</style>\n",
       "<table border=\"1\" class=\"dataframe\">\n",
       "  <thead>\n",
       "    <tr style=\"text-align: right;\">\n",
       "      <th>od_fees_paid</th>\n",
       "      <th>False</th>\n",
       "      <th>True</th>\n",
       "    </tr>\n",
       "    <tr>\n",
       "      <th>in_od</th>\n",
       "      <th></th>\n",
       "      <th></th>\n",
       "    </tr>\n",
       "  </thead>\n",
       "  <tbody>\n",
       "    <tr>\n",
       "      <th>False</th>\n",
       "      <td>5945</td>\n",
       "      <td>1319</td>\n",
       "    </tr>\n",
       "    <tr>\n",
       "      <th>True</th>\n",
       "      <td>3972</td>\n",
       "      <td>2141</td>\n",
       "    </tr>\n",
       "  </tbody>\n",
       "</table>\n",
       "</div>"
      ],
      "text/plain": [
       "od_fees_paid  False  True\n",
       "in_od                    \n",
       "False          5945  1319\n",
       "True           3972  2141"
      ]
     },
     "execution_count": 86,
     "metadata": {},
     "output_type": "execute_result"
    }
   ],
   "source": [
    "m = (od.groupby(['od_fees_paid', 'in_od']).size()\n",
    " .sort_values(ascending=False)\n",
    " .reset_index()\n",
    " .pivot('in_od', 'od_fees_paid')\n",
    " .droplevel(level=0, axis=1))\n",
    "\n",
    "correct = np.diag(m).sum()\n",
    "share_correct = correct / m.sum().sum()\n",
    "print(f'Total (and share) correct: {correct} ({share_correct:.1%})')\n",
    "m"
   ]
  },
  {
   "cell_type": "markdown",
   "id": "75ac98db-e4cf-427b-8732-5af673de4e0b",
   "metadata": {},
   "source": [
    "### Relationship between od fees paid this month and in od this or previous month"
   ]
  },
  {
   "cell_type": "code",
   "execution_count": 87,
   "id": "3c6fa356-2def-46f5-b757-6a5c1b495718",
   "metadata": {},
   "outputs": [
    {
     "data": {
      "text/html": [
       "<div>\n",
       "<style scoped>\n",
       "    .dataframe tbody tr th:only-of-type {\n",
       "        vertical-align: middle;\n",
       "    }\n",
       "\n",
       "    .dataframe tbody tr th {\n",
       "        vertical-align: top;\n",
       "    }\n",
       "\n",
       "    .dataframe thead th {\n",
       "        text-align: right;\n",
       "    }\n",
       "</style>\n",
       "<table border=\"1\" class=\"dataframe\">\n",
       "  <thead>\n",
       "    <tr style=\"text-align: right;\">\n",
       "      <th></th>\n",
       "      <th></th>\n",
       "      <th>od_fees_paid</th>\n",
       "      <th>in_od</th>\n",
       "      <th>in_od2</th>\n",
       "    </tr>\n",
       "    <tr>\n",
       "      <th>user_id</th>\n",
       "      <th>date</th>\n",
       "      <th></th>\n",
       "      <th></th>\n",
       "      <th></th>\n",
       "    </tr>\n",
       "  </thead>\n",
       "  <tbody>\n",
       "    <tr>\n",
       "      <th rowspan=\"3\" valign=\"top\">777</th>\n",
       "      <th>2013-07-31</th>\n",
       "      <td>False</td>\n",
       "      <td>True</td>\n",
       "      <td>True</td>\n",
       "    </tr>\n",
       "    <tr>\n",
       "      <th>2013-08-31</th>\n",
       "      <td>False</td>\n",
       "      <td>False</td>\n",
       "      <td>True</td>\n",
       "    </tr>\n",
       "    <tr>\n",
       "      <th>2013-09-30</th>\n",
       "      <td>False</td>\n",
       "      <td>False</td>\n",
       "      <td>False</td>\n",
       "    </tr>\n",
       "  </tbody>\n",
       "</table>\n",
       "</div>"
      ],
      "text/plain": [
       "                    od_fees_paid  in_od  in_od2\n",
       "user_id date                                   \n",
       "777     2013-07-31         False   True    True\n",
       "        2013-08-31         False  False    True\n",
       "        2013-09-30         False  False   False"
      ]
     },
     "execution_count": 87,
     "metadata": {},
     "output_type": "execute_result"
    }
   ],
   "source": [
    "od['in_od2'] = np.maximum(od.in_od, od.in_od.shift()) == 1\n",
    "od[18:21]"
   ]
  },
  {
   "cell_type": "code",
   "execution_count": 88,
   "id": "ff5579d5-38e1-4dd6-8d37-aae0033ad476",
   "metadata": {},
   "outputs": [
    {
     "name": "stdout",
     "output_type": "stream",
     "text": [
      "Total (and share) correct: 7628 (57.0%)\n"
     ]
    },
    {
     "data": {
      "text/html": [
       "<div>\n",
       "<style scoped>\n",
       "    .dataframe tbody tr th:only-of-type {\n",
       "        vertical-align: middle;\n",
       "    }\n",
       "\n",
       "    .dataframe tbody tr th {\n",
       "        vertical-align: top;\n",
       "    }\n",
       "\n",
       "    .dataframe thead th {\n",
       "        text-align: right;\n",
       "    }\n",
       "</style>\n",
       "<table border=\"1\" class=\"dataframe\">\n",
       "  <thead>\n",
       "    <tr style=\"text-align: right;\">\n",
       "      <th>od_fees_paid</th>\n",
       "      <th>False</th>\n",
       "      <th>True</th>\n",
       "    </tr>\n",
       "    <tr>\n",
       "      <th>in_od2</th>\n",
       "      <th></th>\n",
       "      <th></th>\n",
       "    </tr>\n",
       "  </thead>\n",
       "  <tbody>\n",
       "    <tr>\n",
       "      <th>False</th>\n",
       "      <td>5404</td>\n",
       "      <td>1236</td>\n",
       "    </tr>\n",
       "    <tr>\n",
       "      <th>True</th>\n",
       "      <td>4513</td>\n",
       "      <td>2224</td>\n",
       "    </tr>\n",
       "  </tbody>\n",
       "</table>\n",
       "</div>"
      ],
      "text/plain": [
       "od_fees_paid  False  True\n",
       "in_od2                   \n",
       "False          5404  1236\n",
       "True           4513  2224"
      ]
     },
     "execution_count": 88,
     "metadata": {},
     "output_type": "execute_result"
    }
   ],
   "source": [
    "m = (od.groupby(['od_fees_paid', 'in_od2']).size()\n",
    " .sort_values(ascending=False)\n",
    " .reset_index()\n",
    " .pivot('in_od2', 'od_fees_paid')\n",
    " .droplevel(level=0, axis=1))\n",
    "\n",
    "correct = np.diag(m).sum()\n",
    "share_correct = correct / m.sum().sum()\n",
    "print(f'Total (and share) correct: {correct} ({share_correct:.1%})')\n",
    "m"
   ]
  },
  {
   "cell_type": "markdown",
   "id": "f8805fdd-8e01-403b-90e5-b96ca805b009",
   "metadata": {},
   "source": [
    "### Distribution of lag between end/beginning of od and next od fee"
   ]
  }
 ],
 "metadata": {
  "kernelspec": {
   "display_name": "entropy",
   "language": "python",
   "name": "entropy"
  },
  "language_info": {
   "codemirror_mode": {
    "name": "ipython",
    "version": 3
   },
   "file_extension": ".py",
   "mimetype": "text/x-python",
   "name": "python",
   "nbconvert_exporter": "python",
   "pygments_lexer": "ipython3",
   "version": "3.9.6"
  },
  "toc-autonumbering": false,
  "toc-showcode": false,
  "toc-showmarkdowntxt": false
 },
 "nbformat": 4,
 "nbformat_minor": 5
}
