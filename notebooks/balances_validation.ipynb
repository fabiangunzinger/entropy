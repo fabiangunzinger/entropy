{
 "cells": [
  {
   "cell_type": "markdown",
   "id": "585fbeec-b261-40d2-bd56-cb42d828b773",
   "metadata": {},
   "source": [
    "Notebook purpose:\n",
    "\n",
    "- Validate current account balances\n",
    "\n",
    "Approach:\n",
    "\n",
    "1. Identify od fee txns\n",
    "2. For each user-month, create dummies indicating whether was in overdraft and paid od fees\n",
    "3. Explore relationship between above dummies"
   ]
  },
  {
   "cell_type": "code",
   "execution_count": 1,
   "id": "13bef683-64f8-4c36-bec3-05ecb69b15c5",
   "metadata": {
    "tags": []
   },
   "outputs": [],
   "source": [
    "import os\n",
    "import sys\n",
    "\n",
    "import matplotlib.pyplot as plt\n",
    "import numpy as np\n",
    "import pandas as pd\n",
    "import seaborn as sns\n",
    "\n",
    "sys.path.append('/Users/fgu/dev/projects/entropy')\n",
    "import entropy.helpers.aws as aws\n",
    "import entropy.data.cleaners as cl\n",
    "import entropy.data.creators as cr\n",
    "\n",
    "sns.set_style('whitegrid')\n",
    "pd.set_option('display.max_rows', 120)\n",
    "pd.set_option('display.max_columns', 120)\n",
    "pd.set_option('max_colwidth', None)\n",
    "%config InlineBackend.figure_format = 'retina'\n",
    "%load_ext autoreload\n",
    "%autoreload 2"
   ]
  },
  {
   "cell_type": "code",
   "execution_count": 21,
   "id": "f56ca4fb-7702-4f27-8d47-a0ba1d14d897",
   "metadata": {},
   "outputs": [
    {
     "name": "stdout",
     "output_type": "stream",
     "text": [
      "Rows: 554,055\n",
      "Users: 215\n"
     ]
    },
    {
     "data": {
      "text/html": [
       "<div>\n",
       "<style scoped>\n",
       "    .dataframe tbody tr th:only-of-type {\n",
       "        vertical-align: middle;\n",
       "    }\n",
       "\n",
       "    .dataframe tbody tr th {\n",
       "        vertical-align: top;\n",
       "    }\n",
       "\n",
       "    .dataframe thead th {\n",
       "        text-align: right;\n",
       "    }\n",
       "</style>\n",
       "<table border=\"1\" class=\"dataframe\">\n",
       "  <thead>\n",
       "    <tr style=\"text-align: right;\">\n",
       "      <th></th>\n",
       "      <th>id</th>\n",
       "      <th>date</th>\n",
       "      <th>user_id</th>\n",
       "      <th>amount</th>\n",
       "      <th>desc</th>\n",
       "      <th>merchant</th>\n",
       "      <th>tag_group</th>\n",
       "      <th>tag</th>\n",
       "      <th>user_female</th>\n",
       "      <th>user_postcode</th>\n",
       "      <th>user_registration_date</th>\n",
       "      <th>user_salary_range</th>\n",
       "      <th>user_yob</th>\n",
       "      <th>account_created</th>\n",
       "      <th>account_id</th>\n",
       "      <th>account_last_refreshed</th>\n",
       "      <th>account_provider</th>\n",
       "      <th>account_type</th>\n",
       "      <th>data_warehouse_date_created</th>\n",
       "      <th>data_warehouse_date_last_updated</th>\n",
       "      <th>debit</th>\n",
       "      <th>desc_old</th>\n",
       "      <th>latest_balance</th>\n",
       "      <th>merchant_business_line</th>\n",
       "      <th>tag_auto</th>\n",
       "      <th>tag_manual</th>\n",
       "      <th>tag_up</th>\n",
       "      <th>updated_flag</th>\n",
       "      <th>ym</th>\n",
       "      <th>balance</th>\n",
       "      <th>income</th>\n",
       "      <th>savings</th>\n",
       "      <th>od_fee_txn</th>\n",
       "    </tr>\n",
       "  </thead>\n",
       "  <tbody>\n",
       "    <tr>\n",
       "      <th>0</th>\n",
       "      <td>688261</td>\n",
       "      <td>2012-01-03</td>\n",
       "      <td>777</td>\n",
       "      <td>400.0</td>\n",
       "      <td>mdbremoved</td>\n",
       "      <td>NaN</td>\n",
       "      <td>transfers</td>\n",
       "      <td>transfers</td>\n",
       "      <td>False</td>\n",
       "      <td>wa1 4</td>\n",
       "      <td>2011-07-20</td>\n",
       "      <td>20k to 30k</td>\n",
       "      <td>1969.0</td>\n",
       "      <td>2011-07-20</td>\n",
       "      <td>262916</td>\n",
       "      <td>2020-07-21 20:32:00</td>\n",
       "      <td>natwest bank</td>\n",
       "      <td>current</td>\n",
       "      <td>2014-07-18</td>\n",
       "      <td>2017-11-13</td>\n",
       "      <td>True</td>\n",
       "      <td>&lt;mdbremoved&gt; - s/o</td>\n",
       "      <td>364.220001</td>\n",
       "      <td>non merchant mbl</td>\n",
       "      <td>transfers</td>\n",
       "      <td>other account</td>\n",
       "      <td>other account</td>\n",
       "      <td>u</td>\n",
       "      <td>201201</td>\n",
       "      <td>-1542.99646</td>\n",
       "      <td>24319.220881</td>\n",
       "      <td>False</td>\n",
       "      <td>False</td>\n",
       "    </tr>\n",
       "  </tbody>\n",
       "</table>\n",
       "</div>"
      ],
      "text/plain": [
       "       id       date  user_id  amount        desc merchant  tag_group  \\\n",
       "0  688261 2012-01-03      777   400.0  mdbremoved      NaN  transfers   \n",
       "\n",
       "         tag user_female user_postcode user_registration_date  \\\n",
       "0  transfers       False         wa1 4             2011-07-20   \n",
       "\n",
       "  user_salary_range  user_yob account_created  account_id  \\\n",
       "0        20k to 30k    1969.0      2011-07-20      262916   \n",
       "\n",
       "  account_last_refreshed account_provider account_type  \\\n",
       "0    2020-07-21 20:32:00     natwest bank      current   \n",
       "\n",
       "  data_warehouse_date_created data_warehouse_date_last_updated  debit  \\\n",
       "0                  2014-07-18                       2017-11-13   True   \n",
       "\n",
       "             desc_old  latest_balance merchant_business_line   tag_auto  \\\n",
       "0  <mdbremoved> - s/o      364.220001       non merchant mbl  transfers   \n",
       "\n",
       "      tag_manual         tag_up updated_flag      ym     balance  \\\n",
       "0  other account  other account            u  201201 -1542.99646   \n",
       "\n",
       "         income  savings  od_fee_txn  \n",
       "0  24319.220881    False       False  "
      ]
     },
     "execution_count": 21,
     "metadata": {},
     "output_type": "execute_result"
    }
   ],
   "source": [
    "def keep_current_accounts(df):\n",
    "    return df[df.account_type.isin(['current'])]\n",
    "\n",
    "def tag_od_txns(df):\n",
    "    \"\"\"Tags overdraft fee payments.\"\"\"\n",
    "    pattern = r'\\b(?:od|o d|overdraft|o draft)\\b.*(?:fee|usage|interest)'\n",
    "    is_od_fee_txn = df.desc.str.contains(pattern) & df.debit\n",
    "    df['od_fee_txn'] = is_od_fee_txn\n",
    "    return df\n",
    "\n",
    "SAMPLE = 'X77'\n",
    "fp = f'~/tmp/entropy_{SAMPLE}.parquet'\n",
    "\n",
    "df = (aws.read_parquet(fp)\n",
    "      .pipe(keep_current_accounts)\n",
    "      .pipe(tag_od_txns))\n",
    "\n",
    "\n",
    "print('Rows: {:,.0f}\\nUsers: {}'.format(df.shape[0], df.user_id.nunique()))\n",
    "df.head(1)"
   ]
  },
  {
   "cell_type": "markdown",
   "id": "44f2e795-af1c-4a5e-af31-af98dcb9a250",
   "metadata": {},
   "source": [
    "## Identify overdraft fee txns"
   ]
  },
  {
   "cell_type": "markdown",
   "id": "58efdad0-5fcf-4083-a79e-c3995b8ce21e",
   "metadata": {},
   "source": [
    "Approach: inspect txn descriptions for relevant tags and note down od-related ones, then inspect common tags for these od-descriptions, then check for additional od-related txns in these tags. Based on that, design regex pattern and gauge precision and recall. "
   ]
  },
  {
   "cell_type": "markdown",
   "id": "0afaeac1-a4b8-41a9-b151-0bf207103b54",
   "metadata": {},
   "source": [
    "Hypothesised pattern based on data inspection (omits word boundary for second group as there are txns descriptions where *interest* is part of a larger words like *interestto*)."
   ]
  },
  {
   "cell_type": "code",
   "execution_count": 9,
   "id": "b5cbc9ae-2679-402c-8a77-1e701b3f9a4b",
   "metadata": {},
   "outputs": [],
   "source": [
    "pattern = r'\\b(?:od|o d|overdraft|o draft)\\b.*(?:fee|usage|interest)'\n",
    "mask = df.desc.str.contains(pattern) & df.debit"
   ]
  },
  {
   "cell_type": "markdown",
   "id": "a7d4d485-930b-4b07-9fc9-ac7cf0c81e70",
   "metadata": {},
   "source": [
    "Matches only txns with relevant tags"
   ]
  },
  {
   "cell_type": "code",
   "execution_count": 10,
   "id": "2708592c-9023-4541-80d5-97bf951fc486",
   "metadata": {},
   "outputs": [
    {
     "data": {
      "text/plain": [
       "bank charges        9386\n",
       "interest charges     173\n",
       "interest income      137\n",
       "banking charges       95\n",
       "accessories            0\n",
       "Name: tag_auto, dtype: int64"
      ]
     },
     "execution_count": 10,
     "metadata": {},
     "output_type": "execute_result"
    }
   ],
   "source": [
    "od_fees = df[mask]\n",
    "tag_counts = od_fees.tag_auto.value_counts()\n",
    "tag_counts[:5]"
   ]
  },
  {
   "cell_type": "markdown",
   "id": "89933e5b-cff5-4fa5-88af-f1a0b0319c98",
   "metadata": {},
   "source": [
    "Has high precision (i.e. very few -- no? -- false positives)"
   ]
  },
  {
   "cell_type": "code",
   "execution_count": 11,
   "id": "4cc78f68-d31a-4f37-85cd-8382ea4e5df9",
   "metadata": {},
   "outputs": [
    {
     "data": {
      "text/plain": [
       "39032                                                           daily od fee chg\n",
       "98628                                                           daily od fee chg\n",
       "147607                   arranged overdraft interest arranged overdraft interest\n",
       "638895                                                        daily od fee 07 09\n",
       "479997                                                              daily od fee\n",
       "635841                                                        daily od fee 19 05\n",
       "622128                                                              daily od fee\n",
       "352993                                            overdraft interest to 24dec 18\n",
       "52223     arranged od usage arranged od usage 15may a c 0688 type charges charge\n",
       "635607                                                              daily od fee\n",
       "Name: desc, dtype: object"
      ]
     },
     "execution_count": 11,
     "metadata": {},
     "output_type": "execute_result"
    }
   ],
   "source": [
    "od_fees.desc.sample(n=10)"
   ]
  },
  {
   "cell_type": "markdown",
   "id": "4379f03e-cd8b-42ed-a5b4-e3a4905c0bba",
   "metadata": {},
   "source": [
    "Seems to have high recall (i.e. finds most od-related txns). Below shows that using a less restrictive pattern has no more true positives but a few false positives (being yet less restrictive and omitting word boundary around first group finds thousandas of irrelevant txns, like `desc`s containing *food*, and finds only a handful of addition bank charges txns)."
   ]
  },
  {
   "cell_type": "code",
   "execution_count": 12,
   "id": "eb7020ca-a957-4284-942c-d6a9d2ee60f1",
   "metadata": {},
   "outputs": [
    {
     "data": {
      "text/plain": [
       "bank charges                9643\n",
       "interest charges             173\n",
       "interest income              137\n",
       "banking charges               95\n",
       "enjoyment                      2\n",
       "cash                           1\n",
       "tv / movies package            1\n",
       "entertainment, tv, media       1\n",
       "paypal account                 0\n",
       "Name: tag_auto, dtype: int64"
      ]
     },
     "execution_count": 12,
     "metadata": {},
     "output_type": "execute_result"
    }
   ],
   "source": [
    "pattern_alt = r'\\b(?:od|o d|overdraft|o draft)\\b'\n",
    "mask_alt = df.desc.str.contains(pattern_alt) & df.debit\n",
    "df[mask_alt].tag_auto.value_counts()[:9]"
   ]
  },
  {
   "cell_type": "code",
   "execution_count": 13,
   "id": "4b028064-d32b-4b83-8bac-8070cb1d228d",
   "metadata": {},
   "outputs": [
    {
     "data": {
      "text/plain": [
       "117905                                                    paypal c o d e x cd 7038 deb\n",
       "426340                       visa cash withdrawal trg od oruzja eur 30 00000 at 1 1274\n",
       "442285                                    amzn mktp uk od 0us luxembourg on 12 jan bcc\n",
       "485168    card payment to kindle svcs od 3553gv 5 3 99 gbp rate 1 00 gbp on 20 01 2020\n",
       "525398                               3395 24jan 20 prime video od 8k67ny 5 353 7661 lu\n",
       "Name: desc, dtype: object"
      ]
     },
     "execution_count": 13,
     "metadata": {},
     "output_type": "execute_result"
    }
   ],
   "source": [
    "mask_alt = df.desc.str.contains(pattern_alt) & df.debit & df.tag_auto.str.contains('enjoyment|cash|tv')\n",
    "df[mask_alt].desc"
   ]
  },
  {
   "cell_type": "markdown",
   "id": "8454d8de-37fa-4000-8281-5321c58536d5",
   "metadata": {},
   "source": [
    "## Dated od fees\n",
    "\n",
    "Extract dates for which od fees are being charged to check whether account was in overdraft on these days (or the last preceeding date for which we observe any txns)."
   ]
  },
  {
   "cell_type": "markdown",
   "id": "2d98d599-f185-435c-9a21-7fa67307cbfb",
   "metadata": {},
   "source": [
    "We are looking for txns with these kinds of `desc`s:"
   ]
  },
  {
   "cell_type": "code",
   "execution_count": 369,
   "id": "7b755102-d63d-4030-b1f7-8facb2505796",
   "metadata": {},
   "outputs": [
    {
     "data": {
      "text/plain": [
       "38173    daily od fee 11 08 chg\n",
       "38203    daily od fee 19 08 chg\n",
       "38204    daily od fee 18 08 chg\n",
       "38345    daily od fee 15 09 chg\n",
       "38346    daily od fee 16 09 chg\n",
       "Name: desc, dtype: object"
      ]
     },
     "execution_count": 369,
     "metadata": {},
     "output_type": "execute_result"
    }
   ],
   "source": [
    "df[df.desc.str.contains('daily od fee \\d\\d')].desc.head()"
   ]
  },
  {
   "cell_type": "code",
   "execution_count": 354,
   "id": "5dcbe5eb-a48f-431b-b5f7-5134cd1cea75",
   "metadata": {},
   "outputs": [
    {
     "data": {
      "text/html": [
       "<div>\n",
       "<style scoped>\n",
       "    .dataframe tbody tr th:only-of-type {\n",
       "        vertical-align: middle;\n",
       "    }\n",
       "\n",
       "    .dataframe tbody tr th {\n",
       "        vertical-align: top;\n",
       "    }\n",
       "\n",
       "    .dataframe thead th {\n",
       "        text-align: right;\n",
       "    }\n",
       "</style>\n",
       "<table border=\"1\" class=\"dataframe\">\n",
       "  <thead>\n",
       "    <tr style=\"text-align: right;\">\n",
       "      <th></th>\n",
       "      <th>account_id</th>\n",
       "      <th>date</th>\n",
       "    </tr>\n",
       "  </thead>\n",
       "  <tbody>\n",
       "    <tr>\n",
       "      <th>0</th>\n",
       "      <td>152138</td>\n",
       "      <td>2018-08-11</td>\n",
       "    </tr>\n",
       "    <tr>\n",
       "      <th>1</th>\n",
       "      <td>152138</td>\n",
       "      <td>2018-08-19</td>\n",
       "    </tr>\n",
       "    <tr>\n",
       "      <th>2</th>\n",
       "      <td>152138</td>\n",
       "      <td>2018-08-18</td>\n",
       "    </tr>\n",
       "    <tr>\n",
       "      <th>3</th>\n",
       "      <td>152138</td>\n",
       "      <td>2018-09-15</td>\n",
       "    </tr>\n",
       "    <tr>\n",
       "      <th>4</th>\n",
       "      <td>152138</td>\n",
       "      <td>2018-09-16</td>\n",
       "    </tr>\n",
       "  </tbody>\n",
       "</table>\n",
       "</div>"
      ],
      "text/plain": [
       "   account_id       date\n",
       "0      152138 2018-08-11\n",
       "1      152138 2018-08-19\n",
       "2      152138 2018-08-18\n",
       "3      152138 2018-09-15\n",
       "4      152138 2018-09-16"
      ]
     },
     "execution_count": 354,
     "metadata": {},
     "output_type": "execute_result"
    }
   ],
   "source": [
    "def get_od_dates(df):\n",
    "    pattern = r'daily od fee (?P<day>\\d\\d) (?P<month>\\d\\d)'\n",
    "    return (df.set_index(['date', 'account_id'])\n",
    "            .desc.str.extract(pattern)\n",
    "            .dropna()\n",
    "            .reset_index()\n",
    "            .assign(year=lambda df: df.date.dt.year)\n",
    "            .assign(date=lambda df: pd.to_datetime(df[['year', 'month', 'day']]))\n",
    "            .loc[:, ['account_id', 'date']])\n",
    "\n",
    "od_dates = get_od_dates(df)\n",
    "od_dates.head()"
   ]
  },
  {
   "cell_type": "code",
   "execution_count": 359,
   "id": "9edd7873-2ae7-45fd-b3b7-e1a9c1a43b67",
   "metadata": {},
   "outputs": [
    {
     "data": {
      "text/html": [
       "<div>\n",
       "<style scoped>\n",
       "    .dataframe tbody tr th:only-of-type {\n",
       "        vertical-align: middle;\n",
       "    }\n",
       "\n",
       "    .dataframe tbody tr th {\n",
       "        vertical-align: top;\n",
       "    }\n",
       "\n",
       "    .dataframe thead th {\n",
       "        text-align: right;\n",
       "    }\n",
       "</style>\n",
       "<table border=\"1\" class=\"dataframe\">\n",
       "  <thead>\n",
       "    <tr style=\"text-align: right;\">\n",
       "      <th></th>\n",
       "      <th>account_id</th>\n",
       "      <th>date</th>\n",
       "      <th>balance</th>\n",
       "    </tr>\n",
       "  </thead>\n",
       "  <tbody>\n",
       "    <tr>\n",
       "      <th>0</th>\n",
       "      <td>152138</td>\n",
       "      <td>2018-08-11</td>\n",
       "      <td>-443.612732</td>\n",
       "    </tr>\n",
       "    <tr>\n",
       "      <th>1</th>\n",
       "      <td>152138</td>\n",
       "      <td>2018-08-19</td>\n",
       "      <td>-601.192749</td>\n",
       "    </tr>\n",
       "    <tr>\n",
       "      <th>2</th>\n",
       "      <td>152138</td>\n",
       "      <td>2018-08-18</td>\n",
       "      <td>-601.192749</td>\n",
       "    </tr>\n",
       "    <tr>\n",
       "      <th>3</th>\n",
       "      <td>152138</td>\n",
       "      <td>2018-09-15</td>\n",
       "      <td>-625.332764</td>\n",
       "    </tr>\n",
       "    <tr>\n",
       "      <th>4</th>\n",
       "      <td>152138</td>\n",
       "      <td>2018-09-16</td>\n",
       "      <td>-625.332764</td>\n",
       "    </tr>\n",
       "  </tbody>\n",
       "</table>\n",
       "</div>"
      ],
      "text/plain": [
       "   account_id       date     balance\n",
       "0      152138 2018-08-11 -443.612732\n",
       "1      152138 2018-08-19 -601.192749\n",
       "2      152138 2018-08-18 -601.192749\n",
       "3      152138 2018-09-15 -625.332764\n",
       "4      152138 2018-09-16 -625.332764"
      ]
     },
     "execution_count": 359,
     "metadata": {},
     "output_type": "execute_result"
    }
   ],
   "source": [
    "def get_od_dates_balances(od_dates, df):\n",
    "    balances = (df.set_index('date')\n",
    "                .groupby('account_id')\n",
    "                .resample('d').balance.first().ffill()\n",
    "                .reset_index())\n",
    "    return od_dates.merge(balances)\n",
    "    \n",
    "od_dates_balances = get_od_dates_balances(od_dates, df)\n",
    "od_dates_balances.head()"
   ]
  },
  {
   "cell_type": "code",
   "execution_count": 375,
   "id": "32dc40c3-6d62-4c86-a4b9-b7dd29369132",
   "metadata": {},
   "outputs": [
    {
     "name": "stdout",
     "output_type": "stream",
     "text": [
      "Accounts are in overdraft on 2490 of 2577 dates (96.6%) for which od fees are being charged.\n"
     ]
    }
   ],
   "source": [
    "obs = len(od_dates_balances)\n",
    "in_od = k.balance.lt(0).sum()\n",
    "print(f'Accounts are in overdraft on {in_od} of {obs} dates ({in_od / obs:.1%}) for which od fees are being charged.')"
   ]
  },
  {
   "cell_type": "markdown",
   "id": "93e63692-e8a4-42cc-a56e-b311323285af",
   "metadata": {},
   "source": [
    "### Monthly overdrafts and od fee payments\n",
    "\n",
    "We check for correlation between a account having been in overdraft and been charged od fees anytime during the month.\n",
    "\n",
    "The correlation between these two events is low. Possibly because od fees are not always charged with calendar months (e.g. sometimes planned overdrafts are charged mid month for a 30-day period ending towards the end of the previosu month)"
   ]
  },
  {
   "cell_type": "code",
   "execution_count": 387,
   "id": "c164da77-ee73-40a1-a520-4b409381d83c",
   "metadata": {},
   "outputs": [
    {
     "data": {
      "text/html": [
       "<div>\n",
       "<style scoped>\n",
       "    .dataframe tbody tr th:only-of-type {\n",
       "        vertical-align: middle;\n",
       "    }\n",
       "\n",
       "    .dataframe tbody tr th {\n",
       "        vertical-align: top;\n",
       "    }\n",
       "\n",
       "    .dataframe thead th {\n",
       "        text-align: right;\n",
       "    }\n",
       "</style>\n",
       "<table border=\"1\" class=\"dataframe\">\n",
       "  <thead>\n",
       "    <tr style=\"text-align: right;\">\n",
       "      <th></th>\n",
       "      <th>date</th>\n",
       "      <th>amount</th>\n",
       "      <th>desc</th>\n",
       "    </tr>\n",
       "  </thead>\n",
       "  <tbody>\n",
       "    <tr>\n",
       "      <th>22759</th>\n",
       "      <td>2014-05-16</td>\n",
       "      <td>0.31</td>\n",
       "      <td>overdraft interest to 24apr 2014</td>\n",
       "    </tr>\n",
       "  </tbody>\n",
       "</table>\n",
       "</div>"
      ],
      "text/plain": [
       "            date  amount                              desc\n",
       "22759 2014-05-16    0.31  overdraft interest to 24apr 2014"
      ]
     },
     "execution_count": 387,
     "metadata": {},
     "output_type": "execute_result"
    }
   ],
   "source": [
    "df.loc[22759:22759, ['date', 'amount', 'desc']]"
   ]
  },
  {
   "cell_type": "markdown",
   "id": "44a076e7-7c82-4caf-b8cc-582036d0fba7",
   "metadata": {
    "tags": []
   },
   "source": [
    "### Create dummies for in overdraft and paid od fee\n",
    "\n",
    "For each user-month, create a dummies indicating whether the user's current account was in overdraft and whether they paid overdraft fees."
   ]
  },
  {
   "cell_type": "code",
   "execution_count": 377,
   "id": "a63249c6-b3b9-462d-884c-247dd2184908",
   "metadata": {},
   "outputs": [
    {
     "data": {
      "text/html": [
       "<div>\n",
       "<style scoped>\n",
       "    .dataframe tbody tr th:only-of-type {\n",
       "        vertical-align: middle;\n",
       "    }\n",
       "\n",
       "    .dataframe tbody tr th {\n",
       "        vertical-align: top;\n",
       "    }\n",
       "\n",
       "    .dataframe thead th {\n",
       "        text-align: right;\n",
       "    }\n",
       "</style>\n",
       "<table border=\"1\" class=\"dataframe\">\n",
       "  <thead>\n",
       "    <tr style=\"text-align: right;\">\n",
       "      <th></th>\n",
       "      <th></th>\n",
       "      <th>od_fee_paid</th>\n",
       "      <th>in_od</th>\n",
       "    </tr>\n",
       "    <tr>\n",
       "      <th>user_id</th>\n",
       "      <th>date</th>\n",
       "      <th></th>\n",
       "      <th></th>\n",
       "    </tr>\n",
       "  </thead>\n",
       "  <tbody>\n",
       "    <tr>\n",
       "      <th rowspan=\"2\" valign=\"top\">777</th>\n",
       "      <th>2012-01-31</th>\n",
       "      <td>False</td>\n",
       "      <td>True</td>\n",
       "    </tr>\n",
       "    <tr>\n",
       "      <th>2012-02-29</th>\n",
       "      <td>False</td>\n",
       "      <td>True</td>\n",
       "    </tr>\n",
       "  </tbody>\n",
       "</table>\n",
       "</div>"
      ],
      "text/plain": [
       "                    od_fee_paid  in_od\n",
       "user_id date                          \n",
       "777     2012-01-31        False   True\n",
       "        2012-02-29        False   True"
      ]
     },
     "execution_count": 377,
     "metadata": {},
     "output_type": "execute_result"
    }
   ],
   "source": [
    "def make_overdraft_data(df):\n",
    "    mask = df.account_type.eq('current')\n",
    "    cols = ['user_id', 'date', 'balance', 'od_fee_txn']\n",
    "    month = pd.Grouper(key='date', freq='M')    \n",
    "    od_fee_paid = lambda s: s.max() == 1\n",
    "    in_od = lambda s: s.min() < 0\n",
    "    \n",
    "    return (df.loc[mask, cols]\n",
    "            .groupby(['user_id', month])\n",
    "            .agg(od_fee_paid=('od_fee_txn', od_fee_paid),\n",
    "                 in_od=('balance', in_od))\n",
    "            .groupby('user_id')\n",
    "            .resample('M', level='date').first()\n",
    "            .fillna(0).astype(bool))\n",
    "\n",
    "od = make_overdraft_data(df)\n",
    "od.head(2)"
   ]
  },
  {
   "cell_type": "markdown",
   "id": "b76d74f5-1bb3-42b6-b87a-2e59868468b8",
   "metadata": {},
   "source": [
    "### Relationship between od fees paid this month and in od this month"
   ]
  },
  {
   "cell_type": "code",
   "execution_count": 378,
   "id": "7cb2568a-6353-42b7-823d-0f0556d9ff48",
   "metadata": {},
   "outputs": [
    {
     "name": "stdout",
     "output_type": "stream",
     "text": [
      "Total (and share) correct: 3757 (57.7%)\n"
     ]
    },
    {
     "data": {
      "text/html": [
       "<div>\n",
       "<style scoped>\n",
       "    .dataframe tbody tr th:only-of-type {\n",
       "        vertical-align: middle;\n",
       "    }\n",
       "\n",
       "    .dataframe tbody tr th {\n",
       "        vertical-align: top;\n",
       "    }\n",
       "\n",
       "    .dataframe thead th {\n",
       "        text-align: right;\n",
       "    }\n",
       "</style>\n",
       "<table border=\"1\" class=\"dataframe\">\n",
       "  <thead>\n",
       "    <tr style=\"text-align: right;\">\n",
       "      <th>od_fee_paid</th>\n",
       "      <th>False</th>\n",
       "      <th>True</th>\n",
       "    </tr>\n",
       "    <tr>\n",
       "      <th>in_od</th>\n",
       "      <th></th>\n",
       "      <th></th>\n",
       "    </tr>\n",
       "  </thead>\n",
       "  <tbody>\n",
       "    <tr>\n",
       "      <th>False</th>\n",
       "      <td>2506</td>\n",
       "      <td>116</td>\n",
       "    </tr>\n",
       "    <tr>\n",
       "      <th>True</th>\n",
       "      <td>2638</td>\n",
       "      <td>1251</td>\n",
       "    </tr>\n",
       "  </tbody>\n",
       "</table>\n",
       "</div>"
      ],
      "text/plain": [
       "od_fee_paid  False  True\n",
       "in_od                   \n",
       "False         2506   116\n",
       "True          2638  1251"
      ]
     },
     "execution_count": 378,
     "metadata": {},
     "output_type": "execute_result"
    }
   ],
   "source": [
    "def fee_od_matrix(od_data, in_od_col='in_od'):\n",
    "    \"\"\"Print confusion matrix for od_fee_paid and in_od columns.\"\"\"\n",
    "    m = (od_data.groupby(['od_fee_paid', in_od_col]).size()\n",
    "         .reset_index()\n",
    "         .pivot(in_od_col, 'od_fee_paid')\n",
    "         .droplevel(level=0, axis=1))\n",
    "    \n",
    "    correct = np.diag(m).sum()\n",
    "    share_correct = correct / m.sum().sum()\n",
    "    print(f'Total (and share) correct: {correct} ({share_correct:.1%})')\n",
    "    return m\n",
    "\n",
    "fee_od_matrix(od)"
   ]
  },
  {
   "cell_type": "markdown",
   "id": "75ac98db-e4cf-427b-8732-5af673de4e0b",
   "metadata": {},
   "source": [
    "### Relationship between od fees paid this month and od this or previous month"
   ]
  },
  {
   "cell_type": "code",
   "execution_count": 379,
   "id": "3c6fa356-2def-46f5-b757-6a5c1b495718",
   "metadata": {},
   "outputs": [
    {
     "data": {
      "text/html": [
       "<div>\n",
       "<style scoped>\n",
       "    .dataframe tbody tr th:only-of-type {\n",
       "        vertical-align: middle;\n",
       "    }\n",
       "\n",
       "    .dataframe tbody tr th {\n",
       "        vertical-align: top;\n",
       "    }\n",
       "\n",
       "    .dataframe thead th {\n",
       "        text-align: right;\n",
       "    }\n",
       "</style>\n",
       "<table border=\"1\" class=\"dataframe\">\n",
       "  <thead>\n",
       "    <tr style=\"text-align: right;\">\n",
       "      <th></th>\n",
       "      <th></th>\n",
       "      <th>od_fee_paid</th>\n",
       "      <th>in_od</th>\n",
       "      <th>in_od2</th>\n",
       "    </tr>\n",
       "    <tr>\n",
       "      <th>user_id</th>\n",
       "      <th>date</th>\n",
       "      <th></th>\n",
       "      <th></th>\n",
       "      <th></th>\n",
       "    </tr>\n",
       "  </thead>\n",
       "  <tbody>\n",
       "    <tr>\n",
       "      <th rowspan=\"3\" valign=\"top\">777</th>\n",
       "      <th>2013-07-31</th>\n",
       "      <td>False</td>\n",
       "      <td>True</td>\n",
       "      <td>True</td>\n",
       "    </tr>\n",
       "    <tr>\n",
       "      <th>2013-08-31</th>\n",
       "      <td>False</td>\n",
       "      <td>False</td>\n",
       "      <td>True</td>\n",
       "    </tr>\n",
       "    <tr>\n",
       "      <th>2013-09-30</th>\n",
       "      <td>False</td>\n",
       "      <td>False</td>\n",
       "      <td>False</td>\n",
       "    </tr>\n",
       "  </tbody>\n",
       "</table>\n",
       "</div>"
      ],
      "text/plain": [
       "                    od_fee_paid  in_od  in_od2\n",
       "user_id date                                  \n",
       "777     2013-07-31        False   True    True\n",
       "        2013-08-31        False  False    True\n",
       "        2013-09-30        False  False   False"
      ]
     },
     "execution_count": 379,
     "metadata": {},
     "output_type": "execute_result"
    }
   ],
   "source": [
    "od['in_od2'] = np.maximum(od.in_od, od.in_od.shift()) == 1\n",
    "od[18:21]"
   ]
  },
  {
   "cell_type": "code",
   "execution_count": 380,
   "id": "ff5579d5-38e1-4dd6-8d37-aae0033ad476",
   "metadata": {},
   "outputs": [
    {
     "name": "stdout",
     "output_type": "stream",
     "text": [
      "Total (and share) correct: 3448 (53.0%)\n"
     ]
    },
    {
     "data": {
      "text/html": [
       "<div>\n",
       "<style scoped>\n",
       "    .dataframe tbody tr th:only-of-type {\n",
       "        vertical-align: middle;\n",
       "    }\n",
       "\n",
       "    .dataframe tbody tr th {\n",
       "        vertical-align: top;\n",
       "    }\n",
       "\n",
       "    .dataframe thead th {\n",
       "        text-align: right;\n",
       "    }\n",
       "</style>\n",
       "<table border=\"1\" class=\"dataframe\">\n",
       "  <thead>\n",
       "    <tr style=\"text-align: right;\">\n",
       "      <th>od_fee_paid</th>\n",
       "      <th>False</th>\n",
       "      <th>True</th>\n",
       "    </tr>\n",
       "    <tr>\n",
       "      <th>in_od2</th>\n",
       "      <th></th>\n",
       "      <th></th>\n",
       "    </tr>\n",
       "  </thead>\n",
       "  <tbody>\n",
       "    <tr>\n",
       "      <th>False</th>\n",
       "      <td>2152</td>\n",
       "      <td>71</td>\n",
       "    </tr>\n",
       "    <tr>\n",
       "      <th>True</th>\n",
       "      <td>2992</td>\n",
       "      <td>1296</td>\n",
       "    </tr>\n",
       "  </tbody>\n",
       "</table>\n",
       "</div>"
      ],
      "text/plain": [
       "od_fee_paid  False  True\n",
       "in_od2                  \n",
       "False         2152    71\n",
       "True          2992  1296"
      ]
     },
     "execution_count": 380,
     "metadata": {},
     "output_type": "execute_result"
    }
   ],
   "source": [
    "fee_od_matrix(od, in_od_col='in_od2')"
   ]
  },
  {
   "cell_type": "markdown",
   "id": "880644cd-3bde-460f-bdbe-ac45d24582b9",
   "metadata": {},
   "source": [
    "## Case studies"
   ]
  },
  {
   "cell_type": "markdown",
   "id": "53756417-044a-43d2-ae27-9bc5c0dbd696",
   "metadata": {},
   "source": [
    "Look into missing balances data\n",
    "- All balances missing is okay\n",
    "- But there shouldn't be missing balances if there are any nonmissing ones\n",
    "\n",
    "Case studies: \n",
    "- Expected pattern: ['1652258']\n",
    "- Unexpected pattern:"
   ]
  },
  {
   "cell_type": "code",
   "execution_count": 111,
   "id": "6ffb7032-471c-47ee-8176-2e4148b345fc",
   "metadata": {},
   "outputs": [],
   "source": [
    "def draw_account_sample(df, n=1, seed=2312):\n",
    "    \"\"\"Random sample of accounts withcharges.\"\"\"\n",
    "    rng = np.random.default_rng(seed=seed)\n",
    "    accounts = df[df.od_fee_txn].account_id.unique()\n",
    "    return rng.choice(accounts, size=n)\n",
    "\n",
    "def make_account_data(df, account_id):\n",
    "    df = df.copy()\n",
    "    data = df[df.account_id == account_id]\n",
    "    return (data.groupby(['date', 'account_id'])\n",
    "            .agg({'balance': 'first', 'od_fee_txn': 'max'})\n",
    "            .reset_index(level='account_id'))\n",
    "\n",
    "def make_balance_od_fee_plot(df):\n",
    "    title = f'Account id: {df.account_id[0]}'\n",
    "    df.balance.plot(title=title)\n",
    "    plt.axhline(0, color='orange', linewidth=2)\n",
    "    d = df[df.od_fee_txn]\n",
    "    d.od_fee_txn.astype(int).plot(marker='o', markersize=3, secondary_y=True, linewidth=0, color='green')\n"
   ]
  },
  {
   "cell_type": "code",
   "execution_count": 112,
   "id": "703cbceb-e698-4ff0-a57d-7bcf4dd9c0ce",
   "metadata": {},
   "outputs": [
    {
     "data": {
      "image/png": "[encoded data removed]",
      "text/plain": [
       "<Figure size 432x288 with 2 Axes>"
      ]
     },
     "metadata": {
      "image/png": {
       "height": 272,
       "width": 404
      }
     },
     "output_type": "display_data"
    }
   ],
   "source": [
    "for user in draw_account_sample(df, n=1, seed=None):\n",
    "    data = make_account_data(df, user)\n",
    "    make_balance_od_fee_plot(data)"
   ]
  },
  {
   "cell_type": "code",
   "execution_count": 113,
   "id": "44fff42c-394b-4e29-8e0c-73f7382aeae6",
   "metadata": {},
   "outputs": [
    {
     "data": {
      "text/html": [
       "<div>\n",
       "<style scoped>\n",
       "    .dataframe tbody tr th:only-of-type {\n",
       "        vertical-align: middle;\n",
       "    }\n",
       "\n",
       "    .dataframe tbody tr th {\n",
       "        vertical-align: top;\n",
       "    }\n",
       "\n",
       "    .dataframe thead th {\n",
       "        text-align: right;\n",
       "    }\n",
       "</style>\n",
       "<table border=\"1\" class=\"dataframe\">\n",
       "  <thead>\n",
       "    <tr style=\"text-align: right;\">\n",
       "      <th></th>\n",
       "      <th>id</th>\n",
       "      <th>date</th>\n",
       "      <th>user_id</th>\n",
       "      <th>amount</th>\n",
       "      <th>desc</th>\n",
       "      <th>merchant</th>\n",
       "      <th>tag_group</th>\n",
       "      <th>tag</th>\n",
       "      <th>user_female</th>\n",
       "      <th>user_postcode</th>\n",
       "      <th>user_registration_date</th>\n",
       "      <th>user_salary_range</th>\n",
       "      <th>user_yob</th>\n",
       "      <th>account_created</th>\n",
       "      <th>account_id</th>\n",
       "      <th>account_last_refreshed</th>\n",
       "      <th>account_provider</th>\n",
       "      <th>account_type</th>\n",
       "      <th>data_warehouse_date_created</th>\n",
       "      <th>data_warehouse_date_last_updated</th>\n",
       "      <th>debit</th>\n",
       "      <th>desc_old</th>\n",
       "      <th>latest_balance</th>\n",
       "      <th>merchant_business_line</th>\n",
       "      <th>tag_auto</th>\n",
       "      <th>tag_manual</th>\n",
       "      <th>tag_up</th>\n",
       "      <th>updated_flag</th>\n",
       "      <th>ym</th>\n",
       "      <th>balance</th>\n",
       "      <th>income</th>\n",
       "      <th>savings</th>\n",
       "      <th>od_fee_txn</th>\n",
       "    </tr>\n",
       "  </thead>\n",
       "  <tbody>\n",
       "    <tr>\n",
       "      <th>22700</th>\n",
       "      <td>23897490</td>\n",
       "      <td>2014-04-15</td>\n",
       "      <td>76777</td>\n",
       "      <td>0.72</td>\n",
       "      <td>overdraft interest</td>\n",
       "      <td>NaN</td>\n",
       "      <td>spend</td>\n",
       "      <td>finance</td>\n",
       "      <td>False</td>\n",
       "      <td>sg2 7</td>\n",
       "      <td>2014-06-25</td>\n",
       "      <td>NaN</td>\n",
       "      <td>1981.0</td>\n",
       "      <td>2014-06-25</td>\n",
       "      <td>149852</td>\n",
       "      <td>2015-01-03 12:26:00</td>\n",
       "      <td>hsbc</td>\n",
       "      <td>current</td>\n",
       "      <td>2014-06-30</td>\n",
       "      <td>2017-08-13</td>\n",
       "      <td>True</td>\n",
       "      <td>overdraft interest</td>\n",
       "      <td>-134.0</td>\n",
       "      <td>personal</td>\n",
       "      <td>interest charges</td>\n",
       "      <td>NaN</td>\n",
       "      <td>interest charges</td>\n",
       "      <td>u</td>\n",
       "      <td>201404</td>\n",
       "      <td>281.229858</td>\n",
       "      <td>21267.736607</td>\n",
       "      <td>False</td>\n",
       "      <td>True</td>\n",
       "    </tr>\n",
       "    <tr>\n",
       "      <th>22759</th>\n",
       "      <td>23897548</td>\n",
       "      <td>2014-05-16</td>\n",
       "      <td>76777</td>\n",
       "      <td>0.31</td>\n",
       "      <td>overdraft interest to 24apr 2014</td>\n",
       "      <td>NaN</td>\n",
       "      <td>spend</td>\n",
       "      <td>finance</td>\n",
       "      <td>False</td>\n",
       "      <td>sg2 7</td>\n",
       "      <td>2014-06-25</td>\n",
       "      <td>NaN</td>\n",
       "      <td>1981.0</td>\n",
       "      <td>2014-06-25</td>\n",
       "      <td>149852</td>\n",
       "      <td>2015-01-03 12:26:00</td>\n",
       "      <td>hsbc</td>\n",
       "      <td>current</td>\n",
       "      <td>2014-06-30</td>\n",
       "      <td>2017-08-13</td>\n",
       "      <td>True</td>\n",
       "      <td>overdraft interest to 24apr2014</td>\n",
       "      <td>-134.0</td>\n",
       "      <td>account provider</td>\n",
       "      <td>interest charges</td>\n",
       "      <td>NaN</td>\n",
       "      <td>interest charges</td>\n",
       "      <td>u</td>\n",
       "      <td>201405</td>\n",
       "      <td>377.739868</td>\n",
       "      <td>21267.736607</td>\n",
       "      <td>False</td>\n",
       "      <td>True</td>\n",
       "    </tr>\n",
       "    <tr>\n",
       "      <th>22869</th>\n",
       "      <td>32503854</td>\n",
       "      <td>2014-07-16</td>\n",
       "      <td>76777</td>\n",
       "      <td>0.10</td>\n",
       "      <td>overdraft interest</td>\n",
       "      <td>NaN</td>\n",
       "      <td>spend</td>\n",
       "      <td>finance</td>\n",
       "      <td>False</td>\n",
       "      <td>sg2 7</td>\n",
       "      <td>2014-06-25</td>\n",
       "      <td>NaN</td>\n",
       "      <td>1981.0</td>\n",
       "      <td>2014-06-25</td>\n",
       "      <td>149852</td>\n",
       "      <td>2015-01-03 12:26:00</td>\n",
       "      <td>hsbc</td>\n",
       "      <td>current</td>\n",
       "      <td>2014-08-27</td>\n",
       "      <td>2017-08-13</td>\n",
       "      <td>True</td>\n",
       "      <td>overdraft interest</td>\n",
       "      <td>-134.0</td>\n",
       "      <td>personal</td>\n",
       "      <td>interest charges</td>\n",
       "      <td>NaN</td>\n",
       "      <td>interest charges</td>\n",
       "      <td>u</td>\n",
       "      <td>201407</td>\n",
       "      <td>329.600006</td>\n",
       "      <td>21267.736607</td>\n",
       "      <td>False</td>\n",
       "      <td>True</td>\n",
       "    </tr>\n",
       "    <tr>\n",
       "      <th>22911</th>\n",
       "      <td>32503896</td>\n",
       "      <td>2014-08-15</td>\n",
       "      <td>76777</td>\n",
       "      <td>0.12</td>\n",
       "      <td>overdraft interest to 24jul 2014</td>\n",
       "      <td>NaN</td>\n",
       "      <td>spend</td>\n",
       "      <td>finance</td>\n",
       "      <td>False</td>\n",
       "      <td>sg2 7</td>\n",
       "      <td>2014-06-25</td>\n",
       "      <td>NaN</td>\n",
       "      <td>1981.0</td>\n",
       "      <td>2014-06-25</td>\n",
       "      <td>149852</td>\n",
       "      <td>2015-01-03 12:26:00</td>\n",
       "      <td>hsbc</td>\n",
       "      <td>current</td>\n",
       "      <td>2014-08-27</td>\n",
       "      <td>2017-08-13</td>\n",
       "      <td>True</td>\n",
       "      <td>overdraft interest to 24jul2014</td>\n",
       "      <td>-134.0</td>\n",
       "      <td>account provider</td>\n",
       "      <td>interest charges</td>\n",
       "      <td>NaN</td>\n",
       "      <td>interest charges</td>\n",
       "      <td>u</td>\n",
       "      <td>201408</td>\n",
       "      <td>608.580017</td>\n",
       "      <td>21267.736607</td>\n",
       "      <td>False</td>\n",
       "      <td>True</td>\n",
       "    </tr>\n",
       "  </tbody>\n",
       "</table>\n",
       "</div>"
      ],
      "text/plain": [
       "             id       date  user_id  amount                              desc  \\\n",
       "22700  23897490 2014-04-15    76777    0.72                overdraft interest   \n",
       "22759  23897548 2014-05-16    76777    0.31  overdraft interest to 24apr 2014   \n",
       "22869  32503854 2014-07-16    76777    0.10                overdraft interest   \n",
       "22911  32503896 2014-08-15    76777    0.12  overdraft interest to 24jul 2014   \n",
       "\n",
       "      merchant tag_group      tag user_female user_postcode  \\\n",
       "22700      NaN     spend  finance       False         sg2 7   \n",
       "22759      NaN     spend  finance       False         sg2 7   \n",
       "22869      NaN     spend  finance       False         sg2 7   \n",
       "22911      NaN     spend  finance       False         sg2 7   \n",
       "\n",
       "      user_registration_date user_salary_range  user_yob account_created  \\\n",
       "22700             2014-06-25               NaN    1981.0      2014-06-25   \n",
       "22759             2014-06-25               NaN    1981.0      2014-06-25   \n",
       "22869             2014-06-25               NaN    1981.0      2014-06-25   \n",
       "22911             2014-06-25               NaN    1981.0      2014-06-25   \n",
       "\n",
       "       account_id account_last_refreshed account_provider account_type  \\\n",
       "22700      149852    2015-01-03 12:26:00             hsbc      current   \n",
       "22759      149852    2015-01-03 12:26:00             hsbc      current   \n",
       "22869      149852    2015-01-03 12:26:00             hsbc      current   \n",
       "22911      149852    2015-01-03 12:26:00             hsbc      current   \n",
       "\n",
       "      data_warehouse_date_created data_warehouse_date_last_updated  debit  \\\n",
       "22700                  2014-06-30                       2017-08-13   True   \n",
       "22759                  2014-06-30                       2017-08-13   True   \n",
       "22869                  2014-08-27                       2017-08-13   True   \n",
       "22911                  2014-08-27                       2017-08-13   True   \n",
       "\n",
       "                              desc_old  latest_balance merchant_business_line  \\\n",
       "22700               overdraft interest          -134.0               personal   \n",
       "22759  overdraft interest to 24apr2014          -134.0       account provider   \n",
       "22869               overdraft interest          -134.0               personal   \n",
       "22911  overdraft interest to 24jul2014          -134.0       account provider   \n",
       "\n",
       "               tag_auto tag_manual            tag_up updated_flag      ym  \\\n",
       "22700  interest charges        NaN  interest charges            u  201404   \n",
       "22759  interest charges        NaN  interest charges            u  201405   \n",
       "22869  interest charges        NaN  interest charges            u  201407   \n",
       "22911  interest charges        NaN  interest charges            u  201408   \n",
       "\n",
       "          balance        income  savings  od_fee_txn  \n",
       "22700  281.229858  21267.736607    False        True  \n",
       "22759  377.739868  21267.736607    False        True  \n",
       "22869  329.600006  21267.736607    False        True  \n",
       "22911  608.580017  21267.736607    False        True  "
      ]
     },
     "execution_count": 113,
     "metadata": {},
     "output_type": "execute_result"
    }
   ],
   "source": [
    "def make_explore_account_data(plot_data):\n",
    "    account_id = plot_data.account_id[0]\n",
    "#     cols = ['date', 'user_id', 'amount', 'desc', 'account_provider', 'od_fee_txn', 'balance']\n",
    "    mask = df.account_id.eq(account_id) & df.od_fee_txn\n",
    "    return df.loc[mask]\n",
    "\n",
    "dfu = make_explore_account_data(data)\n",
    "dfu"
   ]
  }
 ],
 "metadata": {
  "kernelspec": {
   "display_name": "entropy",
   "language": "python",
   "name": "entropy"
  },
  "language_info": {
   "codemirror_mode": {
    "name": "ipython",
    "version": 3
   },
   "file_extension": ".py",
   "mimetype": "text/x-python",
   "name": "python",
   "nbconvert_exporter": "python",
   "pygments_lexer": "ipython3",
   "version": "3.9.6"
  },
  "toc-autonumbering": false,
  "toc-showcode": false,
  "toc-showmarkdowntxt": false
 },
 "nbformat": 4,
 "nbformat_minor": 5
}
