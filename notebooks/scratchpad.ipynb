{
 "cells": [
  {
   "cell_type": "code",
   "execution_count": 1,
   "id": "602f8929-cb96-4abf-99fb-50f3e9d4cf5f",
   "metadata": {},
   "outputs": [],
   "source": [
    "import contextlib\n",
    "import os\n",
    "import re\n",
    "import sys\n",
    "\n",
    "import linearmodels as lm\n",
    "import matplotlib.pyplot as plt\n",
    "import numpy as np\n",
    "import pandas as pd\n",
    "import s3fs\n",
    "import seaborn as sns\n",
    "import tabulate\n",
    "\n",
    "sys.path.append(\"/Users/fgu/dev/projects/entropy\")\n",
    "import entropy.data.cleaners as cl\n",
    "import entropy.data.creators as cr\n",
    "import entropy.data.make_data as md\n",
    "import entropy.data.selectors as sl\n",
    "import entropy.figures.figures as figs\n",
    "import entropy.helpers.aws as ha\n",
    "import entropy.helpers.data as hd\n",
    "import entropy.helpers.helpers as hh\n",
    "from entropy import config\n",
    "\n",
    "sns.set_style(\"whitegrid\")\n",
    "pd.set_option(\"display.max_rows\", 120)\n",
    "pd.set_option(\"display.max_columns\", 120)\n",
    "pd.set_option(\"max_colwidth\", None)\n",
    "%config InlineBackend.figure_format = 'retina'\n",
    "%load_ext autoreload\n",
    "%autoreload 2\n",
    "\n",
    "fs = s3fs.S3FileSystem(profile=\"3di\")"
   ]
  },
  {
   "cell_type": "code",
   "execution_count": 6,
   "id": "19fb7027-867d-4946-93ba-1b2d33a93c1b",
   "metadata": {},
   "outputs": [
    {
     "name": "stdout",
     "output_type": "stream",
     "text": [
      "(6,765,276, 28)\n"
     ]
    },
    {
     "data": {
      "text/html": [
       "<div>\n",
       "<style scoped>\n",
       "    .dataframe tbody tr th:only-of-type {\n",
       "        vertical-align: middle;\n",
       "    }\n",
       "\n",
       "    .dataframe tbody tr th {\n",
       "        vertical-align: top;\n",
       "    }\n",
       "\n",
       "    .dataframe thead th {\n",
       "        text-align: right;\n",
       "    }\n",
       "</style>\n",
       "<table border=\"1\" class=\"dataframe\">\n",
       "  <thead>\n",
       "    <tr style=\"text-align: right;\">\n",
       "      <th></th>\n",
       "      <th>id</th>\n",
       "      <th>date</th>\n",
       "      <th>user_id</th>\n",
       "      <th>amount</th>\n",
       "      <th>desc</th>\n",
       "      <th>merchant</th>\n",
       "      <th>tag_group</th>\n",
       "      <th>tag</th>\n",
       "      <th>user_female</th>\n",
       "      <th>user_postcode</th>\n",
       "      <th>user_registration_date</th>\n",
       "      <th>user_salary_range</th>\n",
       "      <th>user_yob</th>\n",
       "      <th>account_created</th>\n",
       "      <th>account_id</th>\n",
       "      <th>account_last_refreshed</th>\n",
       "      <th>account_provider</th>\n",
       "      <th>account_type</th>\n",
       "      <th>data_warehouse_date_created</th>\n",
       "      <th>data_warehouse_date_last_updated</th>\n",
       "      <th>debit</th>\n",
       "      <th>latest_balance</th>\n",
       "      <th>merchant_business_line</th>\n",
       "      <th>tag_auto</th>\n",
       "      <th>tag_manual</th>\n",
       "      <th>tag_up</th>\n",
       "      <th>updated_flag</th>\n",
       "      <th>ym</th>\n",
       "    </tr>\n",
       "  </thead>\n",
       "  <tbody>\n",
       "    <tr>\n",
       "      <th>4328</th>\n",
       "      <td>1212603</td>\n",
       "      <td>2012-07-30</td>\n",
       "      <td>77</td>\n",
       "      <td>40.0</td>\n",
       "      <td>lloyds bank 28jul</td>\n",
       "      <td>NaN</td>\n",
       "      <td>spend</td>\n",
       "      <td>other_spend</td>\n",
       "      <td>0.0</td>\n",
       "      <td>kt3 5</td>\n",
       "      <td>2010-07-10</td>\n",
       "      <td>NaN</td>\n",
       "      <td>1945.0</td>\n",
       "      <td>2012-10-26</td>\n",
       "      <td>259583</td>\n",
       "      <td>2015-09-11</td>\n",
       "      <td>natwest bank</td>\n",
       "      <td>current</td>\n",
       "      <td>2014-07-18</td>\n",
       "      <td>2017-10-24</td>\n",
       "      <td>True</td>\n",
       "      <td>NaN</td>\n",
       "      <td>personal</td>\n",
       "      <td>cash</td>\n",
       "      <td>NaN</td>\n",
       "      <td>cash</td>\n",
       "      <td>u</td>\n",
       "      <td>201207</td>\n",
       "    </tr>\n",
       "    <tr>\n",
       "      <th>4330</th>\n",
       "      <td>1212608</td>\n",
       "      <td>2012-07-30</td>\n",
       "      <td>77</td>\n",
       "      <td>10.0</td>\n",
       "      <td>mdbremoved</td>\n",
       "      <td>NaN</td>\n",
       "      <td>NaN</td>\n",
       "      <td>NaN</td>\n",
       "      <td>0.0</td>\n",
       "      <td>kt3 5</td>\n",
       "      <td>2010-07-10</td>\n",
       "      <td>NaN</td>\n",
       "      <td>1945.0</td>\n",
       "      <td>2012-10-26</td>\n",
       "      <td>259583</td>\n",
       "      <td>2015-09-11</td>\n",
       "      <td>natwest bank</td>\n",
       "      <td>current</td>\n",
       "      <td>2014-07-18</td>\n",
       "      <td>2017-10-23</td>\n",
       "      <td>True</td>\n",
       "      <td>NaN</td>\n",
       "      <td>non merchant mbl</td>\n",
       "      <td>NaN</td>\n",
       "      <td>NaN</td>\n",
       "      <td>NaN</td>\n",
       "      <td>u</td>\n",
       "      <td>201207</td>\n",
       "    </tr>\n",
       "  </tbody>\n",
       "</table>\n",
       "</div>"
      ],
      "text/plain": [
       "           id       date  user_id  amount               desc merchant  \\\n",
       "4328  1212603 2012-07-30       77    40.0  lloyds bank 28jul      NaN   \n",
       "4330  1212608 2012-07-30       77    10.0         mdbremoved      NaN   \n",
       "\n",
       "     tag_group          tag  user_female user_postcode user_registration_date  \\\n",
       "4328     spend  other_spend          0.0         kt3 5             2010-07-10   \n",
       "4330       NaN          NaN          0.0         kt3 5             2010-07-10   \n",
       "\n",
       "     user_salary_range  user_yob account_created  account_id  \\\n",
       "4328               NaN    1945.0      2012-10-26      259583   \n",
       "4330               NaN    1945.0      2012-10-26      259583   \n",
       "\n",
       "     account_last_refreshed account_provider account_type  \\\n",
       "4328             2015-09-11     natwest bank      current   \n",
       "4330             2015-09-11     natwest bank      current   \n",
       "\n",
       "     data_warehouse_date_created data_warehouse_date_last_updated  debit  \\\n",
       "4328                  2014-07-18                       2017-10-24   True   \n",
       "4330                  2014-07-18                       2017-10-23   True   \n",
       "\n",
       "      latest_balance merchant_business_line tag_auto tag_manual tag_up  \\\n",
       "4328             NaN               personal     cash        NaN   cash   \n",
       "4330             NaN       non merchant mbl      NaN        NaN    NaN   \n",
       "\n",
       "     updated_flag      ym  \n",
       "4328            u  201207  \n",
       "4330            u  201207  "
      ]
     },
     "metadata": {},
     "output_type": "display_data"
    }
   ],
   "source": [
    "sample = \"X77\"\n",
    "fn = os.path.join(\"s3://3di-data-mdb/raw\", f\"mdb_{sample}.parquet\")\n",
    "raw = ha.read_parquet(fn)\n",
    "clean = md.clean_data(raw)\n",
    "hd.inspect(clean)"
   ]
  },
  {
   "cell_type": "code",
   "execution_count": null,
   "id": "e6dcf755-760c-4bc1-aa19-7f5fb875aae2",
   "metadata": {},
   "outputs": [],
   "source": [
    "def tester(df):\n",
    "    g = df.groupby(\"user_id\")\n",
    "    latest_balances_available = g.latest_balance.min().notna()\n",
    "    valid_last_refresh_dates = g.account_last_refreshed.min() >= g.date.min()\n",
    "    cond = latest_balances_available & valid_last_refresh_dates\n",
    "    users = cond[cond].index\n",
    "    return df[df.user_id.isin(users)]"
   ]
  },
  {
   "cell_type": "code",
   "execution_count": 120,
   "id": "9705237a-8df7-4c0b-a011-6e75af16be64",
   "metadata": {},
   "outputs": [],
   "source": [
    "data = (\n",
    "    clean.pipe(sl.min_number_of_months)\n",
    "    .pipe(sl.no_missing_months)\n",
    "    .pipe(sl.account_balances_available)\n",
    ")"
   ]
  },
  {
   "cell_type": "code",
   "execution_count": 121,
   "id": "c58b5c63-36fa-48c3-a8c3-5d955006d315",
   "metadata": {},
   "outputs": [
    {
     "data": {
      "text/plain": [
       "(1652, 1652)"
      ]
     },
     "execution_count": 121,
     "metadata": {},
     "output_type": "execute_result"
    }
   ],
   "source": [
    "data.user_id.nunique(), sl.no_missing_months(data).user_id.nunique()"
   ]
  },
  {
   "cell_type": "code",
   "execution_count": 114,
   "id": "c117c46f-cb7e-4359-a304-0d0c8787e0dc",
   "metadata": {},
   "outputs": [
    {
     "name": "stdout",
     "output_type": "stream",
     "text": [
      "Time for read_sample    : 28.53 seconds\n"
     ]
    }
   ],
   "source": [
    "df = hd.read_sample(\"X77\")"
   ]
  },
  {
   "cell_type": "code",
   "execution_count": 115,
   "id": "1db073e3-978c-4b63-80d3-b6ef51e9d646",
   "metadata": {},
   "outputs": [
    {
     "data": {
      "text/plain": [
       "(599, 595)"
      ]
     },
     "execution_count": 115,
     "metadata": {},
     "output_type": "execute_result"
    }
   ],
   "source": [
    "df.user_id.nunique(), sl.no_missing_months(df).user_id.nunique()"
   ]
  },
  {
   "cell_type": "code",
   "execution_count": 124,
   "id": "f7d0c1be-afb2-4a57-b281-c2168f017782",
   "metadata": {},
   "outputs": [
    {
     "data": {
      "text/plain": [
       "dict_keys(['income', 'spend', 'transfers'])"
      ]
     },
     "execution_count": 124,
     "metadata": {},
     "output_type": "execute_result"
    }
   ],
   "source": [
    "import entropy.data.txn_classifications as tc\n",
    "\n",
    "tc.tag_groups.keys()"
   ]
  },
  {
   "cell_type": "code",
   "execution_count": 136,
   "id": "af07a41a-3a2a-4e27-ac5f-8a758db7c6b1",
   "metadata": {},
   "outputs": [
    {
     "data": {
      "text/plain": [
       "Index(['income', 'spend', 'transfers'], dtype='object')"
      ]
     },
     "execution_count": 136,
     "metadata": {},
     "output_type": "execute_result"
    }
   ],
   "source": [
    "data.tag_group.cat.categories"
   ]
  },
  {
   "cell_type": "code",
   "execution_count": 140,
   "id": "badbdeb3-606f-4d07-92fc-b777fc9a56d4",
   "metadata": {},
   "outputs": [
    {
     "data": {
      "text/plain": [
       "['hobbies', 'finance', 'communication', 'household', 'services', 'motor', 'other_spend', 'retail', 'travel']\n",
       "Categories (15, object): ['benefits', 'communication', 'earnings', 'finance', ..., 'savings', 'services', 'transfers', 'travel']"
      ]
     },
     "execution_count": 140,
     "metadata": {},
     "output_type": "execute_result"
    }
   ],
   "source": [
    "spend = data[data.tag_group.eq('spend')]\n",
    "spend.tag.unique()"
   ]
  },
  {
   "cell_type": "code",
   "execution_count": null,
   "id": "dbec73a7-2839-46c9-b5a3-baa70cfc50ce",
   "metadata": {},
   "outputs": [],
   "source": []
  }
 ],
 "metadata": {
  "kernelspec": {
   "display_name": "entropy",
   "language": "python",
   "name": "entropy"
  },
  "language_info": {
   "codemirror_mode": {
    "name": "ipython",
    "version": 3
   },
   "file_extension": ".py",
   "mimetype": "text/x-python",
   "name": "python",
   "nbconvert_exporter": "python",
   "pygments_lexer": "ipython3",
   "version": "3.9.7"
  }
 },
 "nbformat": 4,
 "nbformat_minor": 5
}
