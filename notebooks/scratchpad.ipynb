{
 "cells": [
  {
   "cell_type": "code",
   "execution_count": 1,
   "id": "602f8929-cb96-4abf-99fb-50f3e9d4cf5f",
   "metadata": {
    "tags": []
   },
   "outputs": [],
   "source": [
    "import sys\n",
    "\n",
    "import matplotlib.pyplot as plt\n",
    "import numpy as np\n",
    "import pandas as pd\n",
    "import s3fs\n",
    "import scipy\n",
    "import seaborn as sns\n",
    "import statsmodels.api as sm\n",
    "import statsmodels.formula.api as smf\n",
    "\n",
    "sys.path.append(\"/Users/fgu/dev/projects/entropy\")\n",
    "import entropy.data.aggregators as ag\n",
    "import entropy.data.cleaners as cl\n",
    "import entropy.data.make_data as md\n",
    "import entropy.data.selectors as sl\n",
    "import entropy.data.validators as vl\n",
    "import entropy.helpers.aws as ha\n",
    "import entropy.helpers.data as hd\n",
    "import entropy.helpers.helpers as hh\n",
    "\n",
    "pd.set_option(\"display.max_rows\", 120)\n",
    "pd.set_option(\"display.max_columns\", 120)\n",
    "pd.set_option(\"max_colwidth\", None)\n",
    "%load_ext autoreload\n",
    "%autoreload 2\n",
    "\n",
    "fs = s3fs.S3FileSystem(profile=\"3di\")"
   ]
  },
  {
   "cell_type": "code",
   "execution_count": 2,
   "id": "72d0e466-1315-42dd-a125-d898ae8d198a",
   "metadata": {},
   "outputs": [
    {
     "data": {
      "text/plain": [
       "['3di-data-mdb/raw/pieces/',\n",
       " '3di-data-mdb/raw/pieces/data_XX0.rds',\n",
       " '3di-data-mdb/raw/pieces/data_XX1.rds',\n",
       " '3di-data-mdb/raw/pieces/data_XX2.rds',\n",
       " '3di-data-mdb/raw/pieces/data_XX3.rds',\n",
       " '3di-data-mdb/raw/pieces/data_XX4.rds',\n",
       " '3di-data-mdb/raw/pieces/data_XX5.rds',\n",
       " '3di-data-mdb/raw/pieces/data_XX6.rds',\n",
       " '3di-data-mdb/raw/pieces/data_XX7.rds',\n",
       " '3di-data-mdb/raw/pieces/data_XX8.rds',\n",
       " '3di-data-mdb/raw/pieces/data_XX9.rds']"
      ]
     },
     "execution_count": 2,
     "metadata": {},
     "output_type": "execute_result"
    }
   ],
   "source": [
    "fs.ls(\"3di-data-mdb/raw/pieces\")"
   ]
  },
  {
   "cell_type": "code",
   "execution_count": 3,
   "id": "d2cce4de-60fb-4d45-b02f-580ee0dc154b",
   "metadata": {},
   "outputs": [
    {
     "name": "stdout",
     "output_type": "stream",
     "text": [
      "Time for read_txn_data                 : 50.51 seconds\n"
     ]
    }
   ],
   "source": [
    "df = hd.read_txn_data(\"X77\")"
   ]
  },
  {
   "cell_type": "code",
   "execution_count": null,
   "id": "f06bffb5-a373-46f1-92c8-1d0548f19b99",
   "metadata": {},
   "outputs": [],
   "source": []
  }
 ],
 "metadata": {
  "kernelspec": {
   "display_name": "entropy",
   "language": "python",
   "name": "entropy"
  },
  "language_info": {
   "codemirror_mode": {
    "name": "ipython",
    "version": 3
   },
   "file_extension": ".py",
   "mimetype": "text/x-python",
   "name": "python",
   "nbconvert_exporter": "python",
   "pygments_lexer": "ipython3",
   "version": "3.9.7"
  }
 },
 "nbformat": 4,
 "nbformat_minor": 5
}
