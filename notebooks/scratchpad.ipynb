{
 "cells": [
  {
   "cell_type": "code",
   "execution_count": 2,
   "id": "602f8929-cb96-4abf-99fb-50f3e9d4cf5f",
   "metadata": {
    "jupyter": {
     "source_hidden": true
    },
    "tags": []
   },
   "outputs": [
    {
     "name": "stdout",
     "output_type": "stream",
     "text": [
      "The autoreload extension is already loaded. To reload it, use:\n",
      "  %reload_ext autoreload\n"
     ]
    }
   ],
   "source": [
    "import sys\n",
    "\n",
    "import matplotlib.pyplot as plt\n",
    "import numpy as np\n",
    "import pandas as pd\n",
    "import s3fs\n",
    "import scipy\n",
    "import seaborn as sns\n",
    "import statsmodels.api as sm\n",
    "import statsmodels.formula.api as smf\n",
    "\n",
    "sys.path.append(\"/Users/fgu/dev/projects/entropy\")\n",
    "import entropy.data.aggregators as ag\n",
    "import entropy.data.cleaners as cl\n",
    "import entropy.data.make_data as md\n",
    "import entropy.data.selectors as sl\n",
    "import entropy.data.validators as vl\n",
    "import entropy.helpers.aws as ha\n",
    "import entropy.helpers.data as hd\n",
    "import entropy.helpers.helpers as hh\n",
    "\n",
    "pd.set_option(\"display.max_rows\", 120)\n",
    "pd.set_option(\"display.max_columns\", 120)\n",
    "pd.set_option(\"max_colwidth\", None)\n",
    "%load_ext autoreload\n",
    "%autoreload 2\n",
    "\n",
    "fs = s3fs.S3FileSystem(profile=\"3di\")"
   ]
  },
  {
   "cell_type": "code",
   "execution_count": 30,
   "id": "681b334f-3e5a-44fd-8eaf-c7918d83d5ba",
   "metadata": {},
   "outputs": [],
   "source": [
    "dfr = hd.read_raw_data(\"777\")"
   ]
  },
  {
   "cell_type": "code",
   "execution_count": 46,
   "id": "782c6b7f-4d02-4c3b-a6ee-510b4b995a28",
   "metadata": {},
   "outputs": [
    {
     "name": "stdout",
     "output_type": "stream",
     "text": [
      "Time for read_txn_data                 : 2.56 seconds\n"
     ]
    }
   ],
   "source": [
    "dft = hd.read_txn_data(\"777\")"
   ]
  },
  {
   "cell_type": "code",
   "execution_count": 38,
   "id": "e0b936eb-8e87-454f-8021-7ede1dc5bdd5",
   "metadata": {},
   "outputs": [
    {
     "name": "stdout",
     "output_type": "stream",
     "text": [
      "Time for read_analysis_data            : 0.80 seconds\n"
     ]
    }
   ],
   "source": [
    "dfa = hd.read_analysis_data(\"777\")"
   ]
  },
  {
   "cell_type": "code",
   "execution_count": 39,
   "id": "1ce7ef9b-aa27-415f-ab52-8ccc61b96a28",
   "metadata": {},
   "outputs": [
    {
     "data": {
      "text/plain": [
       "user_id                   0\n",
       "ym                        0\n",
       "txns_count                0\n",
       "txns_volume               0\n",
       "txn_count_sa              0\n",
       "txn_count_ca              0\n",
       "nunique_tag               0\n",
       "nunique_tag_auto          0\n",
       "nunique_merchant          0\n",
       "prop_credit             203\n",
       "month_income              0\n",
       "year_income               0\n",
       "has_regular_income        0\n",
       "has_month_income          0\n",
       "age                     560\n",
       "is_female               224\n",
       "sa_inflows                0\n",
       "sa_outflows               0\n",
       "sa_netflows               0\n",
       "has_sa_inflows            0\n",
       "has_reg_sa_inflows        0\n",
       "has_benefits              0\n",
       "has_pension               0\n",
       "has_rent_payment          0\n",
       "has_mortgage_payment      0\n",
       "has_loan_funds            0\n",
       "has_loan_repmt            0\n",
       "region_name              57\n",
       "is_urban                166\n",
       "spend_finance           203\n",
       "spend_services          203\n",
       "spend_other_spend       203\n",
       "spend_household         203\n",
       "spend_motor             203\n",
       "spend_communication     203\n",
       "spend_retail            203\n",
       "spend_travel            203\n",
       "spend_hobbies           203\n",
       "month_spend             203\n",
       "has_od_fees               0\n",
       "entropy_tag             203\n",
       "entropy_tag_z           203\n",
       "entropy_tag_s           203\n",
       "entropy_tag_sz          203\n",
       "entropy_tag_auto        203\n",
       "entropy_tag_auto_z      203\n",
       "entropy_tag_auto_s      203\n",
       "entropy_tag_auto_sz     203\n",
       "entropy_merchant        306\n",
       "entropy_merchant_z      306\n",
       "entropy_merchant_s      306\n",
       "entropy_merchant_sz     306\n",
       "dtype: int64"
      ]
     },
     "execution_count": 39,
     "metadata": {},
     "output_type": "execute_result"
    }
   ],
   "source": [
    "dfa.isna().sum()"
   ]
  }
 ],
 "metadata": {
  "kernelspec": {
   "display_name": "entropy",
   "language": "python",
   "name": "entropy"
  },
  "language_info": {
   "codemirror_mode": {
    "name": "ipython",
    "version": 3
   },
   "file_extension": ".py",
   "mimetype": "text/x-python",
   "name": "python",
   "nbconvert_exporter": "python",
   "pygments_lexer": "ipython3",
   "version": "3.9.7"
  }
 },
 "nbformat": 4,
 "nbformat_minor": 5
}
