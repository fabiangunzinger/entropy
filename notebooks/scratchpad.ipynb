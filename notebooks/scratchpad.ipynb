{
 "cells": [
  {
   "cell_type": "code",
   "execution_count": 3,
   "id": "602f8929-cb96-4abf-99fb-50f3e9d4cf5f",
   "metadata": {},
   "outputs": [
    {
     "name": "stdout",
     "output_type": "stream",
     "text": [
      "The autoreload extension is already loaded. To reload it, use:\n",
      "  %reload_ext autoreload\n"
     ]
    }
   ],
   "source": [
    "import contextlib\n",
    "import os\n",
    "import re\n",
    "import sys\n",
    "\n",
    "import linearmodels as lm\n",
    "import matplotlib.pyplot as plt\n",
    "import numpy as np\n",
    "import pandas as pd\n",
    "import s3fs\n",
    "import seaborn as sns\n",
    "import tabulate\n",
    "\n",
    "sys.path.append(\"/Users/fgu/dev/projects/entropy\")\n",
    "import entropy.data.cleaners as cl\n",
    "import entropy.data.creators as cr\n",
    "import entropy.data.make_data as md\n",
    "import entropy.data.selectors as sl\n",
    "import entropy.data.validators as vl\n",
    "import entropy.figures.figures as figs\n",
    "import entropy.helpers.aws as ha\n",
    "import entropy.helpers.data as hd\n",
    "import entropy.helpers.helpers as hh\n",
    "from entropy import config\n",
    "\n",
    "sns.set_style(\"whitegrid\")\n",
    "pd.set_option(\"display.max_rows\", 120)\n",
    "pd.set_option(\"display.max_columns\", 120)\n",
    "pd.set_option(\"max_colwidth\", None)\n",
    "%config InlineBackend.figure_format = 'retina'\n",
    "%load_ext autoreload\n",
    "%autoreload 2\n",
    "\n",
    "fs = s3fs.S3FileSystem(profile=\"3di\")"
   ]
  },
  {
   "cell_type": "code",
   "execution_count": 4,
   "id": "72fad89f-3e2b-4ae6-819b-cfc8759682a0",
   "metadata": {},
   "outputs": [
    {
     "name": "stdout",
     "output_type": "stream",
     "text": [
      "Time for read_sample    : 10.69 minutes\n",
      "(16,094,005, 31)\n"
     ]
    },
    {
     "data": {
      "text/html": [
       "<div>\n",
       "<style scoped>\n",
       "    .dataframe tbody tr th:only-of-type {\n",
       "        vertical-align: middle;\n",
       "    }\n",
       "\n",
       "    .dataframe tbody tr th {\n",
       "        vertical-align: top;\n",
       "    }\n",
       "\n",
       "    .dataframe thead th {\n",
       "        text-align: right;\n",
       "    }\n",
       "</style>\n",
       "<table border=\"1\" class=\"dataframe\">\n",
       "  <thead>\n",
       "    <tr style=\"text-align: right;\">\n",
       "      <th></th>\n",
       "      <th>id</th>\n",
       "      <th>date</th>\n",
       "      <th>user_id</th>\n",
       "      <th>amount</th>\n",
       "      <th>desc</th>\n",
       "      <th>merchant</th>\n",
       "      <th>tag_group</th>\n",
       "      <th>tag</th>\n",
       "      <th>user_female</th>\n",
       "      <th>user_postcode</th>\n",
       "      <th>user_registration_date</th>\n",
       "      <th>user_salary_range</th>\n",
       "      <th>user_yob</th>\n",
       "      <th>account_created</th>\n",
       "      <th>account_id</th>\n",
       "      <th>account_last_refreshed</th>\n",
       "      <th>account_provider</th>\n",
       "      <th>account_type</th>\n",
       "      <th>data_warehouse_date_created</th>\n",
       "      <th>data_warehouse_date_last_updated</th>\n",
       "      <th>debit</th>\n",
       "      <th>latest_balance</th>\n",
       "      <th>merchant_business_line</th>\n",
       "      <th>tag_auto</th>\n",
       "      <th>tag_manual</th>\n",
       "      <th>tag_up</th>\n",
       "      <th>updated_flag</th>\n",
       "      <th>ym</th>\n",
       "      <th>balance</th>\n",
       "      <th>income</th>\n",
       "      <th>entropy_sptac</th>\n",
       "    </tr>\n",
       "  </thead>\n",
       "  <tbody>\n",
       "    <tr>\n",
       "      <th>0</th>\n",
       "      <td>1088993</td>\n",
       "      <td>2012-04-02</td>\n",
       "      <td>57</td>\n",
       "      <td>23.74</td>\n",
       "      <td>1982 01apr 12 the broadway fruiterer london gb</td>\n",
       "      <td>NaN</td>\n",
       "      <td>NaN</td>\n",
       "      <td>NaN</td>\n",
       "      <td>0.0</td>\n",
       "      <td>n8 9</td>\n",
       "      <td>2010-05-13</td>\n",
       "      <td>10k to 20k</td>\n",
       "      <td>1987.0</td>\n",
       "      <td>2016-10-30</td>\n",
       "      <td>273998</td>\n",
       "      <td>2015-08-15 21:37:00</td>\n",
       "      <td>natwest bank</td>\n",
       "      <td>current</td>\n",
       "      <td>2014-07-18</td>\n",
       "      <td>2017-10-23</td>\n",
       "      <td>True</td>\n",
       "      <td>NaN</td>\n",
       "      <td>NaN</td>\n",
       "      <td>NaN</td>\n",
       "      <td>NaN</td>\n",
       "      <td>NaN</td>\n",
       "      <td>u</td>\n",
       "      <td>201204</td>\n",
       "      <td>NaN</td>\n",
       "      <td>22542.600586</td>\n",
       "      <td>2.425209</td>\n",
       "    </tr>\n",
       "    <tr>\n",
       "      <th>1</th>\n",
       "      <td>1088994</td>\n",
       "      <td>2012-04-02</td>\n",
       "      <td>57</td>\n",
       "      <td>25.68</td>\n",
       "      <td>1982 01apr 12 waitrose 835 crouch end gb</td>\n",
       "      <td>waitrose</td>\n",
       "      <td>spend</td>\n",
       "      <td>household</td>\n",
       "      <td>0.0</td>\n",
       "      <td>n8 9</td>\n",
       "      <td>2010-05-13</td>\n",
       "      <td>10k to 20k</td>\n",
       "      <td>1987.0</td>\n",
       "      <td>2016-10-30</td>\n",
       "      <td>273998</td>\n",
       "      <td>2015-08-15 21:37:00</td>\n",
       "      <td>natwest bank</td>\n",
       "      <td>current</td>\n",
       "      <td>2014-07-18</td>\n",
       "      <td>2017-08-15</td>\n",
       "      <td>True</td>\n",
       "      <td>NaN</td>\n",
       "      <td>waitrose</td>\n",
       "      <td>food, groceries, household</td>\n",
       "      <td>NaN</td>\n",
       "      <td>supermarket</td>\n",
       "      <td>u</td>\n",
       "      <td>201204</td>\n",
       "      <td>NaN</td>\n",
       "      <td>22542.600586</td>\n",
       "      <td>2.425209</td>\n",
       "    </tr>\n",
       "  </tbody>\n",
       "</table>\n",
       "</div>"
      ],
      "text/plain": [
       "        id       date  user_id  amount  \\\n",
       "0  1088993 2012-04-02       57   23.74   \n",
       "1  1088994 2012-04-02       57   25.68   \n",
       "\n",
       "                                             desc  merchant tag_group  \\\n",
       "0  1982 01apr 12 the broadway fruiterer london gb       NaN       NaN   \n",
       "1        1982 01apr 12 waitrose 835 crouch end gb  waitrose     spend   \n",
       "\n",
       "         tag  user_female user_postcode user_registration_date  \\\n",
       "0        NaN          0.0          n8 9             2010-05-13   \n",
       "1  household          0.0          n8 9             2010-05-13   \n",
       "\n",
       "  user_salary_range  user_yob account_created  account_id  \\\n",
       "0        10k to 20k    1987.0      2016-10-30      273998   \n",
       "1        10k to 20k    1987.0      2016-10-30      273998   \n",
       "\n",
       "  account_last_refreshed account_provider account_type  \\\n",
       "0    2015-08-15 21:37:00     natwest bank      current   \n",
       "1    2015-08-15 21:37:00     natwest bank      current   \n",
       "\n",
       "  data_warehouse_date_created data_warehouse_date_last_updated  debit  \\\n",
       "0                  2014-07-18                       2017-10-23   True   \n",
       "1                  2014-07-18                       2017-08-15   True   \n",
       "\n",
       "   latest_balance merchant_business_line                    tag_auto  \\\n",
       "0             NaN                    NaN                         NaN   \n",
       "1             NaN               waitrose  food, groceries, household   \n",
       "\n",
       "  tag_manual       tag_up updated_flag      ym  balance        income  \\\n",
       "0        NaN          NaN            u  201204      NaN  22542.600586   \n",
       "1        NaN  supermarket            u  201204      NaN  22542.600586   \n",
       "\n",
       "   entropy_sptac  \n",
       "0       2.425209  \n",
       "1       2.425209  "
      ]
     },
     "metadata": {},
     "output_type": "display_data"
    }
   ],
   "source": [
    "df = hd.read_sample(\"XX7\")\n",
    "hd.inspect(df)"
   ]
  },
  {
   "cell_type": "markdown",
   "id": "f6fd7faf-034f-4059-915f-839f2257532f",
   "metadata": {},
   "source": [
    "Min monthly obs"
   ]
  },
  {
   "cell_type": "code",
   "execution_count": 5,
   "id": "d444411e-5c18-4d7d-873f-d693854dc915",
   "metadata": {},
   "outputs": [
    {
     "ename": "AssertionError",
     "evalue": "",
     "output_type": "error",
     "traceback": [
      "\u001b[0;31m---------------------------------------------------------------------------\u001b[0m",
      "\u001b[0;31mAssertionError\u001b[0m                            Traceback (most recent call last)",
      "\u001b[0;32m/var/folders/xg/n9p73cf50s52twlnz7z778vr0000gn/T/ipykernel_1442/661010936.py\u001b[0m in \u001b[0;36m<module>\u001b[0;34m\u001b[0m\n\u001b[0;32m----> 1\u001b[0;31m \u001b[0mvl\u001b[0m\u001b[0;34m.\u001b[0m\u001b[0mno_gaps_and_min_obs\u001b[0m\u001b[0;34m(\u001b[0m\u001b[0mdf\u001b[0m\u001b[0;34m)\u001b[0m\u001b[0;34m\u001b[0m\u001b[0;34m\u001b[0m\u001b[0m\n\u001b[0m",
      "\u001b[0;32m~/dev/projects/entropy/entropy/data/validators.py\u001b[0m in \u001b[0;36mno_gaps_and_min_obs\u001b[0;34m(df)\u001b[0m\n\u001b[1;32m     41\u001b[0m     \u001b[0mg\u001b[0m \u001b[0;34m=\u001b[0m \u001b[0mdf\u001b[0m\u001b[0;34m.\u001b[0m\u001b[0mset_index\u001b[0m\u001b[0;34m(\u001b[0m\u001b[0;34m'date'\u001b[0m\u001b[0;34m)\u001b[0m\u001b[0;34m.\u001b[0m\u001b[0mgroupby\u001b[0m\u001b[0;34m(\u001b[0m\u001b[0;34m'user_id'\u001b[0m\u001b[0;34m)\u001b[0m\u001b[0;34m\u001b[0m\u001b[0;34m\u001b[0m\u001b[0m\n\u001b[1;32m     42\u001b[0m     \u001b[0muser_month_obs\u001b[0m \u001b[0;34m=\u001b[0m \u001b[0mg\u001b[0m\u001b[0;34m.\u001b[0m\u001b[0mresample\u001b[0m\u001b[0;34m(\u001b[0m\u001b[0;34m'm'\u001b[0m\u001b[0;34m)\u001b[0m\u001b[0;34m.\u001b[0m\u001b[0mid\u001b[0m\u001b[0;34m.\u001b[0m\u001b[0mcount\u001b[0m\u001b[0;34m(\u001b[0m\u001b[0;34m)\u001b[0m\u001b[0;34m\u001b[0m\u001b[0;34m\u001b[0m\u001b[0m\n\u001b[0;32m---> 43\u001b[0;31m     \u001b[0;32massert\u001b[0m \u001b[0muser_month_obs\u001b[0m\u001b[0;34m.\u001b[0m\u001b[0mmin\u001b[0m\u001b[0;34m(\u001b[0m\u001b[0;34m)\u001b[0m \u001b[0;34m>=\u001b[0m \u001b[0;36m5\u001b[0m\u001b[0;34m\u001b[0m\u001b[0;34m\u001b[0m\u001b[0m\n\u001b[0m\u001b[1;32m     44\u001b[0m \u001b[0;34m\u001b[0m\u001b[0m\n\u001b[1;32m     45\u001b[0m \u001b[0;34m\u001b[0m\u001b[0m\n",
      "\u001b[0;31mAssertionError\u001b[0m: "
     ]
    }
   ],
   "source": [
    "vl.no_gaps_and_min_obs(df)"
   ]
  },
  {
   "cell_type": "code",
   "execution_count": 17,
   "id": "95d84997-dc78-426f-85bb-7e4b970d3012",
   "metadata": {},
   "outputs": [],
   "source": [
    "dd = df.set_index([\"user_id\", \"date\"])"
   ]
  },
  {
   "cell_type": "markdown",
   "id": "5a8734fa-7bc9-4a1e-8e26-bbde2558b697",
   "metadata": {},
   "source": [
    "Identify users"
   ]
  },
  {
   "cell_type": "code",
   "execution_count": 89,
   "id": "2890d939-bb87-454e-8db4-b3238cad1dad",
   "metadata": {},
   "outputs": [],
   "source": [
    "a = dd.groupby(\"user_id\").resample(\"m\", level=\"date\").size().groupby(\"user_id\").min()"
   ]
  },
  {
   "cell_type": "code",
   "execution_count": 120,
   "id": "45d5848f-a69a-45ff-925f-a85cc0350676",
   "metadata": {},
   "outputs": [
    {
     "data": {
      "text/plain": [
       "Int64Index([225137, 274057, 282357, 419397, 438657, 441977, 448837, 458627,\n",
       "            554947],\n",
       "           dtype='int64', name='user_id')"
      ]
     },
     "execution_count": 120,
     "metadata": {},
     "output_type": "execute_result"
    }
   ],
   "source": [
    "users = a[a < 10].index\n",
    "users"
   ]
  },
  {
   "cell_type": "code",
   "execution_count": 121,
   "id": "1d77c067-4402-43e6-a2ae-130717033734",
   "metadata": {},
   "outputs": [
    {
     "data": {
      "text/plain": [
       "9"
      ]
     },
     "execution_count": 121,
     "metadata": {},
     "output_type": "execute_result"
    }
   ],
   "source": [
    "b = dd.groupby([\"user_id\", \"ym\"]).size().groupby(\"user_id\").min()\n",
    "users2 = b[b < 10].index\n",
    "\n",
    "assert all(users2 == users)\n",
    "len(users)"
   ]
  },
  {
   "cell_type": "markdown",
   "id": "e0fe0b11-a3de-40d4-9531-df5c395d3ee2",
   "metadata": {},
   "source": [
    "Finding error"
   ]
  },
  {
   "cell_type": "code",
   "execution_count": 114,
   "id": "fd2ab38e-ee07-4156-8ffe-0748a4377361",
   "metadata": {},
   "outputs": [
    {
     "data": {
      "text/plain": [
       "5677"
      ]
     },
     "execution_count": 114,
     "metadata": {},
     "output_type": "execute_result"
    }
   ],
   "source": [
    "def min_spend(df, min_txns=10, min_spend=200):\n",
    "    \"\"\"At least 5 debits totalling \\pounds200 per month\n",
    "\n",
    "    A minimal test to ensure that we observe a user's full financial life.\n",
    "\n",
    "    Doesn't account for missing data in first and last months since these\n",
    "    months were removed for all users during cleaning.\n",
    "    \"\"\"\n",
    "    data = df.loc[df.debit, [\"user_id\", \"id\", \"ym\", \"amount\"]]\n",
    "    g = data.groupby([\"user_id\", \"ym\"])\n",
    "    min_monthly_spend = g.amount.sum().groupby(\"user_id\").min()\n",
    "    min_monthly_txns = g.size().groupby(\"user_id\").min()\n",
    "    conds = min_monthly_spend.ge(min_spend) & min_monthly_txns.ge(min_txns)\n",
    "    users = conds[conds].index\n",
    "    return df.loc[df.user_id.isin(users)]\n",
    "\n",
    "\n",
    "def min_spend(df, min_debits=10, min_spend=200):\n",
    "    \"\"\"At least 10 debits totalling \\pounds200 per month\n",
    "\n",
    "    A minimal test to ensure that we observe a user's full financial life.\n",
    "\n",
    "    Doesn't account for missing data in first and last months since these\n",
    "    months were removed for all users during cleaning.\n",
    "    \"\"\"\n",
    "    d = df.loc[:, [\"user_id\", \"ym\", \"debit\"]]\n",
    "    min_monthly_debits = (\n",
    "        d.groupby([\"user_id\", \"ym\"]).debit.sum().groupby(\"user_id\").min()\n",
    "    )\n",
    "\n",
    "    d = df.loc[df.debit, [\"user_id\", \"ym\", \"amount\"]]\n",
    "    min_monthly_spend = (\n",
    "        d.groupby([\"user_id\", \"ym\"]).amount.sum().groupby(\"user_id\").min()\n",
    "    )\n",
    "\n",
    "    conds = min_monthly_spend.ge(min_spend) & min_monthly_debits.ge(min_debits)\n",
    "    users = conds[conds].index\n",
    "    return df.loc[df.user_id.isin(users)]\n",
    "\n",
    "\n",
    "min_spend(df).user_id.nunique()"
   ]
  },
  {
   "cell_type": "code",
   "execution_count": 62,
   "id": "77d07cb8-2d48-4bff-bd5b-77dd1e0ae3b0",
   "metadata": {},
   "outputs": [
    {
     "data": {
      "text/plain": [
       "5686"
      ]
     },
     "execution_count": 62,
     "metadata": {},
     "output_type": "execute_result"
    }
   ],
   "source": [
    "df.user_id.nunique()"
   ]
  }
 ],
 "metadata": {
  "kernelspec": {
   "display_name": "entropy",
   "language": "python",
   "name": "entropy"
  },
  "language_info": {
   "codemirror_mode": {
    "name": "ipython",
    "version": 3
   },
   "file_extension": ".py",
   "mimetype": "text/x-python",
   "name": "python",
   "nbconvert_exporter": "python",
   "pygments_lexer": "ipython3",
   "version": "3.9.7"
  }
 },
 "nbformat": 4,
 "nbformat_minor": 5
}
