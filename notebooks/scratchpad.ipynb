{
 "cells": [
  {
   "cell_type": "code",
   "execution_count": 2,
   "id": "602f8929-cb96-4abf-99fb-50f3e9d4cf5f",
   "metadata": {},
   "outputs": [],
   "source": [
    "import contextlib\n",
    "import os\n",
    "import re\n",
    "import sys\n",
    "\n",
    "import linearmodels as lm\n",
    "import matplotlib.pyplot as plt\n",
    "import numpy as np\n",
    "import pandas as pd\n",
    "import s3fs\n",
    "import seaborn as sns\n",
    "import tabulate\n",
    "\n",
    "sys.path.append(\"/Users/fgu/dev/projects/entropy\")\n",
    "import entropy.data.cleaners as cl\n",
    "import entropy.data.creators as cr\n",
    "import entropy.data.selectors as sl\n",
    "import entropy.figures.figures as figs\n",
    "import entropy.helpers.aws as ha\n",
    "import entropy.helpers.data as hd\n",
    "import entropy.helpers.helpers as hh\n",
    "from entropy import config\n",
    "\n",
    "sns.set_style(\"whitegrid\")\n",
    "pd.set_option(\"display.max_rows\", 120)\n",
    "pd.set_option(\"display.max_columns\", 120)\n",
    "pd.set_option(\"max_colwidth\", None)\n",
    "%config InlineBackend.figure_format = 'retina'\n",
    "%load_ext autoreload\n",
    "%autoreload 2\n",
    "\n",
    "fs = s3fs.S3FileSystem(profile=\"3di\")"
   ]
  },
  {
   "cell_type": "code",
   "execution_count": 40,
   "id": "19fb7027-867d-4946-93ba-1b2d33a93c1b",
   "metadata": {},
   "outputs": [
    {
     "name": "stdout",
     "output_type": "stream",
     "text": [
      "Time for read_sample    : 19.83 seconds\n"
     ]
    }
   ],
   "source": [
    "df = hd.read_sample(\"X77\")"
   ]
  },
  {
   "cell_type": "code",
   "execution_count": 44,
   "id": "c58b5c63-36fa-48c3-a8c3-5d955006d315",
   "metadata": {},
   "outputs": [
    {
     "data": {
      "text/plain": [
       "599"
      ]
     },
     "execution_count": 44,
     "metadata": {},
     "output_type": "execute_result"
    }
   ],
   "source": [
    "df.user_id.nunique()"
   ]
  },
  {
   "cell_type": "code",
   "execution_count": 42,
   "id": "881e7d6a-185f-4a71-816e-1fbfe75db287",
   "metadata": {},
   "outputs": [
    {
     "data": {
      "text/plain": [
       "595"
      ]
     },
     "execution_count": 42,
     "metadata": {},
     "output_type": "execute_result"
    }
   ],
   "source": [
    "sl.no_missing_months(df).user_id.nunique()"
   ]
  },
  {
   "cell_type": "code",
   "execution_count": null,
   "id": "6e30a39f-f951-4d04-9284-e87b67921d0f",
   "metadata": {},
   "outputs": [],
   "source": []
  },
  {
   "cell_type": "code",
   "execution_count": 37,
   "id": "a688e9c4-ece4-4900-9073-2e15fe25599c",
   "metadata": {},
   "outputs": [
    {
     "data": {
      "text/plain": [
       "MultiIndex([(   177, '2012-01-31'),\n",
       "            (   177, '2012-02-29'),\n",
       "            (   177, '2012-03-31'),\n",
       "            (   177, '2012-04-30'),\n",
       "            (   177, '2012-05-31'),\n",
       "            (   177, '2012-06-30'),\n",
       "            (   177, '2012-07-31'),\n",
       "            (   177, '2012-08-31'),\n",
       "            (   177, '2012-09-30'),\n",
       "            (   177, '2012-10-31'),\n",
       "            ...\n",
       "            (589277, '2019-10-31'),\n",
       "            (589277, '2019-11-30'),\n",
       "            (589277, '2019-12-31'),\n",
       "            (589277, '2020-01-31'),\n",
       "            (589277, '2020-02-29'),\n",
       "            (589277, '2020-03-31'),\n",
       "            (589277, '2020-04-30'),\n",
       "            (589277, '2020-05-31'),\n",
       "            (589277, '2020-06-30'),\n",
       "            (589277, '2020-07-31')],\n",
       "           names=['user_id', 'date'], length=17862)"
      ]
     },
     "execution_count": 37,
     "metadata": {},
     "output_type": "execute_result"
    }
   ],
   "source": [
    "df.set_index(\"date\").groupby(\"user_id\").resample(\"m\").id.count().index"
   ]
  },
  {
   "cell_type": "code",
   "execution_count": 39,
   "id": "e55f2d61-78a6-416b-af33-3dfe9335bbb5",
   "metadata": {},
   "outputs": [
    {
     "data": {
      "text/plain": [
       "MultiIndex([(   177, '2012-01-31'),\n",
       "            (   177, '2012-02-29'),\n",
       "            (   177, '2012-03-31'),\n",
       "            (   177, '2012-04-30'),\n",
       "            (   177, '2012-05-31'),\n",
       "            (   177, '2012-06-30'),\n",
       "            (   177, '2012-07-31'),\n",
       "            (   177, '2012-08-31'),\n",
       "            (   177, '2012-09-30'),\n",
       "            (   177, '2012-10-31'),\n",
       "            ...\n",
       "            (589277, '2019-10-31'),\n",
       "            (589277, '2019-11-30'),\n",
       "            (589277, '2019-12-31'),\n",
       "            (589277, '2020-01-31'),\n",
       "            (589277, '2020-02-29'),\n",
       "            (589277, '2020-03-31'),\n",
       "            (589277, '2020-04-30'),\n",
       "            (589277, '2020-05-31'),\n",
       "            (589277, '2020-06-30'),\n",
       "            (589277, '2020-07-31')],\n",
       "           names=['user_id', 'date'], length=17834)"
      ]
     },
     "execution_count": 39,
     "metadata": {},
     "output_type": "execute_result"
    }
   ],
   "source": [
    "month = pd.Grouper(key=\"date\", freq=\"m\")\n",
    "df.groupby([\"user_id\", month]).id.count().index"
   ]
  },
  {
   "cell_type": "code",
   "execution_count": null,
   "id": "ddf4a6a1-e707-4d1e-a1d3-c02834d15ba3",
   "metadata": {},
   "outputs": [],
   "source": []
  }
 ],
 "metadata": {
  "kernelspec": {
   "display_name": "entropy",
   "language": "python",
   "name": "entropy"
  },
  "language_info": {
   "codemirror_mode": {
    "name": "ipython",
    "version": 3
   },
   "file_extension": ".py",
   "mimetype": "text/x-python",
   "name": "python",
   "nbconvert_exporter": "python",
   "pygments_lexer": "ipython3",
   "version": "3.9.7"
  }
 },
 "nbformat": 4,
 "nbformat_minor": 5
}
