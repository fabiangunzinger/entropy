{
 "cells": [
  {
   "cell_type": "code",
   "execution_count": 2,
   "id": "602f8929-cb96-4abf-99fb-50f3e9d4cf5f",
   "metadata": {
    "tags": []
   },
   "outputs": [
    {
     "name": "stdout",
     "output_type": "stream",
     "text": [
      "The autoreload extension is already loaded. To reload it, use:\n",
      "  %reload_ext autoreload\n"
     ]
    }
   ],
   "source": [
    "import sys\n",
    "\n",
    "import matplotlib.pyplot as plt\n",
    "import numpy as np\n",
    "import pandas as pd\n",
    "import s3fs\n",
    "import scipy\n",
    "import seaborn as sns\n",
    "import statsmodels.api as sm\n",
    "import statsmodels.formula.api as smf\n",
    "\n",
    "sys.path.append(\"/Users/fgu/dev/projects/entropy\")\n",
    "import entropy.data.aggregators as ag\n",
    "import entropy.data.cleaners as cl\n",
    "import entropy.data.make_data as md\n",
    "import entropy.data.selectors as sl\n",
    "import entropy.data.validators as vl\n",
    "import entropy.helpers.aws as ha\n",
    "import entropy.helpers.data as hd\n",
    "import entropy.helpers.helpers as hh\n",
    "\n",
    "pd.set_option(\"display.max_rows\", 120)\n",
    "pd.set_option(\"display.max_columns\", 120)\n",
    "pd.set_option(\"max_colwidth\", None)\n",
    "%load_ext autoreload\n",
    "%autoreload 2\n",
    "\n",
    "fs = s3fs.S3FileSystem(profile=\"3di\")"
   ]
  },
  {
   "cell_type": "code",
   "execution_count": 3,
   "id": "681b334f-3e5a-44fd-8eaf-c7918d83d5ba",
   "metadata": {},
   "outputs": [
    {
     "name": "stdout",
     "output_type": "stream",
     "text": [
      "Time for read_raw_data                 : 5.06 seconds\n"
     ]
    }
   ],
   "source": [
    "dfr = hd.read_raw_data(\"777\")"
   ]
  },
  {
   "cell_type": "code",
   "execution_count": 4,
   "id": "782c6b7f-4d02-4c3b-a6ee-510b4b995a28",
   "metadata": {},
   "outputs": [
    {
     "name": "stdout",
     "output_type": "stream",
     "text": [
      "Time for read_txn_data                 : 3.25 seconds\n"
     ]
    }
   ],
   "source": [
    "dft = hd.read_txn_data(\"777\")"
   ]
  },
  {
   "cell_type": "code",
   "execution_count": 29,
   "id": "e0b936eb-8e87-454f-8021-7ede1dc5bdd5",
   "metadata": {},
   "outputs": [
    {
     "name": "stdout",
     "output_type": "stream",
     "text": [
      "Time for read_analysis_data            : 2.97 seconds\n"
     ]
    }
   ],
   "source": [
    "dfa = hd.read_analysis_data(\"XX7\")"
   ]
  },
  {
   "cell_type": "code",
   "execution_count": 7,
   "id": "bb426efd-9bad-4694-bf3e-4a6914c0c9d9",
   "metadata": {},
   "outputs": [
    {
     "name": "stdout",
     "output_type": "stream",
     "text": [
      "Time for grocery_shop_entropy          : 0.06 seconds\n"
     ]
    },
    {
     "data": {
      "text/html": [
       "<div>\n",
       "<style scoped>\n",
       "    .dataframe tbody tr th:only-of-type {\n",
       "        vertical-align: middle;\n",
       "    }\n",
       "\n",
       "    .dataframe tbody tr th {\n",
       "        vertical-align: top;\n",
       "    }\n",
       "\n",
       "    .dataframe thead th {\n",
       "        text-align: right;\n",
       "    }\n",
       "</style>\n",
       "<table border=\"1\" class=\"dataframe\">\n",
       "  <thead>\n",
       "    <tr style=\"text-align: right;\">\n",
       "      <th></th>\n",
       "      <th></th>\n",
       "      <th>entropy_groc</th>\n",
       "      <th>entropy_groc_n</th>\n",
       "      <th>entropy_groc_z</th>\n",
       "      <th>entropy_groc_s</th>\n",
       "      <th>entropy_groc_sn</th>\n",
       "      <th>entropy_groc_sz</th>\n",
       "    </tr>\n",
       "    <tr>\n",
       "      <th>user_id</th>\n",
       "      <th>ym</th>\n",
       "      <th></th>\n",
       "      <th></th>\n",
       "      <th></th>\n",
       "      <th></th>\n",
       "      <th></th>\n",
       "      <th></th>\n",
       "    </tr>\n",
       "  </thead>\n",
       "  <tbody>\n",
       "    <tr>\n",
       "      <th rowspan=\"5\" valign=\"top\">777</th>\n",
       "      <th>2012-02</th>\n",
       "      <td>0.918296</td>\n",
       "      <td>0.276435</td>\n",
       "      <td>-0.300217</td>\n",
       "      <td>3.180833</td>\n",
       "      <td>0.957526</td>\n",
       "      <td>0.993167</td>\n",
       "    </tr>\n",
       "    <tr>\n",
       "      <th>2012-04</th>\n",
       "      <td>0.000000</td>\n",
       "      <td>0.000000</td>\n",
       "      <td>-1.645855</td>\n",
       "      <td>3.277613</td>\n",
       "      <td>0.986660</td>\n",
       "      <td>1.278977</td>\n",
       "    </tr>\n",
       "    <tr>\n",
       "      <th>2012-05</th>\n",
       "      <td>1.918296</td>\n",
       "      <td>0.577465</td>\n",
       "      <td>1.165148</td>\n",
       "      <td>2.971747</td>\n",
       "      <td>0.894585</td>\n",
       "      <td>0.375701</td>\n",
       "    </tr>\n",
       "    <tr>\n",
       "      <th>2012-06</th>\n",
       "      <td>0.918296</td>\n",
       "      <td>0.276435</td>\n",
       "      <td>-0.300217</td>\n",
       "      <td>3.180833</td>\n",
       "      <td>0.957526</td>\n",
       "      <td>0.993167</td>\n",
       "    </tr>\n",
       "    <tr>\n",
       "      <th>2012-07</th>\n",
       "      <td>1.721928</td>\n",
       "      <td>0.518352</td>\n",
       "      <td>0.877398</td>\n",
       "      <td>2.960964</td>\n",
       "      <td>0.891339</td>\n",
       "      <td>0.343856</td>\n",
       "    </tr>\n",
       "    <tr>\n",
       "      <th>...</th>\n",
       "      <th>...</th>\n",
       "      <td>...</td>\n",
       "      <td>...</td>\n",
       "      <td>...</td>\n",
       "      <td>...</td>\n",
       "      <td>...</td>\n",
       "      <td>...</td>\n",
       "    </tr>\n",
       "    <tr>\n",
       "      <th rowspan=\"5\" valign=\"top\">587777</th>\n",
       "      <th>2020-03</th>\n",
       "      <td>2.170951</td>\n",
       "      <td>0.653521</td>\n",
       "      <td>1.535379</td>\n",
       "      <td>2.892811</td>\n",
       "      <td>0.870823</td>\n",
       "      <td>0.142589</td>\n",
       "    </tr>\n",
       "    <tr>\n",
       "      <th>2020-04</th>\n",
       "      <td>2.038160</td>\n",
       "      <td>0.613547</td>\n",
       "      <td>1.340792</td>\n",
       "      <td>2.963810</td>\n",
       "      <td>0.892196</td>\n",
       "      <td>0.352260</td>\n",
       "    </tr>\n",
       "    <tr>\n",
       "      <th>2020-05</th>\n",
       "      <td>2.246439</td>\n",
       "      <td>0.676246</td>\n",
       "      <td>1.645998</td>\n",
       "      <td>3.108695</td>\n",
       "      <td>0.935810</td>\n",
       "      <td>0.780131</td>\n",
       "    </tr>\n",
       "    <tr>\n",
       "      <th>2020-06</th>\n",
       "      <td>2.352746</td>\n",
       "      <td>0.708247</td>\n",
       "      <td>1.801776</td>\n",
       "      <td>3.042481</td>\n",
       "      <td>0.915878</td>\n",
       "      <td>0.584591</td>\n",
       "    </tr>\n",
       "    <tr>\n",
       "      <th>2020-07</th>\n",
       "      <td>2.186704</td>\n",
       "      <td>0.658264</td>\n",
       "      <td>1.558464</td>\n",
       "      <td>3.064970</td>\n",
       "      <td>0.922648</td>\n",
       "      <td>0.651003</td>\n",
       "    </tr>\n",
       "  </tbody>\n",
       "</table>\n",
       "<p>6217 rows × 6 columns</p>\n",
       "</div>"
      ],
      "text/plain": [
       "                 entropy_groc  entropy_groc_n  entropy_groc_z  entropy_groc_s  \\\n",
       "user_id ym                                                                      \n",
       "777     2012-02      0.918296        0.276435       -0.300217        3.180833   \n",
       "        2012-04      0.000000        0.000000       -1.645855        3.277613   \n",
       "        2012-05      1.918296        0.577465        1.165148        2.971747   \n",
       "        2012-06      0.918296        0.276435       -0.300217        3.180833   \n",
       "        2012-07      1.721928        0.518352        0.877398        2.960964   \n",
       "...                       ...             ...             ...             ...   \n",
       "587777  2020-03      2.170951        0.653521        1.535379        2.892811   \n",
       "        2020-04      2.038160        0.613547        1.340792        2.963810   \n",
       "        2020-05      2.246439        0.676246        1.645998        3.108695   \n",
       "        2020-06      2.352746        0.708247        1.801776        3.042481   \n",
       "        2020-07      2.186704        0.658264        1.558464        3.064970   \n",
       "\n",
       "                 entropy_groc_sn  entropy_groc_sz  \n",
       "user_id ym                                         \n",
       "777     2012-02         0.957526         0.993167  \n",
       "        2012-04         0.986660         1.278977  \n",
       "        2012-05         0.894585         0.375701  \n",
       "        2012-06         0.957526         0.993167  \n",
       "        2012-07         0.891339         0.343856  \n",
       "...                          ...              ...  \n",
       "587777  2020-03         0.870823         0.142589  \n",
       "        2020-04         0.892196         0.352260  \n",
       "        2020-05         0.935810         0.780131  \n",
       "        2020-06         0.915878         0.584591  \n",
       "        2020-07         0.922648         0.651003  \n",
       "\n",
       "[6217 rows x 6 columns]"
      ]
     },
     "execution_count": 7,
     "metadata": {},
     "output_type": "execute_result"
    }
   ],
   "source": [
    "ag.grocery_shop_entropy(dft)"
   ]
  },
  {
   "cell_type": "code",
   "execution_count": null,
   "id": "86ed4c46-7c54-4ddf-8e7d-e110980ce22c",
   "metadata": {},
   "outputs": [],
   "source": []
  }
 ],
 "metadata": {
  "kernelspec": {
   "display_name": "entropy",
   "language": "python",
   "name": "entropy"
  },
  "language_info": {
   "codemirror_mode": {
    "name": "ipython",
    "version": 3
   },
   "file_extension": ".py",
   "mimetype": "text/x-python",
   "name": "python",
   "nbconvert_exporter": "python",
   "pygments_lexer": "ipython3",
   "version": "3.9.7"
  }
 },
 "nbformat": 4,
 "nbformat_minor": 5
}
