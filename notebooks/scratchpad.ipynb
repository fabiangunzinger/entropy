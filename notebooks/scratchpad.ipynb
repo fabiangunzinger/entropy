{
 "cells": [
  {
   "cell_type": "code",
   "execution_count": 1,
   "id": "602f8929-cb96-4abf-99fb-50f3e9d4cf5f",
   "metadata": {
    "tags": []
   },
   "outputs": [],
   "source": [
    "import sys\n",
    "\n",
    "import matplotlib.pyplot as plt\n",
    "import numpy as np\n",
    "import pandas as pd\n",
    "import s3fs\n",
    "import scipy\n",
    "import seaborn as sns\n",
    "import statsmodels.api as sm\n",
    "import statsmodels.formula.api as smf\n",
    "\n",
    "sys.path.append(\"/Users/fgu/dev/projects/entropy\")\n",
    "import entropy.data.aggregators as ag\n",
    "import entropy.data.cleaners as cl\n",
    "import entropy.data.make_data as md\n",
    "import entropy.data.selectors as sl\n",
    "import entropy.data.validators as vl\n",
    "import entropy.helpers.aws as ha\n",
    "import entropy.helpers.data as hd\n",
    "import entropy.helpers.helpers as hh\n",
    "\n",
    "pd.set_option(\"display.max_rows\", 120)\n",
    "pd.set_option(\"display.max_columns\", 120)\n",
    "pd.set_option(\"max_colwidth\", None)\n",
    "%load_ext autoreload\n",
    "%autoreload 2\n",
    "\n",
    "fs = s3fs.S3FileSystem(profile=\"3di\")"
   ]
  },
  {
   "cell_type": "code",
   "execution_count": 2,
   "id": "681b334f-3e5a-44fd-8eaf-c7918d83d5ba",
   "metadata": {},
   "outputs": [
    {
     "name": "stdout",
     "output_type": "stream",
     "text": [
      "Time for read_raw_data                 : 6.12 seconds\n"
     ]
    }
   ],
   "source": [
    "dfr = hd.read_raw_data(\"777\")"
   ]
  },
  {
   "cell_type": "code",
   "execution_count": 83,
   "id": "782c6b7f-4d02-4c3b-a6ee-510b4b995a28",
   "metadata": {},
   "outputs": [
    {
     "name": "stdout",
     "output_type": "stream",
     "text": [
      "Time for read_txn_data                 : 35.12 seconds\n"
     ]
    }
   ],
   "source": [
    "dft = hd.read_txn_data(\"X77\")"
   ]
  },
  {
   "cell_type": "code",
   "execution_count": 89,
   "id": "868a06dc-1438-452b-87d5-54bb71bf3834",
   "metadata": {},
   "outputs": [
    {
     "name": "stdout",
     "output_type": "stream",
     "text": [
      "Time for read_txn_data                 : 2.94 seconds\n"
     ]
    }
   ],
   "source": [
    "dfs = hd.read_txn_data(\"777\")"
   ]
  },
  {
   "cell_type": "code",
   "execution_count": 4,
   "id": "e0b936eb-8e87-454f-8021-7ede1dc5bdd5",
   "metadata": {},
   "outputs": [
    {
     "name": "stdout",
     "output_type": "stream",
     "text": [
      "Time for read_analysis_data            : 0.54 seconds\n"
     ]
    }
   ],
   "source": [
    "dfa = hd.read_analysis_data(\"777\")"
   ]
  },
  {
   "cell_type": "markdown",
   "id": "8ab98331-223a-4eaa-a178-cd860a38d689",
   "metadata": {},
   "source": [
    "## e and es component correlation"
   ]
  },
  {
   "cell_type": "code",
   "execution_count": 117,
   "id": "22e7adfd-10db-4c23-a085-52146abd4465",
   "metadata": {},
   "outputs": [
    {
     "data": {
      "text/plain": [
       "(0.890642746287733, -0.7482122369481141, -0.9507259196683358)"
      ]
     },
     "execution_count": 117,
     "metadata": {},
     "output_type": "execute_result"
    }
   ],
   "source": [
    "data = dfs\n",
    "\n",
    "# unsmoothed entropy\n",
    "counts = ag._entropy_base_values(data, \"tag_spend\")\n",
    "e = ag._entropy_scores(counts)\n",
    "\n",
    "# calc smooth entropy and components\n",
    "# es = a + b, where a is pos count component and b is zero count component\n",
    "es = ag._entropy_scores(counts, smooth=True)\n",
    "row_totals = counts.sum(1)\n",
    "num_unique = len(counts.columns)\n",
    "zero_counts = (counts == 0).sum(1)\n",
    "const = (1 / (row_totals + num_unique)) * np.log2(1 / (row_totals + num_unique))\n",
    "b = zero_counts * -const\n",
    "smooth_probs_pos_counts = (counts > 0) * (counts + 1).div(row_totals + num_unique, axis=0)\n",
    "a = scipy.special.entr(smooth_probs_pos_counts).sum(1) / np.log(2)\n",
    "pd.testing.assert_series_equal(a + b, es)\n",
    "\n",
    "e.corr(a), e.corr(b), a.corr(b)\n",
    "\n"
   ]
  },
  {
   "cell_type": "code",
   "execution_count": null,
   "id": "75a6e81e-440f-4780-84a0-56eac97dbfca",
   "metadata": {},
   "outputs": [],
   "source": []
  }
 ],
 "metadata": {
  "kernelspec": {
   "display_name": "entropy",
   "language": "python",
   "name": "entropy"
  },
  "language_info": {
   "codemirror_mode": {
    "name": "ipython",
    "version": 3
   },
   "file_extension": ".py",
   "mimetype": "text/x-python",
   "name": "python",
   "nbconvert_exporter": "python",
   "pygments_lexer": "ipython3",
   "version": "3.9.7"
  }
 },
 "nbformat": 4,
 "nbformat_minor": 5
}
