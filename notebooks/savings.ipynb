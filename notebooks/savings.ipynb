{
 "cells": [
  {
   "cell_type": "markdown",
   "id": "585fbeec-b261-40d2-bd56-cb42d828b773",
   "metadata": {},
   "source": [
    "Notebook purpose\n",
    "\n",
    "- Check whether there is a reliable way to identify savings transactions"
   ]
  },
  {
   "cell_type": "code",
   "execution_count": 1,
   "id": "13bef683-64f8-4c36-bec3-05ecb69b15c5",
   "metadata": {
    "tags": []
   },
   "outputs": [],
   "source": [
    "import os\n",
    "import sys\n",
    "\n",
    "import matplotlib.pyplot as plt\n",
    "import numpy as np\n",
    "import pandas as pd\n",
    "import s3fs\n",
    "import seaborn as sns\n",
    "\n",
    "sys.path.append(\"/Users/fgu/dev/projects/entropy\")\n",
    "import entropy.data.cleaners as cl\n",
    "import entropy.data.creators as cr\n",
    "import entropy.data.txn_classifications as tc\n",
    "import entropy.figures.figures as figs\n",
    "import entropy.helpers.aws as ha\n",
    "import entropy.helpers.data as hd\n",
    "import entropy.helpers.helpers as hh\n",
    "from entropy import config\n",
    "\n",
    "sns.set_style(\"whitegrid\")\n",
    "pd.set_option(\"display.max_rows\", 120)\n",
    "pd.set_option(\"display.max_columns\", 120)\n",
    "pd.set_option(\"max_colwidth\", None)\n",
    "%config InlineBackend.figure_format = 'retina'\n",
    "%load_ext autoreload\n",
    "%autoreload 2\n",
    "\n",
    "fs = s3fs.S3FileSystem(profile=\"3di\")"
   ]
  },
  {
   "cell_type": "code",
   "execution_count": 2,
   "id": "f18b0a60-e3de-45c8-8d3e-8a63a58697ef",
   "metadata": {},
   "outputs": [
    {
     "name": "stdout",
     "output_type": "stream",
     "text": [
      "Time for read_sample    : 2.28 seconds\n",
      "Time for read_sample    : 4.85 minutes\n",
      "(14,839,981, 31)\n"
     ]
    },
    {
     "data": {
      "text/html": [
       "<div>\n",
       "<style scoped>\n",
       "    .dataframe tbody tr th:only-of-type {\n",
       "        vertical-align: middle;\n",
       "    }\n",
       "\n",
       "    .dataframe tbody tr th {\n",
       "        vertical-align: top;\n",
       "    }\n",
       "\n",
       "    .dataframe thead th {\n",
       "        text-align: right;\n",
       "    }\n",
       "</style>\n",
       "<table border=\"1\" class=\"dataframe\">\n",
       "  <thead>\n",
       "    <tr style=\"text-align: right;\">\n",
       "      <th></th>\n",
       "      <th>id</th>\n",
       "      <th>date</th>\n",
       "      <th>user_id</th>\n",
       "      <th>amount</th>\n",
       "      <th>desc</th>\n",
       "      <th>merchant</th>\n",
       "      <th>tag_group</th>\n",
       "      <th>tag</th>\n",
       "      <th>user_female</th>\n",
       "      <th>user_postcode</th>\n",
       "      <th>user_registration_date</th>\n",
       "      <th>user_salary_range</th>\n",
       "      <th>user_yob</th>\n",
       "      <th>account_created</th>\n",
       "      <th>account_id</th>\n",
       "      <th>account_last_refreshed</th>\n",
       "      <th>account_provider</th>\n",
       "      <th>account_type</th>\n",
       "      <th>data_warehouse_date_created</th>\n",
       "      <th>data_warehouse_date_last_updated</th>\n",
       "      <th>debit</th>\n",
       "      <th>latest_balance</th>\n",
       "      <th>merchant_business_line</th>\n",
       "      <th>tag_auto</th>\n",
       "      <th>tag_manual</th>\n",
       "      <th>tag_up</th>\n",
       "      <th>updated_flag</th>\n",
       "      <th>ym</th>\n",
       "      <th>balance</th>\n",
       "      <th>income</th>\n",
       "      <th>entropy_sptac</th>\n",
       "    </tr>\n",
       "  </thead>\n",
       "  <tbody>\n",
       "    <tr>\n",
       "      <th>0</th>\n",
       "      <td>1859849</td>\n",
       "      <td>2012-11-05</td>\n",
       "      <td>57</td>\n",
       "      <td>-700.0</td>\n",
       "      <td>faster payments receipt ref mdbremoved</td>\n",
       "      <td>NaN</td>\n",
       "      <td>NaN</td>\n",
       "      <td>NaN</td>\n",
       "      <td>0.0</td>\n",
       "      <td>n8 9</td>\n",
       "      <td>2010-05-13</td>\n",
       "      <td>10k to 20k</td>\n",
       "      <td>1987.0</td>\n",
       "      <td>2012-10-23</td>\n",
       "      <td>274000</td>\n",
       "      <td>2020-08-16 07:24:00</td>\n",
       "      <td>santander</td>\n",
       "      <td>current</td>\n",
       "      <td>2014-07-18</td>\n",
       "      <td>2017-08-15</td>\n",
       "      <td>False</td>\n",
       "      <td>14829.769531</td>\n",
       "      <td>NaN</td>\n",
       "      <td>NaN</td>\n",
       "      <td>NaN</td>\n",
       "      <td>current account</td>\n",
       "      <td>u</td>\n",
       "      <td>201211</td>\n",
       "      <td>8504.292969</td>\n",
       "      <td>22136.039062</td>\n",
       "      <td>2.397678</td>\n",
       "    </tr>\n",
       "    <tr>\n",
       "      <th>1</th>\n",
       "      <td>1859848</td>\n",
       "      <td>2012-11-08</td>\n",
       "      <td>57</td>\n",
       "      <td>-900.0</td>\n",
       "      <td>faster payments receipt from mdbremoved</td>\n",
       "      <td>NaN</td>\n",
       "      <td>NaN</td>\n",
       "      <td>NaN</td>\n",
       "      <td>0.0</td>\n",
       "      <td>n8 9</td>\n",
       "      <td>2010-05-13</td>\n",
       "      <td>10k to 20k</td>\n",
       "      <td>1987.0</td>\n",
       "      <td>2012-10-23</td>\n",
       "      <td>274000</td>\n",
       "      <td>2020-08-16 07:24:00</td>\n",
       "      <td>santander</td>\n",
       "      <td>current</td>\n",
       "      <td>2014-07-18</td>\n",
       "      <td>2017-08-15</td>\n",
       "      <td>False</td>\n",
       "      <td>14829.769531</td>\n",
       "      <td>NaN</td>\n",
       "      <td>NaN</td>\n",
       "      <td>NaN</td>\n",
       "      <td>current account</td>\n",
       "      <td>u</td>\n",
       "      <td>201211</td>\n",
       "      <td>9404.292969</td>\n",
       "      <td>22136.039062</td>\n",
       "      <td>2.397678</td>\n",
       "    </tr>\n",
       "  </tbody>\n",
       "</table>\n",
       "</div>"
      ],
      "text/plain": [
       "        id       date  user_id  amount  \\\n",
       "0  1859849 2012-11-05       57  -700.0   \n",
       "1  1859848 2012-11-08       57  -900.0   \n",
       "\n",
       "                                      desc merchant tag_group  tag  \\\n",
       "0   faster payments receipt ref mdbremoved      NaN       NaN  NaN   \n",
       "1  faster payments receipt from mdbremoved      NaN       NaN  NaN   \n",
       "\n",
       "   user_female user_postcode user_registration_date user_salary_range  \\\n",
       "0          0.0          n8 9             2010-05-13        10k to 20k   \n",
       "1          0.0          n8 9             2010-05-13        10k to 20k   \n",
       "\n",
       "   user_yob account_created  account_id account_last_refreshed  \\\n",
       "0    1987.0      2012-10-23      274000    2020-08-16 07:24:00   \n",
       "1    1987.0      2012-10-23      274000    2020-08-16 07:24:00   \n",
       "\n",
       "  account_provider account_type data_warehouse_date_created  \\\n",
       "0        santander      current                  2014-07-18   \n",
       "1        santander      current                  2014-07-18   \n",
       "\n",
       "  data_warehouse_date_last_updated  debit  latest_balance  \\\n",
       "0                       2017-08-15  False    14829.769531   \n",
       "1                       2017-08-15  False    14829.769531   \n",
       "\n",
       "  merchant_business_line tag_auto tag_manual           tag_up updated_flag  \\\n",
       "0                    NaN      NaN        NaN  current account            u   \n",
       "1                    NaN      NaN        NaN  current account            u   \n",
       "\n",
       "       ym      balance        income  entropy_sptac  \n",
       "0  201211  8504.292969  22136.039062       2.397678  \n",
       "1  201211  9404.292969  22136.039062       2.397678  "
      ]
     },
     "metadata": {},
     "output_type": "display_data"
    }
   ],
   "source": [
    "dfs, df = hd.read_samples([\"777\", \"XX7\"])\n",
    "hd.inspect(df)"
   ]
  },
  {
   "cell_type": "markdown",
   "id": "06606082-23d0-4fe8-83ac-da01a65d2ba9",
   "metadata": {},
   "source": [
    "## Tags"
   ]
  },
  {
   "cell_type": "markdown",
   "id": "10e56185-d9cd-4ccb-aace-6cc757afa446",
   "metadata": {},
   "source": [
    "The simplest approach to identify savings is to use MDB auto tags. I have grouped all relevant auto tags into a `tag` called *savings*, which is a subgroup of the `tag_group` *transfters*."
   ]
  },
  {
   "cell_type": "code",
   "execution_count": 8,
   "id": "7d3800a3-8a4b-4131-9184-3f0161b75275",
   "metadata": {},
   "outputs": [
    {
     "data": {
      "text/plain": [
       "['general savings',\n",
       " 'investment - other',\n",
       " 'investments or shares',\n",
       " 'isa',\n",
       " 'pension or investments',\n",
       " 'saving (general)',\n",
       " 'savings (general)',\n",
       " 'savings']"
      ]
     },
     "execution_count": 8,
     "metadata": {},
     "output_type": "execute_result"
    }
   ],
   "source": [
    "tc.transfers_subgroups[\"savings\"]"
   ]
  },
  {
   "cell_type": "markdown",
   "id": "4fe53b53-32d5-437f-8cd0-4b5a3bffe188",
   "metadata": {},
   "source": [
    "But there are not enough txns and users to work with, so I won't use these."
   ]
  },
  {
   "cell_type": "code",
   "execution_count": 9,
   "id": "9a7e7c8a-f058-4852-b281-ff2b428b59fa",
   "metadata": {},
   "outputs": [
    {
     "name": "stdout",
     "output_type": "stream",
     "text": [
      "df1 has 19,207 txns across 1176 users (0.3% and 43.3% of df2).\n"
     ]
    }
   ],
   "source": [
    "savings = df[df.tag.eq(\"savings\")]\n",
    "hd.txns_and_users(savings, df)"
   ]
  },
  {
   "cell_type": "markdown",
   "id": "982b1066-780e-41f2-b918-69132154fc37",
   "metadata": {},
   "source": [
    "## Savings account transfers"
   ]
  },
  {
   "cell_type": "markdown",
   "id": "a7e6e58a-538f-4ead-9ee5-032e4b3df0e4",
   "metadata": {},
   "source": [
    "An alternative is to look at flows into and out of savings accounts. We could define something like 'monthly net savings' as the the sum of all inflows and outflows into a users savings accounts during a month."
   ]
  },
  {
   "cell_type": "code",
   "execution_count": 10,
   "id": "a6f615db-4f27-4b58-bc1d-0d52b5eaaaee",
   "metadata": {},
   "outputs": [],
   "source": [
    "savings = df[df.account_type.eq(\"savings\")]\n",
    "credits = savings[~savings.debit]\n",
    "debits = savings[savings.debit]"
   ]
  },
  {
   "cell_type": "markdown",
   "id": "8e60042f-b9d6-42d6-8d0f-f240cc645138",
   "metadata": {},
   "source": [
    "There are many more transactions across many more users than for tags above."
   ]
  },
  {
   "cell_type": "code",
   "execution_count": 11,
   "id": "bc8d61d6-ca8e-4fca-a8d0-95fa3a71f672",
   "metadata": {},
   "outputs": [
    {
     "name": "stdout",
     "output_type": "stream",
     "text": [
      "df1 has 163,681 txns across 1557 users (2.2% and 57.3% of df2).\n"
     ]
    }
   ],
   "source": [
    "hd.txns_and_users(savings, df)"
   ]
  },
  {
   "cell_type": "markdown",
   "id": "4fa24e6a-ce20-47fe-b9ed-c7d2237c971a",
   "metadata": {},
   "source": [
    "Plot distributions of monthly inflows, outflows, and net savings."
   ]
  },
  {
   "cell_type": "code",
   "execution_count": 290,
   "id": "a1449092-1317-4bce-9427-d895d2cc88d8",
   "metadata": {},
   "outputs": [
    {
     "data": {
      "image/png": "[encoded data removed]",
      "text/plain": [
       "<Figure size 1008x288 with 3 Axes>"
      ]
     },
     "metadata": {
      "image/png": {
       "height": 264,
       "width": 829
      }
     },
     "output_type": "display_data"
    }
   ],
   "source": [
    ",a"
   ]
  },
  {
   "cell_type": "markdown",
   "id": "3f1c381d-c7e2-4ce8-9132-6b8c23052d54",
   "metadata": {},
   "source": [
    "## Non-standing-order transactions only"
   ]
  },
  {
   "cell_type": "markdown",
   "id": "47762685-c414-4c03-9e31-2bbb2643286b",
   "metadata": {},
   "source": [
    "todo if needed"
   ]
  },
  {
   "cell_type": "code",
   "execution_count": 21,
   "id": "4dbbe846-3284-4162-aa70-4c9a605142da",
   "metadata": {},
   "outputs": [
    {
     "data": {
      "text/plain": [
       "mdbremoved                  32161\n",
       "mdbremoved ft                5186\n",
       "save the change bp           4713\n",
       "transfer from mdbremoved     4067\n",
       "mdbremoved tfr               4049\n",
       "Name: desc, dtype: int64"
      ]
     },
     "execution_count": 21,
     "metadata": {},
     "output_type": "execute_result"
    }
   ],
   "source": [
    "savings.desc.value_counts()[:5]"
   ]
  }
 ],
 "metadata": {
  "kernelspec": {
   "display_name": "entropy",
   "language": "python",
   "name": "entropy"
  },
  "language_info": {
   "codemirror_mode": {
    "name": "ipython",
    "version": 3
   },
   "file_extension": ".py",
   "mimetype": "text/x-python",
   "name": "python",
   "nbconvert_exporter": "python",
   "pygments_lexer": "ipython3",
   "version": "3.9.7"
  },
  "toc-autonumbering": false,
  "toc-showcode": false,
  "toc-showmarkdowntxt": false
 },
 "nbformat": 4,
 "nbformat_minor": 5
}
