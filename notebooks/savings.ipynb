{
 "cells": [
  {
   "cell_type": "markdown",
   "id": "585fbeec-b261-40d2-bd56-cb42d828b773",
   "metadata": {},
   "source": [
    "Notebook purpose\n",
    "\n",
    "- Check whether there is a reliable way to identify savings transactions"
   ]
  },
  {
   "cell_type": "code",
   "execution_count": 3,
   "id": "13bef683-64f8-4c36-bec3-05ecb69b15c5",
   "metadata": {
    "tags": []
   },
   "outputs": [
    {
     "name": "stdout",
     "output_type": "stream",
     "text": [
      "The autoreload extension is already loaded. To reload it, use:\n",
      "  %reload_ext autoreload\n"
     ]
    }
   ],
   "source": [
    "import os\n",
    "import sys\n",
    "\n",
    "import matplotlib.pyplot as plt\n",
    "import numpy as np\n",
    "import pandas as pd\n",
    "import seaborn as sns\n",
    "import s3fs\n",
    "\n",
    "sys.path.append('/Users/fgu/dev/projects/entropy')\n",
    "from entropy import config\n",
    "\n",
    "import entropy.helpers.aws as ha\n",
    "import entropy.helpers.helpers as hh \n",
    "import entropy.helpers.data as hd\n",
    "import entropy.data.cleaners as cl\n",
    "import entropy.data.creators as cr\n",
    "import entropy.data.txn_classifications as tc\n",
    "import entropy.figures.figures as figs\n",
    "\n",
    "sns.set_style('whitegrid')\n",
    "pd.set_option('display.max_rows', 120)\n",
    "pd.set_option('display.max_columns', 120)\n",
    "pd.set_option('max_colwidth', None)\n",
    "%config InlineBackend.figure_format = 'retina'\n",
    "%load_ext autoreload\n",
    "%autoreload 2\n",
    "\n",
    "fs = s3fs.S3FileSystem(profile='3di')"
   ]
  },
  {
   "cell_type": "code",
   "execution_count": 2,
   "id": "f18b0a60-e3de-45c8-8d3e-8a63a58697ef",
   "metadata": {},
   "outputs": [
    {
     "name": "stdout",
     "output_type": "stream",
     "text": [
      "Time for read_data      : 1.76 seconds\n",
      "Time for read_data      : 2.86 minutes\n",
      "(6,791,894, 32)\n"
     ]
    },
    {
     "data": {
      "text/html": [
       "<div>\n",
       "<style scoped>\n",
       "    .dataframe tbody tr th:only-of-type {\n",
       "        vertical-align: middle;\n",
       "    }\n",
       "\n",
       "    .dataframe tbody tr th {\n",
       "        vertical-align: top;\n",
       "    }\n",
       "\n",
       "    .dataframe thead th {\n",
       "        text-align: right;\n",
       "    }\n",
       "</style>\n",
       "<table border=\"1\" class=\"dataframe\">\n",
       "  <thead>\n",
       "    <tr style=\"text-align: right;\">\n",
       "      <th></th>\n",
       "      <th>id</th>\n",
       "      <th>date</th>\n",
       "      <th>user_id</th>\n",
       "      <th>amount</th>\n",
       "      <th>desc</th>\n",
       "      <th>merchant</th>\n",
       "      <th>tag_group</th>\n",
       "      <th>tag</th>\n",
       "      <th>user_female</th>\n",
       "      <th>user_postcode</th>\n",
       "      <th>user_registration_date</th>\n",
       "      <th>user_salary_range</th>\n",
       "      <th>user_yob</th>\n",
       "      <th>account_created</th>\n",
       "      <th>account_id</th>\n",
       "      <th>account_last_refreshed</th>\n",
       "      <th>account_provider</th>\n",
       "      <th>account_type</th>\n",
       "      <th>data_warehouse_date_created</th>\n",
       "      <th>data_warehouse_date_last_updated</th>\n",
       "      <th>debit</th>\n",
       "      <th>latest_balance</th>\n",
       "      <th>merchant_business_line</th>\n",
       "      <th>tag_auto</th>\n",
       "      <th>tag_manual</th>\n",
       "      <th>tag_up</th>\n",
       "      <th>updated_flag</th>\n",
       "      <th>ym</th>\n",
       "      <th>savings</th>\n",
       "      <th>balance</th>\n",
       "      <th>income</th>\n",
       "      <th>entropy_tag</th>\n",
       "    </tr>\n",
       "  </thead>\n",
       "  <tbody>\n",
       "    <tr>\n",
       "      <th>0</th>\n",
       "      <td>19510816</td>\n",
       "      <td>2014-03-07</td>\n",
       "      <td>107</td>\n",
       "      <td>9.20</td>\n",
       "      <td>paypal sandrpowell 9001</td>\n",
       "      <td>paypal</td>\n",
       "      <td>spend</td>\n",
       "      <td>services</td>\n",
       "      <td>0.0</td>\n",
       "      <td>gl3 4</td>\n",
       "      <td>2010-05-10</td>\n",
       "      <td>40k to 50k</td>\n",
       "      <td>1984.0</td>\n",
       "      <td>2014-05-11</td>\n",
       "      <td>238820</td>\n",
       "      <td>2020-08-16 12:13:00</td>\n",
       "      <td>barclaycard</td>\n",
       "      <td>credit card</td>\n",
       "      <td>2014-07-18</td>\n",
       "      <td>2017-09-12</td>\n",
       "      <td>True</td>\n",
       "      <td>NaN</td>\n",
       "      <td>paypal</td>\n",
       "      <td>enjoyment</td>\n",
       "      <td>home electronics</td>\n",
       "      <td>home electronics</td>\n",
       "      <td>u</td>\n",
       "      <td>201403</td>\n",
       "      <td>0.0</td>\n",
       "      <td>NaN</td>\n",
       "      <td>27530.926758</td>\n",
       "      <td>3.019948</td>\n",
       "    </tr>\n",
       "    <tr>\n",
       "      <th>1</th>\n",
       "      <td>19510817</td>\n",
       "      <td>2014-03-08</td>\n",
       "      <td>107</td>\n",
       "      <td>6.94</td>\n",
       "      <td>paypal smartbitsso 9001</td>\n",
       "      <td>paypal</td>\n",
       "      <td>spend</td>\n",
       "      <td>services</td>\n",
       "      <td>0.0</td>\n",
       "      <td>gl3 4</td>\n",
       "      <td>2010-05-10</td>\n",
       "      <td>40k to 50k</td>\n",
       "      <td>1984.0</td>\n",
       "      <td>2014-05-11</td>\n",
       "      <td>238820</td>\n",
       "      <td>2020-08-16 12:13:00</td>\n",
       "      <td>barclaycard</td>\n",
       "      <td>credit card</td>\n",
       "      <td>2014-07-18</td>\n",
       "      <td>2017-09-12</td>\n",
       "      <td>True</td>\n",
       "      <td>NaN</td>\n",
       "      <td>paypal</td>\n",
       "      <td>enjoyment</td>\n",
       "      <td>home electronics</td>\n",
       "      <td>home electronics</td>\n",
       "      <td>u</td>\n",
       "      <td>201403</td>\n",
       "      <td>0.0</td>\n",
       "      <td>NaN</td>\n",
       "      <td>27530.926758</td>\n",
       "      <td>3.019948</td>\n",
       "    </tr>\n",
       "  </tbody>\n",
       "</table>\n",
       "</div>"
      ],
      "text/plain": [
       "         id       date  user_id  amount                     desc merchant  \\\n",
       "0  19510816 2014-03-07      107    9.20  paypal sandrpowell 9001   paypal   \n",
       "1  19510817 2014-03-08      107    6.94  paypal smartbitsso 9001   paypal   \n",
       "\n",
       "  tag_group       tag  user_female user_postcode user_registration_date  \\\n",
       "0     spend  services          0.0         gl3 4             2010-05-10   \n",
       "1     spend  services          0.0         gl3 4             2010-05-10   \n",
       "\n",
       "  user_salary_range  user_yob account_created  account_id  \\\n",
       "0        40k to 50k    1984.0      2014-05-11      238820   \n",
       "1        40k to 50k    1984.0      2014-05-11      238820   \n",
       "\n",
       "  account_last_refreshed account_provider account_type  \\\n",
       "0    2020-08-16 12:13:00      barclaycard  credit card   \n",
       "1    2020-08-16 12:13:00      barclaycard  credit card   \n",
       "\n",
       "  data_warehouse_date_created data_warehouse_date_last_updated  debit  \\\n",
       "0                  2014-07-18                       2017-09-12   True   \n",
       "1                  2014-07-18                       2017-09-12   True   \n",
       "\n",
       "   latest_balance merchant_business_line   tag_auto        tag_manual  \\\n",
       "0             NaN                 paypal  enjoyment  home electronics   \n",
       "1             NaN                 paypal  enjoyment  home electronics   \n",
       "\n",
       "             tag_up updated_flag      ym  savings  balance        income  \\\n",
       "0  home electronics            u  201403      0.0      NaN  27530.926758   \n",
       "1  home electronics            u  201403      0.0      NaN  27530.926758   \n",
       "\n",
       "   entropy_tag  \n",
       "0     3.019948  \n",
       "1     3.019948  "
      ]
     },
     "metadata": {},
     "output_type": "display_data"
    }
   ],
   "source": [
    "dfs, df = hd.load_samples(['777', 'XX7'])\n",
    "hd.inspect(df)"
   ]
  },
  {
   "cell_type": "markdown",
   "id": "06606082-23d0-4fe8-83ac-da01a65d2ba9",
   "metadata": {},
   "source": [
    "## Tags"
   ]
  },
  {
   "cell_type": "markdown",
   "id": "10e56185-d9cd-4ccb-aace-6cc757afa446",
   "metadata": {},
   "source": [
    "The simplest approach to identify savings is to use MDB auto tags. I have grouped all relevant auto tags into a `tag` called *savings*, which is a subgroup of the `tag_group` *transfters*."
   ]
  },
  {
   "cell_type": "code",
   "execution_count": 4,
   "id": "7d3800a3-8a4b-4131-9184-3f0161b75275",
   "metadata": {},
   "outputs": [
    {
     "data": {
      "text/plain": [
       "['general savings',\n",
       " 'investment - other',\n",
       " 'investments or shares',\n",
       " 'isa',\n",
       " 'pension or investments',\n",
       " 'saving (general)',\n",
       " 'savings (general)',\n",
       " 'savings']"
      ]
     },
     "execution_count": 4,
     "metadata": {},
     "output_type": "execute_result"
    }
   ],
   "source": [
    "tc.savings"
   ]
  },
  {
   "cell_type": "code",
   "execution_count": 6,
   "id": "9a7e7c8a-f058-4852-b281-ff2b428b59fa",
   "metadata": {},
   "outputs": [],
   "source": [
    "savings = df[df.tag.eq('savings')]"
   ]
  },
  {
   "cell_type": "markdown",
   "id": "4fe53b53-32d5-437f-8cd0-4b5a3bffe188",
   "metadata": {},
   "source": [
    "There are only extremely few savings transactions, observed for a small subset of users."
   ]
  },
  {
   "cell_type": "code",
   "execution_count": null,
   "id": "60baa32f-76ee-4672-b85e-335a4874cddc",
   "metadata": {},
   "outputs": [],
   "source": [
    "df"
   ]
  },
  {
   "cell_type": "code",
   "execution_count": 22,
   "id": "ca371502-fe01-4006-84ae-4f8d11374198",
   "metadata": {},
   "outputs": [
    {
     "data": {
      "text/plain": [
       "32"
      ]
     },
     "execution_count": 22,
     "metadata": {},
     "output_type": "execute_result"
    }
   ],
   "source": [
    "df[df.savings].user_id.nunique()"
   ]
  },
  {
   "cell_type": "markdown",
   "id": "2bf768a0-b3ab-4242-9ee8-9f6ad7e890a4",
   "metadata": {},
   "source": [
    "I'll need the full dataset to work with these, if at all."
   ]
  },
  {
   "cell_type": "code",
   "execution_count": null,
   "id": "1d42922d-52e3-4c31-b20e-4cefefa4e436",
   "metadata": {},
   "outputs": [],
   "source": []
  }
 ],
 "metadata": {
  "kernelspec": {
   "display_name": "entropy",
   "language": "python",
   "name": "entropy"
  },
  "language_info": {
   "codemirror_mode": {
    "name": "ipython",
    "version": 3
   },
   "file_extension": ".py",
   "mimetype": "text/x-python",
   "name": "python",
   "nbconvert_exporter": "python",
   "pygments_lexer": "ipython3",
   "version": "3.9.7"
  },
  "toc-autonumbering": false,
  "toc-showcode": false,
  "toc-showmarkdowntxt": false
 },
 "nbformat": 4,
 "nbformat_minor": 5
}
