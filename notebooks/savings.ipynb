{
 "cells": [
  {
   "cell_type": "markdown",
   "id": "585fbeec-b261-40d2-bd56-cb42d828b773",
   "metadata": {},
   "source": [
    "Notebook purpose\n",
    "\n",
    "- Check whether there is a reliable way to identify savings transactions"
   ]
  },
  {
   "cell_type": "code",
   "execution_count": 1,
   "id": "13bef683-64f8-4c36-bec3-05ecb69b15c5",
   "metadata": {
    "tags": []
   },
   "outputs": [],
   "source": [
    "import os\n",
    "import sys\n",
    "\n",
    "import matplotlib.pyplot as plt\n",
    "import numpy as np\n",
    "import pandas as pd\n",
    "import seaborn as sns\n",
    "import s3fs\n",
    "\n",
    "sys.path.append('/Users/fgu/dev/projects/entropy')\n",
    "from entropy import config\n",
    "\n",
    "import entropy.helpers.aws as ha\n",
    "import entropy.helpers.helpers as hh \n",
    "import entropy.helpers.data as hd\n",
    "import entropy.data.cleaners as cl\n",
    "import entropy.data.creators as cr\n",
    "import entropy.data.txn_classifications as tc\n",
    "import entropy.figures.figures as figs\n",
    "\n",
    "sns.set_style('whitegrid')\n",
    "pd.set_option('display.max_rows', 120)\n",
    "pd.set_option('display.max_columns', 120)\n",
    "pd.set_option('max_colwidth', None)\n",
    "%config InlineBackend.figure_format = 'retina'\n",
    "%load_ext autoreload\n",
    "%autoreload 2\n",
    "\n",
    "fs = s3fs.S3FileSystem(profile='3di')"
   ]
  },
  {
   "cell_type": "code",
   "execution_count": 2,
   "id": "f18b0a60-e3de-45c8-8d3e-8a63a58697ef",
   "metadata": {},
   "outputs": [
    {
     "name": "stdout",
     "output_type": "stream",
     "text": [
      "Time for read_data      : 2.23 seconds\n",
      "Time for read_data      : 9.94 minutes\n",
      "(6,791,894, 32)\n"
     ]
    },
    {
     "data": {
      "text/html": [
       "<div>\n",
       "<style scoped>\n",
       "    .dataframe tbody tr th:only-of-type {\n",
       "        vertical-align: middle;\n",
       "    }\n",
       "\n",
       "    .dataframe tbody tr th {\n",
       "        vertical-align: top;\n",
       "    }\n",
       "\n",
       "    .dataframe thead th {\n",
       "        text-align: right;\n",
       "    }\n",
       "</style>\n",
       "<table border=\"1\" class=\"dataframe\">\n",
       "  <thead>\n",
       "    <tr style=\"text-align: right;\">\n",
       "      <th></th>\n",
       "      <th>id</th>\n",
       "      <th>date</th>\n",
       "      <th>user_id</th>\n",
       "      <th>amount</th>\n",
       "      <th>desc</th>\n",
       "      <th>merchant</th>\n",
       "      <th>tag_group</th>\n",
       "      <th>tag</th>\n",
       "      <th>user_female</th>\n",
       "      <th>user_postcode</th>\n",
       "      <th>user_registration_date</th>\n",
       "      <th>user_salary_range</th>\n",
       "      <th>user_yob</th>\n",
       "      <th>account_created</th>\n",
       "      <th>account_id</th>\n",
       "      <th>account_last_refreshed</th>\n",
       "      <th>account_provider</th>\n",
       "      <th>account_type</th>\n",
       "      <th>data_warehouse_date_created</th>\n",
       "      <th>data_warehouse_date_last_updated</th>\n",
       "      <th>debit</th>\n",
       "      <th>latest_balance</th>\n",
       "      <th>merchant_business_line</th>\n",
       "      <th>tag_auto</th>\n",
       "      <th>tag_manual</th>\n",
       "      <th>tag_up</th>\n",
       "      <th>updated_flag</th>\n",
       "      <th>ym</th>\n",
       "      <th>savings</th>\n",
       "      <th>balance</th>\n",
       "      <th>income</th>\n",
       "      <th>entropy_tag</th>\n",
       "    </tr>\n",
       "  </thead>\n",
       "  <tbody>\n",
       "    <tr>\n",
       "      <th>0</th>\n",
       "      <td>19510816</td>\n",
       "      <td>2014-03-07</td>\n",
       "      <td>107</td>\n",
       "      <td>9.20</td>\n",
       "      <td>paypal sandrpowell 9001</td>\n",
       "      <td>paypal</td>\n",
       "      <td>spend</td>\n",
       "      <td>services</td>\n",
       "      <td>0.0</td>\n",
       "      <td>gl3 4</td>\n",
       "      <td>2010-05-10</td>\n",
       "      <td>40k to 50k</td>\n",
       "      <td>1984.0</td>\n",
       "      <td>2014-05-11</td>\n",
       "      <td>238820</td>\n",
       "      <td>2020-08-16 12:13:00</td>\n",
       "      <td>barclaycard</td>\n",
       "      <td>credit card</td>\n",
       "      <td>2014-07-18</td>\n",
       "      <td>2017-09-12</td>\n",
       "      <td>True</td>\n",
       "      <td>NaN</td>\n",
       "      <td>paypal</td>\n",
       "      <td>enjoyment</td>\n",
       "      <td>home electronics</td>\n",
       "      <td>home electronics</td>\n",
       "      <td>u</td>\n",
       "      <td>201403</td>\n",
       "      <td>0.0</td>\n",
       "      <td>NaN</td>\n",
       "      <td>27530.926758</td>\n",
       "      <td>3.019948</td>\n",
       "    </tr>\n",
       "    <tr>\n",
       "      <th>1</th>\n",
       "      <td>19510817</td>\n",
       "      <td>2014-03-08</td>\n",
       "      <td>107</td>\n",
       "      <td>6.94</td>\n",
       "      <td>paypal smartbitsso 9001</td>\n",
       "      <td>paypal</td>\n",
       "      <td>spend</td>\n",
       "      <td>services</td>\n",
       "      <td>0.0</td>\n",
       "      <td>gl3 4</td>\n",
       "      <td>2010-05-10</td>\n",
       "      <td>40k to 50k</td>\n",
       "      <td>1984.0</td>\n",
       "      <td>2014-05-11</td>\n",
       "      <td>238820</td>\n",
       "      <td>2020-08-16 12:13:00</td>\n",
       "      <td>barclaycard</td>\n",
       "      <td>credit card</td>\n",
       "      <td>2014-07-18</td>\n",
       "      <td>2017-09-12</td>\n",
       "      <td>True</td>\n",
       "      <td>NaN</td>\n",
       "      <td>paypal</td>\n",
       "      <td>enjoyment</td>\n",
       "      <td>home electronics</td>\n",
       "      <td>home electronics</td>\n",
       "      <td>u</td>\n",
       "      <td>201403</td>\n",
       "      <td>0.0</td>\n",
       "      <td>NaN</td>\n",
       "      <td>27530.926758</td>\n",
       "      <td>3.019948</td>\n",
       "    </tr>\n",
       "  </tbody>\n",
       "</table>\n",
       "</div>"
      ],
      "text/plain": [
       "         id       date  user_id  amount                     desc merchant  \\\n",
       "0  19510816 2014-03-07      107    9.20  paypal sandrpowell 9001   paypal   \n",
       "1  19510817 2014-03-08      107    6.94  paypal smartbitsso 9001   paypal   \n",
       "\n",
       "  tag_group       tag  user_female user_postcode user_registration_date  \\\n",
       "0     spend  services          0.0         gl3 4             2010-05-10   \n",
       "1     spend  services          0.0         gl3 4             2010-05-10   \n",
       "\n",
       "  user_salary_range  user_yob account_created  account_id  \\\n",
       "0        40k to 50k    1984.0      2014-05-11      238820   \n",
       "1        40k to 50k    1984.0      2014-05-11      238820   \n",
       "\n",
       "  account_last_refreshed account_provider account_type  \\\n",
       "0    2020-08-16 12:13:00      barclaycard  credit card   \n",
       "1    2020-08-16 12:13:00      barclaycard  credit card   \n",
       "\n",
       "  data_warehouse_date_created data_warehouse_date_last_updated  debit  \\\n",
       "0                  2014-07-18                       2017-09-12   True   \n",
       "1                  2014-07-18                       2017-09-12   True   \n",
       "\n",
       "   latest_balance merchant_business_line   tag_auto        tag_manual  \\\n",
       "0             NaN                 paypal  enjoyment  home electronics   \n",
       "1             NaN                 paypal  enjoyment  home electronics   \n",
       "\n",
       "             tag_up updated_flag      ym  savings  balance        income  \\\n",
       "0  home electronics            u  201403      0.0      NaN  27530.926758   \n",
       "1  home electronics            u  201403      0.0      NaN  27530.926758   \n",
       "\n",
       "   entropy_tag  \n",
       "0     3.019948  \n",
       "1     3.019948  "
      ]
     },
     "metadata": {},
     "output_type": "display_data"
    }
   ],
   "source": [
    "dfs, df = hd.load_samples(['777', 'XX7'])\n",
    "hd.inspect(df)"
   ]
  },
  {
   "cell_type": "markdown",
   "id": "06606082-23d0-4fe8-83ac-da01a65d2ba9",
   "metadata": {},
   "source": [
    "## Tags"
   ]
  },
  {
   "cell_type": "markdown",
   "id": "10e56185-d9cd-4ccb-aace-6cc757afa446",
   "metadata": {},
   "source": [
    "The simplest approach to identify savings is to use MDB auto tags. I have grouped all relevant auto tags into a `tag` called *savings*, which is a subgroup of the `tag_group` *transfters*."
   ]
  },
  {
   "cell_type": "code",
   "execution_count": 17,
   "id": "7d3800a3-8a4b-4131-9184-3f0161b75275",
   "metadata": {},
   "outputs": [
    {
     "data": {
      "text/plain": [
       "['general savings',\n",
       " 'investment - other',\n",
       " 'investments or shares',\n",
       " 'isa',\n",
       " 'pension or investments',\n",
       " 'saving (general)',\n",
       " 'savings (general)',\n",
       " 'savings']"
      ]
     },
     "execution_count": 17,
     "metadata": {},
     "output_type": "execute_result"
    }
   ],
   "source": [
    "tc.savings"
   ]
  },
  {
   "cell_type": "markdown",
   "id": "4fe53b53-32d5-437f-8cd0-4b5a3bffe188",
   "metadata": {},
   "source": [
    "There are not enough txns and users to work with."
   ]
  },
  {
   "cell_type": "code",
   "execution_count": 89,
   "id": "9a7e7c8a-f058-4852-b281-ff2b428b59fa",
   "metadata": {},
   "outputs": [
    {
     "name": "stdout",
     "output_type": "stream",
     "text": [
      "df1 has 8,802 txns across 585 users (0.1% and 24.8% of df2).\n"
     ]
    }
   ],
   "source": [
    "savings = df[df.tag.eq('savings')]\n",
    "hd.txns_and_users(savings, df)"
   ]
  },
  {
   "cell_type": "markdown",
   "id": "982b1066-780e-41f2-b918-69132154fc37",
   "metadata": {},
   "source": [
    "## Savings account transfers"
   ]
  },
  {
   "cell_type": "markdown",
   "id": "a7e6e58a-538f-4ead-9ee5-032e4b3df0e4",
   "metadata": {},
   "source": [
    "An alternative is to look at flows into and out of savings accounts. We could define something like 'monthly net savings' as the the sum of all inflows and outflows into a users savings accounts during a month."
   ]
  },
  {
   "cell_type": "code",
   "execution_count": 3,
   "id": "a6f615db-4f27-4b58-bc1d-0d52b5eaaaee",
   "metadata": {},
   "outputs": [],
   "source": [
    "savings = df[df.account_type.eq('savings')]\n",
    "credits = savings[~savings.debit]\n",
    "debits = savings[savings.debit]"
   ]
  },
  {
   "cell_type": "markdown",
   "id": "8e60042f-b9d6-42d6-8d0f-f240cc645138",
   "metadata": {},
   "source": [
    "There are many more transactions across many more users than for tags above."
   ]
  },
  {
   "cell_type": "code",
   "execution_count": 4,
   "id": "bc8d61d6-ca8e-4fca-a8d0-95fa3a71f672",
   "metadata": {},
   "outputs": [
    {
     "name": "stdout",
     "output_type": "stream",
     "text": [
      "df1 has 148,635 txns across 1347 users (2.2% and 57.1% of df2).\n"
     ]
    }
   ],
   "source": [
    "hd.txns_and_users(savings, df)"
   ]
  },
  {
   "cell_type": "markdown",
   "id": "bc413337-ab65-4111-83f5-d24776d1d23a",
   "metadata": {},
   "source": [
    "We'd expect credits and, to a lesser extent, debits to mostly be round amounts. The below shows that this is the case (apart from interest payments)."
   ]
  },
  {
   "cell_type": "code",
   "execution_count": 5,
   "id": "655f97ac-6760-4369-ab59-bc8a291838a4",
   "metadata": {},
   "outputs": [
    {
     "data": {
      "text/plain": [
       " 100.00    5644\n",
       " 50.00     4529\n",
       "-200.00    3707\n",
       "-100.00    3707\n",
       " 20.00     3491\n",
       "-50.00     3326\n",
       " 200.00    3318\n",
       " 10.00     2932\n",
       "-0.01      2902\n",
       " 30.00     2171\n",
       "Name: amount, dtype: int64"
      ]
     },
     "execution_count": 5,
     "metadata": {},
     "output_type": "execute_result"
    }
   ],
   "source": [
    "savings.amount.value_counts().iloc[:10]"
   ]
  },
  {
   "cell_type": "markdown",
   "id": "4fa24e6a-ce20-47fe-b9ed-c7d2237c971a",
   "metadata": {},
   "source": [
    "Plot distributions of monthly inflows, outflows, and net savings."
   ]
  },
  {
   "cell_type": "code",
   "execution_count": 6,
   "id": "88477c80-2be6-404e-836f-56356a8902c4",
   "metadata": {},
   "outputs": [
    {
     "data": {
      "text/html": [
       "<div>\n",
       "<style scoped>\n",
       "    .dataframe tbody tr th:only-of-type {\n",
       "        vertical-align: middle;\n",
       "    }\n",
       "\n",
       "    .dataframe tbody tr th {\n",
       "        vertical-align: top;\n",
       "    }\n",
       "\n",
       "    .dataframe thead th {\n",
       "        text-align: right;\n",
       "    }\n",
       "</style>\n",
       "<table border=\"1\" class=\"dataframe\">\n",
       "  <thead>\n",
       "    <tr style=\"text-align: right;\">\n",
       "      <th></th>\n",
       "      <th>user_id</th>\n",
       "      <th>amount</th>\n",
       "    </tr>\n",
       "  </thead>\n",
       "  <tbody>\n",
       "    <tr>\n",
       "      <th>0</th>\n",
       "      <td>107.000000</td>\n",
       "      <td>9.200000</td>\n",
       "    </tr>\n",
       "    <tr>\n",
       "      <th>1</th>\n",
       "      <td>53.500000</td>\n",
       "      <td>3.470000</td>\n",
       "    </tr>\n",
       "    <tr>\n",
       "      <th>2</th>\n",
       "      <td>35.666667</td>\n",
       "      <td>2.006667</td>\n",
       "    </tr>\n",
       "    <tr>\n",
       "      <th>3</th>\n",
       "      <td>26.750000</td>\n",
       "      <td>1.622500</td>\n",
       "    </tr>\n",
       "    <tr>\n",
       "      <th>4</th>\n",
       "      <td>21.400000</td>\n",
       "      <td>7.600000</td>\n",
       "    </tr>\n",
       "  </tbody>\n",
       "</table>\n",
       "</div>"
      ],
      "text/plain": [
       "      user_id    amount\n",
       "0  107.000000  9.200000\n",
       "1   53.500000  3.470000\n",
       "2   35.666667  2.006667\n",
       "3   26.750000  1.622500\n",
       "4   21.400000  7.600000"
      ]
     },
     "execution_count": 6,
     "metadata": {},
     "output_type": "execute_result"
    }
   ],
   "source": [
    "df[['user_id', 'amount']][:5].div([1, 2, 3, 4, 5], axis=0)"
   ]
  },
  {
   "cell_type": "code",
   "execution_count": 10,
   "id": "741d505a-436a-432a-8da3-1f8cc7984004",
   "metadata": {},
   "outputs": [],
   "source": [
    "def make_data(df):\n",
    "    \n",
    "    def _is_round_amount(x, multiple=5):\n",
    "        return not x % multiple\n",
    "    \n",
    "    def _get_savings_txns(df):\n",
    "        \"\"\"Keeps round savings-account txns.\"\"\"\n",
    "        mask = df.account_type.eq('savings') & df.amount.apply(_is_round_amount)\n",
    "        return df[mask].copy()\n",
    "    \n",
    "    def _agg_to_inflows_outflows_net(df):\n",
    "        df['debit'] = df.debit.replace({True: 'debit', False: 'credit'})\n",
    "        month = pd.Grouper(key='date', freq='m')\n",
    "        return (df.groupby(['user_id', month, 'income', 'debit'])\n",
    "                .amount.sum().abs()\n",
    "                .unstack()\n",
    "                .assign(net=lambda df: df.credit - df.debit))\n",
    "    \n",
    "    def _scale_by_monthly_income(df):\n",
    "        monthly_income = df.index.get_level_values('income') / 12\n",
    "        scaled_df = df.div(monthly_income, axis='rows')\n",
    "        return scaled_df.reset_index('income', drop=True)\n",
    "    \n",
    "    def _trim_cols(df, pct=5):\n",
    "        return df.apply(hd.trim, pct=pct)\n",
    "    \n",
    "    return (_get_savings_txns(df)\n",
    "            .pipe(_agg_to_inflows_outflows_net)\n",
    "            # .pipe(_scale_by_monthly_income)\n",
    "            .pipe(_trim_cols)\n",
    "           )\n",
    "\n",
    "\n",
    "def make_figure(df):\n",
    "    fig, ax = plt.subplots(1, 3, figsize=(14, 4))\n",
    "    fig.suptitle('Monthly savings account transactions')\n",
    "    for i, col in enumerate(df.columns):\n",
    "        sns.histplot(x=df[col], stat='percent', ax=ax[i])"
   ]
  },
  {
   "cell_type": "code",
   "execution_count": 11,
   "id": "f1fc11de-48dc-49fb-84ee-ba6121647651",
   "metadata": {},
   "outputs": [
    {
     "data": {
      "image/png": "[encoded data removed]",
      "text/plain": [
       "<Figure size 1008x288 with 3 Axes>"
      ]
     },
     "metadata": {
      "image/png": {
       "height": 290,
       "width": 827
      }
     },
     "output_type": "display_data"
    }
   ],
   "source": [
    "monthly_savings = make_data(df)  \n",
    "make_figure(monthly_savings)"
   ]
  },
  {
   "cell_type": "code",
   "execution_count": 14,
   "id": "4dbbe846-3284-4162-aa70-4c9a605142da",
   "metadata": {},
   "outputs": [
    {
     "data": {
      "text/plain": [
       "mdbremoved                                       32161\n",
       "mdbremoved ft                                     5186\n",
       "save the change bp                                4713\n",
       "transfer from mdbremoved                          4067\n",
       "mdbremoved tfr                                    4049\n",
       "transfer to mdbremoved                            3828\n",
       "mdbremoved so                                     3708\n",
       "mdbremoved 4868 tfr                               2454\n",
       "save the change                                   2289\n",
       "mdbremoved bac                                    1852\n",
       "interest gross                                    1799\n",
       "interest paid after tax 0 00 deducted             1097\n",
       "mdbremoved sto                                     671\n",
       "regular transfer from mdbremoved                   646\n",
       "mdbremoved 2485 tfr                                627\n",
       "to a c 6298 via mobile xfer                        495\n",
       "to a c 3747 via mobile xfer                        473\n",
       "bill payment via faster payment to mdbremoved      444\n",
       "mdbremoved fpi                                     420\n",
       "interest credit                                    390\n",
       "Name: desc, dtype: int64"
      ]
     },
     "execution_count": 14,
     "metadata": {},
     "output_type": "execute_result"
    }
   ],
   "source": [
    "savings.desc.value_counts()[:20]"
   ]
  },
  {
   "cell_type": "code",
   "execution_count": null,
   "id": "5d425a8a-6e75-45c9-a5fb-4ebf33bc01df",
   "metadata": {},
   "outputs": [],
   "source": []
  }
 ],
 "metadata": {
  "kernelspec": {
   "display_name": "entropy",
   "language": "python",
   "name": "entropy"
  },
  "language_info": {
   "codemirror_mode": {
    "name": "ipython",
    "version": 3
   },
   "file_extension": ".py",
   "mimetype": "text/x-python",
   "name": "python",
   "nbconvert_exporter": "python",
   "pygments_lexer": "ipython3",
   "version": "3.9.7"
  },
  "toc-autonumbering": false,
  "toc-showcode": false,
  "toc-showmarkdowntxt": false
 },
 "nbformat": 4,
 "nbformat_minor": 5
}
