{
 "cells": [
  {
   "cell_type": "markdown",
   "id": "585fbeec-b261-40d2-bd56-cb42d828b773",
   "metadata": {},
   "source": [
    "Notebook purpose\n",
    "\n",
    "- Decide how to identify savings transactions"
   ]
  },
  {
   "cell_type": "code",
   "execution_count": 1,
   "id": "13bef683-64f8-4c36-bec3-05ecb69b15c5",
   "metadata": {
    "tags": []
   },
   "outputs": [],
   "source": [
    "import os\n",
    "import sys\n",
    "\n",
    "import matplotlib.pyplot as plt\n",
    "import numpy as np\n",
    "import pandas as pd\n",
    "import s3fs\n",
    "import seaborn as sns\n",
    "\n",
    "sys.path.append(\"/Users/fgu/dev/projects/entropy\")\n",
    "import entropy.data.cleaners as cl\n",
    "import entropy.data.creators as cr\n",
    "import entropy.data.txn_classifications as tc\n",
    "import entropy.figures as fig\n",
    "import entropy.helpers.aws as ha\n",
    "import entropy.helpers.data as hd\n",
    "import entropy.helpers.helpers as hh\n",
    "from entropy import config\n",
    "\n",
    "sns.set_style(\"whitegrid\")\n",
    "pd.set_option(\"display.max_rows\", 120)\n",
    "pd.set_option(\"display.max_columns\", 120)\n",
    "pd.set_option(\"max_colwidth\", None)\n",
    "%config InlineBackend.figure_format = 'retina'\n",
    "%load_ext autoreload\n",
    "%autoreload 2\n",
    "\n",
    "fs = s3fs.S3FileSystem(profile=\"3di\")"
   ]
  },
  {
   "cell_type": "code",
   "execution_count": 19,
   "id": "f18b0a60-e3de-45c8-8d3e-8a63a58697ef",
   "metadata": {},
   "outputs": [
    {
     "name": "stdout",
     "output_type": "stream",
     "text": [
      "Time for read_sample    : 1.59 seconds\n",
      "Time for read_sample    : 4.56 minutes\n",
      "(14,839,981, 31)\n"
     ]
    },
    {
     "data": {
      "text/html": [
       "<div>\n",
       "<style scoped>\n",
       "    .dataframe tbody tr th:only-of-type {\n",
       "        vertical-align: middle;\n",
       "    }\n",
       "\n",
       "    .dataframe tbody tr th {\n",
       "        vertical-align: top;\n",
       "    }\n",
       "\n",
       "    .dataframe thead th {\n",
       "        text-align: right;\n",
       "    }\n",
       "</style>\n",
       "<table border=\"1\" class=\"dataframe\">\n",
       "  <thead>\n",
       "    <tr style=\"text-align: right;\">\n",
       "      <th></th>\n",
       "      <th>id</th>\n",
       "      <th>date</th>\n",
       "      <th>user_id</th>\n",
       "      <th>amount</th>\n",
       "      <th>desc</th>\n",
       "      <th>merchant</th>\n",
       "      <th>tag_group</th>\n",
       "      <th>tag</th>\n",
       "      <th>user_female</th>\n",
       "      <th>user_postcode</th>\n",
       "      <th>user_registration_date</th>\n",
       "      <th>user_salary_range</th>\n",
       "      <th>user_yob</th>\n",
       "      <th>account_created</th>\n",
       "      <th>account_id</th>\n",
       "      <th>account_last_refreshed</th>\n",
       "      <th>account_provider</th>\n",
       "      <th>account_type</th>\n",
       "      <th>data_warehouse_date_created</th>\n",
       "      <th>data_warehouse_date_last_updated</th>\n",
       "      <th>debit</th>\n",
       "      <th>latest_balance</th>\n",
       "      <th>merchant_business_line</th>\n",
       "      <th>tag_auto</th>\n",
       "      <th>tag_manual</th>\n",
       "      <th>tag_up</th>\n",
       "      <th>updated_flag</th>\n",
       "      <th>ym</th>\n",
       "      <th>balance</th>\n",
       "      <th>income</th>\n",
       "      <th>entropy_sptac</th>\n",
       "    </tr>\n",
       "  </thead>\n",
       "  <tbody>\n",
       "    <tr>\n",
       "      <th>0</th>\n",
       "      <td>1859849</td>\n",
       "      <td>2012-11-05</td>\n",
       "      <td>57</td>\n",
       "      <td>-700.0</td>\n",
       "      <td>faster payments receipt ref mdbremoved</td>\n",
       "      <td>NaN</td>\n",
       "      <td>NaN</td>\n",
       "      <td>NaN</td>\n",
       "      <td>0.0</td>\n",
       "      <td>n8 9</td>\n",
       "      <td>2010-05-13</td>\n",
       "      <td>10k to 20k</td>\n",
       "      <td>1987.0</td>\n",
       "      <td>2012-10-23</td>\n",
       "      <td>274000</td>\n",
       "      <td>2020-08-16 07:24:00</td>\n",
       "      <td>santander</td>\n",
       "      <td>current</td>\n",
       "      <td>2014-07-18</td>\n",
       "      <td>2017-08-15</td>\n",
       "      <td>False</td>\n",
       "      <td>14829.769531</td>\n",
       "      <td>NaN</td>\n",
       "      <td>NaN</td>\n",
       "      <td>NaN</td>\n",
       "      <td>current account</td>\n",
       "      <td>u</td>\n",
       "      <td>201211</td>\n",
       "      <td>8504.292969</td>\n",
       "      <td>22136.039062</td>\n",
       "      <td>2.397678</td>\n",
       "    </tr>\n",
       "    <tr>\n",
       "      <th>1</th>\n",
       "      <td>1859848</td>\n",
       "      <td>2012-11-08</td>\n",
       "      <td>57</td>\n",
       "      <td>-900.0</td>\n",
       "      <td>faster payments receipt from mdbremoved</td>\n",
       "      <td>NaN</td>\n",
       "      <td>NaN</td>\n",
       "      <td>NaN</td>\n",
       "      <td>0.0</td>\n",
       "      <td>n8 9</td>\n",
       "      <td>2010-05-13</td>\n",
       "      <td>10k to 20k</td>\n",
       "      <td>1987.0</td>\n",
       "      <td>2012-10-23</td>\n",
       "      <td>274000</td>\n",
       "      <td>2020-08-16 07:24:00</td>\n",
       "      <td>santander</td>\n",
       "      <td>current</td>\n",
       "      <td>2014-07-18</td>\n",
       "      <td>2017-08-15</td>\n",
       "      <td>False</td>\n",
       "      <td>14829.769531</td>\n",
       "      <td>NaN</td>\n",
       "      <td>NaN</td>\n",
       "      <td>NaN</td>\n",
       "      <td>current account</td>\n",
       "      <td>u</td>\n",
       "      <td>201211</td>\n",
       "      <td>9404.292969</td>\n",
       "      <td>22136.039062</td>\n",
       "      <td>2.397678</td>\n",
       "    </tr>\n",
       "  </tbody>\n",
       "</table>\n",
       "</div>"
      ],
      "text/plain": [
       "        id       date  user_id  amount  \\\n",
       "0  1859849 2012-11-05       57  -700.0   \n",
       "1  1859848 2012-11-08       57  -900.0   \n",
       "\n",
       "                                      desc merchant tag_group  tag  \\\n",
       "0   faster payments receipt ref mdbremoved      NaN       NaN  NaN   \n",
       "1  faster payments receipt from mdbremoved      NaN       NaN  NaN   \n",
       "\n",
       "   user_female user_postcode user_registration_date user_salary_range  \\\n",
       "0          0.0          n8 9             2010-05-13        10k to 20k   \n",
       "1          0.0          n8 9             2010-05-13        10k to 20k   \n",
       "\n",
       "   user_yob account_created  account_id account_last_refreshed  \\\n",
       "0    1987.0      2012-10-23      274000    2020-08-16 07:24:00   \n",
       "1    1987.0      2012-10-23      274000    2020-08-16 07:24:00   \n",
       "\n",
       "  account_provider account_type data_warehouse_date_created  \\\n",
       "0        santander      current                  2014-07-18   \n",
       "1        santander      current                  2014-07-18   \n",
       "\n",
       "  data_warehouse_date_last_updated  debit  latest_balance  \\\n",
       "0                       2017-08-15  False    14829.769531   \n",
       "1                       2017-08-15  False    14829.769531   \n",
       "\n",
       "  merchant_business_line tag_auto tag_manual           tag_up updated_flag  \\\n",
       "0                    NaN      NaN        NaN  current account            u   \n",
       "1                    NaN      NaN        NaN  current account            u   \n",
       "\n",
       "       ym      balance        income  entropy_sptac  \n",
       "0  201211  8504.292969  22136.039062       2.397678  \n",
       "1  201211  9404.292969  22136.039062       2.397678  "
      ]
     },
     "metadata": {},
     "output_type": "display_data"
    }
   ],
   "source": [
    "dfs, df = hd.read_samples([\"777\", \"XX7\"])\n",
    "hd.inspect(df)"
   ]
  },
  {
   "cell_type": "markdown",
   "id": "06606082-23d0-4fe8-83ac-da01a65d2ba9",
   "metadata": {},
   "source": [
    "## Tags"
   ]
  },
  {
   "cell_type": "markdown",
   "id": "10e56185-d9cd-4ccb-aace-6cc757afa446",
   "metadata": {},
   "source": [
    "The simplest approach to identify savings is to use MDB auto tags. I have grouped all relevant auto tags into a `tag` called *savings*, which is a subgroup of the `tag_group` *transfters*."
   ]
  },
  {
   "cell_type": "code",
   "execution_count": 20,
   "id": "7d3800a3-8a4b-4131-9184-3f0161b75275",
   "metadata": {},
   "outputs": [
    {
     "data": {
      "text/plain": [
       "['general savings',\n",
       " 'investment - other',\n",
       " 'investments or shares',\n",
       " 'isa',\n",
       " 'pension or investments',\n",
       " 'saving (general)',\n",
       " 'savings (general)',\n",
       " 'savings']"
      ]
     },
     "execution_count": 20,
     "metadata": {},
     "output_type": "execute_result"
    }
   ],
   "source": [
    "tc.transfers_subgroups[\"savings\"]"
   ]
  },
  {
   "cell_type": "markdown",
   "id": "4fe53b53-32d5-437f-8cd0-4b5a3bffe188",
   "metadata": {},
   "source": [
    "But there are not enough txns and users to work with, so I won't use these."
   ]
  },
  {
   "cell_type": "code",
   "execution_count": 21,
   "id": "9a7e7c8a-f058-4852-b281-ff2b428b59fa",
   "metadata": {},
   "outputs": [
    {
     "name": "stdout",
     "output_type": "stream",
     "text": [
      "df1 has 43,745 txns across 2495 users (0.3% and 42.1% of df2).\n"
     ]
    }
   ],
   "source": [
    "savings = df[df.tag.eq(\"savings\")]\n",
    "hd.txns_and_users(savings, df)"
   ]
  },
  {
   "cell_type": "markdown",
   "id": "982b1066-780e-41f2-b918-69132154fc37",
   "metadata": {},
   "source": [
    "## Savings account transfers"
   ]
  },
  {
   "cell_type": "markdown",
   "id": "a7e6e58a-538f-4ead-9ee5-032e4b3df0e4",
   "metadata": {},
   "source": [
    "An alternative is to look at flows into and out of savings accounts. We could define something like 'monthly net savings' as the the sum of all inflows and outflows into a users savings accounts during a month."
   ]
  },
  {
   "cell_type": "code",
   "execution_count": 22,
   "id": "a6f615db-4f27-4b58-bc1d-0d52b5eaaaee",
   "metadata": {},
   "outputs": [],
   "source": [
    "savings = df[df.account_type.eq(\"savings\")]\n",
    "credits = savings[~savings.debit]\n",
    "debits = savings[savings.debit]"
   ]
  },
  {
   "cell_type": "markdown",
   "id": "8e60042f-b9d6-42d6-8d0f-f240cc645138",
   "metadata": {},
   "source": [
    "There are many more transactions across many more users than for tags above."
   ]
  },
  {
   "cell_type": "code",
   "execution_count": 23,
   "id": "bc8d61d6-ca8e-4fca-a8d0-95fa3a71f672",
   "metadata": {},
   "outputs": [
    {
     "name": "stdout",
     "output_type": "stream",
     "text": [
      "df1 has 395,170 txns across 3425 users (2.7% and 57.8% of df2).\n"
     ]
    }
   ],
   "source": [
    "hd.txns_and_users(savings, df)"
   ]
  },
  {
   "cell_type": "markdown",
   "id": "4fa24e6a-ce20-47fe-b9ed-c7d2237c971a",
   "metadata": {},
   "source": [
    "Plot distributions of monthly inflows, outflows, and net savings."
   ]
  },
  {
   "cell_type": "code",
   "execution_count": 25,
   "id": "ab4a2112-f3b9-4ff3-a2d7-ba67cd0afbe0",
   "metadata": {},
   "outputs": [
    {
     "data": {
      "image/png": "[encoded data removed]",
      "text/plain": [
       "<Figure size 576x216 with 3 Axes>"
      ]
     },
     "metadata": {
      "image/png": {
       "height": 210,
       "width": 568
      }
     },
     "output_type": "display_data"
    }
   ],
   "source": [
    "fig.monthly_savings.main(df)"
   ]
  },
  {
   "cell_type": "markdown",
   "id": "f69b2ec9-ef04-43d1-b6b6-6d37169fbe72",
   "metadata": {},
   "source": [
    "## ISA transactions"
   ]
  },
  {
   "cell_type": "markdown",
   "id": "3f1c381d-c7e2-4ce8-9132-6b8c23052d54",
   "metadata": {},
   "source": [
    "## Non-standing-order transactions only"
   ]
  },
  {
   "cell_type": "markdown",
   "id": "4f8abe38-80f8-4485-8e6e-5ea6636590d5",
   "metadata": {},
   "source": [
    "### Question\n",
    "\n",
    "Should we exclude standing order transactions from savings transactions identified above?\n",
    "\n",
    "Strategy: check proportion of saving account in and outflows that are standing orders. If the proportion is significant, then we should exclude them and only focus on non-standing orders. If only very few transactions are standing orders, then there is no need to exclude them as they won't affect the results anyways.\n",
    "\n",
    "Tactic: focus on a single large back for which we can identify standing orders. I need to use raw data because as part of data cleaning process I clean up transaction description and, among other things, remove suffixes like 'so', which indicates standing orders."
   ]
  },
  {
   "cell_type": "code",
   "execution_count": 147,
   "id": "5ed5319b-c128-4905-b884-a4012f1e0eeb",
   "metadata": {},
   "outputs": [
    {
     "data": {
      "text/plain": [
       "['3di-data-mdb/raw/',\n",
       " '3di-data-mdb/raw/20200630_UserLoginsForNeedham.csv',\n",
       " '3di-data-mdb/raw/mdb_000.csv',\n",
       " '3di-data-mdb/raw/mdb_000.parquet',\n",
       " '3di-data-mdb/raw/mdb_777.csv',\n",
       " '3di-data-mdb/raw/mdb_777.parquet',\n",
       " '3di-data-mdb/raw/mdb_X77.csv',\n",
       " '3di-data-mdb/raw/mdb_X77.parquet',\n",
       " '3di-data-mdb/raw/mdb_XX7.csv',\n",
       " '3di-data-mdb/raw/mdb_XX7.parquet',\n",
       " '3di-data-mdb/raw/mdb_costa.csv']"
      ]
     },
     "execution_count": 147,
     "metadata": {},
     "output_type": "execute_result"
    }
   ],
   "source": [
    "fs.ls(\"3di-data-mdb/raw\")"
   ]
  },
  {
   "cell_type": "code",
   "execution_count": 80,
   "id": "a26b082d-216e-423a-a354-a03ae2665ac8",
   "metadata": {},
   "outputs": [
    {
     "name": "stdout",
     "output_type": "stream",
     "text": [
      "(6,959,731, 27)\n"
     ]
    },
    {
     "data": {
      "text/html": [
       "<div>\n",
       "<style scoped>\n",
       "    .dataframe tbody tr th:only-of-type {\n",
       "        vertical-align: middle;\n",
       "    }\n",
       "\n",
       "    .dataframe tbody tr th {\n",
       "        vertical-align: top;\n",
       "    }\n",
       "\n",
       "    .dataframe thead th {\n",
       "        text-align: right;\n",
       "    }\n",
       "</style>\n",
       "<table border=\"1\" class=\"dataframe\">\n",
       "  <thead>\n",
       "    <tr style=\"text-align: right;\">\n",
       "      <th></th>\n",
       "      <th>id</th>\n",
       "      <th>user_id</th>\n",
       "      <th>user_registration_date</th>\n",
       "      <th>user_yob</th>\n",
       "      <th>user_salary_range</th>\n",
       "      <th>user_postcode</th>\n",
       "      <th>user_lsoa</th>\n",
       "      <th>user_msoa</th>\n",
       "      <th>user_gender</th>\n",
       "      <th>date</th>\n",
       "      <th>account_id</th>\n",
       "      <th>account_provider</th>\n",
       "      <th>account_type</th>\n",
       "      <th>latest_balance</th>\n",
       "      <th>desc</th>\n",
       "      <th>credit_debit</th>\n",
       "      <th>amount</th>\n",
       "      <th>tag_up</th>\n",
       "      <th>tag_manual</th>\n",
       "      <th>tag_auto</th>\n",
       "      <th>merchant</th>\n",
       "      <th>merchant_business_line</th>\n",
       "      <th>account_created</th>\n",
       "      <th>account_last_refreshed</th>\n",
       "      <th>data_warehouse_date_created</th>\n",
       "      <th>data_warehouse_date_last_updated</th>\n",
       "      <th>updated_flag</th>\n",
       "    </tr>\n",
       "  </thead>\n",
       "  <tbody>\n",
       "    <tr>\n",
       "      <th>0</th>\n",
       "      <td>688293</td>\n",
       "      <td>777</td>\n",
       "      <td>2011-07-20</td>\n",
       "      <td>1969.0</td>\n",
       "      <td>20k to 30k</td>\n",
       "      <td>wa1 4</td>\n",
       "      <td>e01012553</td>\n",
       "      <td>e02002603</td>\n",
       "      <td>m</td>\n",
       "      <td>2012-01-25</td>\n",
       "      <td>262916</td>\n",
       "      <td>natwest bank</td>\n",
       "      <td>current</td>\n",
       "      <td>364.220001</td>\n",
       "      <td>9572 24jan12 , tcs bowdon , bowdon gb - pos</td>\n",
       "      <td>debit</td>\n",
       "      <td>25.030001</td>\n",
       "      <td>no tag</td>\n",
       "      <td>no tag</td>\n",
       "      <td>no tag</td>\n",
       "      <td>no merchant</td>\n",
       "      <td>unknown merchant</td>\n",
       "      <td>2011-07-20</td>\n",
       "      <td>2020-07-21 20:32:00</td>\n",
       "      <td>2014-07-18</td>\n",
       "      <td>2017-10-24</td>\n",
       "      <td>u</td>\n",
       "    </tr>\n",
       "    <tr>\n",
       "      <th>1</th>\n",
       "      <td>688291</td>\n",
       "      <td>777</td>\n",
       "      <td>2011-07-20</td>\n",
       "      <td>1969.0</td>\n",
       "      <td>20k to 30k</td>\n",
       "      <td>wa1 4</td>\n",
       "      <td>e01012553</td>\n",
       "      <td>e02002603</td>\n",
       "      <td>m</td>\n",
       "      <td>2012-01-25</td>\n",
       "      <td>262916</td>\n",
       "      <td>natwest bank</td>\n",
       "      <td>current</td>\n",
       "      <td>364.220001</td>\n",
       "      <td>warrington b.c. - d/d</td>\n",
       "      <td>debit</td>\n",
       "      <td>26.000000</td>\n",
       "      <td>gym membership</td>\n",
       "      <td>gym membership</td>\n",
       "      <td>no tag</td>\n",
       "      <td>no merchant</td>\n",
       "      <td>unknown merchant</td>\n",
       "      <td>2011-07-20</td>\n",
       "      <td>2020-07-21 20:32:00</td>\n",
       "      <td>2014-07-18</td>\n",
       "      <td>2017-10-23</td>\n",
       "      <td>u</td>\n",
       "    </tr>\n",
       "  </tbody>\n",
       "</table>\n",
       "</div>"
      ],
      "text/plain": [
       "       id  user_id user_registration_date  user_yob user_salary_range  \\\n",
       "0  688293      777             2011-07-20    1969.0        20k to 30k   \n",
       "1  688291      777             2011-07-20    1969.0        20k to 30k   \n",
       "\n",
       "  user_postcode  user_lsoa  user_msoa user_gender       date  account_id  \\\n",
       "0         wa1 4  e01012553  e02002603           m 2012-01-25      262916   \n",
       "1         wa1 4  e01012553  e02002603           m 2012-01-25      262916   \n",
       "\n",
       "  account_provider account_type  latest_balance  \\\n",
       "0     natwest bank      current      364.220001   \n",
       "1     natwest bank      current      364.220001   \n",
       "\n",
       "                                          desc credit_debit     amount  \\\n",
       "0  9572 24jan12 , tcs bowdon , bowdon gb - pos        debit  25.030001   \n",
       "1                        warrington b.c. - d/d        debit  26.000000   \n",
       "\n",
       "           tag_up      tag_manual tag_auto     merchant  \\\n",
       "0          no tag          no tag   no tag  no merchant   \n",
       "1  gym membership  gym membership   no tag  no merchant   \n",
       "\n",
       "  merchant_business_line account_created account_last_refreshed  \\\n",
       "0       unknown merchant      2011-07-20    2020-07-21 20:32:00   \n",
       "1       unknown merchant      2011-07-20    2020-07-21 20:32:00   \n",
       "\n",
       "  data_warehouse_date_created data_warehouse_date_last_updated updated_flag  \n",
       "0                  2014-07-18                       2017-10-24            u  \n",
       "1                  2014-07-18                       2017-10-23            u  "
      ]
     },
     "metadata": {},
     "output_type": "display_data"
    }
   ],
   "source": [
    "fp = \"s3://3di-data-mdb/raw/mdb_X77.parquet\"\n",
    "raw = (\n",
    "    ha.read_parquet(fp)\n",
    "    .pipe(cl.rename_cols)\n",
    "    .pipe(cl.clean_headers)\n",
    "    .pipe(cl.lowercase_categories)\n",
    "    .pipe(cl.drop_missing_txn_desc)\n",
    ")\n",
    "hd.inspect(raw)"
   ]
  },
  {
   "cell_type": "code",
   "execution_count": 81,
   "id": "091b1de9-210b-4947-8229-750a89570ec1",
   "metadata": {},
   "outputs": [],
   "source": [
    "data = raw"
   ]
  },
  {
   "cell_type": "markdown",
   "id": "3ddfaa70-212a-40c6-ad12-45df9eacc364",
   "metadata": {},
   "source": [
    "List most commonly used banks:"
   ]
  },
  {
   "cell_type": "code",
   "execution_count": 82,
   "id": "19ff5090-f7fc-4fd8-b0a0-26b0044e1ef6",
   "metadata": {},
   "outputs": [
    {
     "data": {
      "text/plain": [
       "natwest bank                    1080662\n",
       "lloyds bank                      875908\n",
       "halifax personal banking         836380\n",
       "hsbc                             638038\n",
       "santander                        558020\n",
       "barclays                         456520\n",
       "nationwide                       439768\n",
       "american express                 399299\n",
       "first direct                     334544\n",
       "royal bank of scotland (rbs)     286695\n",
       "Name: account_provider, dtype: int64"
      ]
     },
     "execution_count": 82,
     "metadata": {},
     "output_type": "execute_result"
    }
   ],
   "source": [
    "data.account_provider.value_counts()[:10]"
   ]
  },
  {
   "cell_type": "markdown",
   "id": "9b9283aa-dda5-4055-9240-ea85c02aec79",
   "metadata": {},
   "source": [
    "List most common tranfser descriptions for transfers to identify common identifiers for standing orders."
   ]
  },
  {
   "cell_type": "code",
   "execution_count": 83,
   "id": "1da92ffa-8b56-428e-8d22-467f1e86e1fa",
   "metadata": {},
   "outputs": [
    {
     "data": {
      "text/plain": [
       "<mdbremoved>                                         105992\n",
       "<mdbremoved>                                          70012\n",
       "save the change                                       17065\n",
       "<mdbremoved> ft                                       15051\n",
       "save the change bp                                    12862\n",
       "transfer to <mdbremoved>                               9614\n",
       "<mdbremoved> tfr                                       9364\n",
       "bill payment via faster payment to <mdbremoved>        9049\n",
       "<mdbremoved> so                                        7292\n",
       "<mdbremoved> - s/o                                     7158\n",
       "payment to - <mdbremoved>                              6478\n",
       "transfer to <mdbremoved>                               3404\n",
       "<mdbremoved> p2p_payment                               3063\n",
       "<mdbremoved> sto                                       2992\n",
       "<mdbremoved> bp                                        2571\n",
       "standing order - <mdbremoved>                          2481\n",
       "<mdbremoved> bbp                                       2151\n",
       "<mdbremoved> savings                                   2118\n",
       "standing order via faster payment to <mdbremoved>      1989\n",
       "bill payment via faster payment to <mdbremoved>        1913\n",
       "Name: desc, dtype: int64"
      ]
     },
     "execution_count": 83,
     "metadata": {},
     "output_type": "execute_result"
    }
   ],
   "source": [
    "def get_transfers(df):\n",
    "    return df[df.tag_auto.eq(\"transfers\")]\n",
    "\n",
    "\n",
    "get_transfers(data).desc.value_counts()[:20]"
   ]
  },
  {
   "cell_type": "markdown",
   "id": "072edd9d-b275-44b6-96d8-b9f0dd04d533",
   "metadata": {},
   "source": [
    "List banks with most 'standing order' txns."
   ]
  },
  {
   "cell_type": "code",
   "execution_count": 84,
   "id": "9178ffba-ddfc-4e1f-8cda-dc8b23c72140",
   "metadata": {},
   "outputs": [
    {
     "data": {
      "text/plain": [
       "natwest bank                93901\n",
       "halifax personal banking    59058\n",
       "lloyds bank                 56184\n",
       "hsbc                        47359\n",
       "santander                   45180\n",
       "Name: account_provider, dtype: int64"
      ]
     },
     "execution_count": 84,
     "metadata": {},
     "output_type": "execute_result"
    }
   ],
   "source": [
    "def get_standing_orders(df):\n",
    "    regex = r\"standing order|\\bso\\b|s/o\\b|sto\"\n",
    "    return df[df.desc.str.contains(regex, regex=True)]\n",
    "\n",
    "\n",
    "standing_orders = get_standing_orders(data)\n",
    "standing_orders.account_provider.value_counts()[:5]"
   ]
  },
  {
   "cell_type": "markdown",
   "id": "d70e150a-08dd-40f3-a9d9-6c1d5311f1e1",
   "metadata": {},
   "source": [
    "Focus on single bank and check whether that bank uses other common standing order identifier."
   ]
  },
  {
   "cell_type": "code",
   "execution_count": 85,
   "id": "2b25172c-048a-431d-b96b-f65ce719b35c",
   "metadata": {},
   "outputs": [
    {
     "data": {
      "text/plain": [
       "<mdbremoved>                                 15013\n",
       "<mdbremoved>                                  3863\n",
       "<mdbremoved> bp                               2508\n",
       "<mdbremoved> - bp                              966\n",
       "<mdbremoved> so                                894\n",
       "<mdbremoved> savings                           509\n",
       "<mdbremoved> - so                              408\n",
       "xxxxxx xxxxxx99 - internet transfer - tfr      370\n",
       "bank of america me - london - )))              338\n",
       "<mdbremoved> savings - so                      237\n",
       "xxxxxx xxxxxx81 - internet transfer - tfr      235\n",
       "revolut*3547*     revolut.com                  223\n",
       "xxxxxx xxxxxx01 - internet transfer - tfr      202\n",
       "xxxxxx xxxxxx65 - internet transfer - tfr      200\n",
       "xxxxxx xxxxxx02 - internet transfer - tfr      187\n",
       "xxxxxx xxxxxx27 - internet transfer - tfr      180\n",
       "xxxxxx xxxxxx17 - internet transfer - tfr      179\n",
       "xxxxxx xxxx9068 - internet transfer - tfr      162\n",
       "xxxxxx xxxxxx78 - internet transfer - tfr      155\n",
       "xxxxxx xxxxxx89 - internet transfer - tfr      150\n",
       "Name: desc, dtype: int64"
      ]
     },
     "execution_count": 85,
     "metadata": {},
     "output_type": "execute_result"
    }
   ],
   "source": [
    "def get_bank_data(df, bank):\n",
    "    return df[df.account_provider.eq(bank)]\n",
    "\n",
    "\n",
    "def get_savings(df):\n",
    "    mask = df.account_type.eq(\"savings\") & ~df.tag_auto.str.contains(\n",
    "        \"interest\", na=False\n",
    "    )\n",
    "    return df[mask]\n",
    "\n",
    "\n",
    "bank_data = get_bank_data(data, \"hsbc\")\n",
    "get_transfers(bank_data).desc.value_counts()[:20]"
   ]
  },
  {
   "cell_type": "markdown",
   "id": "83db99ca-f45a-4567-8f67-4f695c5ec81d",
   "metadata": {},
   "source": [
    "Check proportion of txns that are standing orders and their value."
   ]
  },
  {
   "cell_type": "code",
   "execution_count": 86,
   "id": "30d39b96-0620-477c-9152-3191f496c04c",
   "metadata": {},
   "outputs": [
    {
     "name": "stdout",
     "output_type": "stream",
     "text": [
      "0.035228633833579936\n",
      "0.0002572565\n"
     ]
    }
   ],
   "source": [
    "bank_savings = get_savings(bank_data)\n",
    "bank_savings_so = get_standing_orders(bank_savings)\n",
    "\n",
    "\n",
    "def so_txns_prop(so_df, df):\n",
    "    if so_df.empty:\n",
    "        return np.nan\n",
    "    return len(so_df) / len(df)\n",
    "\n",
    "\n",
    "def so_value_prop(so_df, df):\n",
    "    if so_df.empty:\n",
    "        return np.nan\n",
    "    return so_df.amount.abs().sum() / df.amount.abs().sum()\n",
    "\n",
    "\n",
    "print(so_txns_prop(bank_savings_so, bank_savings))\n",
    "print(so_value_prop(bank_savings_so, bank_savings))"
   ]
  },
  {
   "cell_type": "markdown",
   "id": "b184e8f1-0453-43ab-812f-6abbaea003d4",
   "metadata": {},
   "source": [
    "For robustness, get above two metrics for all banks to see how they vary."
   ]
  },
  {
   "cell_type": "code",
   "execution_count": 79,
   "id": "0fe58674-28d4-445d-9335-2f9969173093",
   "metadata": {},
   "outputs": [
    {
     "name": "stdout",
     "output_type": "stream",
     "text": [
      "Bank                           |   Txn %    |  Value %  \n",
      "natwest bank                   |      0.01% |      0.00%\n",
      "lloyds bank                    |      3.63% |      1.90%\n",
      "halifax personal banking       |      6.62% |      1.28%\n",
      "hsbc                           |      3.52% |      0.03%\n",
      "santander                      |      2.79% |      0.52%\n",
      "barclays                       |      9.71% |      1.26%\n",
      "nationwide                     |      0.10% |      0.03%\n",
      "american express               |       nan% |       nan%\n",
      "first direct                   |      1.51% |      0.03%\n",
      "royal bank of scotland (rbs)   |       nan% |       nan%\n"
     ]
    }
   ],
   "source": [
    "print(\"{:30} | {:^10} | {:^10}\".format(\"Bank\", \"Txn %\", \"Value %\"))\n",
    "for bank in data.account_provider.value_counts().index[:10]:\n",
    "    bank_data = get_bank_data(data, bank)\n",
    "    bank_savings = get_savings(bank_data)\n",
    "    bank_savings_so = get_standing_orders(bank_savings)\n",
    "    txns_prop = so_txns_prop(bank_savings_so, bank_savings)\n",
    "    value_prop = so_value_prop(bank_savings_so, bank_savings)\n",
    "    print(f\"{bank:30} | {txns_prop:10.2%} | {value_prop:10.2%}\")"
   ]
  },
  {
   "cell_type": "markdown",
   "id": "b12f3d49-32b0-4adb-a206-180a6956181d",
   "metadata": {},
   "source": [
    "### Decision\n",
    "\n",
    "Given that standing orders only account for about 10 percent of txns and 3 percent of the total value of all savings txns, it's not worth excluding them explicitly, as they are unlikely to affect our results."
   ]
  },
  {
   "cell_type": "code",
   "execution_count": null,
   "id": "acb6d78b-44f9-4db6-a0d0-b75775d564e6",
   "metadata": {},
   "outputs": [],
   "source": []
  }
 ],
 "metadata": {
  "kernelspec": {
   "display_name": "entropy",
   "language": "python",
   "name": "entropy"
  },
  "language_info": {
   "codemirror_mode": {
    "name": "ipython",
    "version": 3
   },
   "file_extension": ".py",
   "mimetype": "text/x-python",
   "name": "python",
   "nbconvert_exporter": "python",
   "pygments_lexer": "ipython3",
   "version": "3.9.7"
  },
  "toc-autonumbering": false,
  "toc-showcode": false,
  "toc-showmarkdowntxt": false
 },
 "nbformat": 4,
 "nbformat_minor": 5
}
