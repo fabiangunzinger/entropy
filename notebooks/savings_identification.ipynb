{
 "cells": [
  {
   "cell_type": "markdown",
   "id": "585fbeec-b261-40d2-bd56-cb42d828b773",
   "metadata": {},
   "source": [
    "Notebook purpose\n",
    "\n",
    "- Decide how to identify savings transactions"
   ]
  },
  {
   "cell_type": "code",
   "execution_count": 1,
   "id": "13bef683-64f8-4c36-bec3-05ecb69b15c5",
   "metadata": {
    "tags": []
   },
   "outputs": [],
   "source": [
    "import os\n",
    "import sys\n",
    "\n",
    "import matplotlib.pyplot as plt\n",
    "import numpy as np\n",
    "import pandas as pd\n",
    "import s3fs\n",
    "import seaborn as sns\n",
    "\n",
    "sys.path.append(\"/Users/fgu/dev/projects/entropy\")\n",
    "import entropy.data.cleaners as cl\n",
    "import entropy.data.creators as cr\n",
    "import entropy.data.txn_classifications as tc\n",
    "import entropy.figures as figs\n",
    "import entropy.helpers.aws as ha\n",
    "import entropy.helpers.data as hd\n",
    "import entropy.helpers.helpers as hh\n",
    "from entropy import config\n",
    "\n",
    "sns.set_style(\"whitegrid\")\n",
    "pd.set_option(\"display.max_rows\", 120)\n",
    "pd.set_option(\"display.max_columns\", 120)\n",
    "pd.set_option(\"max_colwidth\", None)\n",
    "%config InlineBackend.figure_format = 'retina'\n",
    "%load_ext autoreload\n",
    "%autoreload 2\n",
    "\n",
    "fs = s3fs.S3FileSystem(profile=\"3di\")"
   ]
  },
  {
   "cell_type": "code",
   "execution_count": 2,
   "id": "f18b0a60-e3de-45c8-8d3e-8a63a58697ef",
   "metadata": {},
   "outputs": [
    {
     "name": "stdout",
     "output_type": "stream",
     "text": [
      "Time for read_sample    : 1.82 seconds\n",
      "Time for read_sample    : 4.68 minutes\n",
      "(16,074,957, 31)\n"
     ]
    },
    {
     "data": {
      "text/html": [
       "<div>\n",
       "<style scoped>\n",
       "    .dataframe tbody tr th:only-of-type {\n",
       "        vertical-align: middle;\n",
       "    }\n",
       "\n",
       "    .dataframe tbody tr th {\n",
       "        vertical-align: top;\n",
       "    }\n",
       "\n",
       "    .dataframe thead th {\n",
       "        text-align: right;\n",
       "    }\n",
       "</style>\n",
       "<table border=\"1\" class=\"dataframe\">\n",
       "  <thead>\n",
       "    <tr style=\"text-align: right;\">\n",
       "      <th></th>\n",
       "      <th>id</th>\n",
       "      <th>date</th>\n",
       "      <th>user_id</th>\n",
       "      <th>amount</th>\n",
       "      <th>desc</th>\n",
       "      <th>merchant</th>\n",
       "      <th>tag_group</th>\n",
       "      <th>tag</th>\n",
       "      <th>user_female</th>\n",
       "      <th>user_postcode</th>\n",
       "      <th>user_registration_date</th>\n",
       "      <th>user_salary_range</th>\n",
       "      <th>user_yob</th>\n",
       "      <th>account_created</th>\n",
       "      <th>account_id</th>\n",
       "      <th>account_last_refreshed</th>\n",
       "      <th>account_provider</th>\n",
       "      <th>account_type</th>\n",
       "      <th>data_warehouse_date_created</th>\n",
       "      <th>data_warehouse_date_last_updated</th>\n",
       "      <th>debit</th>\n",
       "      <th>latest_balance</th>\n",
       "      <th>merchant_business_line</th>\n",
       "      <th>tag_auto</th>\n",
       "      <th>tag_manual</th>\n",
       "      <th>tag_up</th>\n",
       "      <th>updated_flag</th>\n",
       "      <th>ym</th>\n",
       "      <th>balance</th>\n",
       "      <th>income</th>\n",
       "      <th>entropy_sptac</th>\n",
       "    </tr>\n",
       "  </thead>\n",
       "  <tbody>\n",
       "    <tr>\n",
       "      <th>0</th>\n",
       "      <td>1088993</td>\n",
       "      <td>2012-04-02</td>\n",
       "      <td>57</td>\n",
       "      <td>23.74</td>\n",
       "      <td>1982 01apr 12 the broadway fruiterer london gb</td>\n",
       "      <td>NaN</td>\n",
       "      <td>NaN</td>\n",
       "      <td>NaN</td>\n",
       "      <td>0.0</td>\n",
       "      <td>n8 9</td>\n",
       "      <td>2010-05-13</td>\n",
       "      <td>10k to 20k</td>\n",
       "      <td>1987.0</td>\n",
       "      <td>2016-10-30</td>\n",
       "      <td>273998</td>\n",
       "      <td>2015-08-15 21:37:00</td>\n",
       "      <td>natwest bank</td>\n",
       "      <td>current</td>\n",
       "      <td>2014-07-18</td>\n",
       "      <td>2017-10-23</td>\n",
       "      <td>True</td>\n",
       "      <td>NaN</td>\n",
       "      <td>NaN</td>\n",
       "      <td>NaN</td>\n",
       "      <td>NaN</td>\n",
       "      <td>NaN</td>\n",
       "      <td>u</td>\n",
       "      <td>201204</td>\n",
       "      <td>NaN</td>\n",
       "      <td>22542.600586</td>\n",
       "      <td>2.425209</td>\n",
       "    </tr>\n",
       "    <tr>\n",
       "      <th>1</th>\n",
       "      <td>1088994</td>\n",
       "      <td>2012-04-02</td>\n",
       "      <td>57</td>\n",
       "      <td>25.68</td>\n",
       "      <td>1982 01apr 12 waitrose 835 crouch end gb</td>\n",
       "      <td>waitrose</td>\n",
       "      <td>spend</td>\n",
       "      <td>household</td>\n",
       "      <td>0.0</td>\n",
       "      <td>n8 9</td>\n",
       "      <td>2010-05-13</td>\n",
       "      <td>10k to 20k</td>\n",
       "      <td>1987.0</td>\n",
       "      <td>2016-10-30</td>\n",
       "      <td>273998</td>\n",
       "      <td>2015-08-15 21:37:00</td>\n",
       "      <td>natwest bank</td>\n",
       "      <td>current</td>\n",
       "      <td>2014-07-18</td>\n",
       "      <td>2017-08-15</td>\n",
       "      <td>True</td>\n",
       "      <td>NaN</td>\n",
       "      <td>waitrose</td>\n",
       "      <td>food, groceries, household</td>\n",
       "      <td>NaN</td>\n",
       "      <td>supermarket</td>\n",
       "      <td>u</td>\n",
       "      <td>201204</td>\n",
       "      <td>NaN</td>\n",
       "      <td>22542.600586</td>\n",
       "      <td>2.425209</td>\n",
       "    </tr>\n",
       "  </tbody>\n",
       "</table>\n",
       "</div>"
      ],
      "text/plain": [
       "        id       date  user_id  amount  \\\n",
       "0  1088993 2012-04-02       57   23.74   \n",
       "1  1088994 2012-04-02       57   25.68   \n",
       "\n",
       "                                             desc  merchant tag_group  \\\n",
       "0  1982 01apr 12 the broadway fruiterer london gb       NaN       NaN   \n",
       "1        1982 01apr 12 waitrose 835 crouch end gb  waitrose     spend   \n",
       "\n",
       "         tag  user_female user_postcode user_registration_date  \\\n",
       "0        NaN          0.0          n8 9             2010-05-13   \n",
       "1  household          0.0          n8 9             2010-05-13   \n",
       "\n",
       "  user_salary_range  user_yob account_created  account_id  \\\n",
       "0        10k to 20k    1987.0      2016-10-30      273998   \n",
       "1        10k to 20k    1987.0      2016-10-30      273998   \n",
       "\n",
       "  account_last_refreshed account_provider account_type  \\\n",
       "0    2015-08-15 21:37:00     natwest bank      current   \n",
       "1    2015-08-15 21:37:00     natwest bank      current   \n",
       "\n",
       "  data_warehouse_date_created data_warehouse_date_last_updated  debit  \\\n",
       "0                  2014-07-18                       2017-10-23   True   \n",
       "1                  2014-07-18                       2017-08-15   True   \n",
       "\n",
       "   latest_balance merchant_business_line                    tag_auto  \\\n",
       "0             NaN                    NaN                         NaN   \n",
       "1             NaN               waitrose  food, groceries, household   \n",
       "\n",
       "  tag_manual       tag_up updated_flag      ym  balance        income  \\\n",
       "0        NaN          NaN            u  201204      NaN  22542.600586   \n",
       "1        NaN  supermarket            u  201204      NaN  22542.600586   \n",
       "\n",
       "   entropy_sptac  \n",
       "0       2.425209  \n",
       "1       2.425209  "
      ]
     },
     "metadata": {},
     "output_type": "display_data"
    }
   ],
   "source": [
    "dfs, df = hd.read_samples([\"777\", \"XX7\"])\n",
    "hd.inspect(df)"
   ]
  },
  {
   "cell_type": "markdown",
   "id": "9d484e16-6168-4d92-b96b-00055b9d2639",
   "metadata": {},
   "source": [
    "## ISA transfers"
   ]
  },
  {
   "cell_type": "markdown",
   "id": "b3494841-865c-4204-92e8-893183adf6ba",
   "metadata": {},
   "source": [
    "Check whether identifiable transfers into ISA accounts are significant, in which case they would be a good additional outcome measure."
   ]
  },
  {
   "cell_type": "code",
   "execution_count": 15,
   "id": "a97f2c9f-b1e1-4b34-8855-ff6336895248",
   "metadata": {},
   "outputs": [],
   "source": [
    "def isa_txns(df):\n",
    "    return df[df.tag_auto.eq(\"isa\")]\n",
    "\n",
    "\n",
    "def savings_txns(df):\n",
    "    return df[df.tag.eq(\"savings\")]\n",
    "\n",
    "\n",
    "isa = isa_txns(df)\n",
    "savings = savings_txns(df)"
   ]
  },
  {
   "cell_type": "markdown",
   "id": "0bd52aeb-587a-4517-8c0f-325e488ab976",
   "metadata": {},
   "source": [
    "The proportion of ISA payments is substantial"
   ]
  },
  {
   "cell_type": "code",
   "execution_count": 16,
   "id": "80b14542-9ad4-43aa-9935-ada61710d9a9",
   "metadata": {},
   "outputs": [
    {
     "data": {
      "text/plain": [
       "0.1733517081308479"
      ]
     },
     "execution_count": 16,
     "metadata": {},
     "output_type": "execute_result"
    }
   ],
   "source": [
    "len(isa) / len(savings)"
   ]
  },
  {
   "cell_type": "markdown",
   "id": "a819e453-b725-4baa-9759-065405039670",
   "metadata": {},
   "source": [
    "As are the amounts"
   ]
  },
  {
   "cell_type": "code",
   "execution_count": 21,
   "id": "e650161e-37e2-495a-a16e-1f6f4d3ff2b0",
   "metadata": {},
   "outputs": [
    {
     "data": {
      "text/plain": [
       "count     7170.000000\n",
       "mean       270.075531\n",
       "std       1177.184570\n",
       "min          0.010000\n",
       "25%         50.000000\n",
       "50%        200.000000\n",
       "75%        200.000000\n",
       "max      20000.000000\n",
       "Name: amount, dtype: float64"
      ]
     },
     "execution_count": 21,
     "metadata": {},
     "output_type": "execute_result"
    }
   ],
   "source": [
    "isa.amount.describe()"
   ]
  },
  {
   "cell_type": "markdown",
   "id": "1f5460ce-df96-4245-b7c6-d29cc3257fa4",
   "metadata": {},
   "source": [
    "By far the most frequent amount is the monthly max allowance into the help to buy account"
   ]
  },
  {
   "cell_type": "code",
   "execution_count": 35,
   "id": "af5a3256-3ea7-40ad-9eab-75b37af68d4b",
   "metadata": {},
   "outputs": [
    {
     "data": {
      "text/plain": [
       "200.0    3085\n",
       "50.0      691\n",
       "100.0     532\n",
       "20.0      365\n",
       "25.0      254\n",
       "Name: amount, dtype: int64"
      ]
     },
     "execution_count": 35,
     "metadata": {},
     "output_type": "execute_result"
    }
   ],
   "source": [
    "isa.amount.value_counts().iloc[:5]"
   ]
  },
  {
   "cell_type": "markdown",
   "id": "06606082-23d0-4fe8-83ac-da01a65d2ba9",
   "metadata": {},
   "source": [
    "## Tags"
   ]
  },
  {
   "cell_type": "markdown",
   "id": "10e56185-d9cd-4ccb-aace-6cc757afa446",
   "metadata": {},
   "source": [
    "The simplest approach to identify savings is to use MDB auto tags. I have grouped all relevant auto tags into a `tag` called *savings*, which is a subgroup of the `tag_group` *transfters*."
   ]
  },
  {
   "cell_type": "code",
   "execution_count": 20,
   "id": "7d3800a3-8a4b-4131-9184-3f0161b75275",
   "metadata": {},
   "outputs": [
    {
     "data": {
      "text/plain": [
       "['general savings',\n",
       " 'investment - other',\n",
       " 'investments or shares',\n",
       " 'isa',\n",
       " 'pension or investments',\n",
       " 'saving (general)',\n",
       " 'savings (general)',\n",
       " 'savings']"
      ]
     },
     "execution_count": 20,
     "metadata": {},
     "output_type": "execute_result"
    }
   ],
   "source": [
    "tc.transfers_subgroups[\"savings\"]"
   ]
  },
  {
   "cell_type": "markdown",
   "id": "4fe53b53-32d5-437f-8cd0-4b5a3bffe188",
   "metadata": {},
   "source": [
    "But there are not enough txns and users to work with, so I won't use these."
   ]
  },
  {
   "cell_type": "code",
   "execution_count": 21,
   "id": "9a7e7c8a-f058-4852-b281-ff2b428b59fa",
   "metadata": {},
   "outputs": [
    {
     "name": "stdout",
     "output_type": "stream",
     "text": [
      "df1 has 43,745 txns across 2495 users (0.3% and 42.1% of df2).\n"
     ]
    }
   ],
   "source": [
    "savings = df[df.tag.eq(\"savings\")]\n",
    "hd.txns_and_users(savings, df)"
   ]
  },
  {
   "cell_type": "markdown",
   "id": "982b1066-780e-41f2-b918-69132154fc37",
   "metadata": {},
   "source": [
    "## Savings account transfers"
   ]
  },
  {
   "cell_type": "markdown",
   "id": "a7e6e58a-538f-4ead-9ee5-032e4b3df0e4",
   "metadata": {},
   "source": [
    "An alternative is to look at flows into and out of savings accounts. We could define something like 'monthly net savings' as the the sum of all inflows and outflows into a users savings accounts during a month."
   ]
  },
  {
   "cell_type": "code",
   "execution_count": 7,
   "id": "a6f615db-4f27-4b58-bc1d-0d52b5eaaaee",
   "metadata": {},
   "outputs": [],
   "source": [
    "savings = df[df.account_type.eq(\"savings\")]\n",
    "credits = savings[~savings.debit]\n",
    "debits = savings[savings.debit]"
   ]
  },
  {
   "cell_type": "markdown",
   "id": "8e60042f-b9d6-42d6-8d0f-f240cc645138",
   "metadata": {},
   "source": [
    "There are many more transactions across many more users than for tags above."
   ]
  },
  {
   "cell_type": "code",
   "execution_count": 8,
   "id": "bc8d61d6-ca8e-4fca-a8d0-95fa3a71f672",
   "metadata": {},
   "outputs": [
    {
     "name": "stdout",
     "output_type": "stream",
     "text": [
      "df1 has 395,170 txns across 3425 users (2.7% and 57.8% of df2).\n"
     ]
    }
   ],
   "source": [
    "hd.txns_and_users(savings, df)"
   ]
  },
  {
   "cell_type": "markdown",
   "id": "4fa24e6a-ce20-47fe-b9ed-c7d2237c971a",
   "metadata": {},
   "source": [
    "Plot distributions of monthly inflows, outflows, and net savings."
   ]
  },
  {
   "cell_type": "code",
   "execution_count": 39,
   "id": "ab4a2112-f3b9-4ff3-a2d7-ba67cd0afbe0",
   "metadata": {},
   "outputs": [
    {
     "data": {
      "image/png": "[encoded data removed]",
      "text/plain": [
       "<Figure size 576x216 with 3 Axes>"
      ]
     },
     "metadata": {
      "image/png": {
       "height": 210,
       "width": 568
      }
     },
     "output_type": "display_data"
    }
   ],
   "source": [
    "figs.sa_flows.main(df)"
   ]
  },
  {
   "cell_type": "markdown",
   "id": "a937076d-4c3f-44f6-b9dc-bbe866eba456",
   "metadata": {},
   "source": [
    "dev"
   ]
  },
  {
   "cell_type": "code",
   "execution_count": 110,
   "id": "fee2fa68-d275-4ccb-90fc-29ee400a44b4",
   "metadata": {},
   "outputs": [
    {
     "data": {
      "image/png": "[encoded data removed]",
      "text/plain": [
       "<Figure size 576x216 with 6 Axes>"
      ]
     },
     "metadata": {
      "image/png": {
       "height": 211,
       "width": 569
      }
     },
     "output_type": "display_data"
    }
   ],
   "source": [
    "figs.sa_flows.main(df)"
   ]
  },
  {
   "cell_type": "markdown",
   "id": "3f1c381d-c7e2-4ce8-9132-6b8c23052d54",
   "metadata": {},
   "source": [
    "## Non-standing-order transactions"
   ]
  },
  {
   "cell_type": "markdown",
   "id": "4f8abe38-80f8-4485-8e6e-5ea6636590d5",
   "metadata": {},
   "source": [
    "**Question**: Should we exclude standing order transactions from savings transactions identified above (as we'd expect entropy to affect non-standing order transactions only -- at least in the short-term)?\n",
    "\n",
    "**Strategy**: Check whether standing orders account for a large proportion of inflows into savings accounts. If the proportion is significant, then we should exclude them and only focus on non-standing orders. If only very few transactions are standing orders, then there is no need to exclude them as they won't affect the results anyways.\n",
    "\n",
    "**Tactic**: Ideally, we could check for the proportion of all standing orders from current to savings accounts. Identifying txns for which a current account debit standing order is mirrored by a savings account credit is a lot of work. We can bound that proportion, however: as a lower bound, we use the proportion of savings account credits that are standing orders (a few banks do tag these), and as an upper bound we use the proportion of all savings account credits that could be accounted for by current account debit standing orders.\n",
    "\n",
    "**Limitations**:\n",
    "\n",
    "- There will be standing orders that can't be identified from the txn description. So our universe of identified standing orders will be a subset of all true standing orders. Given our data, we could identify all txns where a current account debit matches a savings account credit and where this happens *regularly*. But we'd then have to define and operationalise regularly (i.e. definint it as 'monthly', and then define a window within which matching credits cound as monthly).\n",
    "\n",
    "- As standing orders only make sense for debits, it's unclear what precisely savings account credit standing orders are. They could be transactions where a user has a current account debit standing order at the same bank, where the current account debit standing order is at another bank (though it's unlikely that a bank would then know that an incoming txns is the result of a standing order), or, even less likely, regularly credits into a savings account.\n",
    "\n",
    "**Decision**: Assuming that the lower bounds are closer to the truth than the upper bounds (which is reasonable), standing orders seem to account for only a small fraction of savings account credits, especially in value, which is what we mostly care about. So we ignore them for now."
   ]
  },
  {
   "cell_type": "markdown",
   "id": "bdfe06ba-5ccf-4de0-9eab-82f75e84e2e8",
   "metadata": {},
   "source": [
    "### Load data"
   ]
  },
  {
   "cell_type": "markdown",
   "id": "f2e0cd4f-5ac1-4b83-b417-a1bba12efcb9",
   "metadata": {},
   "source": [
    "Load raw data and perform partial cleaning (because txn description suffixes that, among other things, indicate standing orders get filtered out as part of the full data cleaning process)."
   ]
  },
  {
   "cell_type": "code",
   "execution_count": 3,
   "id": "a26b082d-216e-423a-a354-a03ae2665ac8",
   "metadata": {},
   "outputs": [
    {
     "name": "stdout",
     "output_type": "stream",
     "text": [
      "(6,959,731, 27)\n"
     ]
    },
    {
     "data": {
      "text/html": [
       "<div>\n",
       "<style scoped>\n",
       "    .dataframe tbody tr th:only-of-type {\n",
       "        vertical-align: middle;\n",
       "    }\n",
       "\n",
       "    .dataframe tbody tr th {\n",
       "        vertical-align: top;\n",
       "    }\n",
       "\n",
       "    .dataframe thead th {\n",
       "        text-align: right;\n",
       "    }\n",
       "</style>\n",
       "<table border=\"1\" class=\"dataframe\">\n",
       "  <thead>\n",
       "    <tr style=\"text-align: right;\">\n",
       "      <th></th>\n",
       "      <th>id</th>\n",
       "      <th>user_id</th>\n",
       "      <th>user_registration_date</th>\n",
       "      <th>user_yob</th>\n",
       "      <th>user_salary_range</th>\n",
       "      <th>user_postcode</th>\n",
       "      <th>user_lsoa</th>\n",
       "      <th>user_msoa</th>\n",
       "      <th>user_gender</th>\n",
       "      <th>date</th>\n",
       "      <th>account_id</th>\n",
       "      <th>account_provider</th>\n",
       "      <th>account_type</th>\n",
       "      <th>latest_balance</th>\n",
       "      <th>desc</th>\n",
       "      <th>credit_debit</th>\n",
       "      <th>amount</th>\n",
       "      <th>tag_up</th>\n",
       "      <th>tag_manual</th>\n",
       "      <th>tag_auto</th>\n",
       "      <th>merchant</th>\n",
       "      <th>merchant_business_line</th>\n",
       "      <th>account_created</th>\n",
       "      <th>account_last_refreshed</th>\n",
       "      <th>data_warehouse_date_created</th>\n",
       "      <th>data_warehouse_date_last_updated</th>\n",
       "      <th>updated_flag</th>\n",
       "    </tr>\n",
       "  </thead>\n",
       "  <tbody>\n",
       "    <tr>\n",
       "      <th>0</th>\n",
       "      <td>688293</td>\n",
       "      <td>777</td>\n",
       "      <td>2011-07-20</td>\n",
       "      <td>1969.0</td>\n",
       "      <td>20k to 30k</td>\n",
       "      <td>wa1 4</td>\n",
       "      <td>e01012553</td>\n",
       "      <td>e02002603</td>\n",
       "      <td>m</td>\n",
       "      <td>2012-01-25</td>\n",
       "      <td>262916</td>\n",
       "      <td>natwest bank</td>\n",
       "      <td>current</td>\n",
       "      <td>364.220001</td>\n",
       "      <td>9572 24jan12 , tcs bowdon , bowdon gb - pos</td>\n",
       "      <td>debit</td>\n",
       "      <td>25.030001</td>\n",
       "      <td>no tag</td>\n",
       "      <td>no tag</td>\n",
       "      <td>no tag</td>\n",
       "      <td>no merchant</td>\n",
       "      <td>unknown merchant</td>\n",
       "      <td>2011-07-20</td>\n",
       "      <td>2020-07-21 20:32:00</td>\n",
       "      <td>2014-07-18</td>\n",
       "      <td>2017-10-24</td>\n",
       "      <td>u</td>\n",
       "    </tr>\n",
       "    <tr>\n",
       "      <th>1</th>\n",
       "      <td>688291</td>\n",
       "      <td>777</td>\n",
       "      <td>2011-07-20</td>\n",
       "      <td>1969.0</td>\n",
       "      <td>20k to 30k</td>\n",
       "      <td>wa1 4</td>\n",
       "      <td>e01012553</td>\n",
       "      <td>e02002603</td>\n",
       "      <td>m</td>\n",
       "      <td>2012-01-25</td>\n",
       "      <td>262916</td>\n",
       "      <td>natwest bank</td>\n",
       "      <td>current</td>\n",
       "      <td>364.220001</td>\n",
       "      <td>warrington b.c. - d/d</td>\n",
       "      <td>debit</td>\n",
       "      <td>26.000000</td>\n",
       "      <td>gym membership</td>\n",
       "      <td>gym membership</td>\n",
       "      <td>no tag</td>\n",
       "      <td>no merchant</td>\n",
       "      <td>unknown merchant</td>\n",
       "      <td>2011-07-20</td>\n",
       "      <td>2020-07-21 20:32:00</td>\n",
       "      <td>2014-07-18</td>\n",
       "      <td>2017-10-23</td>\n",
       "      <td>u</td>\n",
       "    </tr>\n",
       "  </tbody>\n",
       "</table>\n",
       "</div>"
      ],
      "text/plain": [
       "       id  user_id user_registration_date  user_yob user_salary_range  \\\n",
       "0  688293      777             2011-07-20    1969.0        20k to 30k   \n",
       "1  688291      777             2011-07-20    1969.0        20k to 30k   \n",
       "\n",
       "  user_postcode  user_lsoa  user_msoa user_gender       date  account_id  \\\n",
       "0         wa1 4  e01012553  e02002603           m 2012-01-25      262916   \n",
       "1         wa1 4  e01012553  e02002603           m 2012-01-25      262916   \n",
       "\n",
       "  account_provider account_type  latest_balance  \\\n",
       "0     natwest bank      current      364.220001   \n",
       "1     natwest bank      current      364.220001   \n",
       "\n",
       "                                          desc credit_debit     amount  \\\n",
       "0  9572 24jan12 , tcs bowdon , bowdon gb - pos        debit  25.030001   \n",
       "1                        warrington b.c. - d/d        debit  26.000000   \n",
       "\n",
       "           tag_up      tag_manual tag_auto     merchant  \\\n",
       "0          no tag          no tag   no tag  no merchant   \n",
       "1  gym membership  gym membership   no tag  no merchant   \n",
       "\n",
       "  merchant_business_line account_created account_last_refreshed  \\\n",
       "0       unknown merchant      2011-07-20    2020-07-21 20:32:00   \n",
       "1       unknown merchant      2011-07-20    2020-07-21 20:32:00   \n",
       "\n",
       "  data_warehouse_date_created data_warehouse_date_last_updated updated_flag  \n",
       "0                  2014-07-18                       2017-10-24            u  \n",
       "1                  2014-07-18                       2017-10-23            u  "
      ]
     },
     "metadata": {},
     "output_type": "display_data"
    }
   ],
   "source": [
    "fp = \"s3://3di-data-mdb/raw/mdb_X77.parquet\"\n",
    "raw = (\n",
    "    ha.read_parquet(fp)\n",
    "    .pipe(cl.rename_cols)\n",
    "    .pipe(cl.clean_headers)\n",
    "    .pipe(cl.lowercase_categories)\n",
    "    .pipe(cl.drop_missing_txn_desc)\n",
    ")\n",
    "hd.inspect(raw)"
   ]
  },
  {
   "cell_type": "code",
   "execution_count": 4,
   "id": "091b1de9-210b-4947-8229-750a89570ec1",
   "metadata": {},
   "outputs": [],
   "source": [
    "data = raw"
   ]
  },
  {
   "cell_type": "markdown",
   "id": "008da3e4-0ccc-478b-9624-70b3f285845c",
   "metadata": {},
   "source": [
    "### Case study"
   ]
  },
  {
   "cell_type": "markdown",
   "id": "3ddfaa70-212a-40c6-ad12-45df9eacc364",
   "metadata": {},
   "source": [
    "List most commonly used banks:"
   ]
  },
  {
   "cell_type": "code",
   "execution_count": 130,
   "id": "19ff5090-f7fc-4fd8-b0a0-26b0044e1ef6",
   "metadata": {},
   "outputs": [
    {
     "data": {
      "text/plain": [
       "natwest bank                1080662\n",
       "lloyds bank                  875908\n",
       "halifax personal banking     836380\n",
       "hsbc                         638038\n",
       "santander                    558020\n",
       "Name: account_provider, dtype: int64"
      ]
     },
     "execution_count": 130,
     "metadata": {},
     "output_type": "execute_result"
    }
   ],
   "source": [
    "data.account_provider.value_counts()[:5]"
   ]
  },
  {
   "cell_type": "markdown",
   "id": "85cc4ead-18a8-403c-82aa-afbe70f4f0f9",
   "metadata": {},
   "source": [
    "Focus on single bank for now."
   ]
  },
  {
   "cell_type": "code",
   "execution_count": 131,
   "id": "ec5977aa-c17c-4083-9433-1e25cdff3c27",
   "metadata": {},
   "outputs": [],
   "source": [
    "def get_bank_data(df, bank):\n",
    "    return df[df.account_provider.eq(bank)]\n",
    "\n",
    "\n",
    "bank_data = get_bank_data(data, \"lloyds bank\")"
   ]
  },
  {
   "cell_type": "markdown",
   "id": "9b9283aa-dda5-4055-9240-ea85c02aec79",
   "metadata": {},
   "source": [
    "List most common txns descriptions for current account debit transfers to identify common identifiers for standing orders."
   ]
  },
  {
   "cell_type": "code",
   "execution_count": 132,
   "id": "23960138-e13e-4a29-bd01-b0decd7ad1ad",
   "metadata": {},
   "outputs": [
    {
     "data": {
      "text/plain": [
       "<mdbremoved>                        12474\n",
       "<mdbremoved>                         9061\n",
       "save the change                      7052\n",
       "save the change bp                   5811\n",
       "<mdbremoved> tfr                     3347\n",
       "<mdbremoved> so                      3051\n",
       "<mdbremoved> xxxxxx xxxx8360 tfr      609\n",
       "<mdbremoved> fpo                      403\n",
       "<mdbremoved> xxxxxx xxxx1360          350\n",
       "<mdbremoved> xxxxxx xxxx6660          284\n",
       "<mdbremoved> xxxxxx xxxx0160          281\n",
       "<mdbremoved> xxxxxx xxxx8360          271\n",
       "<mdbremoved> xxxxxx xxxx4291 tfr      265\n",
       "<mdbremoved> xxxxxx xxxx3560          248\n",
       "savethechange-6668                    219\n",
       "esavings account                      180\n",
       "<mdbremoved> xxxxxx xxxx1560 tfr      177\n",
       "club lloyds monthl so                 172\n",
       "<mdbremoved> xxxxxx xxxx7568 tfr      152\n",
       "savethechange-5060                    151\n",
       "Name: desc, dtype: int64"
      ]
     },
     "execution_count": 132,
     "metadata": {},
     "output_type": "execute_result"
    }
   ],
   "source": [
    "def get_current_account_debits(df):\n",
    "    mask = df.account_type.eq(\"current\") & df.credit_debit.eq(\"debit\")\n",
    "    return df[mask]\n",
    "\n",
    "\n",
    "def get_transfers(df):\n",
    "    return df[df.tag_auto.eq(\"transfers\")]\n",
    "\n",
    "\n",
    "bank_cad = get_current_account_debits(bank_data)\n",
    "get_transfers(bank_cad).desc.value_counts()[:20]"
   ]
  },
  {
   "cell_type": "markdown",
   "id": "c2cc91d9-884b-40da-b9e9-ad318b277e86",
   "metadata": {},
   "source": [
    "Upper bounds: proportion of savings account credits that could be accounted for by current account debit standing orders."
   ]
  },
  {
   "cell_type": "code",
   "execution_count": 133,
   "id": "30d39b96-0620-477c-9152-3191f496c04c",
   "metadata": {},
   "outputs": [
    {
     "name": "stdout",
     "output_type": "stream",
     "text": [
      "30.422715627668662\n",
      "32.811641693115234\n"
     ]
    }
   ],
   "source": [
    "def get_standing_orders(df):\n",
    "    regex = r\"standing order|\\bso$|\\bs/o$|\\bsto$\"\n",
    "    return df[df.desc.str.contains(regex, regex=True)]\n",
    "\n",
    "\n",
    "def get_savings_account_credits(df):\n",
    "    mask = (\n",
    "        df.account_type.eq(\"savings\")\n",
    "        & df.credit_debit.eq(\"credit\")\n",
    "        & ~df.tag_auto.str.contains(\"interest\", na=False)\n",
    "    )\n",
    "    return df[mask]\n",
    "\n",
    "\n",
    "def so_txns_pct(so_df, df):\n",
    "    if so_df.empty:\n",
    "        return np.nan\n",
    "    return len(so_df) / len(df) * 100\n",
    "\n",
    "\n",
    "def so_value_pct(so_df, df):\n",
    "    if so_df.empty:\n",
    "        return np.nan\n",
    "    return so_df.amount.abs().sum() / df.amount.abs().sum() * 100\n",
    "\n",
    "\n",
    "bank_cad_so = get_standing_orders(bank_cad)\n",
    "bank_savings = get_savings_account_credits(bank_data)\n",
    "\n",
    "print(so_txns_pct(bank_cad_so, bank_savings))\n",
    "print(so_value_pct(bank_cad_so, bank_savings))"
   ]
  },
  {
   "cell_type": "markdown",
   "id": "df42d0ee-94af-4b43-9c61-77cb336a9909",
   "metadata": {},
   "source": [
    "Lower bounds: proportion of savings account credits that are tagged as standing orders."
   ]
  },
  {
   "cell_type": "code",
   "execution_count": 134,
   "id": "dfdcea84-df60-40f3-abdc-e9e17a39a6b7",
   "metadata": {},
   "outputs": [
    {
     "name": "stdout",
     "output_type": "stream",
     "text": [
      "4.910333048676345\n",
      "3.496024012565613\n"
     ]
    }
   ],
   "source": [
    "bank_savings_so = get_standing_orders(bank_savings)\n",
    "\n",
    "print(so_txns_pct(bank_savings_so, bank_savings))\n",
    "print(so_value_pct(bank_savings_so, bank_savings))"
   ]
  },
  {
   "cell_type": "markdown",
   "id": "7e410c64-1035-4cd5-b391-a5defb5f3154",
   "metadata": {},
   "source": [
    "### All banks"
   ]
  },
  {
   "cell_type": "markdown",
   "id": "229bf920-d7a8-470f-85e2-5134794181ab",
   "metadata": {},
   "source": [
    "Shows above metrics for most used banks in dataset."
   ]
  },
  {
   "cell_type": "code",
   "execution_count": 135,
   "id": "0fe58674-28d4-445d-9335-2f9969173093",
   "metadata": {},
   "outputs": [
    {
     "name": "stdout",
     "output_type": "stream",
     "text": [
      "                               |  Lower bounds (%)   |  Upper bounds (%)   |\n",
      "Bank                           |   Txns   |  Value   |   Txns   |  Value   |\n",
      "natwest bank                   |      nan |      nan |      150 |       40 |\n",
      "lloyds bank                    |        5 |        3 |       30 |       33 |\n",
      "halifax personal banking       |       12 |        2 |       48 |       29 |\n",
      "hsbc                           |      nan |      nan |       73 |       17 |\n",
      "santander                      |      nan |      nan |      167 |       65 |\n",
      "barclays                       |       24 |        2 |      179 |       60 |\n",
      "nationwide                     |      nan |      nan |       78 |       41 |\n",
      "american express               |      nan |      nan |      nan |      nan |\n",
      "first direct                   |      nan |      nan |        1 |        1 |\n",
      "royal bank of scotland (rbs)   |      nan |      nan |      306 |      109 |\n"
     ]
    }
   ],
   "source": [
    "headers = \"Txns\", \"Value\"\n",
    "row = \"{:30} | {:8.0f} | {:8.0f} | {:8.0f} | {:8.0f} |\"\n",
    "print(\"{:30} | {:^19} | {:^19} |\".format(\"\", \"Lower bounds (%)\", \"Upper bounds (%)\"))\n",
    "print(\"{:30} | {:^8} | {:^8} | {:^8} | {:^8} |\".format(\"Bank\", *headers, *headers))\n",
    "for bank in data.account_provider.value_counts().index[:10]:\n",
    "    bank_data = get_bank_data(data, bank)\n",
    "    bank_cad = get_current_account_debits(bank_data)\n",
    "    bank_cad_so = get_standing_orders(bank_cad)\n",
    "    bank_savings = get_savings_account_credits(bank_data)\n",
    "    bank_savings_so = get_standing_orders(bank_savings)\n",
    "    upper_txns = so_txns_pct(bank_cad_so, bank_savings)\n",
    "    upper_value = so_value_pct(bank_cad_so, bank_savings)\n",
    "    lower_txns = so_txns_pct(bank_savings_so, bank_savings)\n",
    "    lower_value = so_value_pct(bank_savings_so, bank_savings)\n",
    "    print(row.format(bank, lower_txns, lower_value, upper_txns, upper_value))"
   ]
  }
 ],
 "metadata": {
  "kernelspec": {
   "display_name": "entropy",
   "language": "python",
   "name": "entropy"
  },
  "language_info": {
   "codemirror_mode": {
    "name": "ipython",
    "version": 3
   },
   "file_extension": ".py",
   "mimetype": "text/x-python",
   "name": "python",
   "nbconvert_exporter": "python",
   "pygments_lexer": "ipython3",
   "version": "3.9.7"
  },
  "toc-autonumbering": false,
  "toc-showcode": false,
  "toc-showmarkdowntxt": false
 },
 "nbformat": 4,
 "nbformat_minor": 5
}
