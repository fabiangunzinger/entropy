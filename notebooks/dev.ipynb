{
 "cells": [
  {
   "cell_type": "markdown",
   "id": "585fbeec-b261-40d2-bd56-cb42d828b773",
   "metadata": {},
   "source": [
    "Notebook purpose\n",
    "\n",
    "- Replicate analysis of davenport2020spending"
   ]
  },
  {
   "cell_type": "code",
   "execution_count": 1,
   "id": "13bef683-64f8-4c36-bec3-05ecb69b15c5",
   "metadata": {
    "tags": []
   },
   "outputs": [],
   "source": [
    "import os\n",
    "import sys\n",
    "import numpy as np\n",
    "import pandas as pd\n",
    "sys.path.append('/Users/fgu/dev/projects/entropy')\n",
    "import entropy.helpers.aws as aws\n",
    "import entropy.data.cleaners as cl\n",
    "\n",
    "pd.set_option('display.max_rows', 120)\n",
    "pd.set_option('display.max_columns', 120)\n",
    "pd.set_option('max_colwidth', None)\n",
    "%config InlineBackend.figure_format = 'retina'\n",
    "%load_ext autoreload\n",
    "%autoreload 2"
   ]
  },
  {
   "cell_type": "code",
   "execution_count": 2,
   "id": "5a51ea29-7a1b-4323-8e7c-1f70205c504d",
   "metadata": {},
   "outputs": [
    {
     "data": {
      "text/plain": [
       "['3di-data-experian',\n",
       " '3di-data-fable',\n",
       " '3di-data-huq',\n",
       " '3di-data-mdb',\n",
       " '3di-data-ons',\n",
       " '3di-project-entropy',\n",
       " '3di-project-habits',\n",
       " '3di-project-te']"
      ]
     },
     "metadata": {},
     "output_type": "display_data"
    }
   ],
   "source": [
    "d = aws.S3BucketManager(\"\")\n",
    "d.list()"
   ]
  },
  {
   "cell_type": "code",
   "execution_count": 415,
   "id": "83a36dda-6182-4ff2-acc2-48ca7e6390d8",
   "metadata": {},
   "outputs": [],
   "source": [
    "df = aws.s3read_parquet('s3://3di-data-mdb/raw/mdb_000.parquet')\n"
   ]
  },
  {
   "cell_type": "code",
   "execution_count": 3,
   "id": "f56ca4fb-7702-4f27-8d47-a0ba1d14d897",
   "metadata": {},
   "outputs": [
    {
     "data": {
      "text/html": [
       "<div>\n",
       "<style scoped>\n",
       "    .dataframe tbody tr th:only-of-type {\n",
       "        vertical-align: middle;\n",
       "    }\n",
       "\n",
       "    .dataframe tbody tr th {\n",
       "        vertical-align: top;\n",
       "    }\n",
       "\n",
       "    .dataframe thead th {\n",
       "        text-align: right;\n",
       "    }\n",
       "</style>\n",
       "<table border=\"1\" class=\"dataframe\">\n",
       "  <thead>\n",
       "    <tr style=\"text-align: right;\">\n",
       "      <th></th>\n",
       "      <th>id</th>\n",
       "      <th>date</th>\n",
       "      <th>user_id</th>\n",
       "      <th>amount</th>\n",
       "      <th>desc</th>\n",
       "      <th>merchant</th>\n",
       "      <th>tag_up</th>\n",
       "      <th>user_female</th>\n",
       "      <th>user_postcode</th>\n",
       "      <th>user_registration_date</th>\n",
       "      <th>user_salary_range</th>\n",
       "      <th>user_yob</th>\n",
       "      <th>account_created</th>\n",
       "      <th>account_id</th>\n",
       "      <th>account_last_refreshed</th>\n",
       "      <th>account_provider</th>\n",
       "      <th>account_type</th>\n",
       "      <th>data_warehouse_date_created</th>\n",
       "      <th>data_warehouse_date_last_updated</th>\n",
       "      <th>debit</th>\n",
       "      <th>latest_recorded_balance</th>\n",
       "      <th>merchant_business_line</th>\n",
       "      <th>tag</th>\n",
       "      <th>tag_auto</th>\n",
       "      <th>tag_manual</th>\n",
       "      <th>ym</th>\n",
       "    </tr>\n",
       "  </thead>\n",
       "  <tbody>\n",
       "  </tbody>\n",
       "</table>\n",
       "</div>"
      ],
      "text/plain": [
       "Empty DataFrame\n",
       "Columns: [id, date, user_id, amount, desc, merchant, tag_up, user_female, user_postcode, user_registration_date, user_salary_range, user_yob, account_created, account_id, account_last_refreshed, account_provider, account_type, data_warehouse_date_created, data_warehouse_date_last_updated, debit, latest_recorded_balance, merchant_business_line, tag, tag_auto, tag_manual, ym]\n",
       "Index: []"
      ]
     },
     "execution_count": 3,
     "metadata": {},
     "output_type": "execute_result"
    }
   ],
   "source": [
    "df = aws.s3read_parquet('s3://3di-project-entropy/entropy_000.parquet')\n",
    "df.head(2)"
   ]
  },
  {
   "cell_type": "code",
   "execution_count": 4,
   "id": "83a7c985-6191-4aad-a89b-f669db175494",
   "metadata": {},
   "outputs": [
    {
     "name": "stdout",
     "output_type": "stream",
     "text": [
      "<class 'pandas.core.frame.DataFrame'>\n",
      "RangeIndex: 0 entries\n",
      "Data columns (total 26 columns):\n",
      " #   Column                            Non-Null Count  Dtype         \n",
      "---  ------                            --------------  -----         \n",
      " 0   id                                0 non-null      int32         \n",
      " 1   date                              0 non-null      datetime64[ns]\n",
      " 2   user_id                           0 non-null      int32         \n",
      " 3   amount                            0 non-null      float32       \n",
      " 4   desc                              0 non-null      category      \n",
      " 5   merchant                          0 non-null      category      \n",
      " 6   tag_up                            0 non-null      category      \n",
      " 7   user_female                       0 non-null      object        \n",
      " 8   user_postcode                     0 non-null      category      \n",
      " 9   user_registration_date            0 non-null      datetime64[ns]\n",
      " 10  user_salary_range                 0 non-null      category      \n",
      " 11  user_yob                          0 non-null      float32       \n",
      " 12  account_created                   0 non-null      datetime64[ns]\n",
      " 13  account_id                        0 non-null      int32         \n",
      " 14  account_last_refreshed            0 non-null      datetime64[ns]\n",
      " 15  account_provider                  0 non-null      category      \n",
      " 16  account_type                      0 non-null      category      \n",
      " 17  data_warehouse_date_created       0 non-null      datetime64[ns]\n",
      " 18  data_warehouse_date_last_updated  0 non-null      datetime64[ns]\n",
      " 19  debit                             0 non-null      bool          \n",
      " 20  latest_recorded_balance           0 non-null      float32       \n",
      " 21  merchant_business_line            0 non-null      category      \n",
      " 22  tag                               0 non-null      object        \n",
      " 23  tag_auto                          0 non-null      category      \n",
      " 24  tag_manual                        0 non-null      category      \n",
      " 25  ym                                0 non-null      int64         \n",
      "dtypes: bool(1), category(10), datetime64[ns](6), float32(3), int32(3), int64(1), object(2)\n",
      "memory usage: 1.2+ KB\n"
     ]
    }
   ],
   "source": [
    "df.info()"
   ]
  },
  {
   "cell_type": "code",
   "execution_count": null,
   "id": "905e0996-14aa-4147-88ca-02dbb6a8c2d2",
   "metadata": {},
   "outputs": [],
   "source": []
  }
 ],
 "metadata": {
  "kernelspec": {
   "display_name": "entropy",
   "language": "python",
   "name": "entropy"
  },
  "language_info": {
   "codemirror_mode": {
    "name": "ipython",
    "version": 3
   },
   "file_extension": ".py",
   "mimetype": "text/x-python",
   "name": "python",
   "nbconvert_exporter": "python",
   "pygments_lexer": "ipython3",
   "version": "3.9.6"
  }
 },
 "nbformat": 4,
 "nbformat_minor": 5
}
