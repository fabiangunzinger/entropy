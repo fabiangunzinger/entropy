{
 "cells": [
  {
   "cell_type": "markdown",
   "id": "585fbeec-b261-40d2-bd56-cb42d828b773",
   "metadata": {},
   "source": [
    "Notebook purpose\n",
    "\n",
    "- Document problems in MBD raw data"
   ]
  },
  {
   "cell_type": "code",
   "execution_count": 23,
   "id": "13bef683-64f8-4c36-bec3-05ecb69b15c5",
   "metadata": {
    "tags": []
   },
   "outputs": [
    {
     "name": "stdout",
     "output_type": "stream",
     "text": [
      "The autoreload extension is already loaded. To reload it, use:\n",
      "  %reload_ext autoreload\n"
     ]
    }
   ],
   "source": [
    "import os\n",
    "import sys\n",
    "import numpy as np\n",
    "import pandas as pd\n",
    "sys.path.append('/Users/fgu/dev/projects/entropy')\n",
    "import entropy.helpers.aws as aws\n",
    "import entropy.data.cleaners as cl\n",
    "\n",
    "pd.set_option('display.max_rows', 120)\n",
    "pd.set_option('display.max_columns', 120)\n",
    "pd.set_option('max_colwidth', None)\n",
    "%config InlineBackend.figure_format = 'retina'\n",
    "%load_ext autoreload\n",
    "%autoreload 2"
   ]
  },
  {
   "cell_type": "code",
   "execution_count": 24,
   "id": "5a51ea29-7a1b-4323-8e7c-1f70205c504d",
   "metadata": {},
   "outputs": [
    {
     "data": {
      "text/plain": [
       "['3di-project-entropy/entropy_000.parquet',\n",
       " '3di-project-entropy/entropy_777.parquet']"
      ]
     },
     "metadata": {},
     "output_type": "display_data"
    }
   ],
   "source": [
    "d = aws.S3BucketManager('3di-project-entropy')\n",
    "d.list()"
   ]
  },
  {
   "cell_type": "markdown",
   "id": "75f5a7ea-3972-4bcf-856f-9e04a00d0fe6",
   "metadata": {},
   "source": [
    "## Auto purpose tag inconsistency\n",
    "\n",
    "Auto purpose tag should equal manual tag if manual tag is not missing and else equal Auto Purpose Tag. There are many cases where this is not the case."
   ]
  },
  {
   "cell_type": "markdown",
   "id": "f0e21347-32d6-40ac-b41f-11622045c59c",
   "metadata": {},
   "source": [
    "### Case 1: incorrectly empty user precedence tag"
   ]
  },
  {
   "cell_type": "code",
   "execution_count": 53,
   "id": "f56ca4fb-7702-4f27-8d47-a0ba1d14d897",
   "metadata": {},
   "outputs": [
    {
     "data": {
      "text/html": [
       "<div>\n",
       "<style scoped>\n",
       "    .dataframe tbody tr th:only-of-type {\n",
       "        vertical-align: middle;\n",
       "    }\n",
       "\n",
       "    .dataframe tbody tr th {\n",
       "        vertical-align: top;\n",
       "    }\n",
       "\n",
       "    .dataframe thead th {\n",
       "        text-align: right;\n",
       "    }\n",
       "</style>\n",
       "<table border=\"1\" class=\"dataframe\">\n",
       "  <thead>\n",
       "    <tr style=\"text-align: right;\">\n",
       "      <th></th>\n",
       "      <th>Transaction Reference</th>\n",
       "      <th>User Reference</th>\n",
       "      <th>User Registration Date</th>\n",
       "      <th>Year of Birth</th>\n",
       "      <th>Salary Range</th>\n",
       "      <th>Postcode</th>\n",
       "      <th>LSOA</th>\n",
       "      <th>MSOA</th>\n",
       "      <th>Derived Gender</th>\n",
       "      <th>Transaction Date</th>\n",
       "      <th>Account Reference</th>\n",
       "      <th>Provider Group Name</th>\n",
       "      <th>Account Type</th>\n",
       "      <th>Latest Recorded Balance</th>\n",
       "      <th>Transaction Description</th>\n",
       "      <th>Credit Debit</th>\n",
       "      <th>Amount</th>\n",
       "      <th>User Precedence Tag Name</th>\n",
       "      <th>Manual Tag Name</th>\n",
       "      <th>Auto Purpose Tag Name</th>\n",
       "      <th>Merchant Name</th>\n",
       "      <th>Merchant Business Line</th>\n",
       "      <th>Account Created Date</th>\n",
       "      <th>Account Last Refreshed</th>\n",
       "      <th>Data Warehouse Date Created</th>\n",
       "      <th>Data Warehouse Date Last Updated</th>\n",
       "      <th>Transaction Updated Flag</th>\n",
       "    </tr>\n",
       "  </thead>\n",
       "  <tbody>\n",
       "    <tr>\n",
       "      <th>0</th>\n",
       "      <td>688293</td>\n",
       "      <td>777</td>\n",
       "      <td>2011-07-20</td>\n",
       "      <td>1969.0</td>\n",
       "      <td>20K to 30K</td>\n",
       "      <td>WA1 4</td>\n",
       "      <td>E01012553</td>\n",
       "      <td>E02002603</td>\n",
       "      <td>M</td>\n",
       "      <td>2012-01-25</td>\n",
       "      <td>262916</td>\n",
       "      <td>NatWest Bank</td>\n",
       "      <td>Current</td>\n",
       "      <td>364.220001</td>\n",
       "      <td>9572 24jan12 , tcs bowdon , bowdon gb - pos</td>\n",
       "      <td>Debit</td>\n",
       "      <td>25.030001</td>\n",
       "      <td>No Tag</td>\n",
       "      <td>No Tag</td>\n",
       "      <td>No Tag</td>\n",
       "      <td>No Merchant</td>\n",
       "      <td>Unknown Merchant</td>\n",
       "      <td>2011-07-20</td>\n",
       "      <td>2020-07-21 20:32:00</td>\n",
       "      <td>2014-07-18</td>\n",
       "      <td>2017-10-24</td>\n",
       "      <td>U</td>\n",
       "    </tr>\n",
       "  </tbody>\n",
       "</table>\n",
       "</div>"
      ],
      "text/plain": [
       "   Transaction Reference  User Reference User Registration Date  \\\n",
       "0                 688293             777             2011-07-20   \n",
       "\n",
       "   Year of Birth Salary Range Postcode       LSOA       MSOA Derived Gender  \\\n",
       "0         1969.0   20K to 30K    WA1 4  E01012553  E02002603              M   \n",
       "\n",
       "  Transaction Date  Account Reference Provider Group Name Account Type  \\\n",
       "0       2012-01-25             262916        NatWest Bank      Current   \n",
       "\n",
       "   Latest Recorded Balance                      Transaction Description  \\\n",
       "0               364.220001  9572 24jan12 , tcs bowdon , bowdon gb - pos   \n",
       "\n",
       "  Credit Debit     Amount User Precedence Tag Name Manual Tag Name  \\\n",
       "0        Debit  25.030001                   No Tag          No Tag   \n",
       "\n",
       "  Auto Purpose Tag Name Merchant Name Merchant Business Line  \\\n",
       "0                No Tag   No Merchant       Unknown Merchant   \n",
       "\n",
       "  Account Created Date Account Last Refreshed Data Warehouse Date Created  \\\n",
       "0           2011-07-20    2020-07-21 20:32:00                  2014-07-18   \n",
       "\n",
       "  Data Warehouse Date Last Updated Transaction Updated Flag  \n",
       "0                       2017-10-24                        U  "
      ]
     },
     "execution_count": 53,
     "metadata": {},
     "output_type": "execute_result"
    }
   ],
   "source": [
    "df = aws.s3read_parquet('s3://3di-data-mdb/raw/mdb_777.parquet')\n",
    "df.head(1)"
   ]
  },
  {
   "cell_type": "code",
   "execution_count": 73,
   "id": "749d8977-3221-49b1-b00d-07375669ab33",
   "metadata": {},
   "outputs": [
    {
     "data": {
      "text/html": [
       "<div>\n",
       "<style scoped>\n",
       "    .dataframe tbody tr th:only-of-type {\n",
       "        vertical-align: middle;\n",
       "    }\n",
       "\n",
       "    .dataframe tbody tr th {\n",
       "        vertical-align: top;\n",
       "    }\n",
       "\n",
       "    .dataframe thead th {\n",
       "        text-align: right;\n",
       "    }\n",
       "</style>\n",
       "<table border=\"1\" class=\"dataframe\">\n",
       "  <thead>\n",
       "    <tr style=\"text-align: right;\">\n",
       "      <th></th>\n",
       "      <th>User Precedence Tag Name</th>\n",
       "      <th>Manual Tag Name</th>\n",
       "      <th>Auto Purpose Tag Name</th>\n",
       "    </tr>\n",
       "  </thead>\n",
       "  <tbody>\n",
       "    <tr>\n",
       "      <th>33</th>\n",
       "      <td>No Tag</td>\n",
       "      <td>No Tag</td>\n",
       "      <td>Cash</td>\n",
       "    </tr>\n",
       "    <tr>\n",
       "      <th>36</th>\n",
       "      <td>No Tag</td>\n",
       "      <td>No Tag</td>\n",
       "      <td>Interest charges</td>\n",
       "    </tr>\n",
       "    <tr>\n",
       "      <th>37</th>\n",
       "      <td>No Tag</td>\n",
       "      <td>No Tag</td>\n",
       "      <td>Lunch or Snacks</td>\n",
       "    </tr>\n",
       "  </tbody>\n",
       "</table>\n",
       "</div>"
      ],
      "text/plain": [
       "   User Precedence Tag Name Manual Tag Name Auto Purpose Tag Name\n",
       "33                   No Tag          No Tag                  Cash\n",
       "36                   No Tag          No Tag      Interest charges\n",
       "37                   No Tag          No Tag       Lunch or Snacks"
      ]
     },
     "execution_count": 73,
     "metadata": {},
     "output_type": "execute_result"
    }
   ],
   "source": [
    "tag_names = ['User Precedence Tag Name', 'Manual Tag Name', 'Auto Purpose Tag Name']\n",
    "tags = df[tag_names]\n",
    "\n",
    "mask = ((tags['User Precedence Tag Name'] == 'No Tag')\n",
    "        & ((tags['Auto Purpose Tag Name'] != 'No Tag') \n",
    "           | (tags['Manual Tag Name'] != 'No Tag')))\n",
    "errors = tags[mask]\n",
    "errors.head(3)"
   ]
  },
  {
   "cell_type": "code",
   "execution_count": 74,
   "id": "88409d6e-08a4-432d-941a-df3dd73c41e2",
   "metadata": {},
   "outputs": [
    {
     "name": "stdout",
     "output_type": "stream",
     "text": [
      "Tags are incorrect in 8.9% percent of observations.\n"
     ]
    }
   ],
   "source": [
    "print(f'Tags are incorrect in {len(errors) / len(df):.1%} percent of observations.')"
   ]
  },
  {
   "cell_type": "markdown",
   "id": "c833ed42-b2ca-4061-a8e8-9773a8a45f42",
   "metadata": {},
   "source": [
    "### Case 2: incorrectly empty manual and auto purpose tag"
   ]
  },
  {
   "cell_type": "code",
   "execution_count": 76,
   "id": "d1b99ec7-42ae-4925-9d93-166dfd77d868",
   "metadata": {},
   "outputs": [
    {
     "data": {
      "text/html": [
       "<div>\n",
       "<style scoped>\n",
       "    .dataframe tbody tr th:only-of-type {\n",
       "        vertical-align: middle;\n",
       "    }\n",
       "\n",
       "    .dataframe tbody tr th {\n",
       "        vertical-align: top;\n",
       "    }\n",
       "\n",
       "    .dataframe thead th {\n",
       "        text-align: right;\n",
       "    }\n",
       "</style>\n",
       "<table border=\"1\" class=\"dataframe\">\n",
       "  <thead>\n",
       "    <tr style=\"text-align: right;\">\n",
       "      <th></th>\n",
       "      <th>User Precedence Tag Name</th>\n",
       "      <th>Manual Tag Name</th>\n",
       "      <th>Auto Purpose Tag Name</th>\n",
       "    </tr>\n",
       "  </thead>\n",
       "  <tbody>\n",
       "    <tr>\n",
       "      <th>507</th>\n",
       "      <td>Financial - other</td>\n",
       "      <td>No Tag</td>\n",
       "      <td>No Tag</td>\n",
       "    </tr>\n",
       "    <tr>\n",
       "      <th>590</th>\n",
       "      <td>Water</td>\n",
       "      <td>No Tag</td>\n",
       "      <td>No Tag</td>\n",
       "    </tr>\n",
       "  </tbody>\n",
       "</table>\n",
       "</div>"
      ],
      "text/plain": [
       "    User Precedence Tag Name Manual Tag Name Auto Purpose Tag Name\n",
       "507        Financial - other          No Tag                No Tag\n",
       "590                    Water          No Tag                No Tag"
      ]
     },
     "execution_count": 76,
     "metadata": {},
     "output_type": "execute_result"
    }
   ],
   "source": [
    "mask = ((tags['User Precedence Tag Name'] != 'No Tag')\n",
    "        & (tags['Auto Purpose Tag Name'] == 'No Tag') \n",
    "        & (tags['Manual Tag Name'] == 'No Tag'))\n",
    "errors = tags[mask]\n",
    "errors.head(2)"
   ]
  },
  {
   "cell_type": "code",
   "execution_count": 77,
   "id": "9931fdb9-c06c-45f4-9914-2e3ecc0a725c",
   "metadata": {},
   "outputs": [
    {
     "name": "stdout",
     "output_type": "stream",
     "text": [
      "Tags are incorrect in 0.4% percent of observations.\n"
     ]
    }
   ],
   "source": [
    "print(f'Tags are incorrect in {len(errors) / len(df):.1%} percent of observations.')"
   ]
  },
  {
   "cell_type": "markdown",
   "id": "3fcdc6ee-a8c0-45a2-905f-2b739a5dd838",
   "metadata": {},
   "source": [
    "### Correction"
   ]
  },
  {
   "cell_type": "code",
   "execution_count": null,
   "id": "388760ed-ef47-4995-a809-02a8c4f6355a",
   "metadata": {},
   "outputs": [],
   "source": [
    "def correct_tag_up(df):\n",
    "    \"\"\"Set tag_up to tag_manual if tag_manual not missing else to tag_auto.\n",
    "    \n",
    "    This definition of tag_up is violated in two ways: sometimes tag_up is\n",
    "    missing while one of the other two tags isn't, sometimes tag_up is\n",
    "    not missing but both other tags are. In the latter case, we leave tag_up\n",
    "    unchanged.\n",
    "    \"\"\"\n",
    "    correct_up_value = df.tag_manual.fillna(df.tag_auto)\n",
    "    df['tag_up'] = (df.tag_up.where(df.tag_up.notna(), correct_up_value)\n",
    "    return df\n"
   ]
  },
  {
   "cell_type": "code",
   "execution_count": null,
   "id": "1577f285-5667-4ac8-b0df-9302ad66c718",
   "metadata": {},
   "outputs": [],
   "source": []
  }
 ],
 "metadata": {
  "kernelspec": {
   "display_name": "entropy",
   "language": "python",
   "name": "entropy"
  },
  "language_info": {
   "codemirror_mode": {
    "name": "ipython",
    "version": 3
   },
   "file_extension": ".py",
   "mimetype": "text/x-python",
   "name": "python",
   "nbconvert_exporter": "python",
   "pygments_lexer": "ipython3",
   "version": "3.9.6"
  }
 },
 "nbformat": 4,
 "nbformat_minor": 5
}
