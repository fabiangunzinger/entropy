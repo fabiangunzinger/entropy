{
 "cells": [
  {
   "cell_type": "code",
   "execution_count": 2,
   "id": "13bef683-64f8-4c36-bec3-05ecb69b15c5",
   "metadata": {
    "tags": []
   },
   "outputs": [],
   "source": [
    "import os\n",
    "import sys\n",
    "\n",
    "import matplotlib.pyplot as plt\n",
    "import numpy as np\n",
    "import pandas as pd\n",
    "import s3fs\n",
    "import seaborn as sns\n",
    "\n",
    "sys.path.append(\"/Users/fgu/dev/projects/entropy\")\n",
    "import entropy.data.cleaners as cl\n",
    "import entropy.data.creators as cr\n",
    "import entropy.data.selectors as sl\n",
    "import entropy.figures.figures as figs\n",
    "import entropy.helpers.aws as ha\n",
    "import entropy.helpers.data as hd\n",
    "import entropy.helpers.helpers as hh\n",
    "from entropy import config\n",
    "\n",
    "sns.set_style(\"whitegrid\")\n",
    "pd.set_option(\"display.max_rows\", 120)\n",
    "pd.set_option(\"display.max_columns\", 120)\n",
    "pd.set_option(\"max_colwidth\", None)\n",
    "%config InlineBackend.figure_format = 'retina'\n",
    "%load_ext autoreload\n",
    "%autoreload 2\n",
    "\n",
    "fs = s3fs.S3FileSystem(profile=\"3di\")"
   ]
  },
  {
   "cell_type": "code",
   "execution_count": 3,
   "id": "7a1be7c3-dc34-4511-b40d-16035be4b169",
   "metadata": {},
   "outputs": [
    {
     "name": "stdout",
     "output_type": "stream",
     "text": [
      "Time for read_sample    : 1.88 seconds\n",
      "Time for read_sample    : 3.30 minutes\n",
      "(7,531,116, 31)\n"
     ]
    },
    {
     "data": {
      "text/html": [
       "<div>\n",
       "<style scoped>\n",
       "    .dataframe tbody tr th:only-of-type {\n",
       "        vertical-align: middle;\n",
       "    }\n",
       "\n",
       "    .dataframe tbody tr th {\n",
       "        vertical-align: top;\n",
       "    }\n",
       "\n",
       "    .dataframe thead th {\n",
       "        text-align: right;\n",
       "    }\n",
       "</style>\n",
       "<table border=\"1\" class=\"dataframe\">\n",
       "  <thead>\n",
       "    <tr style=\"text-align: right;\">\n",
       "      <th></th>\n",
       "      <th>id</th>\n",
       "      <th>date</th>\n",
       "      <th>user_id</th>\n",
       "      <th>amount</th>\n",
       "      <th>desc</th>\n",
       "      <th>merchant</th>\n",
       "      <th>tag_group</th>\n",
       "      <th>tag</th>\n",
       "      <th>user_female</th>\n",
       "      <th>user_postcode</th>\n",
       "      <th>user_registration_date</th>\n",
       "      <th>user_salary_range</th>\n",
       "      <th>user_yob</th>\n",
       "      <th>account_created</th>\n",
       "      <th>account_id</th>\n",
       "      <th>account_last_refreshed</th>\n",
       "      <th>account_provider</th>\n",
       "      <th>account_type</th>\n",
       "      <th>data_warehouse_date_created</th>\n",
       "      <th>data_warehouse_date_last_updated</th>\n",
       "      <th>debit</th>\n",
       "      <th>latest_balance</th>\n",
       "      <th>merchant_business_line</th>\n",
       "      <th>tag_auto</th>\n",
       "      <th>tag_manual</th>\n",
       "      <th>tag_up</th>\n",
       "      <th>updated_flag</th>\n",
       "      <th>ym</th>\n",
       "      <th>balance</th>\n",
       "      <th>income</th>\n",
       "      <th>entropy_sptac</th>\n",
       "    </tr>\n",
       "  </thead>\n",
       "  <tbody>\n",
       "    <tr>\n",
       "      <th>0</th>\n",
       "      <td>19510816</td>\n",
       "      <td>2014-03-07</td>\n",
       "      <td>107</td>\n",
       "      <td>9.20</td>\n",
       "      <td>paypal sandrpowell 9001</td>\n",
       "      <td>paypal</td>\n",
       "      <td>spend</td>\n",
       "      <td>services</td>\n",
       "      <td>0.0</td>\n",
       "      <td>gl3 4</td>\n",
       "      <td>2010-05-10</td>\n",
       "      <td>40k to 50k</td>\n",
       "      <td>1984.0</td>\n",
       "      <td>2014-05-11</td>\n",
       "      <td>238820</td>\n",
       "      <td>2020-08-16 12:13:00</td>\n",
       "      <td>barclaycard</td>\n",
       "      <td>credit card</td>\n",
       "      <td>2014-07-18</td>\n",
       "      <td>2017-09-12</td>\n",
       "      <td>True</td>\n",
       "      <td>NaN</td>\n",
       "      <td>paypal</td>\n",
       "      <td>enjoyment</td>\n",
       "      <td>home electronics</td>\n",
       "      <td>home electronics</td>\n",
       "      <td>u</td>\n",
       "      <td>201403</td>\n",
       "      <td>NaN</td>\n",
       "      <td>27530.926758</td>\n",
       "      <td>2.036569</td>\n",
       "    </tr>\n",
       "    <tr>\n",
       "      <th>1</th>\n",
       "      <td>19510817</td>\n",
       "      <td>2014-03-08</td>\n",
       "      <td>107</td>\n",
       "      <td>6.94</td>\n",
       "      <td>paypal smartbitsso 9001</td>\n",
       "      <td>paypal</td>\n",
       "      <td>spend</td>\n",
       "      <td>services</td>\n",
       "      <td>0.0</td>\n",
       "      <td>gl3 4</td>\n",
       "      <td>2010-05-10</td>\n",
       "      <td>40k to 50k</td>\n",
       "      <td>1984.0</td>\n",
       "      <td>2014-05-11</td>\n",
       "      <td>238820</td>\n",
       "      <td>2020-08-16 12:13:00</td>\n",
       "      <td>barclaycard</td>\n",
       "      <td>credit card</td>\n",
       "      <td>2014-07-18</td>\n",
       "      <td>2017-09-12</td>\n",
       "      <td>True</td>\n",
       "      <td>NaN</td>\n",
       "      <td>paypal</td>\n",
       "      <td>enjoyment</td>\n",
       "      <td>home electronics</td>\n",
       "      <td>home electronics</td>\n",
       "      <td>u</td>\n",
       "      <td>201403</td>\n",
       "      <td>NaN</td>\n",
       "      <td>27530.926758</td>\n",
       "      <td>2.036569</td>\n",
       "    </tr>\n",
       "  </tbody>\n",
       "</table>\n",
       "</div>"
      ],
      "text/plain": [
       "         id       date  user_id  amount                     desc merchant  \\\n",
       "0  19510816 2014-03-07      107    9.20  paypal sandrpowell 9001   paypal   \n",
       "1  19510817 2014-03-08      107    6.94  paypal smartbitsso 9001   paypal   \n",
       "\n",
       "  tag_group       tag  user_female user_postcode user_registration_date  \\\n",
       "0     spend  services          0.0         gl3 4             2010-05-10   \n",
       "1     spend  services          0.0         gl3 4             2010-05-10   \n",
       "\n",
       "  user_salary_range  user_yob account_created  account_id  \\\n",
       "0        40k to 50k    1984.0      2014-05-11      238820   \n",
       "1        40k to 50k    1984.0      2014-05-11      238820   \n",
       "\n",
       "  account_last_refreshed account_provider account_type  \\\n",
       "0    2020-08-16 12:13:00      barclaycard  credit card   \n",
       "1    2020-08-16 12:13:00      barclaycard  credit card   \n",
       "\n",
       "  data_warehouse_date_created data_warehouse_date_last_updated  debit  \\\n",
       "0                  2014-07-18                       2017-09-12   True   \n",
       "1                  2014-07-18                       2017-09-12   True   \n",
       "\n",
       "   latest_balance merchant_business_line   tag_auto        tag_manual  \\\n",
       "0             NaN                 paypal  enjoyment  home electronics   \n",
       "1             NaN                 paypal  enjoyment  home electronics   \n",
       "\n",
       "             tag_up updated_flag      ym  balance        income  entropy_sptac  \n",
       "0  home electronics            u  201403      NaN  27530.926758       2.036569  \n",
       "1  home electronics            u  201403      NaN  27530.926758       2.036569  "
      ]
     },
     "metadata": {},
     "output_type": "display_data"
    }
   ],
   "source": [
    "dfs, df = hd.read_samples([\"777\", \"XX7\"])\n",
    "hd.inspect(df)"
   ]
  },
  {
   "cell_type": "code",
   "execution_count": 391,
   "id": "89a8105d-091b-4976-b69a-26fe6c594ccc",
   "metadata": {},
   "outputs": [
    {
     "data": {
      "text/plain": [
       "count    65964.000000\n",
       "mean     25857.369215\n",
       "std      11574.543785\n",
       "min       6658.520020\n",
       "25%      19063.750000\n",
       "50%      24264.291016\n",
       "75%      32108.140625\n",
       "max      74680.907812\n",
       "Name: income, dtype: float64"
      ]
     },
     "execution_count": 391,
     "metadata": {},
     "output_type": "execute_result"
    }
   ],
   "source": [
    "sl.income_amount(dfs).income.describe()"
   ]
  },
  {
   "cell_type": "code",
   "execution_count": null,
   "id": "e8aae8e4-8ba5-452e-b9cd-230c421c8af1",
   "metadata": {},
   "outputs": [],
   "source": []
  },
  {
   "cell_type": "code",
   "execution_count": null,
   "id": "0824a244-2c4c-419c-bf64-f7838881bcf5",
   "metadata": {},
   "outputs": [],
   "source": []
  },
  {
   "cell_type": "code",
   "execution_count": 364,
   "id": "1ffad599-7c40-4640-b2c9-cdbfd4332a9f",
   "metadata": {},
   "outputs": [],
   "source": [
    "data = dfs.drop(columns=\"income\")"
   ]
  },
  {
   "cell_type": "code",
   "execution_count": 369,
   "id": "0fe6b091-d682-4627-bb51-068ab118ca0b",
   "metadata": {},
   "outputs": [
    {
     "ename": "AssertionError",
     "evalue": "DataFrame are different\n\nDataFrame shape mismatch\n[left]:  (69421, 31)\n[right]: (69077, 31)",
     "output_type": "error",
     "traceback": [
      "\u001b[0;31m---------------------------------------------------------------------------\u001b[0m",
      "\u001b[0;31mAssertionError\u001b[0m                            Traceback (most recent call last)",
      "\u001b[0;32m/var/folders/xg/n9p73cf50s52twlnz7z778vr0000gn/T/ipykernel_3058/409963635.py\u001b[0m in \u001b[0;36m<module>\u001b[0;34m\u001b[0m\n\u001b[0;32m----> 1\u001b[0;31m \u001b[0mpd\u001b[0m\u001b[0;34m.\u001b[0m\u001b[0mtesting\u001b[0m\u001b[0;34m.\u001b[0m\u001b[0massert_frame_equal\u001b[0m\u001b[0;34m(\u001b[0m\u001b[0mincome\u001b[0m\u001b[0;34m(\u001b[0m\u001b[0mdata\u001b[0m\u001b[0;34m)\u001b[0m\u001b[0;34m,\u001b[0m \u001b[0mincome2\u001b[0m\u001b[0;34m(\u001b[0m\u001b[0mdata\u001b[0m\u001b[0;34m)\u001b[0m\u001b[0;34m)\u001b[0m\u001b[0;34m\u001b[0m\u001b[0;34m\u001b[0m\u001b[0m\n\u001b[0m",
      "    \u001b[0;31m[... skipping hidden 1 frame]\u001b[0m\n",
      "\u001b[0;32m~/miniconda3/envs/entropy/lib/python3.9/site-packages/pandas/_testing/asserters.py\u001b[0m in \u001b[0;36mraise_assert_detail\u001b[0;34m(obj, message, left, right, diff, index_values)\u001b[0m\n\u001b[1;32m    663\u001b[0m         \u001b[0mmsg\u001b[0m \u001b[0;34m+=\u001b[0m \u001b[0;34mf\"\\n[diff]: {diff}\"\u001b[0m\u001b[0;34m\u001b[0m\u001b[0;34m\u001b[0m\u001b[0m\n\u001b[1;32m    664\u001b[0m \u001b[0;34m\u001b[0m\u001b[0m\n\u001b[0;32m--> 665\u001b[0;31m     \u001b[0;32mraise\u001b[0m \u001b[0mAssertionError\u001b[0m\u001b[0;34m(\u001b[0m\u001b[0mmsg\u001b[0m\u001b[0;34m)\u001b[0m\u001b[0;34m\u001b[0m\u001b[0;34m\u001b[0m\u001b[0m\n\u001b[0m\u001b[1;32m    666\u001b[0m \u001b[0;34m\u001b[0m\u001b[0m\n\u001b[1;32m    667\u001b[0m \u001b[0;34m\u001b[0m\u001b[0m\n",
      "\u001b[0;31mAssertionError\u001b[0m: DataFrame are different\n\nDataFrame shape mismatch\n[left]:  (69421, 31)\n[right]: (69077, 31)"
     ]
    }
   ],
   "source": [
    "pd.testing.assert_frame_equal(income(data), income2(data))"
   ]
  },
  {
   "cell_type": "code",
   "execution_count": null,
   "id": "89413d8f-ccb7-4fdb-9a8a-a19a52d09a7a",
   "metadata": {},
   "outputs": [],
   "source": []
  }
 ],
 "metadata": {
  "kernelspec": {
   "display_name": "entropy",
   "language": "python",
   "name": "entropy"
  },
  "language_info": {
   "codemirror_mode": {
    "name": "ipython",
    "version": 3
   },
   "file_extension": ".py",
   "mimetype": "text/x-python",
   "name": "python",
   "nbconvert_exporter": "python",
   "pygments_lexer": "ipython3",
   "version": "3.9.7"
  }
 },
 "nbformat": 4,
 "nbformat_minor": 5
}
