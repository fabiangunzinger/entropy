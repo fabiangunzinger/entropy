{
 "cells": [
  {
   "cell_type": "markdown",
   "id": "585fbeec-b261-40d2-bd56-cb42d828b773",
   "metadata": {},
   "source": [
    "Notebook purpose\n",
    "\n",
    "- Sense-check and explore calculated salaries"
   ]
  },
  {
   "cell_type": "code",
   "execution_count": 7,
   "id": "13bef683-64f8-4c36-bec3-05ecb69b15c5",
   "metadata": {
    "tags": []
   },
   "outputs": [
    {
     "name": "stdout",
     "output_type": "stream",
     "text": [
      "The autoreload extension is already loaded. To reload it, use:\n",
      "  %reload_ext autoreload\n"
     ]
    }
   ],
   "source": [
    "import os\n",
    "import sys\n",
    "import numpy as np\n",
    "import pandas as pd\n",
    "sys.path.append('/Users/fgu/dev/projects/entropy')\n",
    "import entropy.helpers.aws as aws\n",
    "import entropy.data.cleaners as cl\n",
    "import entropy.data.creators as cr\n",
    "\n",
    "pd.set_option('display.max_rows', 120)\n",
    "pd.set_option('display.max_columns', 120)\n",
    "pd.set_option('max_colwidth', None)\n",
    "%config InlineBackend.figure_format = 'retina'\n",
    "%load_ext autoreload\n",
    "%autoreload 2"
   ]
  },
  {
   "cell_type": "code",
   "execution_count": 8,
   "id": "f56ca4fb-7702-4f27-8d47-a0ba1d14d897",
   "metadata": {},
   "outputs": [
    {
     "data": {
      "text/html": [
       "<div>\n",
       "<style scoped>\n",
       "    .dataframe tbody tr th:only-of-type {\n",
       "        vertical-align: middle;\n",
       "    }\n",
       "\n",
       "    .dataframe tbody tr th {\n",
       "        vertical-align: top;\n",
       "    }\n",
       "\n",
       "    .dataframe thead th {\n",
       "        text-align: right;\n",
       "    }\n",
       "</style>\n",
       "<table border=\"1\" class=\"dataframe\">\n",
       "  <thead>\n",
       "    <tr style=\"text-align: right;\">\n",
       "      <th></th>\n",
       "      <th>id</th>\n",
       "      <th>date</th>\n",
       "      <th>user_id</th>\n",
       "      <th>amount</th>\n",
       "      <th>desc</th>\n",
       "      <th>merchant</th>\n",
       "      <th>tag</th>\n",
       "      <th>user_female</th>\n",
       "      <th>user_postcode</th>\n",
       "      <th>user_registration_date</th>\n",
       "      <th>user_salary_range</th>\n",
       "      <th>user_yob</th>\n",
       "      <th>account_created</th>\n",
       "      <th>account_id</th>\n",
       "      <th>account_last_refreshed</th>\n",
       "      <th>account_provider</th>\n",
       "      <th>account_type</th>\n",
       "      <th>data_warehouse_date_created</th>\n",
       "      <th>data_warehouse_date_last_updated</th>\n",
       "      <th>debit</th>\n",
       "      <th>latest_balance</th>\n",
       "      <th>merchant_business_line</th>\n",
       "      <th>tag_auto</th>\n",
       "      <th>tag_manual</th>\n",
       "      <th>tag_up</th>\n",
       "      <th>ym</th>\n",
       "      <th>balance</th>\n",
       "      <th>income</th>\n",
       "    </tr>\n",
       "  </thead>\n",
       "  <tbody>\n",
       "    <tr>\n",
       "      <th>0</th>\n",
       "      <td>688261</td>\n",
       "      <td>2012-01-03</td>\n",
       "      <td>777</td>\n",
       "      <td>400.00</td>\n",
       "      <td>&lt;mdbremoved&gt; - s/o</td>\n",
       "      <td>NaN</td>\n",
       "      <td>transfers</td>\n",
       "      <td>False</td>\n",
       "      <td>wa1 4</td>\n",
       "      <td>2011-07-20</td>\n",
       "      <td>20k to 30k</td>\n",
       "      <td>1969.0</td>\n",
       "      <td>2011-07-20</td>\n",
       "      <td>262916</td>\n",
       "      <td>2020-07-21 20:32:00</td>\n",
       "      <td>natwest bank</td>\n",
       "      <td>current</td>\n",
       "      <td>2014-07-18</td>\n",
       "      <td>2017-11-13</td>\n",
       "      <td>True</td>\n",
       "      <td>364.220001</td>\n",
       "      <td>non merchant mbl</td>\n",
       "      <td>transfers</td>\n",
       "      <td>other account</td>\n",
       "      <td>other account</td>\n",
       "      <td>201201</td>\n",
       "      <td>2179.515625</td>\n",
       "      <td>24319.220881</td>\n",
       "    </tr>\n",
       "    <tr>\n",
       "      <th>1</th>\n",
       "      <td>688264</td>\n",
       "      <td>2012-01-03</td>\n",
       "      <td>777</td>\n",
       "      <td>10.27</td>\n",
       "      <td>9572 30dec11 , mcdonalds , restaurant , winwick road gb - pos</td>\n",
       "      <td>mcdonalds</td>\n",
       "      <td>dining and drinking</td>\n",
       "      <td>False</td>\n",
       "      <td>wa1 4</td>\n",
       "      <td>2011-07-20</td>\n",
       "      <td>20k to 30k</td>\n",
       "      <td>1969.0</td>\n",
       "      <td>2011-07-20</td>\n",
       "      <td>262916</td>\n",
       "      <td>2020-07-21 20:32:00</td>\n",
       "      <td>natwest bank</td>\n",
       "      <td>current</td>\n",
       "      <td>2014-07-18</td>\n",
       "      <td>2015-03-19</td>\n",
       "      <td>True</td>\n",
       "      <td>364.220001</td>\n",
       "      <td>mcdonalds</td>\n",
       "      <td>dining and drinking</td>\n",
       "      <td>NaN</td>\n",
       "      <td>dining and drinking</td>\n",
       "      <td>201201</td>\n",
       "      <td>2179.515625</td>\n",
       "      <td>24319.220881</td>\n",
       "    </tr>\n",
       "  </tbody>\n",
       "</table>\n",
       "</div>"
      ],
      "text/plain": [
       "       id       date  user_id  amount  \\\n",
       "0  688261 2012-01-03      777  400.00   \n",
       "1  688264 2012-01-03      777   10.27   \n",
       "\n",
       "                                                            desc   merchant  \\\n",
       "0                                             <mdbremoved> - s/o        NaN   \n",
       "1  9572 30dec11 , mcdonalds , restaurant , winwick road gb - pos  mcdonalds   \n",
       "\n",
       "                   tag user_female user_postcode user_registration_date  \\\n",
       "0            transfers       False         wa1 4             2011-07-20   \n",
       "1  dining and drinking       False         wa1 4             2011-07-20   \n",
       "\n",
       "  user_salary_range  user_yob account_created  account_id  \\\n",
       "0        20k to 30k    1969.0      2011-07-20      262916   \n",
       "1        20k to 30k    1969.0      2011-07-20      262916   \n",
       "\n",
       "  account_last_refreshed account_provider account_type  \\\n",
       "0    2020-07-21 20:32:00     natwest bank      current   \n",
       "1    2020-07-21 20:32:00     natwest bank      current   \n",
       "\n",
       "  data_warehouse_date_created data_warehouse_date_last_updated  debit  \\\n",
       "0                  2014-07-18                       2017-11-13   True   \n",
       "1                  2014-07-18                       2015-03-19   True   \n",
       "\n",
       "   latest_balance merchant_business_line             tag_auto     tag_manual  \\\n",
       "0      364.220001       non merchant mbl            transfers  other account   \n",
       "1      364.220001              mcdonalds  dining and drinking            NaN   \n",
       "\n",
       "                tag_up      ym      balance        income  \n",
       "0        other account  201201  2179.515625  24319.220881  \n",
       "1  dining and drinking  201201  2179.515625  24319.220881  "
      ]
     },
     "execution_count": 8,
     "metadata": {},
     "output_type": "execute_result"
    }
   ],
   "source": [
    "SAMPLE = '777'\n",
    "fp = f'~/tmp/entropy_{SAMPLE}.parquet'\n",
    "\n",
    "df = aws.read_parquet(fp)\n",
    "df.head(2)"
   ]
  },
  {
   "cell_type": "code",
   "execution_count": 9,
   "id": "9c0340d5-9234-40a6-a692-a4e4adafe243",
   "metadata": {},
   "outputs": [
    {
     "data": {
      "text/plain": [
       "count    123461.000000\n",
       "mean      25961.065555\n",
       "std       13902.765514\n",
       "min        1080.000000\n",
       "25%       18135.621094\n",
       "50%       23626.849609\n",
       "75%       30828.178711\n",
       "max       90528.451172\n",
       "Name: income, dtype: float64"
      ]
     },
     "execution_count": 9,
     "metadata": {},
     "output_type": "execute_result"
    }
   ],
   "source": [
    "df.income.describe()"
   ]
  },
  {
   "cell_type": "code",
   "execution_count": 19,
   "id": "46d029b2-4f21-4600-81ad-7b523793432c",
   "metadata": {},
   "outputs": [
    {
     "data": {
      "image/png": "[encoded data removed]",
      "text/plain": [
       "<Figure size 432x288 with 1 Axes>"
      ]
     },
     "metadata": {
      "image/png": {
       "height": 250,
       "width": 388
      },
      "needs_background": "light"
     },
     "output_type": "display_data"
    }
   ],
   "source": [
    "df.income.hist(bins=20);"
   ]
  },
  {
   "cell_type": "code",
   "execution_count": null,
   "id": "2ea365a5-a75f-4d0f-a9c4-d7fe0a5e2a43",
   "metadata": {},
   "outputs": [],
   "source": []
  }
 ],
 "metadata": {
  "kernelspec": {
   "display_name": "entropy",
   "language": "python",
   "name": "entropy"
  },
  "language_info": {
   "codemirror_mode": {
    "name": "ipython",
    "version": 3
   },
   "file_extension": ".py",
   "mimetype": "text/x-python",
   "name": "python",
   "nbconvert_exporter": "python",
   "pygments_lexer": "ipython3",
   "version": "3.9.6"
  },
  "toc-autonumbering": false,
  "toc-showcode": false,
  "toc-showmarkdowntxt": false
 },
 "nbformat": 4,
 "nbformat_minor": 5
}
