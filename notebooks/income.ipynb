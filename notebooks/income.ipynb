{
 "cells": [
  {
   "cell_type": "markdown",
   "id": "585fbeec-b261-40d2-bd56-cb42d828b773",
   "metadata": {},
   "source": [
    "Notebook purpose\n",
    "\n",
    "- Sense-check and explore calculated salaries"
   ]
  },
  {
   "cell_type": "code",
   "execution_count": 2,
   "id": "13bef683-64f8-4c36-bec3-05ecb69b15c5",
   "metadata": {
    "tags": []
   },
   "outputs": [],
   "source": [
    "import os\n",
    "import sys\n",
    "import numpy as np\n",
    "import pandas as pd\n",
    "sys.path.append('/Users/fgu/dev/projects/entropy')\n",
    "import entropy.helpers.aws as aws\n",
    "import entropy.data.cleaners as cl\n",
    "import entropy.data.creators as cr\n",
    "\n",
    "pd.set_option('display.max_rows', 120)\n",
    "pd.set_option('display.max_columns', 120)\n",
    "pd.set_option('max_colwidth', None)\n",
    "%config InlineBackend.figure_format = 'retina'\n",
    "%load_ext autoreload\n",
    "%autoreload 2"
   ]
  },
  {
   "cell_type": "code",
   "execution_count": 13,
   "id": "f56ca4fb-7702-4f27-8d47-a0ba1d14d897",
   "metadata": {},
   "outputs": [
    {
     "data": {
      "text/html": [
       "<div>\n",
       "<style scoped>\n",
       "    .dataframe tbody tr th:only-of-type {\n",
       "        vertical-align: middle;\n",
       "    }\n",
       "\n",
       "    .dataframe tbody tr th {\n",
       "        vertical-align: top;\n",
       "    }\n",
       "\n",
       "    .dataframe thead th {\n",
       "        text-align: right;\n",
       "    }\n",
       "</style>\n",
       "<table border=\"1\" class=\"dataframe\">\n",
       "  <thead>\n",
       "    <tr style=\"text-align: right;\">\n",
       "      <th></th>\n",
       "      <th>id</th>\n",
       "      <th>date</th>\n",
       "      <th>user_id</th>\n",
       "      <th>amount</th>\n",
       "      <th>desc</th>\n",
       "      <th>merchant</th>\n",
       "      <th>tag_group</th>\n",
       "      <th>tag</th>\n",
       "      <th>user_female</th>\n",
       "      <th>user_postcode</th>\n",
       "      <th>user_registration_date</th>\n",
       "      <th>user_salary_range</th>\n",
       "      <th>user_yob</th>\n",
       "      <th>account_created</th>\n",
       "      <th>account_id</th>\n",
       "      <th>account_last_refreshed</th>\n",
       "      <th>account_provider</th>\n",
       "      <th>account_type</th>\n",
       "      <th>data_warehouse_date_created</th>\n",
       "      <th>data_warehouse_date_last_updated</th>\n",
       "      <th>debit</th>\n",
       "      <th>latest_balance</th>\n",
       "      <th>merchant_business_line</th>\n",
       "      <th>tag_auto</th>\n",
       "      <th>tag_manual</th>\n",
       "      <th>tag_up</th>\n",
       "      <th>updated_flag</th>\n",
       "      <th>ym</th>\n",
       "      <th>balance</th>\n",
       "      <th>income</th>\n",
       "      <th>savings</th>\n",
       "    </tr>\n",
       "  </thead>\n",
       "  <tbody>\n",
       "    <tr>\n",
       "      <th>0</th>\n",
       "      <td>688261</td>\n",
       "      <td>2012-01-03</td>\n",
       "      <td>777</td>\n",
       "      <td>400.00</td>\n",
       "      <td>&lt;mdbremoved&gt; - s/o</td>\n",
       "      <td>NaN</td>\n",
       "      <td>transfers</td>\n",
       "      <td>tsransfer</td>\n",
       "      <td>False</td>\n",
       "      <td>wa1 4</td>\n",
       "      <td>2011-07-20</td>\n",
       "      <td>20k to 30k</td>\n",
       "      <td>1969.0</td>\n",
       "      <td>2011-07-20</td>\n",
       "      <td>262916</td>\n",
       "      <td>2020-07-21 20:32:00</td>\n",
       "      <td>natwest bank</td>\n",
       "      <td>current</td>\n",
       "      <td>2014-07-18</td>\n",
       "      <td>2017-11-13</td>\n",
       "      <td>True</td>\n",
       "      <td>364.220001</td>\n",
       "      <td>non merchant mbl</td>\n",
       "      <td>transfers</td>\n",
       "      <td>other account</td>\n",
       "      <td>other account</td>\n",
       "      <td>u</td>\n",
       "      <td>201201</td>\n",
       "      <td>-1451.075562</td>\n",
       "      <td>24319.220881</td>\n",
       "      <td>False</td>\n",
       "    </tr>\n",
       "    <tr>\n",
       "      <th>1</th>\n",
       "      <td>688264</td>\n",
       "      <td>2012-01-03</td>\n",
       "      <td>777</td>\n",
       "      <td>10.27</td>\n",
       "      <td>9572 30dec11 , mcdonalds , restaurant , winwick road gb - pos</td>\n",
       "      <td>mcdonalds</td>\n",
       "      <td>spend</td>\n",
       "      <td>services</td>\n",
       "      <td>False</td>\n",
       "      <td>wa1 4</td>\n",
       "      <td>2011-07-20</td>\n",
       "      <td>20k to 30k</td>\n",
       "      <td>1969.0</td>\n",
       "      <td>2011-07-20</td>\n",
       "      <td>262916</td>\n",
       "      <td>2020-07-21 20:32:00</td>\n",
       "      <td>natwest bank</td>\n",
       "      <td>current</td>\n",
       "      <td>2014-07-18</td>\n",
       "      <td>2015-03-19</td>\n",
       "      <td>True</td>\n",
       "      <td>364.220001</td>\n",
       "      <td>mcdonalds</td>\n",
       "      <td>dining and drinking</td>\n",
       "      <td>NaN</td>\n",
       "      <td>dining and drinking</td>\n",
       "      <td>u</td>\n",
       "      <td>201201</td>\n",
       "      <td>-1451.075562</td>\n",
       "      <td>24319.220881</td>\n",
       "      <td>False</td>\n",
       "    </tr>\n",
       "  </tbody>\n",
       "</table>\n",
       "</div>"
      ],
      "text/plain": [
       "       id       date  user_id  amount  \\\n",
       "0  688261 2012-01-03      777  400.00   \n",
       "1  688264 2012-01-03      777   10.27   \n",
       "\n",
       "                                                            desc   merchant  \\\n",
       "0                                             <mdbremoved> - s/o        NaN   \n",
       "1  9572 30dec11 , mcdonalds , restaurant , winwick road gb - pos  mcdonalds   \n",
       "\n",
       "   tag_group        tag user_female user_postcode user_registration_date  \\\n",
       "0  transfers  tsransfer       False         wa1 4             2011-07-20   \n",
       "1      spend   services       False         wa1 4             2011-07-20   \n",
       "\n",
       "  user_salary_range  user_yob account_created  account_id  \\\n",
       "0        20k to 30k    1969.0      2011-07-20      262916   \n",
       "1        20k to 30k    1969.0      2011-07-20      262916   \n",
       "\n",
       "  account_last_refreshed account_provider account_type  \\\n",
       "0    2020-07-21 20:32:00     natwest bank      current   \n",
       "1    2020-07-21 20:32:00     natwest bank      current   \n",
       "\n",
       "  data_warehouse_date_created data_warehouse_date_last_updated  debit  \\\n",
       "0                  2014-07-18                       2017-11-13   True   \n",
       "1                  2014-07-18                       2015-03-19   True   \n",
       "\n",
       "   latest_balance merchant_business_line             tag_auto     tag_manual  \\\n",
       "0      364.220001       non merchant mbl            transfers  other account   \n",
       "1      364.220001              mcdonalds  dining and drinking            NaN   \n",
       "\n",
       "                tag_up updated_flag      ym      balance        income  \\\n",
       "0        other account            u  201201 -1451.075562  24319.220881   \n",
       "1  dining and drinking            u  201201 -1451.075562  24319.220881   \n",
       "\n",
       "   savings  \n",
       "0    False  \n",
       "1    False  "
      ]
     },
     "execution_count": 13,
     "metadata": {},
     "output_type": "execute_result"
    }
   ],
   "source": [
    "SAMPLE = 'X77'\n",
    "fp = f'~/tmp/entropy_{SAMPLE}.parquet'\n",
    "\n",
    "df = aws.read_parquet(fp)\n",
    "df.head(2)"
   ]
  },
  {
   "cell_type": "code",
   "execution_count": 28,
   "id": "09ce762c-5b5a-46e6-a437-af23b068dc49",
   "metadata": {},
   "outputs": [],
   "source": [
    "g = df.groupby(['user_id', df.date.dt.year]).income\n",
    "\n",
    "i = g.first()\n",
    "m = g.mean()"
   ]
  },
  {
   "cell_type": "code",
   "execution_count": 31,
   "id": "199533e4-4279-4621-83f3-f4fe55c0b006",
   "metadata": {},
   "outputs": [
    {
     "data": {
      "text/plain": [
       "user_id  date\n",
       "977      2014              NaN\n",
       "1977     2017              NaN\n",
       "33577    2018              NaN\n",
       "34677    2019              NaN\n",
       "         2020              NaN\n",
       "54177    2014              NaN\n",
       "54277    2018              NaN\n",
       "58077    2014     20311.217076\n",
       "         2017     27448.395597\n",
       "63877    2014     24007.302455\n",
       "68877    2014     11091.891462\n",
       "73977    2014     13698.911719\n",
       "74077    2018              NaN\n",
       "84277    2014     23502.346354\n",
       "105277   2017              NaN\n",
       "129277   2014     15541.268973\n",
       "130077   2017     11907.120384\n",
       "135277   2014     11425.097377\n",
       "153677   2014     14839.584375\n",
       "171677   2018              NaN\n",
       "188877   2014     15691.127344\n",
       "196677   2014              NaN\n",
       "218977   2017              NaN\n",
       "219777   2017              NaN\n",
       "227077   2017              NaN\n",
       "230077   2014              NaN\n",
       "237677   2015     15725.159766\n",
       "238877   2014              NaN\n",
       "244377   2014              NaN\n",
       "267377   2017              NaN\n",
       "269877   2017              NaN\n",
       "276477   2016     24056.348772\n",
       "290377   2014              NaN\n",
       "290777   2014              NaN\n",
       "312577   2018              NaN\n",
       "330677   2017     13586.592187\n",
       "338677   2020              NaN\n",
       "360477   2016              NaN\n",
       "365577   2018              NaN\n",
       "373477   2016              NaN\n",
       "373777   2017     29253.576563\n",
       "374377   2016              NaN\n",
       "375877   2016              NaN\n",
       "406777   2016              NaN\n",
       "         2017     15441.970526\n",
       "411677   2020              NaN\n",
       "412377   2018              NaN\n",
       "413177   2019     58069.210227\n",
       "415377   2018              NaN\n",
       "425977   2017     61865.723438\n",
       "439877   2019     62978.880682\n",
       "445577   2020              NaN\n",
       "453477   2017     26491.345312\n",
       "453977   2020              NaN\n",
       "458877   2016              NaN\n",
       "         2020    126408.815625\n",
       "467477   2017              NaN\n",
       "468177   2016              NaN\n",
       "470977   2017              NaN\n",
       "473477   2020              NaN\n",
       "476777   2017              NaN\n",
       "477677   2017              NaN\n",
       "482577   2019     30591.672656\n",
       "482777   2020              NaN\n",
       "484077   2020              NaN\n",
       "494377   2020              NaN\n",
       "494877   2018     48555.862500\n",
       "504477   2020              NaN\n",
       "511577   2020              NaN\n",
       "517577   2019     11984.231250\n",
       "520477   2019     25295.978693\n",
       "520577   2018     23548.217076\n",
       "526277   2018     28721.927344\n",
       "530577   2020              NaN\n",
       "535177   2020              NaN\n",
       "536777   2017     14256.733073\n",
       "538777   2020              NaN\n",
       "542777   2020              NaN\n",
       "543277   2020              NaN\n",
       "544877   2020              NaN\n",
       "546677   2020              NaN\n",
       "547377   2016              NaN\n",
       "547577   2020              NaN\n",
       "549477   2018              NaN\n",
       "         2019     12497.192472\n",
       "582977   2020     30040.988839\n",
       "Name: income, dtype: float64"
      ]
     },
     "execution_count": 31,
     "metadata": {},
     "output_type": "execute_result"
    }
   ],
   "source": [
    "i[i != m]"
   ]
  },
  {
   "cell_type": "code",
   "execution_count": 16,
   "id": "d8e8c1ee-2093-4b12-acec-79ab35473371",
   "metadata": {},
   "outputs": [
    {
     "data": {
      "text/plain": [
       "count    1295150.0\n",
       "mean       30495.0\n",
       "std        17093.0\n",
       "min            1.0\n",
       "25%        18860.0\n",
       "50%        26363.0\n",
       "75%        37518.0\n",
       "max       148411.0\n",
       "Name: income, dtype: float64"
      ]
     },
     "execution_count": 16,
     "metadata": {},
     "output_type": "execute_result"
    }
   ],
   "source": [
    "df.income.describe().round()"
   ]
  },
  {
   "cell_type": "code",
   "execution_count": 18,
   "id": "bbdfed00-eb47-46f6-bb82-a4a913a7012d",
   "metadata": {},
   "outputs": [
    {
     "data": {
      "image/png": "[encoded data removed]",
      "text/plain": [
       "<Figure size 432x288 with 1 Axes>"
      ]
     },
     "metadata": {
      "image/png": {
       "height": 248,
       "width": 394
      },
      "needs_background": "light"
     },
     "output_type": "display_data"
    }
   ],
   "source": [
    "df.income.hist();"
   ]
  },
  {
   "cell_type": "code",
   "execution_count": null,
   "id": "81ea831b-fcee-45a9-937a-9e6ddb859440",
   "metadata": {},
   "outputs": [],
   "source": []
  },
  {
   "cell_type": "markdown",
   "id": "071bd253-2071-44dd-af37-095184bcfecb",
   "metadata": {},
   "source": [
    "# Old"
   ]
  },
  {
   "cell_type": "code",
   "execution_count": 9,
   "id": "9c0340d5-9234-40a6-a692-a4e4adafe243",
   "metadata": {},
   "outputs": [
    {
     "data": {
      "text/plain": [
       "count    123461.000000\n",
       "mean      25961.065555\n",
       "std       13902.765514\n",
       "min        1080.000000\n",
       "25%       18135.621094\n",
       "50%       23626.849609\n",
       "75%       30828.178711\n",
       "max       90528.451172\n",
       "Name: income, dtype: float64"
      ]
     },
     "execution_count": 9,
     "metadata": {},
     "output_type": "execute_result"
    }
   ],
   "source": [
    "df.income.describe()"
   ]
  },
  {
   "cell_type": "code",
   "execution_count": 19,
   "id": "46d029b2-4f21-4600-81ad-7b523793432c",
   "metadata": {},
   "outputs": [
    {
     "data": {
      "image/png": "[encoded data removed]",
      "text/plain": [
       "<Figure size 432x288 with 1 Axes>"
      ]
     },
     "metadata": {
      "image/png": {
       "height": 250,
       "width": 388
      },
      "needs_background": "light"
     },
     "output_type": "display_data"
    }
   ],
   "source": [
    "df.income.hist(bins=20);"
   ]
  },
  {
   "cell_type": "code",
   "execution_count": null,
   "id": "2ea365a5-a75f-4d0f-a9c4-d7fe0a5e2a43",
   "metadata": {},
   "outputs": [],
   "source": []
  }
 ],
 "metadata": {
  "kernelspec": {
   "display_name": "entropy",
   "language": "python",
   "name": "entropy"
  },
  "language_info": {
   "codemirror_mode": {
    "name": "ipython",
    "version": 3
   },
   "file_extension": ".py",
   "mimetype": "text/x-python",
   "name": "python",
   "nbconvert_exporter": "python",
   "pygments_lexer": "ipython3",
   "version": "3.9.6"
  },
  "toc-autonumbering": false,
  "toc-showcode": false,
  "toc-showmarkdowntxt": false
 },
 "nbformat": 4,
 "nbformat_minor": 5
}
