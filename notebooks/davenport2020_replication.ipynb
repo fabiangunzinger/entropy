{
 "cells": [
  {
   "cell_type": "markdown",
   "id": "585fbeec-b261-40d2-bd56-cb42d828b773",
   "metadata": {},
   "source": [
    "Notebook purpose\n",
    "\n",
    "- Replicate analysis of davenport2020spending"
   ]
  },
  {
   "cell_type": "code",
   "execution_count": 99,
   "id": "13bef683-64f8-4c36-bec3-05ecb69b15c5",
   "metadata": {
    "tags": []
   },
   "outputs": [
    {
     "name": "stdout",
     "output_type": "stream",
     "text": [
      "The autoreload extension is already loaded. To reload it, use:\n",
      "  %reload_ext autoreload\n"
     ]
    }
   ],
   "source": [
    "import os\n",
    "import sys\n",
    "import numpy as np\n",
    "import pandas as pd\n",
    "sys.path.append('/Users/fgu/dev/projects/entropy')\n",
    "import entropy.helpers.aws as aws\n",
    "import entropy.data.cleaners as cl\n",
    "\n",
    "pd.set_option('display.max_rows', 120)\n",
    "pd.set_option('display.max_columns', 120)\n",
    "pd.set_option('max_colwidth', None)\n",
    "%config InlineBackend.figure_format = 'retina'\n",
    "%load_ext autoreload\n",
    "%autoreload 2"
   ]
  },
  {
   "cell_type": "code",
   "execution_count": 8,
   "id": "5a51ea29-7a1b-4323-8e7c-1f70205c504d",
   "metadata": {},
   "outputs": [
    {
     "data": {
      "text/plain": [
       "['3di-data-experian',\n",
       " '3di-data-fable',\n",
       " '3di-data-huq',\n",
       " '3di-data-mdb',\n",
       " '3di-data-ons',\n",
       " '3di-project-entropy',\n",
       " '3di-project-habits',\n",
       " '3di-project-te']"
      ]
     },
     "metadata": {},
     "output_type": "display_data"
    }
   ],
   "source": [
    "d = aws.S3BucketManager(\"\")\n",
    "d.list()"
   ]
  },
  {
   "cell_type": "code",
   "execution_count": 415,
   "id": "83a36dda-6182-4ff2-acc2-48ca7e6390d8",
   "metadata": {},
   "outputs": [],
   "source": [
    "df = aws.s3read_parquet('s3://3di-data-mdb/raw/mdb_000.parquet')\n"
   ]
  },
  {
   "cell_type": "code",
   "execution_count": 426,
   "id": "f56ca4fb-7702-4f27-8d47-a0ba1d14d897",
   "metadata": {},
   "outputs": [
    {
     "data": {
      "text/html": [
       "<div>\n",
       "<style scoped>\n",
       "    .dataframe tbody tr th:only-of-type {\n",
       "        vertical-align: middle;\n",
       "    }\n",
       "\n",
       "    .dataframe tbody tr th {\n",
       "        vertical-align: top;\n",
       "    }\n",
       "\n",
       "    .dataframe thead th {\n",
       "        text-align: right;\n",
       "    }\n",
       "</style>\n",
       "<table border=\"1\" class=\"dataframe\">\n",
       "  <thead>\n",
       "    <tr style=\"text-align: right;\">\n",
       "      <th></th>\n",
       "      <th>id</th>\n",
       "      <th>date</th>\n",
       "      <th>user_id</th>\n",
       "      <th>amount</th>\n",
       "      <th>desc</th>\n",
       "      <th>merchant</th>\n",
       "      <th>tag_up</th>\n",
       "      <th>user_female</th>\n",
       "      <th>user_postcode</th>\n",
       "      <th>user_registration_date</th>\n",
       "      <th>user_salary_range</th>\n",
       "      <th>user_yob</th>\n",
       "      <th>account_created</th>\n",
       "      <th>account_id</th>\n",
       "      <th>account_last_refreshed</th>\n",
       "      <th>account_provider</th>\n",
       "      <th>account_type</th>\n",
       "      <th>data_warehouse_date_created</th>\n",
       "      <th>data_warehouse_date_last_updated</th>\n",
       "      <th>debit</th>\n",
       "      <th>latest_recorded_balance</th>\n",
       "      <th>merchant_business_line</th>\n",
       "      <th>tag</th>\n",
       "      <th>tag_auto</th>\n",
       "      <th>tag_manual</th>\n",
       "    </tr>\n",
       "  </thead>\n",
       "  <tbody>\n",
       "    <tr>\n",
       "      <th>0</th>\n",
       "      <td>688283</td>\n",
       "      <td>2012-01-17</td>\n",
       "      <td>777</td>\n",
       "      <td>42.410000</td>\n",
       "      <td>9572 16jan12 , esso altrincham , sstn , altrincham gb - pos</td>\n",
       "      <td>esso</td>\n",
       "      <td>fuel</td>\n",
       "      <td>False</td>\n",
       "      <td>wa1 4</td>\n",
       "      <td>2011-07-20</td>\n",
       "      <td>20k to 30k</td>\n",
       "      <td>1969.0</td>\n",
       "      <td>2011-07-20</td>\n",
       "      <td>262916</td>\n",
       "      <td>2020-06-25 22:55:00</td>\n",
       "      <td>natwest bank</td>\n",
       "      <td>current</td>\n",
       "      <td>2014-07-18</td>\n",
       "      <td>2017-08-15</td>\n",
       "      <td>True</td>\n",
       "      <td>2378.280029</td>\n",
       "      <td>esso</td>\n",
       "      <td>fuel</td>\n",
       "      <td>fuel</td>\n",
       "      <td>NaN</td>\n",
       "    </tr>\n",
       "    <tr>\n",
       "      <th>1</th>\n",
       "      <td>248375</td>\n",
       "      <td>2012-07-23</td>\n",
       "      <td>777</td>\n",
       "      <td>39.389999</td>\n",
       "      <td>9572 20jul12 , sacat marks &amp; , spencer , gemini gb , cash back 30.00 - pos</td>\n",
       "      <td>NaN</td>\n",
       "      <td>groceries</td>\n",
       "      <td>False</td>\n",
       "      <td>wa1 4</td>\n",
       "      <td>2011-07-20</td>\n",
       "      <td>20k to 30k</td>\n",
       "      <td>1969.0</td>\n",
       "      <td>2011-07-20</td>\n",
       "      <td>262916</td>\n",
       "      <td>2020-06-25 22:55:00</td>\n",
       "      <td>natwest bank</td>\n",
       "      <td>current</td>\n",
       "      <td>2014-07-18</td>\n",
       "      <td>2017-10-23</td>\n",
       "      <td>True</td>\n",
       "      <td>2378.280029</td>\n",
       "      <td>personal</td>\n",
       "      <td>groceries</td>\n",
       "      <td>cash</td>\n",
       "      <td>groceries</td>\n",
       "    </tr>\n",
       "  </tbody>\n",
       "</table>\n",
       "</div>"
      ],
      "text/plain": [
       "       id       date  user_id     amount  \\\n",
       "0  688283 2012-01-17      777  42.410000   \n",
       "1  248375 2012-07-23      777  39.389999   \n",
       "\n",
       "                                                                         desc  \\\n",
       "0                 9572 16jan12 , esso altrincham , sstn , altrincham gb - pos   \n",
       "1  9572 20jul12 , sacat marks & , spencer , gemini gb , cash back 30.00 - pos   \n",
       "\n",
       "  merchant     tag_up user_female user_postcode user_registration_date  \\\n",
       "0     esso       fuel       False         wa1 4             2011-07-20   \n",
       "1      NaN  groceries       False         wa1 4             2011-07-20   \n",
       "\n",
       "  user_salary_range  user_yob account_created  account_id  \\\n",
       "0        20k to 30k    1969.0      2011-07-20      262916   \n",
       "1        20k to 30k    1969.0      2011-07-20      262916   \n",
       "\n",
       "  account_last_refreshed account_provider account_type  \\\n",
       "0    2020-06-25 22:55:00     natwest bank      current   \n",
       "1    2020-06-25 22:55:00     natwest bank      current   \n",
       "\n",
       "  data_warehouse_date_created data_warehouse_date_last_updated  debit  \\\n",
       "0                  2014-07-18                       2017-08-15   True   \n",
       "1                  2014-07-18                       2017-10-23   True   \n",
       "\n",
       "   latest_recorded_balance merchant_business_line        tag tag_auto  \\\n",
       "0              2378.280029                   esso       fuel     fuel   \n",
       "1              2378.280029               personal  groceries     cash   \n",
       "\n",
       "  tag_manual  \n",
       "0        NaN  \n",
       "1  groceries  "
      ]
     },
     "execution_count": 426,
     "metadata": {},
     "output_type": "execute_result"
    }
   ],
   "source": [
    "df = aws.s3read_parquet('s3://3di-project-entropy/entropy_000.parquet')\n",
    "df.head(2)"
   ]
  }
 ],
 "metadata": {
  "kernelspec": {
   "display_name": "entropy",
   "language": "python",
   "name": "entropy"
  },
  "language_info": {
   "codemirror_mode": {
    "name": "ipython",
    "version": 3
   },
   "file_extension": ".py",
   "mimetype": "text/x-python",
   "name": "python",
   "nbconvert_exporter": "python",
   "pygments_lexer": "ipython3",
   "version": "3.9.6"
  }
 },
 "nbformat": 4,
 "nbformat_minor": 5
}
