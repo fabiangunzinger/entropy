{
 "cells": [
  {
   "cell_type": "code",
   "execution_count": 16,
   "id": "848bdba0-1726-4361-b070-a37a34d439d5",
   "metadata": {},
   "outputs": [
    {
     "data": {
      "text/plain": [
       "0.6365141682948128"
      ]
     },
     "execution_count": 16,
     "metadata": {},
     "output_type": "execute_result"
    }
   ],
   "source": [
    "import numpy as np\n",
    "from scipy import stats\n",
    "\n",
    "counts = np.array([10, 5])\n",
    "probs = counts / counts.sum()\n",
    "smooth_probs = (counts + 1) / (counts.sum() + len(counts))\n",
    "stats.entropy(probs)\n",
    "# , stats.entropy(smooth_probs)"
   ]
  },
  {
   "cell_type": "code",
   "execution_count": 17,
   "id": "f0865005-e04c-4adb-ae24-9057b4f11cac",
   "metadata": {},
   "outputs": [
    {
     "data": {
      "text/plain": [
       "0.6931471805599453"
      ]
     },
     "execution_count": 17,
     "metadata": {},
     "output_type": "execute_result"
    }
   ],
   "source": [
    "counts = np.array([10, 10])\n",
    "probs = counts / counts.sum()\n",
    "smooth_probs = (counts + 1) / (counts.sum() + len(counts))\n",
    "stats.entropy(probs)\n",
    "# , stats.entropy(smooth_probs)"
   ]
  },
  {
   "cell_type": "code",
   "execution_count": 18,
   "id": "abd64ffc-486d-4222-ad9e-8b75d5f85743",
   "metadata": {},
   "outputs": [
    {
     "data": {
      "text/plain": [
       "1.0397207708399179"
      ]
     },
     "execution_count": 18,
     "metadata": {},
     "output_type": "execute_result"
    }
   ],
   "source": [
    "counts = np.array([10, 5, 5])\n",
    "probs = counts / counts.sum()\n",
    "smooth_probs = (counts + 1) / (counts.sum() + len(counts))\n",
    "stats.entropy(probs)\n",
    "# , stats.entropy(smooth_probs)"
   ]
  },
  {
   "cell_type": "code",
   "execution_count": null,
   "id": "73fa57b2-fdb9-492f-a231-5e2fd413071a",
   "metadata": {},
   "outputs": [],
   "source": []
  }
 ],
 "metadata": {
  "kernelspec": {
   "display_name": "Python 3 (ipykernel)",
   "language": "python",
   "name": "python3"
  },
  "language_info": {
   "codemirror_mode": {
    "name": "ipython",
    "version": 3
   },
   "file_extension": ".py",
   "mimetype": "text/x-python",
   "name": "python",
   "nbconvert_exporter": "python",
   "pygments_lexer": "ipython3",
   "version": "3.9.7"
  }
 },
 "nbformat": 4,
 "nbformat_minor": 5
}
